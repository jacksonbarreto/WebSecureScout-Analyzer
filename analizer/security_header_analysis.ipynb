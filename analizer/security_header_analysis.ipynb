{
 "cells": [
  {
   "cell_type": "code",
   "execution_count": 1,
   "metadata": {
    "collapsed": true,
    "ExecuteTime": {
     "end_time": "2023-09-01T08:26:42.117387500Z",
     "start_time": "2023-09-01T08:26:39.252675Z"
    }
   },
   "outputs": [],
   "source": [
    "from utilities.utilities import load_data, get_records_by_region, create_column, finalize_dataframe, get_extreme_values, create_directory_structure, save_table, save_report, pd, assign_quartile, calculate_rank\n",
    "# settings\n",
    "region_column_name = 'Region'\n",
    "table_name = 'security_headers_by_region'\n",
    "report_name = 'security_headers_by_region'\n",
    "category = 'security_headers'\n",
    "column_name_to_results_global = 'Global #'\n",
    "create_directory_structure()\n",
    "\n",
    "source_df = load_data('security_headers_checker')"
   ]
  },
  {
   "cell_type": "code",
   "execution_count": 2,
   "outputs": [
    {
     "name": "stdout",
     "output_type": "stream",
     "text": [
      "<class 'pandas.core.frame.DataFrame'>\n",
      "RangeIndex: 458 entries, 0 to 457\n",
      "Data columns (total 16 columns):\n",
      " #   Column                             Non-Null Count  Dtype \n",
      "---  ------                             --------------  ----- \n",
      " 0   id                                 458 non-null    int64 \n",
      " 1   region                             458 non-null    object\n",
      " 2   name                               458 non-null    object\n",
      " 3   category                           458 non-null    object\n",
      " 4   url                                458 non-null    object\n",
      " 5   strict-transport-security          458 non-null    bool  \n",
      " 6   x-frame-options                    458 non-null    bool  \n",
      " 7   x-content-type-options             458 non-null    bool  \n",
      " 8   content-security-policy            458 non-null    bool  \n",
      " 9   x-permitted-cross-domain-policies  458 non-null    bool  \n",
      " 10  referrer-policy                    458 non-null    bool  \n",
      " 11  clear-site-data                    458 non-null    bool  \n",
      " 12  cross-origin-embedder-policy       458 non-null    bool  \n",
      " 13  cross-origin-opener-policy         458 non-null    bool  \n",
      " 14  cross-origin-resource-policy       458 non-null    bool  \n",
      " 15  cache-control                      458 non-null    bool  \n",
      "dtypes: bool(11), int64(1), object(4)\n",
      "memory usage: 22.9+ KB\n"
     ]
    }
   ],
   "source": [
    "source_df.info()"
   ],
   "metadata": {
    "collapsed": false,
    "ExecuteTime": {
     "end_time": "2023-09-01T08:26:44.568723600Z",
     "start_time": "2023-09-01T08:26:44.491192200Z"
    }
   }
  },
  {
   "cell_type": "code",
   "execution_count": 3,
   "outputs": [],
   "source": [
    "# sanity dataset\n",
    "headers = [\n",
    "            'strict-transport-security',\n",
    "            'x-frame-options',\n",
    "            'x-content-type-options',\n",
    "            'content-security-policy',\n",
    "            'x-permitted-cross-domain-policies',\n",
    "            'referrer-policy',\n",
    "            'clear-site-data',\n",
    "            'cross-origin-embedder-policy',\n",
    "            'cross-origin-opener-policy',\n",
    "            'cross-origin-resource-policy',\n",
    "            'cache-control'\n",
    "        ]\n",
    "\n",
    "# Records that are null suffered an error during data collection and are therefore treated as not having security headers.\n",
    "for header in headers:\n",
    "    source_df.loc[source_df[header].isna(), header] = False"
   ],
   "metadata": {
    "collapsed": false,
    "ExecuteTime": {
     "end_time": "2023-09-01T08:26:52.628384900Z",
     "start_time": "2023-09-01T08:26:52.603388700Z"
    }
   }
  },
  {
   "cell_type": "code",
   "execution_count": 13,
   "outputs": [
    {
     "data": {
      "text/plain": "                    Region  Global #  With no Security Headers #  \\\n0                  Sachsen        23                           9   \n1                   Bremen         5                           1   \n2       Schleswig-Holstein        10                           2   \n3      Nordrhein-Westfalen        42                           8   \n4                   Hessen        22                           4   \n5        Baden-Württemberg        48                           7   \n6   Mecklenburg-Vorpommern         7                           1   \n7            Niedersachsen        21                           3   \n8          Rheinland-Pfalz        15                           2   \n9              Brandenburg        10                           1   \n10                 Hamburg        10                           1   \n11                  Berlin        12                           1   \n12                  Bayern        34                           1   \n13                Saarland         5                           0   \n14          Sachsen-Anhalt         8                           0   \n15               Thüringen        11                           0   \n16                   Total       283                          41   \n\n    With no Security Headers %  With 1 Security Headers #  \\\n0                    39.130435                          3   \n1                    20.000000                          1   \n2                    20.000000                          4   \n3                    19.047619                          5   \n4                    18.181818                          2   \n5                    14.583333                          6   \n6                    14.285714                          0   \n7                    14.285714                          2   \n8                    13.333333                          1   \n9                    10.000000                          4   \n10                   10.000000                          2   \n11                    8.333333                          3   \n12                    2.941176                          6   \n13                    0.000000                          1   \n14                    0.000000                          4   \n15                    0.000000                          2   \n16                   14.487633                         46   \n\n    With 1 Security Headers %  With 2-3 Security Headers #  \\\n0                   13.043478                            2   \n1                   20.000000                            1   \n2                   40.000000                            4   \n3                   11.904762                           14   \n4                    9.090909                            8   \n5                   12.500000                           23   \n6                    0.000000                            4   \n7                    9.523810                           10   \n8                    6.666667                            6   \n9                   40.000000                            4   \n10                  20.000000                            4   \n11                  25.000000                            4   \n12                  17.647059                           15   \n13                  20.000000                            2   \n14                  50.000000                            4   \n15                  18.181818                            3   \n16                  16.254417                          108   \n\n    With 2-3 Security Headers %  With 4-5 Security Headers #  \\\n0                      8.695652                            6   \n1                     20.000000                            1   \n2                     40.000000                            0   \n3                     33.333333                            8   \n4                     36.363636                            6   \n5                     47.916667                            9   \n6                     57.142857                            2   \n7                     47.619048                            6   \n8                     40.000000                            6   \n9                     40.000000                            1   \n10                    40.000000                            2   \n11                    33.333333                            4   \n12                    44.117647                            8   \n13                    40.000000                            2   \n14                    50.000000                            0   \n15                    27.272727                            4   \n16                    38.162544                           65   \n\n    With 4-5 Security Headers %  With 6-8 Security Headers #  \\\n0                     26.086957                            3   \n1                     20.000000                            1   \n2                      0.000000                            0   \n3                     19.047619                            7   \n4                     27.272727                            2   \n5                     18.750000                            2   \n6                     28.571429                            0   \n7                     28.571429                            0   \n8                     40.000000                            0   \n9                     10.000000                            0   \n10                    20.000000                            1   \n11                    33.333333                            0   \n12                    23.529412                            4   \n13                    40.000000                            0   \n14                     0.000000                            0   \n15                    36.363636                            2   \n16                    22.968198                           22   \n\n    With 6-8 Security Headers %  With 9-10 Security Headers #  \\\n0                     13.043478                             0   \n1                     20.000000                             0   \n2                      0.000000                             0   \n3                     16.666667                             0   \n4                      9.090909                             0   \n5                      4.166667                             1   \n6                      0.000000                             0   \n7                      0.000000                             0   \n8                      0.000000                             0   \n9                      0.000000                             0   \n10                    10.000000                             0   \n11                     0.000000                             0   \n12                    11.764706                             0   \n13                     0.000000                             0   \n14                     0.000000                             0   \n15                    18.181818                             0   \n16                     7.773852                             1   \n\n    With 9-10 Security Headers %  With All Security Headers #  \\\n0                       0.000000                            0   \n1                       0.000000                            0   \n2                       0.000000                            0   \n3                       0.000000                            0   \n4                       0.000000                            0   \n5                       2.083333                            0   \n6                       0.000000                            0   \n7                       0.000000                            0   \n8                       0.000000                            0   \n9                       0.000000                            0   \n10                      0.000000                            0   \n11                      0.000000                            0   \n12                      0.000000                            0   \n13                      0.000000                            0   \n14                      0.000000                            0   \n15                      0.000000                            0   \n16                      0.353357                            0   \n\n    With All Security Headers %  \n0                           0.0  \n1                           0.0  \n2                           0.0  \n3                           0.0  \n4                           0.0  \n5                           0.0  \n6                           0.0  \n7                           0.0  \n8                           0.0  \n9                           0.0  \n10                          0.0  \n11                          0.0  \n12                          0.0  \n13                          0.0  \n14                          0.0  \n15                          0.0  \n16                          0.0  ",
      "text/html": "<div>\n<style scoped>\n    .dataframe tbody tr th:only-of-type {\n        vertical-align: middle;\n    }\n\n    .dataframe tbody tr th {\n        vertical-align: top;\n    }\n\n    .dataframe thead th {\n        text-align: right;\n    }\n</style>\n<table border=\"1\" class=\"dataframe\">\n  <thead>\n    <tr style=\"text-align: right;\">\n      <th></th>\n      <th>Region</th>\n      <th>Global #</th>\n      <th>With no Security Headers #</th>\n      <th>With no Security Headers %</th>\n      <th>With 1 Security Headers #</th>\n      <th>With 1 Security Headers %</th>\n      <th>With 2-3 Security Headers #</th>\n      <th>With 2-3 Security Headers %</th>\n      <th>With 4-5 Security Headers #</th>\n      <th>With 4-5 Security Headers %</th>\n      <th>With 6-8 Security Headers #</th>\n      <th>With 6-8 Security Headers %</th>\n      <th>With 9-10 Security Headers #</th>\n      <th>With 9-10 Security Headers %</th>\n      <th>With All Security Headers #</th>\n      <th>With All Security Headers %</th>\n    </tr>\n  </thead>\n  <tbody>\n    <tr>\n      <th>0</th>\n      <td>Sachsen</td>\n      <td>23</td>\n      <td>9</td>\n      <td>39.130435</td>\n      <td>3</td>\n      <td>13.043478</td>\n      <td>2</td>\n      <td>8.695652</td>\n      <td>6</td>\n      <td>26.086957</td>\n      <td>3</td>\n      <td>13.043478</td>\n      <td>0</td>\n      <td>0.000000</td>\n      <td>0</td>\n      <td>0.0</td>\n    </tr>\n    <tr>\n      <th>1</th>\n      <td>Bremen</td>\n      <td>5</td>\n      <td>1</td>\n      <td>20.000000</td>\n      <td>1</td>\n      <td>20.000000</td>\n      <td>1</td>\n      <td>20.000000</td>\n      <td>1</td>\n      <td>20.000000</td>\n      <td>1</td>\n      <td>20.000000</td>\n      <td>0</td>\n      <td>0.000000</td>\n      <td>0</td>\n      <td>0.0</td>\n    </tr>\n    <tr>\n      <th>2</th>\n      <td>Schleswig-Holstein</td>\n      <td>10</td>\n      <td>2</td>\n      <td>20.000000</td>\n      <td>4</td>\n      <td>40.000000</td>\n      <td>4</td>\n      <td>40.000000</td>\n      <td>0</td>\n      <td>0.000000</td>\n      <td>0</td>\n      <td>0.000000</td>\n      <td>0</td>\n      <td>0.000000</td>\n      <td>0</td>\n      <td>0.0</td>\n    </tr>\n    <tr>\n      <th>3</th>\n      <td>Nordrhein-Westfalen</td>\n      <td>42</td>\n      <td>8</td>\n      <td>19.047619</td>\n      <td>5</td>\n      <td>11.904762</td>\n      <td>14</td>\n      <td>33.333333</td>\n      <td>8</td>\n      <td>19.047619</td>\n      <td>7</td>\n      <td>16.666667</td>\n      <td>0</td>\n      <td>0.000000</td>\n      <td>0</td>\n      <td>0.0</td>\n    </tr>\n    <tr>\n      <th>4</th>\n      <td>Hessen</td>\n      <td>22</td>\n      <td>4</td>\n      <td>18.181818</td>\n      <td>2</td>\n      <td>9.090909</td>\n      <td>8</td>\n      <td>36.363636</td>\n      <td>6</td>\n      <td>27.272727</td>\n      <td>2</td>\n      <td>9.090909</td>\n      <td>0</td>\n      <td>0.000000</td>\n      <td>0</td>\n      <td>0.0</td>\n    </tr>\n    <tr>\n      <th>5</th>\n      <td>Baden-Württemberg</td>\n      <td>48</td>\n      <td>7</td>\n      <td>14.583333</td>\n      <td>6</td>\n      <td>12.500000</td>\n      <td>23</td>\n      <td>47.916667</td>\n      <td>9</td>\n      <td>18.750000</td>\n      <td>2</td>\n      <td>4.166667</td>\n      <td>1</td>\n      <td>2.083333</td>\n      <td>0</td>\n      <td>0.0</td>\n    </tr>\n    <tr>\n      <th>6</th>\n      <td>Mecklenburg-Vorpommern</td>\n      <td>7</td>\n      <td>1</td>\n      <td>14.285714</td>\n      <td>0</td>\n      <td>0.000000</td>\n      <td>4</td>\n      <td>57.142857</td>\n      <td>2</td>\n      <td>28.571429</td>\n      <td>0</td>\n      <td>0.000000</td>\n      <td>0</td>\n      <td>0.000000</td>\n      <td>0</td>\n      <td>0.0</td>\n    </tr>\n    <tr>\n      <th>7</th>\n      <td>Niedersachsen</td>\n      <td>21</td>\n      <td>3</td>\n      <td>14.285714</td>\n      <td>2</td>\n      <td>9.523810</td>\n      <td>10</td>\n      <td>47.619048</td>\n      <td>6</td>\n      <td>28.571429</td>\n      <td>0</td>\n      <td>0.000000</td>\n      <td>0</td>\n      <td>0.000000</td>\n      <td>0</td>\n      <td>0.0</td>\n    </tr>\n    <tr>\n      <th>8</th>\n      <td>Rheinland-Pfalz</td>\n      <td>15</td>\n      <td>2</td>\n      <td>13.333333</td>\n      <td>1</td>\n      <td>6.666667</td>\n      <td>6</td>\n      <td>40.000000</td>\n      <td>6</td>\n      <td>40.000000</td>\n      <td>0</td>\n      <td>0.000000</td>\n      <td>0</td>\n      <td>0.000000</td>\n      <td>0</td>\n      <td>0.0</td>\n    </tr>\n    <tr>\n      <th>9</th>\n      <td>Brandenburg</td>\n      <td>10</td>\n      <td>1</td>\n      <td>10.000000</td>\n      <td>4</td>\n      <td>40.000000</td>\n      <td>4</td>\n      <td>40.000000</td>\n      <td>1</td>\n      <td>10.000000</td>\n      <td>0</td>\n      <td>0.000000</td>\n      <td>0</td>\n      <td>0.000000</td>\n      <td>0</td>\n      <td>0.0</td>\n    </tr>\n    <tr>\n      <th>10</th>\n      <td>Hamburg</td>\n      <td>10</td>\n      <td>1</td>\n      <td>10.000000</td>\n      <td>2</td>\n      <td>20.000000</td>\n      <td>4</td>\n      <td>40.000000</td>\n      <td>2</td>\n      <td>20.000000</td>\n      <td>1</td>\n      <td>10.000000</td>\n      <td>0</td>\n      <td>0.000000</td>\n      <td>0</td>\n      <td>0.0</td>\n    </tr>\n    <tr>\n      <th>11</th>\n      <td>Berlin</td>\n      <td>12</td>\n      <td>1</td>\n      <td>8.333333</td>\n      <td>3</td>\n      <td>25.000000</td>\n      <td>4</td>\n      <td>33.333333</td>\n      <td>4</td>\n      <td>33.333333</td>\n      <td>0</td>\n      <td>0.000000</td>\n      <td>0</td>\n      <td>0.000000</td>\n      <td>0</td>\n      <td>0.0</td>\n    </tr>\n    <tr>\n      <th>12</th>\n      <td>Bayern</td>\n      <td>34</td>\n      <td>1</td>\n      <td>2.941176</td>\n      <td>6</td>\n      <td>17.647059</td>\n      <td>15</td>\n      <td>44.117647</td>\n      <td>8</td>\n      <td>23.529412</td>\n      <td>4</td>\n      <td>11.764706</td>\n      <td>0</td>\n      <td>0.000000</td>\n      <td>0</td>\n      <td>0.0</td>\n    </tr>\n    <tr>\n      <th>13</th>\n      <td>Saarland</td>\n      <td>5</td>\n      <td>0</td>\n      <td>0.000000</td>\n      <td>1</td>\n      <td>20.000000</td>\n      <td>2</td>\n      <td>40.000000</td>\n      <td>2</td>\n      <td>40.000000</td>\n      <td>0</td>\n      <td>0.000000</td>\n      <td>0</td>\n      <td>0.000000</td>\n      <td>0</td>\n      <td>0.0</td>\n    </tr>\n    <tr>\n      <th>14</th>\n      <td>Sachsen-Anhalt</td>\n      <td>8</td>\n      <td>0</td>\n      <td>0.000000</td>\n      <td>4</td>\n      <td>50.000000</td>\n      <td>4</td>\n      <td>50.000000</td>\n      <td>0</td>\n      <td>0.000000</td>\n      <td>0</td>\n      <td>0.000000</td>\n      <td>0</td>\n      <td>0.000000</td>\n      <td>0</td>\n      <td>0.0</td>\n    </tr>\n    <tr>\n      <th>15</th>\n      <td>Thüringen</td>\n      <td>11</td>\n      <td>0</td>\n      <td>0.000000</td>\n      <td>2</td>\n      <td>18.181818</td>\n      <td>3</td>\n      <td>27.272727</td>\n      <td>4</td>\n      <td>36.363636</td>\n      <td>2</td>\n      <td>18.181818</td>\n      <td>0</td>\n      <td>0.000000</td>\n      <td>0</td>\n      <td>0.0</td>\n    </tr>\n    <tr>\n      <th>16</th>\n      <td>Total</td>\n      <td>283</td>\n      <td>41</td>\n      <td>14.487633</td>\n      <td>46</td>\n      <td>16.254417</td>\n      <td>108</td>\n      <td>38.162544</td>\n      <td>65</td>\n      <td>22.968198</td>\n      <td>22</td>\n      <td>7.773852</td>\n      <td>1</td>\n      <td>0.353357</td>\n      <td>0</td>\n      <td>0.0</td>\n    </tr>\n  </tbody>\n</table>\n</div>"
     },
     "metadata": {},
     "output_type": "display_data"
    },
    {
     "data": {
      "text/plain": "                 Region  Global #  With no Security Headers #  \\\n0       Rheinland-Pfalz         6                           3   \n1                Hessen        23                           8   \n2                Berlin        28                           7   \n3           Brandenburg         9                           2   \n4     Baden-Württemberg        24                           5   \n5               Hamburg        11                           2   \n6                Bayern        12                           2   \n7   Nordrhein-Westfalen        25                           4   \n8               Sachsen         7                           1   \n9         Niedersachsen        16                           2   \n10               Bremen         2                           0   \n11             Saarland         5                           0   \n12       Sachsen-Anhalt         2                           0   \n13   Schleswig-Holstein         3                           0   \n14            Thüringen         2                           0   \n15                Total       175                          36   \n\n    With no Security Headers %  With 1 Security Headers #  \\\n0                    50.000000                          1   \n1                    34.782609                          5   \n2                    25.000000                          4   \n3                    22.222222                          2   \n4                    20.833333                          5   \n5                    18.181818                          3   \n6                    16.666667                          1   \n7                    16.000000                          9   \n8                    14.285714                          0   \n9                    12.500000                          3   \n10                    0.000000                          1   \n11                    0.000000                          0   \n12                    0.000000                          2   \n13                    0.000000                          1   \n14                    0.000000                          0   \n15                   20.571429                         37   \n\n    With 1 Security Headers %  With 2-3 Security Headers #  \\\n0                   16.666667                            1   \n1                   21.739130                            9   \n2                   14.285714                           10   \n3                   22.222222                            2   \n4                   20.833333                           11   \n5                   27.272727                            3   \n6                    8.333333                            5   \n7                   36.000000                            6   \n8                    0.000000                            6   \n9                   18.750000                            3   \n10                  50.000000                            1   \n11                   0.000000                            5   \n12                 100.000000                            0   \n13                  33.333333                            1   \n14                   0.000000                            1   \n15                  21.142857                           64   \n\n    With 2-3 Security Headers %  With 4-5 Security Headers #  \\\n0                     16.666667                            1   \n1                     39.130435                            1   \n2                     35.714286                            6   \n3                     22.222222                            0   \n4                     45.833333                            1   \n5                     27.272727                            3   \n6                     41.666667                            3   \n7                     24.000000                            6   \n8                     85.714286                            0   \n9                     18.750000                            6   \n10                    50.000000                            0   \n11                   100.000000                            0   \n12                     0.000000                            0   \n13                    33.333333                            1   \n14                    50.000000                            1   \n15                    36.571429                           29   \n\n    With 4-5 Security Headers %  With 6-8 Security Headers #  \\\n0                     16.666667                            0   \n1                      4.347826                            0   \n2                     21.428571                            1   \n3                      0.000000                            3   \n4                      4.166667                            2   \n5                     27.272727                            0   \n6                     25.000000                            1   \n7                     24.000000                            0   \n8                      0.000000                            0   \n9                     37.500000                            2   \n10                     0.000000                            0   \n11                     0.000000                            0   \n12                     0.000000                            0   \n13                    33.333333                            0   \n14                    50.000000                            0   \n15                    16.571429                            9   \n\n    With 6-8 Security Headers %  With 9-10 Security Headers #  \\\n0                      0.000000                             0   \n1                      0.000000                             0   \n2                      3.571429                             0   \n3                     33.333333                             0   \n4                      8.333333                             0   \n5                      0.000000                             0   \n6                      8.333333                             0   \n7                      0.000000                             0   \n8                      0.000000                             0   \n9                     12.500000                             0   \n10                     0.000000                             0   \n11                     0.000000                             0   \n12                     0.000000                             0   \n13                     0.000000                             0   \n14                     0.000000                             0   \n15                     5.142857                             0   \n\n    With 9-10 Security Headers %  With All Security Headers #  \\\n0                            0.0                            0   \n1                            0.0                            0   \n2                            0.0                            0   \n3                            0.0                            0   \n4                            0.0                            0   \n5                            0.0                            0   \n6                            0.0                            0   \n7                            0.0                            0   \n8                            0.0                            0   \n9                            0.0                            0   \n10                           0.0                            0   \n11                           0.0                            0   \n12                           0.0                            0   \n13                           0.0                            0   \n14                           0.0                            0   \n15                           0.0                            0   \n\n    With All Security Headers %  \n0                           0.0  \n1                           0.0  \n2                           0.0  \n3                           0.0  \n4                           0.0  \n5                           0.0  \n6                           0.0  \n7                           0.0  \n8                           0.0  \n9                           0.0  \n10                          0.0  \n11                          0.0  \n12                          0.0  \n13                          0.0  \n14                          0.0  \n15                          0.0  ",
      "text/html": "<div>\n<style scoped>\n    .dataframe tbody tr th:only-of-type {\n        vertical-align: middle;\n    }\n\n    .dataframe tbody tr th {\n        vertical-align: top;\n    }\n\n    .dataframe thead th {\n        text-align: right;\n    }\n</style>\n<table border=\"1\" class=\"dataframe\">\n  <thead>\n    <tr style=\"text-align: right;\">\n      <th></th>\n      <th>Region</th>\n      <th>Global #</th>\n      <th>With no Security Headers #</th>\n      <th>With no Security Headers %</th>\n      <th>With 1 Security Headers #</th>\n      <th>With 1 Security Headers %</th>\n      <th>With 2-3 Security Headers #</th>\n      <th>With 2-3 Security Headers %</th>\n      <th>With 4-5 Security Headers #</th>\n      <th>With 4-5 Security Headers %</th>\n      <th>With 6-8 Security Headers #</th>\n      <th>With 6-8 Security Headers %</th>\n      <th>With 9-10 Security Headers #</th>\n      <th>With 9-10 Security Headers %</th>\n      <th>With All Security Headers #</th>\n      <th>With All Security Headers %</th>\n    </tr>\n  </thead>\n  <tbody>\n    <tr>\n      <th>0</th>\n      <td>Rheinland-Pfalz</td>\n      <td>6</td>\n      <td>3</td>\n      <td>50.000000</td>\n      <td>1</td>\n      <td>16.666667</td>\n      <td>1</td>\n      <td>16.666667</td>\n      <td>1</td>\n      <td>16.666667</td>\n      <td>0</td>\n      <td>0.000000</td>\n      <td>0</td>\n      <td>0.0</td>\n      <td>0</td>\n      <td>0.0</td>\n    </tr>\n    <tr>\n      <th>1</th>\n      <td>Hessen</td>\n      <td>23</td>\n      <td>8</td>\n      <td>34.782609</td>\n      <td>5</td>\n      <td>21.739130</td>\n      <td>9</td>\n      <td>39.130435</td>\n      <td>1</td>\n      <td>4.347826</td>\n      <td>0</td>\n      <td>0.000000</td>\n      <td>0</td>\n      <td>0.0</td>\n      <td>0</td>\n      <td>0.0</td>\n    </tr>\n    <tr>\n      <th>2</th>\n      <td>Berlin</td>\n      <td>28</td>\n      <td>7</td>\n      <td>25.000000</td>\n      <td>4</td>\n      <td>14.285714</td>\n      <td>10</td>\n      <td>35.714286</td>\n      <td>6</td>\n      <td>21.428571</td>\n      <td>1</td>\n      <td>3.571429</td>\n      <td>0</td>\n      <td>0.0</td>\n      <td>0</td>\n      <td>0.0</td>\n    </tr>\n    <tr>\n      <th>3</th>\n      <td>Brandenburg</td>\n      <td>9</td>\n      <td>2</td>\n      <td>22.222222</td>\n      <td>2</td>\n      <td>22.222222</td>\n      <td>2</td>\n      <td>22.222222</td>\n      <td>0</td>\n      <td>0.000000</td>\n      <td>3</td>\n      <td>33.333333</td>\n      <td>0</td>\n      <td>0.0</td>\n      <td>0</td>\n      <td>0.0</td>\n    </tr>\n    <tr>\n      <th>4</th>\n      <td>Baden-Württemberg</td>\n      <td>24</td>\n      <td>5</td>\n      <td>20.833333</td>\n      <td>5</td>\n      <td>20.833333</td>\n      <td>11</td>\n      <td>45.833333</td>\n      <td>1</td>\n      <td>4.166667</td>\n      <td>2</td>\n      <td>8.333333</td>\n      <td>0</td>\n      <td>0.0</td>\n      <td>0</td>\n      <td>0.0</td>\n    </tr>\n    <tr>\n      <th>5</th>\n      <td>Hamburg</td>\n      <td>11</td>\n      <td>2</td>\n      <td>18.181818</td>\n      <td>3</td>\n      <td>27.272727</td>\n      <td>3</td>\n      <td>27.272727</td>\n      <td>3</td>\n      <td>27.272727</td>\n      <td>0</td>\n      <td>0.000000</td>\n      <td>0</td>\n      <td>0.0</td>\n      <td>0</td>\n      <td>0.0</td>\n    </tr>\n    <tr>\n      <th>6</th>\n      <td>Bayern</td>\n      <td>12</td>\n      <td>2</td>\n      <td>16.666667</td>\n      <td>1</td>\n      <td>8.333333</td>\n      <td>5</td>\n      <td>41.666667</td>\n      <td>3</td>\n      <td>25.000000</td>\n      <td>1</td>\n      <td>8.333333</td>\n      <td>0</td>\n      <td>0.0</td>\n      <td>0</td>\n      <td>0.0</td>\n    </tr>\n    <tr>\n      <th>7</th>\n      <td>Nordrhein-Westfalen</td>\n      <td>25</td>\n      <td>4</td>\n      <td>16.000000</td>\n      <td>9</td>\n      <td>36.000000</td>\n      <td>6</td>\n      <td>24.000000</td>\n      <td>6</td>\n      <td>24.000000</td>\n      <td>0</td>\n      <td>0.000000</td>\n      <td>0</td>\n      <td>0.0</td>\n      <td>0</td>\n      <td>0.0</td>\n    </tr>\n    <tr>\n      <th>8</th>\n      <td>Sachsen</td>\n      <td>7</td>\n      <td>1</td>\n      <td>14.285714</td>\n      <td>0</td>\n      <td>0.000000</td>\n      <td>6</td>\n      <td>85.714286</td>\n      <td>0</td>\n      <td>0.000000</td>\n      <td>0</td>\n      <td>0.000000</td>\n      <td>0</td>\n      <td>0.0</td>\n      <td>0</td>\n      <td>0.0</td>\n    </tr>\n    <tr>\n      <th>9</th>\n      <td>Niedersachsen</td>\n      <td>16</td>\n      <td>2</td>\n      <td>12.500000</td>\n      <td>3</td>\n      <td>18.750000</td>\n      <td>3</td>\n      <td>18.750000</td>\n      <td>6</td>\n      <td>37.500000</td>\n      <td>2</td>\n      <td>12.500000</td>\n      <td>0</td>\n      <td>0.0</td>\n      <td>0</td>\n      <td>0.0</td>\n    </tr>\n    <tr>\n      <th>10</th>\n      <td>Bremen</td>\n      <td>2</td>\n      <td>0</td>\n      <td>0.000000</td>\n      <td>1</td>\n      <td>50.000000</td>\n      <td>1</td>\n      <td>50.000000</td>\n      <td>0</td>\n      <td>0.000000</td>\n      <td>0</td>\n      <td>0.000000</td>\n      <td>0</td>\n      <td>0.0</td>\n      <td>0</td>\n      <td>0.0</td>\n    </tr>\n    <tr>\n      <th>11</th>\n      <td>Saarland</td>\n      <td>5</td>\n      <td>0</td>\n      <td>0.000000</td>\n      <td>0</td>\n      <td>0.000000</td>\n      <td>5</td>\n      <td>100.000000</td>\n      <td>0</td>\n      <td>0.000000</td>\n      <td>0</td>\n      <td>0.000000</td>\n      <td>0</td>\n      <td>0.0</td>\n      <td>0</td>\n      <td>0.0</td>\n    </tr>\n    <tr>\n      <th>12</th>\n      <td>Sachsen-Anhalt</td>\n      <td>2</td>\n      <td>0</td>\n      <td>0.000000</td>\n      <td>2</td>\n      <td>100.000000</td>\n      <td>0</td>\n      <td>0.000000</td>\n      <td>0</td>\n      <td>0.000000</td>\n      <td>0</td>\n      <td>0.000000</td>\n      <td>0</td>\n      <td>0.0</td>\n      <td>0</td>\n      <td>0.0</td>\n    </tr>\n    <tr>\n      <th>13</th>\n      <td>Schleswig-Holstein</td>\n      <td>3</td>\n      <td>0</td>\n      <td>0.000000</td>\n      <td>1</td>\n      <td>33.333333</td>\n      <td>1</td>\n      <td>33.333333</td>\n      <td>1</td>\n      <td>33.333333</td>\n      <td>0</td>\n      <td>0.000000</td>\n      <td>0</td>\n      <td>0.0</td>\n      <td>0</td>\n      <td>0.0</td>\n    </tr>\n    <tr>\n      <th>14</th>\n      <td>Thüringen</td>\n      <td>2</td>\n      <td>0</td>\n      <td>0.000000</td>\n      <td>0</td>\n      <td>0.000000</td>\n      <td>1</td>\n      <td>50.000000</td>\n      <td>1</td>\n      <td>50.000000</td>\n      <td>0</td>\n      <td>0.000000</td>\n      <td>0</td>\n      <td>0.0</td>\n      <td>0</td>\n      <td>0.0</td>\n    </tr>\n    <tr>\n      <th>15</th>\n      <td>Total</td>\n      <td>175</td>\n      <td>36</td>\n      <td>20.571429</td>\n      <td>37</td>\n      <td>21.142857</td>\n      <td>64</td>\n      <td>36.571429</td>\n      <td>29</td>\n      <td>16.571429</td>\n      <td>9</td>\n      <td>5.142857</td>\n      <td>0</td>\n      <td>0.0</td>\n      <td>0</td>\n      <td>0.0</td>\n    </tr>\n  </tbody>\n</table>\n</div>"
     },
     "metadata": {},
     "output_type": "display_data"
    },
    {
     "data": {
      "text/plain": "                    Region  Quartile  With no Security Headers (pub)  \\\n0        Baden-Württemberg         1                       14.583333   \n1              Brandenburg         1                       10.000000   \n2                   Bayern         1                        2.941176   \n3                   Bremen         1                       20.000000   \n4                Thüringen         1                        0.000000   \n5      Nordrhein-Westfalen         2                       19.047619   \n6                  Sachsen         2                       39.130435   \n7            Niedersachsen         2                       14.285714   \n8                  Hamburg         2                       10.000000   \n9                   Hessen         3                       18.181818   \n10                  Berlin         3                        8.333333   \n11  Mecklenburg-Vorpommern         3                       14.285714   \n12         Rheinland-Pfalz         3                       13.333333   \n13                Saarland         4                        0.000000   \n14      Schleswig-Holstein         4                       20.000000   \n15          Sachsen-Anhalt         4                        0.000000   \n16                   Total         4                       14.487633   \n\n    With 1 Security Headers (pub)  With 2-3 Security Headers (pub)  \\\n0                       12.500000                        47.916667   \n1                       40.000000                        40.000000   \n2                       17.647059                        44.117647   \n3                       20.000000                        20.000000   \n4                       18.181818                        27.272727   \n5                       11.904762                        33.333333   \n6                       13.043478                         8.695652   \n7                        9.523810                        47.619048   \n8                       20.000000                        40.000000   \n9                        9.090909                        36.363636   \n10                      25.000000                        33.333333   \n11                       0.000000                        57.142857   \n12                       6.666667                        40.000000   \n13                      20.000000                        40.000000   \n14                      40.000000                        40.000000   \n15                      50.000000                        50.000000   \n16                      16.254417                        38.162544   \n\n    With 4-5 Security Headers (pub)  With 6-8 Security Headers (pub)  \\\n0                         18.750000                         4.166667   \n1                         10.000000                         0.000000   \n2                         23.529412                        11.764706   \n3                         20.000000                        20.000000   \n4                         36.363636                        18.181818   \n5                         19.047619                        16.666667   \n6                         26.086957                        13.043478   \n7                         28.571429                         0.000000   \n8                         20.000000                        10.000000   \n9                         27.272727                         9.090909   \n10                        33.333333                         0.000000   \n11                        28.571429                         0.000000   \n12                        40.000000                         0.000000   \n13                        40.000000                         0.000000   \n14                         0.000000                         0.000000   \n15                         0.000000                         0.000000   \n16                        22.968198                         7.773852   \n\n    With 9-10 Security Headers (pub)  With All Security Headers (pub)  \\\n0                           2.083333                              0.0   \n1                           0.000000                              0.0   \n2                           0.000000                              0.0   \n3                           0.000000                              0.0   \n4                           0.000000                              0.0   \n5                           0.000000                              0.0   \n6                           0.000000                              0.0   \n7                           0.000000                              0.0   \n8                           0.000000                              0.0   \n9                           0.000000                              0.0   \n10                          0.000000                              0.0   \n11                          0.000000                              0.0   \n12                          0.000000                              0.0   \n13                          0.000000                              0.0   \n14                          0.000000                              0.0   \n15                          0.000000                              0.0   \n16                          0.353357                              0.0   \n\n    With no Security Headers (pvt)  With 1 Security Headers (pvt)  \\\n0                        20.833333                      20.833333   \n1                        22.222222                      22.222222   \n2                        16.666667                       8.333333   \n3                         0.000000                      50.000000   \n4                         0.000000                       0.000000   \n5                        16.000000                      36.000000   \n6                        14.285714                       0.000000   \n7                        12.500000                      18.750000   \n8                        18.181818                      27.272727   \n9                        34.782609                      21.739130   \n10                       25.000000                      14.285714   \n11                        0.000000                       0.000000   \n12                       50.000000                      16.666667   \n13                        0.000000                       0.000000   \n14                        0.000000                      33.333333   \n15                        0.000000                     100.000000   \n16                       20.571429                      21.142857   \n\n    With 2-3 Security Headers (pvt)  With 4-5 Security Headers (pvt)  \\\n0                         45.833333                         4.166667   \n1                         22.222222                         0.000000   \n2                         41.666667                        25.000000   \n3                         50.000000                         0.000000   \n4                         50.000000                        50.000000   \n5                         24.000000                        24.000000   \n6                         85.714286                         0.000000   \n7                         18.750000                        37.500000   \n8                         27.272727                        27.272727   \n9                         39.130435                         4.347826   \n10                        35.714286                        21.428571   \n11                         0.000000                         0.000000   \n12                        16.666667                        16.666667   \n13                       100.000000                         0.000000   \n14                        33.333333                        33.333333   \n15                         0.000000                         0.000000   \n16                        36.571429                        16.571429   \n\n    With 6-8 Security Headers (pvt)  With 9-10 Security Headers (pvt)  \\\n0                          8.333333                               0.0   \n1                         33.333333                               0.0   \n2                          8.333333                               0.0   \n3                          0.000000                               0.0   \n4                          0.000000                               0.0   \n5                          0.000000                               0.0   \n6                          0.000000                               0.0   \n7                         12.500000                               0.0   \n8                          0.000000                               0.0   \n9                          0.000000                               0.0   \n10                         3.571429                               0.0   \n11                         0.000000                               0.0   \n12                         0.000000                               0.0   \n13                         0.000000                               0.0   \n14                         0.000000                               0.0   \n15                         0.000000                               0.0   \n16                         5.142857                               0.0   \n\n    With All Security Headers (pvt)  \n0                               0.0  \n1                               0.0  \n2                               0.0  \n3                               0.0  \n4                               0.0  \n5                               0.0  \n6                               0.0  \n7                               0.0  \n8                               0.0  \n9                               0.0  \n10                              0.0  \n11                              0.0  \n12                              0.0  \n13                              0.0  \n14                              0.0  \n15                              0.0  \n16                              0.0  ",
      "text/html": "<div>\n<style scoped>\n    .dataframe tbody tr th:only-of-type {\n        vertical-align: middle;\n    }\n\n    .dataframe tbody tr th {\n        vertical-align: top;\n    }\n\n    .dataframe thead th {\n        text-align: right;\n    }\n</style>\n<table border=\"1\" class=\"dataframe\">\n  <thead>\n    <tr style=\"text-align: right;\">\n      <th></th>\n      <th>Region</th>\n      <th>Quartile</th>\n      <th>With no Security Headers (pub)</th>\n      <th>With 1 Security Headers (pub)</th>\n      <th>With 2-3 Security Headers (pub)</th>\n      <th>With 4-5 Security Headers (pub)</th>\n      <th>With 6-8 Security Headers (pub)</th>\n      <th>With 9-10 Security Headers (pub)</th>\n      <th>With All Security Headers (pub)</th>\n      <th>With no Security Headers (pvt)</th>\n      <th>With 1 Security Headers (pvt)</th>\n      <th>With 2-3 Security Headers (pvt)</th>\n      <th>With 4-5 Security Headers (pvt)</th>\n      <th>With 6-8 Security Headers (pvt)</th>\n      <th>With 9-10 Security Headers (pvt)</th>\n      <th>With All Security Headers (pvt)</th>\n    </tr>\n  </thead>\n  <tbody>\n    <tr>\n      <th>0</th>\n      <td>Baden-Württemberg</td>\n      <td>1</td>\n      <td>14.583333</td>\n      <td>12.500000</td>\n      <td>47.916667</td>\n      <td>18.750000</td>\n      <td>4.166667</td>\n      <td>2.083333</td>\n      <td>0.0</td>\n      <td>20.833333</td>\n      <td>20.833333</td>\n      <td>45.833333</td>\n      <td>4.166667</td>\n      <td>8.333333</td>\n      <td>0.0</td>\n      <td>0.0</td>\n    </tr>\n    <tr>\n      <th>1</th>\n      <td>Brandenburg</td>\n      <td>1</td>\n      <td>10.000000</td>\n      <td>40.000000</td>\n      <td>40.000000</td>\n      <td>10.000000</td>\n      <td>0.000000</td>\n      <td>0.000000</td>\n      <td>0.0</td>\n      <td>22.222222</td>\n      <td>22.222222</td>\n      <td>22.222222</td>\n      <td>0.000000</td>\n      <td>33.333333</td>\n      <td>0.0</td>\n      <td>0.0</td>\n    </tr>\n    <tr>\n      <th>2</th>\n      <td>Bayern</td>\n      <td>1</td>\n      <td>2.941176</td>\n      <td>17.647059</td>\n      <td>44.117647</td>\n      <td>23.529412</td>\n      <td>11.764706</td>\n      <td>0.000000</td>\n      <td>0.0</td>\n      <td>16.666667</td>\n      <td>8.333333</td>\n      <td>41.666667</td>\n      <td>25.000000</td>\n      <td>8.333333</td>\n      <td>0.0</td>\n      <td>0.0</td>\n    </tr>\n    <tr>\n      <th>3</th>\n      <td>Bremen</td>\n      <td>1</td>\n      <td>20.000000</td>\n      <td>20.000000</td>\n      <td>20.000000</td>\n      <td>20.000000</td>\n      <td>20.000000</td>\n      <td>0.000000</td>\n      <td>0.0</td>\n      <td>0.000000</td>\n      <td>50.000000</td>\n      <td>50.000000</td>\n      <td>0.000000</td>\n      <td>0.000000</td>\n      <td>0.0</td>\n      <td>0.0</td>\n    </tr>\n    <tr>\n      <th>4</th>\n      <td>Thüringen</td>\n      <td>1</td>\n      <td>0.000000</td>\n      <td>18.181818</td>\n      <td>27.272727</td>\n      <td>36.363636</td>\n      <td>18.181818</td>\n      <td>0.000000</td>\n      <td>0.0</td>\n      <td>0.000000</td>\n      <td>0.000000</td>\n      <td>50.000000</td>\n      <td>50.000000</td>\n      <td>0.000000</td>\n      <td>0.0</td>\n      <td>0.0</td>\n    </tr>\n    <tr>\n      <th>5</th>\n      <td>Nordrhein-Westfalen</td>\n      <td>2</td>\n      <td>19.047619</td>\n      <td>11.904762</td>\n      <td>33.333333</td>\n      <td>19.047619</td>\n      <td>16.666667</td>\n      <td>0.000000</td>\n      <td>0.0</td>\n      <td>16.000000</td>\n      <td>36.000000</td>\n      <td>24.000000</td>\n      <td>24.000000</td>\n      <td>0.000000</td>\n      <td>0.0</td>\n      <td>0.0</td>\n    </tr>\n    <tr>\n      <th>6</th>\n      <td>Sachsen</td>\n      <td>2</td>\n      <td>39.130435</td>\n      <td>13.043478</td>\n      <td>8.695652</td>\n      <td>26.086957</td>\n      <td>13.043478</td>\n      <td>0.000000</td>\n      <td>0.0</td>\n      <td>14.285714</td>\n      <td>0.000000</td>\n      <td>85.714286</td>\n      <td>0.000000</td>\n      <td>0.000000</td>\n      <td>0.0</td>\n      <td>0.0</td>\n    </tr>\n    <tr>\n      <th>7</th>\n      <td>Niedersachsen</td>\n      <td>2</td>\n      <td>14.285714</td>\n      <td>9.523810</td>\n      <td>47.619048</td>\n      <td>28.571429</td>\n      <td>0.000000</td>\n      <td>0.000000</td>\n      <td>0.0</td>\n      <td>12.500000</td>\n      <td>18.750000</td>\n      <td>18.750000</td>\n      <td>37.500000</td>\n      <td>12.500000</td>\n      <td>0.0</td>\n      <td>0.0</td>\n    </tr>\n    <tr>\n      <th>8</th>\n      <td>Hamburg</td>\n      <td>2</td>\n      <td>10.000000</td>\n      <td>20.000000</td>\n      <td>40.000000</td>\n      <td>20.000000</td>\n      <td>10.000000</td>\n      <td>0.000000</td>\n      <td>0.0</td>\n      <td>18.181818</td>\n      <td>27.272727</td>\n      <td>27.272727</td>\n      <td>27.272727</td>\n      <td>0.000000</td>\n      <td>0.0</td>\n      <td>0.0</td>\n    </tr>\n    <tr>\n      <th>9</th>\n      <td>Hessen</td>\n      <td>3</td>\n      <td>18.181818</td>\n      <td>9.090909</td>\n      <td>36.363636</td>\n      <td>27.272727</td>\n      <td>9.090909</td>\n      <td>0.000000</td>\n      <td>0.0</td>\n      <td>34.782609</td>\n      <td>21.739130</td>\n      <td>39.130435</td>\n      <td>4.347826</td>\n      <td>0.000000</td>\n      <td>0.0</td>\n      <td>0.0</td>\n    </tr>\n    <tr>\n      <th>10</th>\n      <td>Berlin</td>\n      <td>3</td>\n      <td>8.333333</td>\n      <td>25.000000</td>\n      <td>33.333333</td>\n      <td>33.333333</td>\n      <td>0.000000</td>\n      <td>0.000000</td>\n      <td>0.0</td>\n      <td>25.000000</td>\n      <td>14.285714</td>\n      <td>35.714286</td>\n      <td>21.428571</td>\n      <td>3.571429</td>\n      <td>0.0</td>\n      <td>0.0</td>\n    </tr>\n    <tr>\n      <th>11</th>\n      <td>Mecklenburg-Vorpommern</td>\n      <td>3</td>\n      <td>14.285714</td>\n      <td>0.000000</td>\n      <td>57.142857</td>\n      <td>28.571429</td>\n      <td>0.000000</td>\n      <td>0.000000</td>\n      <td>0.0</td>\n      <td>0.000000</td>\n      <td>0.000000</td>\n      <td>0.000000</td>\n      <td>0.000000</td>\n      <td>0.000000</td>\n      <td>0.0</td>\n      <td>0.0</td>\n    </tr>\n    <tr>\n      <th>12</th>\n      <td>Rheinland-Pfalz</td>\n      <td>3</td>\n      <td>13.333333</td>\n      <td>6.666667</td>\n      <td>40.000000</td>\n      <td>40.000000</td>\n      <td>0.000000</td>\n      <td>0.000000</td>\n      <td>0.0</td>\n      <td>50.000000</td>\n      <td>16.666667</td>\n      <td>16.666667</td>\n      <td>16.666667</td>\n      <td>0.000000</td>\n      <td>0.0</td>\n      <td>0.0</td>\n    </tr>\n    <tr>\n      <th>13</th>\n      <td>Saarland</td>\n      <td>4</td>\n      <td>0.000000</td>\n      <td>20.000000</td>\n      <td>40.000000</td>\n      <td>40.000000</td>\n      <td>0.000000</td>\n      <td>0.000000</td>\n      <td>0.0</td>\n      <td>0.000000</td>\n      <td>0.000000</td>\n      <td>100.000000</td>\n      <td>0.000000</td>\n      <td>0.000000</td>\n      <td>0.0</td>\n      <td>0.0</td>\n    </tr>\n    <tr>\n      <th>14</th>\n      <td>Schleswig-Holstein</td>\n      <td>4</td>\n      <td>20.000000</td>\n      <td>40.000000</td>\n      <td>40.000000</td>\n      <td>0.000000</td>\n      <td>0.000000</td>\n      <td>0.000000</td>\n      <td>0.0</td>\n      <td>0.000000</td>\n      <td>33.333333</td>\n      <td>33.333333</td>\n      <td>33.333333</td>\n      <td>0.000000</td>\n      <td>0.0</td>\n      <td>0.0</td>\n    </tr>\n    <tr>\n      <th>15</th>\n      <td>Sachsen-Anhalt</td>\n      <td>4</td>\n      <td>0.000000</td>\n      <td>50.000000</td>\n      <td>50.000000</td>\n      <td>0.000000</td>\n      <td>0.000000</td>\n      <td>0.000000</td>\n      <td>0.0</td>\n      <td>0.000000</td>\n      <td>100.000000</td>\n      <td>0.000000</td>\n      <td>0.000000</td>\n      <td>0.000000</td>\n      <td>0.0</td>\n      <td>0.0</td>\n    </tr>\n    <tr>\n      <th>16</th>\n      <td>Total</td>\n      <td>4</td>\n      <td>14.487633</td>\n      <td>16.254417</td>\n      <td>38.162544</td>\n      <td>22.968198</td>\n      <td>7.773852</td>\n      <td>0.353357</td>\n      <td>0.0</td>\n      <td>20.571429</td>\n      <td>21.142857</td>\n      <td>36.571429</td>\n      <td>16.571429</td>\n      <td>5.142857</td>\n      <td>0.0</td>\n      <td>0.0</td>\n    </tr>\n  </tbody>\n</table>\n</div>"
     },
     "metadata": {},
     "output_type": "display_data"
    }
   ],
   "source": [
    "# Analysis of HEIs with at least one OWASP Recommended Security Headers by region (Pub/Pvt)\n",
    "\n",
    "# settings\n",
    "column_to_sort = 'With no Security Headers %'\n",
    "sort_ascending = False\n",
    "config = [\n",
    "    {'table_name': 'security_headers_by_region_public', 'hei_type': 'Public'},\n",
    "    {'table_name': 'security_headers_by_region_private', 'hei_type': 'Private'}\n",
    "]\n",
    "dfs = []\n",
    "for config_item in config:\n",
    "    table_name = config_item['table_name']\n",
    "    hei_type = config_item['hei_type']\n",
    "    columns_to_display = [region_column_name.title(), column_name_to_results_global]\n",
    "    analysis_df = get_records_by_region(source_df, hei_type=hei_type)\n",
    "    # create columns\n",
    "    \n",
    "    \n",
    "    # Column creation with distribuitions of records by amount of security headers by region\n",
    "    source_df['security_header_count'] = source_df[headers].astype(int).sum(axis=1)\n",
    "\n",
    "    header_ranges = {\n",
    "        'no': (0, 0),\n",
    "        '1': (1, 1),\n",
    "        '2-3': (2, 3),\n",
    "        '4-5': (4, 5),\n",
    "        '6-8': (6, 8),\n",
    "        '9-10': (9, 10),\n",
    "        'All': (11, 11)\n",
    "    }\n",
    "\n",
    "    for label, (min_headers, max_headers) in header_ranges.items():\n",
    "        criteria = f'category == \"{hei_type}\" & {min_headers} <= security_header_count <= {max_headers}'\n",
    "        create_column(source_df=source_df, analysis_dataframe=analysis_df, column_name=f'With {label} Security Headers', criteria=criteria, columns_to_display=columns_to_display)\n",
    "\n",
    "    # Finalize dataframe\n",
    "    analysis_df = finalize_dataframe(dataframe=analysis_df, column_to_sort=column_to_sort, ascending=sort_ascending, columns_to_display=columns_to_display)\n",
    "    display(analysis_df)\n",
    "    dfs.append(analysis_df)\n",
    "    # save to csv\n",
    "    save_table(analysis_df, category=category, table_name=table_name)\n",
    "\n",
    "\n",
    "\n",
    "df_public = dfs[0].add_suffix('(pub)')\n",
    "df_private = dfs[1].add_suffix('(pvt)')\n",
    "df_public = df_public.rename(columns={'Region(pub)': 'Region'})\n",
    "df_private = df_private.rename(columns={'Region(pvt)': 'Region'})\n",
    "df_combined = df_public.merge(df_private, on='Region', how='outer')\n",
    "df_combined.fillna(0, inplace=True)\n",
    "# remove columns with # in the name\n",
    "df_combined = df_combined.loc[:, ~df_combined.columns.str.contains('#')]\n",
    "#remove columns global\n",
    "df_combined = df_combined.loc[:, ~df_combined.columns.str.contains('Global')]\n",
    "# remove '%' from name of columns\n",
    "df_combined.columns = df_combined.columns.str.replace('%', '')\n",
    "\n",
    "\n",
    "\n",
    "\n",
    "ranks_columns = []\n",
    "# Specify the columns to use\n",
    "columns_to_use = ['With All Security Headers', 'With 9-10 Security Headers', 'With 6-8 Security Headers',\n",
    "                  'With 4-5 Security Headers']\n",
    "# Apply the function to calculate the rank\n",
    "for i, column in enumerate(columns_to_use):\n",
    "    rank_colum = f'Rank {i}'\n",
    "    ranks_columns.append(rank_colum)\n",
    "    df_combined[rank_colum] = df_combined.apply(lambda row: calculate_rank(row, column), axis=1)\n",
    "\n",
    "#order dataframe by column Rank (from highest to lowest)\n",
    "df_combined = df_combined.sort_values(by=ranks_columns, ascending=False)\n",
    "# move just row with 'Total' in column Region to the end of the dataframe. (Use pandas.concat instead of append to avoid duplicates)\n",
    "df_combined = pd.concat([df_combined[df_combined['Region'] != 'Total'], df_combined[df_combined['Region'] == 'Total']])\n",
    "# reset index\n",
    "df_combined.reset_index(drop=True, inplace=True)\n",
    "# remove column Rank\n",
    "df_combined.drop(columns=ranks_columns, inplace=True)\n",
    "#Add a column with the quartile corresponding to the position of the row, that is, considering the total of records -1 (to exclude the total row), if a row is in position 2 it should belong to the first quartile.\n",
    "df_combined['Quartile'] = df_combined.index.map(lambda rank: assign_quartile(rank, len(df_combined)-1))\n",
    "# moved column 'Quartile' to the second position\n",
    "cols = list(df_combined.columns)\n",
    "cols = [cols[0]] + [cols[-1]] + cols[1:-1]\n",
    "df_combined = df_combined[cols]\n",
    "\n",
    "display(df_combined)\n",
    "save_table(df_combined, category=category, table_name='security_headers_by_region_combined')"
   ],
   "metadata": {
    "collapsed": false,
    "ExecuteTime": {
     "end_time": "2023-09-01T08:50:13.063019800Z",
     "start_time": "2023-09-01T08:50:12.140121600Z"
    }
   }
  },
  {
   "cell_type": "code",
   "execution_count": null,
   "outputs": [],
   "source": [
    "# Analysis of HEIs with at least one OWASP Recommended Security Headers by region\n",
    "\n",
    "# settings\n",
    "column_to_sort = 'Without Security Headers (Public) %'\n",
    "sort_ascending = True\n",
    "columns_to_display = [region_column_name, column_name_to_results_global]\n",
    "analysis_df = get_records_by_region(source_df)\n",
    "\n",
    "# create columns\n",
    "# Column creation with distribution of records without any security headers by region\n",
    "only_public = 'category == \"Public\"'\n",
    "only_headers_false = ' & '.join([f\"`{h}` == False\" for h in headers])\n",
    "criteria = f\"{only_public} & ({only_headers_false})\"\n",
    "create_column(source_df=source_df, analysis_dataframe=analysis_df, column_name='Without Security Headers (Public)', criteria=criteria, columns_to_display=columns_to_display)\n",
    "only_private = 'category == \"Private\"'\n",
    "criteria = f\"{only_private} & ({only_headers_false})\"\n",
    "create_column(source_df=source_df, analysis_dataframe=analysis_df, column_name='Without Security Headers (Private)', criteria=criteria, columns_to_display=columns_to_display)\n",
    "\n",
    "# Column creation with distribution of records with at least one security header by region\n",
    "all_true_filter = ' & '.join([f\"`{h}` == True\" for h in headers])\n",
    "at_least_one_filter = ' | '.join([f\"`{h}` == True\" for h in headers])\n",
    "composite_filter = f\"({at_least_one_filter}) & ~({all_true_filter})\"\n",
    "criteria = f\"{only_public} & ({composite_filter})\"\n",
    "create_column(source_df=source_df, analysis_dataframe=analysis_df, column_name='With At Least One Security Header (Public)', criteria=criteria, columns_to_display=columns_to_display)\n",
    "criteria = f\"{only_private} & ({composite_filter})\"\n",
    "create_column(source_df=source_df, analysis_dataframe=analysis_df, column_name='With At Least One Security Header (Private)', criteria=criteria, columns_to_display=columns_to_display)\n",
    "\n",
    "# Column creation with distribution of records with all security header by region\n",
    "criteria = f\"{only_public} & ({all_true_filter})\"\n",
    "create_column(source_df=source_df, analysis_dataframe=analysis_df, column_name='With All Security Headers (Public)', criteria=criteria, columns_to_display=columns_to_display)\n",
    "criteria = f\"{only_private} & ({all_true_filter})\"\n",
    "create_column(source_df=source_df, analysis_dataframe=analysis_df, column_name='With All Security Headers (Private)', criteria=criteria, columns_to_display=columns_to_display)\n",
    "\n",
    "# Finalize dataframe\n",
    "analysis_df = finalize_dataframe(dataframe=analysis_df, column_to_sort=column_to_sort, ascending=sort_ascending, columns_to_display=columns_to_display)\n",
    "display(analysis_df)\n",
    "\n",
    "# save to csv\n",
    "save_table(analysis_df, category=category, table_name=table_name)\n"
   ],
   "metadata": {
    "collapsed": false,
    "ExecuteTime": {
     "start_time": "2023-08-09T08:24:44.774692200Z"
    }
   }
  },
  {
   "cell_type": "code",
   "execution_count": null,
   "outputs": [],
   "source": [
    "# Report in latex\n",
    "report_results = get_extreme_values(analysis_df)\n",
    "\n",
    "hei_public_without_security_headers = format(report_results.get(\"Total\").get(\"Without Security Headers (Public) %\"), \".2f\")\n",
    "hei_public_with_security_headers = format(report_results.get(\"Total\").get(\"With At Least One Security Header (Public) %\"), \".2f\")\n",
    "hei_public_with_all_security_headers = format(report_results.get(\"Total\").get(\"With All Security Headers (Public) %\"), \".2f\")\n",
    "hei_private_without_security_headers = format(report_results.get(\"Total\").get(\"Without Security Headers (Private) %\"), \".2f\")\n",
    "hei_private_with_security_headers = format(report_results.get(\"Total\").get(\"With At Least One Security Header (Private) %\"), \".2f\")\n",
    "hei_private_with_all_security_headers = format(report_results.get(\"Total\").get(\"With All Security Headers (Private) %\"), \".2f\")\n",
    "\n",
    "report_figure = \"\"\"\n",
    "\\\\begin{figure}[htbp]\n",
    "    \\centering\n",
    "    \\includegraphics[width=0.48\\\\textwidth]{charts/security_headers_by_region.pdf}\n",
    "    \\caption{Distribution of the use Security Headers by region.}\\label{fig:security-headers}\n",
    "\\end{figure}\n",
    "\"\"\"\n",
    "\n",
    "report = f'{report_figure}\\n\\n'\n",
    "report += f'The data presented in Figure~\\\\ref{{fig:security-headers}} provides an overview of the use of security headers at \\glspl{{hei}} in \\countryName. According to the data, {hei_public_without_security_headers}\\% of the public institutions analyzed have not implemented any security headers on their websites, while {hei_private_without_security_headers}\\% of the private institutions analyzed also lack security headers.\\n\\n'\n",
    "report += f'On a positive note, {hei_public_with_security_headers}\\% of the public institutions analyzed have implemented at least one security header in their websites, and {hei_private_with_security_headers}\\% of the private institutions have implemented at least one security header.\\n\\n'\n",
    "report += f'Finally, {hei_public_with_all_security_headers}\\% of the public institutions analyzed have implemented all the security headers in their websites, and {hei_private_with_all_security_headers}\\% of the private institutions have implemented all the security headers.\\n\\n'\n",
    "report += f'In terms of regional differences, private institutions in {report_results.get(\"With At Least One Security Header (Private) %\").get(\"top_regions\")[0][0]} ({format(report_results.get(\"With At Least One Security Header (Private) %\").get(\"top_regions\")[0][1], \".2f\")}\\%), {report_results.get(\"With At Least One Security Header (Private) %\").get(\"top_regions\")[1][0]} ({format(report_results.get(\"With At Least One Security Header (Private) %\").get(\"top_regions\")[1][1], \".2f\")}\\%), and {report_results.get(\"With At Least One Security Header (Private) %\").get(\"top_regions\")[2][0]} ({format(report_results.get(\"With At Least One Security Header (Private) %\").get(\"top_regions\")[2][1], \".2f\")}\\%), '\n",
    "report += f'while public institutions in {report_results.get(\"With At Least One Security Header (Public) %\").get(\"top_regions\")[0][0]} ({format(report_results.get(\"With At Least One Security Header (Public) %\").get(\"top_regions\")[0][1], \".2f\")}\\%), {report_results.get(\"With At Least One Security Header (Public) %\").get(\"top_regions\")[1][0]} ({format(report_results.get(\"With At Least One Security Header (Public) %\").get(\"top_regions\")[1][1], \".2f\")}\\%), and {report_results.get(\"With At Least One Security Header (Public) %\").get(\"top_regions\")[2][0]} ({format(report_results.get(\"With At Least One Security Header (Public) %\").get(\"top_regions\")[2][1], \".2f\")}\\%) have a higher usage of security headers.\\n\\n'\n",
    "report += f'In contrast, private institutions in {report_results.get(\"With At Least One Security Header (Private) %\").get(\"bottom_regions\")[0][0]} ({format(report_results.get(\"With At Least One Security Header (Private) %\").get(\"bottom_regions\")[0][1], \".2f\")}\\%), {report_results.get(\"With At Least One Security Header (Private) %\").get(\"bottom_regions\")[1][0]} ({format(report_results.get(\"With At Least One Security Header (Private) %\").get(\"bottom_regions\")[1][1], \".2f\")}\\%), and {report_results.get(\"With At Least One Security Header (Private) %\").get(\"bottom_regions\")[2][0]} ({format(report_results.get(\"With At Least One Security Header (Private) %\").get(\"bottom_regions\")[2][1], \".2f\")}\\%), '\n",
    "report += f'while public institutions in {report_results.get(\"With At Least One Security Header (Public) %\").get(\"bottom_regions\")[0][0]} ({format(report_results.get(\"With At Least One Security Header (Public) %\").get(\"bottom_regions\")[0][1], \".2f\")}\\%), {report_results.get(\"With At Least One Security Header (Public) %\").get(\"bottom_regions\")[1][0]} ({format(report_results.get(\"With At Least One Security Header (Public) %\").get(\"bottom_regions\")[1][1], \".2f\")}\\%), and {report_results.get(\"With At Least One Security Header (Public) %\").get(\"bottom_regions\")[2][0]} ({format(report_results.get(\"With At Least One Security Headedfddddddddddddddddr (Public) %\").get(\"bottom_regions\")[2][1], \".2f\")}\\%) have a lower usage of security headers.\\n\\n'\n",
    "\n",
    "print(report)\n",
    "\n",
    "# save report to file txt\n",
    "save_report(report=report, category=category, report_name=report_name)"
   ],
   "metadata": {
    "collapsed": false,
    "ExecuteTime": {
     "start_time": "2023-08-09T08:24:44.781698100Z"
    }
   }
  },
  {
   "cell_type": "code",
   "execution_count": null,
   "outputs": [],
   "source": [
    "# specific security headers by region (Pub/Pvt)\n",
    "\n",
    "# settings\n",
    "column_to_sort = 'Without Security Headers %'\n",
    "sort_ascending = True\n",
    "config = [\n",
    "    {'table_name': 'security_headers_by_region_public', 'hei_type': 'Public'},\n",
    "    {'table_name': 'security_headers_by_region_private', 'hei_type': 'Private'}\n",
    "]\n",
    "for config_item in config:\n",
    "    hei_type = config_item['hei_type']\n",
    "    for header in headers:\n",
    "        table_name = f'{header.lower()}_by_region_{hei_type.lower()}'\n",
    "        report_name = f'{header.lower()}_by_region_{hei_type.lower()}'\n",
    "        columns_to_display = [region_column_name, column_name_to_results_global]\n",
    "        analysis_df = get_records_by_region(source_df, hei_type=hei_type)\n",
    "\n",
    "        # Column creation with distribution of records without any security headers by region\n",
    "        only_headers_false = ' & '.join([f\"`{h}` == False\" for h in headers])\n",
    "        criteria = f'category == \"{hei_type}\" & ({only_headers_false})'\n",
    "        create_column(source_df=source_df, analysis_dataframe=analysis_df, column_name='Without Security Headers', criteria=criteria, columns_to_display=columns_to_display)\n",
    "        # Column creation with distribution of records with a specific security header by region\n",
    "        create_column(source_df=source_df, analysis_dataframe=analysis_df, column_name=f\"With {header}\", criteria=f'category == \"{hei_type}\"  & (`{header}` == True)', columns_to_display=columns_to_display)\n",
    "\n",
    "        # Column creation with distribution of records without a specific security header by region\n",
    "        true_at_least_one_header_except_current = ' | '.join([f\"`{h}` == True\" for h in headers if h != header])\n",
    "        criteria = f\"(`{header}` == False) & ({true_at_least_one_header_except_current})\"\n",
    "        create_column(source_df=source_df, analysis_dataframe=analysis_df, column_name=f\"Without {header}\", criteria=f'category == \"{hei_type}\" & {criteria}', columns_to_display=columns_to_display)\n",
    "        display(analysis_df)\n",
    "\n",
    "        # Finalize dataframe\n",
    "        analysis_df = finalize_dataframe(dataframe=analysis_df, column_to_sort=column_to_sort, ascending=sort_ascending, columns_to_display=columns_to_display)\n",
    "        display(analysis_df)\n",
    "        # save to csv\n",
    "        save_table(analysis_df, category=category, table_name=table_name)\n"
   ],
   "metadata": {
    "collapsed": false,
    "ExecuteTime": {
     "end_time": "2023-08-09T08:24:44.797693900Z",
     "start_time": "2023-08-09T08:24:44.787689700Z"
    }
   }
  },
  {
   "cell_type": "code",
   "execution_count": null,
   "outputs": [],
   "source": [
    "# specific security headers by region\n",
    "\n",
    "# settings\n",
    "column_to_sort = 'Without Security Headers (Public) %'\n",
    "sort_ascending = True\n",
    "\n",
    "\n",
    "for header in headers:\n",
    "    table_name = f'{header.lower()}_by_region'\n",
    "    report_name = f'{header.lower()}_by_region'\n",
    "    columns_to_display = [region_column_name, column_name_to_results_global]\n",
    "    analysis_df = get_records_by_region(source_df)\n",
    "\n",
    "    # Column creation with distribution of records without any security headers by region\n",
    "    only_public = 'category == \"Public\"'\n",
    "    only_headers_false = ' & '.join([f\"`{h}` == False\" for h in headers])\n",
    "    criteria = f\"{only_public} & ({only_headers_false})\"\n",
    "    create_column(source_df=source_df, analysis_dataframe=analysis_df, column_name='Without Security Headers (Public)', criteria=criteria, columns_to_display=columns_to_display)\n",
    "    only_private = 'category == \"Private\"'\n",
    "    criteria = f\"{only_private} & ({only_headers_false})\"\n",
    "    create_column(source_df=source_df, analysis_dataframe=analysis_df, column_name='Without Security Headers (Private)', criteria=criteria, columns_to_display=columns_to_display)\n",
    "\n",
    "    # Column creation with distribution of records with a specific security header by region\n",
    "    create_column(source_df=source_df, analysis_dataframe=analysis_df, column_name=f\"With {header} (Public)\", criteria=f\"{only_public} & (`{header}` == True)\", columns_to_display=columns_to_display)\n",
    "    create_column(source_df=source_df, analysis_dataframe=analysis_df, column_name=f\"With {header} (Private)\", criteria=f\"{only_private} & (`{header}` == True)\", columns_to_display=columns_to_display)\n",
    "\n",
    "    # Column creation with distribution of records without a specific security header by region\n",
    "    true_at_least_one_header_except_current = ' | '.join([f\"`{h}` == True\" for h in headers if h != header])\n",
    "    criteria = f\"(`{header}` == False) & ({true_at_least_one_header_except_current})\"\n",
    "    create_column(source_df=source_df, analysis_dataframe=analysis_df, column_name=f\"Without {header} (Public)\", criteria=f\"{only_public} & {criteria}\", columns_to_display=columns_to_display)\n",
    "    create_column(source_df=source_df, analysis_dataframe=analysis_df, column_name=f\"Without {header} (Private)\", criteria=f\"{only_private} & {criteria}\", columns_to_display=columns_to_display)\n",
    "    display(analysis_df)\n",
    "\n",
    "    # Finalize dataframe\n",
    "    analysis_df = finalize_dataframe(dataframe=analysis_df, column_to_sort=column_to_sort, ascending=sort_ascending, columns_to_display=columns_to_display)\n",
    "    display(analysis_df)\n",
    "    # save to csv\n",
    "    save_table(analysis_df, category=category, table_name=table_name)\n",
    "\n",
    "    # save to latex\n",
    "    # report\n",
    "    report_results = get_extreme_values(analysis_df)\n",
    "    hei_private_with_specific_header = format(report_results.get(\"Total\").get(f'With {header} (Private) %'), \".2f\")\n",
    "    hei_private_without_specific_header = format(report_results.get(\"Total\").get(f\"Without {header} (Private) %\"), \".2f\")\n",
    "    hei_public_with_specific_header = format(report_results.get(\"Total\").get(f\"With {header} (Public) %\"), \".2f\")\n",
    "    hei_public_without_specific_header = format(report_results.get(\"Total\").get(f\"Without {header} (Public) %\"), \".2f\")\n",
    "\n",
    "    report_figure = f\"\"\"\n",
    "    \\\\begin{{figure}}[htbp]\n",
    "        \\centering\n",
    "        \\includegraphics[width=0.48\\\\textwidth]{{charts/{table_name}.pdf}}\n",
    "        \\caption{{Distribution of {header} header usage by region.}}\\label{{fig:{header}}}\n",
    "    \\end{{figure}}\n",
    "    \"\"\"\n",
    "\n",
    "    report = f'{report_figure}\\n\\n'\n",
    "    report += f'The data presented in Figure~\\\\ref{{fig:{header}}} provides an overview of the use of {header} security headers at \\glspl{{hei}} in \\countryName. According to the data, {hei_public_without_specific_header}\\% of the public institutions analyzed have not implemented {header} security header on their websites, while {hei_private_without_specific_header}\\% of the private institutions analyzed also lack {header} security header.\\n\\n'\n",
    "    report += f'On a positive note, {hei_public_with_specific_header}\\% of the public institutions analyzed have implemented {header} security headers on their websites, while {hei_private_with_specific_header}\\% of the private institutions analyzed also implemented that security header.\\n\\n'\n",
    "    report += f'In terms of regional differences, private institutions in {report_results.get(f\"With {header} (Private) %\").get(\"top_regions\")[0][0]} ({format(report_results.get(f\"With {header} (Private) %\").get(\"top_regions\")[0][1], \".2f\")}\\%), {report_results.get(f\"With {header} (Private) %\").get(\"top_regions\")[1][0]} ({format(report_results.get(f\"With {header} (Private) %\").get(\"top_regions\")[1][1], \".2f\")}\\%), and {report_results.get(f\"With {header} (Private) %\").get(\"top_regions\")[2][0]} ({format(report_results.get(f\"With {header} (Private) %\").get(\"top_regions\")[2][1], \".2f\")}\\%) have a higher usage of {header} header, '\n",
    "    report += f'while public institutions in {report_results.get(f\"With {header} (Public) %\").get(\"top_regions\")[0][0]} ({format(report_results.get(f\"With {header} (Public) %\").get(\"top_regions\")[0][1], \".2f\")}\\%), {report_results.get(f\"With {header} (Public) %\").get(\"top_regions\")[1][0]} ({format(report_results.get(f\"With {header} (Public) %\").get(\"top_regions\")[1][1], \".2f\")}\\%), and {report_results.get(f\"With {header} (Public) %\").get(\"top_regions\")[2][0]} ({format(report_results.get(f\"With {header} (Public) %\").get(\"top_regions\")[2][1], \".2f\")}\\%) have a higher usage of {header} security header.\\n\\n'\n",
    "    report += f'In contrast, private institutions in {report_results.get(f\"With {header} (Private) %\").get(\"bottom_regions\")[0][0]} ({format(report_results.get(f\"With {header} (Private) %\").get(\"bottom_regions\")[0][1], \".2f\")}\\%), {report_results.get(f\"With {header} (Private) %\").get(\"bottom_regions\")[1][0]} ({format(report_results.get(f\"With {header} (Private) %\").get(\"bottom_regions\")[1][1], \".2f\")}\\%), and {report_results.get(f\"With {header} (Private) %\").get(\"bottom_regions\")[2][0]} ({format(report_results.get(f\"With {header} (Private) %\").get(\"bottom_regions\")[2][1], \".2f\")}\\%), '\n",
    "    report += f'while public institutions in {report_results.get(f\"With {header} (Public) %\").get(\"bottom_regions\")[0][0]} ({format(report_results.get(f\"With {header} (Public) %\").get(\"bottom_regions\")[0][1], \".2f\")}\\%), {report_results.get(f\"With {header} (Public) %\").get(\"bottom_regions\")[1][0]} ({format(report_results.get(f\"With {header} (Public) %\").get(\"bottom_regions\")[1][1], \".2f\")}\\%), and {report_results.get(f\"With {header} (Public) %\").get(\"bottom_regions\")[2][0]} ({format(report_results.get(f\"With {header} (Public) %\").get(\"bottom_regions\")[2][1], \".2f\")}\\%) have a lower usage of security headers.\\n\\n'\n",
    "    # save report to file\n",
    "    print(report)\n",
    "    save_report(report=report, category=category, report_name=report_name)"
   ],
   "metadata": {
    "collapsed": false,
    "ExecuteTime": {
     "start_time": "2023-08-09T08:24:44.793693800Z"
    }
   }
  },
  {
   "cell_type": "code",
   "execution_count": null,
   "outputs": [],
   "source": [],
   "metadata": {
    "collapsed": false,
    "ExecuteTime": {
     "end_time": "2023-08-09T08:24:44.859690100Z",
     "start_time": "2023-08-09T08:24:44.801697800Z"
    }
   }
  }
 ],
 "metadata": {
  "kernelspec": {
   "display_name": "Python 3",
   "language": "python",
   "name": "python3"
  },
  "language_info": {
   "codemirror_mode": {
    "name": "ipython",
    "version": 2
   },
   "file_extension": ".py",
   "mimetype": "text/x-python",
   "name": "python",
   "nbconvert_exporter": "python",
   "pygments_lexer": "ipython2",
   "version": "2.7.6"
  }
 },
 "nbformat": 4,
 "nbformat_minor": 0
}
