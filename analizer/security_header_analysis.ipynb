{
 "cells": [
  {
   "cell_type": "code",
   "execution_count": 1,
   "metadata": {
    "collapsed": true,
    "ExecuteTime": {
     "end_time": "2023-08-09T08:24:38.029567300Z",
     "start_time": "2023-08-09T08:24:36.797568100Z"
    }
   },
   "outputs": [],
   "source": [
    "from utilities.utilities import load_data, get_records_by_region, create_column, finalize_dataframe, get_extreme_values, create_directory_structure, save_table, save_report, pd, assign_quartile, calculate_rank\n",
    "# settings\n",
    "region_column_name = 'Region'\n",
    "table_name = 'security_headers_by_region'\n",
    "report_name = 'security_headers_by_region'\n",
    "category = 'security_headers'\n",
    "column_name_to_results_global = 'Global #'\n",
    "create_directory_structure()\n",
    "\n",
    "source_df = load_data('security_headers_checker')"
   ]
  },
  {
   "cell_type": "code",
   "execution_count": 2,
   "outputs": [
    {
     "name": "stdout",
     "output_type": "stream",
     "text": [
      "<class 'pandas.core.frame.DataFrame'>\n",
      "RangeIndex: 458 entries, 0 to 457\n",
      "Data columns (total 16 columns):\n",
      " #   Column                             Non-Null Count  Dtype \n",
      "---  ------                             --------------  ----- \n",
      " 0   id                                 458 non-null    int64 \n",
      " 1   region                             458 non-null    object\n",
      " 2   name                               458 non-null    object\n",
      " 3   category                           458 non-null    object\n",
      " 4   url                                458 non-null    object\n",
      " 5   strict-transport-security          458 non-null    bool  \n",
      " 6   x-frame-options                    458 non-null    bool  \n",
      " 7   x-content-type-options             458 non-null    bool  \n",
      " 8   content-security-policy            458 non-null    bool  \n",
      " 9   x-permitted-cross-domain-policies  458 non-null    bool  \n",
      " 10  referrer-policy                    458 non-null    bool  \n",
      " 11  clear-site-data                    458 non-null    bool  \n",
      " 12  cross-origin-embedder-policy       458 non-null    bool  \n",
      " 13  cross-origin-opener-policy         458 non-null    bool  \n",
      " 14  cross-origin-resource-policy       458 non-null    bool  \n",
      " 15  cache-control                      458 non-null    bool  \n",
      "dtypes: bool(11), int64(1), object(4)\n",
      "memory usage: 22.9+ KB\n"
     ]
    }
   ],
   "source": [
    "source_df.info()"
   ],
   "metadata": {
    "collapsed": false,
    "ExecuteTime": {
     "end_time": "2023-08-09T08:24:38.082566100Z",
     "start_time": "2023-08-09T08:24:38.031565900Z"
    }
   }
  },
  {
   "cell_type": "code",
   "execution_count": 3,
   "outputs": [],
   "source": [
    "# sanity dataset\n",
    "headers = [\n",
    "            'strict-transport-security',\n",
    "            'x-frame-options',\n",
    "            'x-content-type-options',\n",
    "            'content-security-policy',\n",
    "            'x-permitted-cross-domain-policies',\n",
    "            'referrer-policy',\n",
    "            'clear-site-data',\n",
    "            'cross-origin-embedder-policy',\n",
    "            'cross-origin-opener-policy',\n",
    "            'cross-origin-resource-policy',\n",
    "            'cache-control'\n",
    "        ]\n",
    "\n",
    "# Records that are null suffered an error during data collection and are therefore treated as not having security headers.\n",
    "for header in headers:\n",
    "    source_df.loc[source_df[header].isna(), header] = False"
   ],
   "metadata": {
    "collapsed": false,
    "ExecuteTime": {
     "end_time": "2023-08-09T08:24:38.166565400Z",
     "start_time": "2023-08-09T08:24:38.084568500Z"
    }
   }
  },
  {
   "cell_type": "code",
   "execution_count": 4,
   "outputs": [
    {
     "data": {
      "text/plain": "                    Region  Global #  Without Security Headers #  \\\n0                 Saarland         5                           0   \n1           Sachsen-Anhalt         8                           0   \n2                Thüringen        11                           0   \n3                   Bayern        34                           1   \n4                   Berlin        12                           1   \n5              Brandenburg        10                           1   \n6                  Hamburg        10                           1   \n7          Rheinland-Pfalz        15                           2   \n8   Mecklenburg-Vorpommern         7                           1   \n9            Niedersachsen        21                           3   \n10       Baden-Württemberg        48                           7   \n11                  Hessen        22                           4   \n12     Nordrhein-Westfalen        42                           8   \n13                  Bremen         5                           1   \n14      Schleswig-Holstein        10                           2   \n15                 Sachsen        23                           9   \n16                   Total       283                          41   \n\n    Without Security Headers %  With At Least One Security Header #  \\\n0                     0.000000                                    5   \n1                     0.000000                                    8   \n2                     0.000000                                   11   \n3                     2.941176                                   33   \n4                     8.333333                                   11   \n5                    10.000000                                    9   \n6                    10.000000                                    9   \n7                    13.333333                                   13   \n8                    14.285714                                    6   \n9                    14.285714                                   18   \n10                   14.583333                                   41   \n11                   18.181818                                   18   \n12                   19.047619                                   34   \n13                   20.000000                                    4   \n14                   20.000000                                    8   \n15                   39.130435                                   14   \n16                   14.487633                                  242   \n\n    With At Least One Security Header %  With All Security Headers #  \\\n0                            100.000000                            0   \n1                            100.000000                            0   \n2                            100.000000                            0   \n3                             97.058824                            0   \n4                             91.666667                            0   \n5                             90.000000                            0   \n6                             90.000000                            0   \n7                             86.666667                            0   \n8                             85.714286                            0   \n9                             85.714286                            0   \n10                            85.416667                            0   \n11                            81.818182                            0   \n12                            80.952381                            0   \n13                            80.000000                            0   \n14                            80.000000                            0   \n15                            60.869565                            0   \n16                            85.512367                            0   \n\n    With All Security Headers %  \n0                           0.0  \n1                           0.0  \n2                           0.0  \n3                           0.0  \n4                           0.0  \n5                           0.0  \n6                           0.0  \n7                           0.0  \n8                           0.0  \n9                           0.0  \n10                          0.0  \n11                          0.0  \n12                          0.0  \n13                          0.0  \n14                          0.0  \n15                          0.0  \n16                          0.0  ",
      "text/html": "<div>\n<style scoped>\n    .dataframe tbody tr th:only-of-type {\n        vertical-align: middle;\n    }\n\n    .dataframe tbody tr th {\n        vertical-align: top;\n    }\n\n    .dataframe thead th {\n        text-align: right;\n    }\n</style>\n<table border=\"1\" class=\"dataframe\">\n  <thead>\n    <tr style=\"text-align: right;\">\n      <th></th>\n      <th>Region</th>\n      <th>Global #</th>\n      <th>Without Security Headers #</th>\n      <th>Without Security Headers %</th>\n      <th>With At Least One Security Header #</th>\n      <th>With At Least One Security Header %</th>\n      <th>With All Security Headers #</th>\n      <th>With All Security Headers %</th>\n    </tr>\n  </thead>\n  <tbody>\n    <tr>\n      <th>0</th>\n      <td>Saarland</td>\n      <td>5</td>\n      <td>0</td>\n      <td>0.000000</td>\n      <td>5</td>\n      <td>100.000000</td>\n      <td>0</td>\n      <td>0.0</td>\n    </tr>\n    <tr>\n      <th>1</th>\n      <td>Sachsen-Anhalt</td>\n      <td>8</td>\n      <td>0</td>\n      <td>0.000000</td>\n      <td>8</td>\n      <td>100.000000</td>\n      <td>0</td>\n      <td>0.0</td>\n    </tr>\n    <tr>\n      <th>2</th>\n      <td>Thüringen</td>\n      <td>11</td>\n      <td>0</td>\n      <td>0.000000</td>\n      <td>11</td>\n      <td>100.000000</td>\n      <td>0</td>\n      <td>0.0</td>\n    </tr>\n    <tr>\n      <th>3</th>\n      <td>Bayern</td>\n      <td>34</td>\n      <td>1</td>\n      <td>2.941176</td>\n      <td>33</td>\n      <td>97.058824</td>\n      <td>0</td>\n      <td>0.0</td>\n    </tr>\n    <tr>\n      <th>4</th>\n      <td>Berlin</td>\n      <td>12</td>\n      <td>1</td>\n      <td>8.333333</td>\n      <td>11</td>\n      <td>91.666667</td>\n      <td>0</td>\n      <td>0.0</td>\n    </tr>\n    <tr>\n      <th>5</th>\n      <td>Brandenburg</td>\n      <td>10</td>\n      <td>1</td>\n      <td>10.000000</td>\n      <td>9</td>\n      <td>90.000000</td>\n      <td>0</td>\n      <td>0.0</td>\n    </tr>\n    <tr>\n      <th>6</th>\n      <td>Hamburg</td>\n      <td>10</td>\n      <td>1</td>\n      <td>10.000000</td>\n      <td>9</td>\n      <td>90.000000</td>\n      <td>0</td>\n      <td>0.0</td>\n    </tr>\n    <tr>\n      <th>7</th>\n      <td>Rheinland-Pfalz</td>\n      <td>15</td>\n      <td>2</td>\n      <td>13.333333</td>\n      <td>13</td>\n      <td>86.666667</td>\n      <td>0</td>\n      <td>0.0</td>\n    </tr>\n    <tr>\n      <th>8</th>\n      <td>Mecklenburg-Vorpommern</td>\n      <td>7</td>\n      <td>1</td>\n      <td>14.285714</td>\n      <td>6</td>\n      <td>85.714286</td>\n      <td>0</td>\n      <td>0.0</td>\n    </tr>\n    <tr>\n      <th>9</th>\n      <td>Niedersachsen</td>\n      <td>21</td>\n      <td>3</td>\n      <td>14.285714</td>\n      <td>18</td>\n      <td>85.714286</td>\n      <td>0</td>\n      <td>0.0</td>\n    </tr>\n    <tr>\n      <th>10</th>\n      <td>Baden-Württemberg</td>\n      <td>48</td>\n      <td>7</td>\n      <td>14.583333</td>\n      <td>41</td>\n      <td>85.416667</td>\n      <td>0</td>\n      <td>0.0</td>\n    </tr>\n    <tr>\n      <th>11</th>\n      <td>Hessen</td>\n      <td>22</td>\n      <td>4</td>\n      <td>18.181818</td>\n      <td>18</td>\n      <td>81.818182</td>\n      <td>0</td>\n      <td>0.0</td>\n    </tr>\n    <tr>\n      <th>12</th>\n      <td>Nordrhein-Westfalen</td>\n      <td>42</td>\n      <td>8</td>\n      <td>19.047619</td>\n      <td>34</td>\n      <td>80.952381</td>\n      <td>0</td>\n      <td>0.0</td>\n    </tr>\n    <tr>\n      <th>13</th>\n      <td>Bremen</td>\n      <td>5</td>\n      <td>1</td>\n      <td>20.000000</td>\n      <td>4</td>\n      <td>80.000000</td>\n      <td>0</td>\n      <td>0.0</td>\n    </tr>\n    <tr>\n      <th>14</th>\n      <td>Schleswig-Holstein</td>\n      <td>10</td>\n      <td>2</td>\n      <td>20.000000</td>\n      <td>8</td>\n      <td>80.000000</td>\n      <td>0</td>\n      <td>0.0</td>\n    </tr>\n    <tr>\n      <th>15</th>\n      <td>Sachsen</td>\n      <td>23</td>\n      <td>9</td>\n      <td>39.130435</td>\n      <td>14</td>\n      <td>60.869565</td>\n      <td>0</td>\n      <td>0.0</td>\n    </tr>\n    <tr>\n      <th>16</th>\n      <td>Total</td>\n      <td>283</td>\n      <td>41</td>\n      <td>14.487633</td>\n      <td>242</td>\n      <td>85.512367</td>\n      <td>0</td>\n      <td>0.0</td>\n    </tr>\n  </tbody>\n</table>\n</div>"
     },
     "metadata": {},
     "output_type": "display_data"
    },
    {
     "data": {
      "text/plain": "                 Region  Global #  Without Security Headers #  \\\n0                Bremen         2                           0   \n1              Saarland         5                           0   \n2        Sachsen-Anhalt         2                           0   \n3    Schleswig-Holstein         3                           0   \n4             Thüringen         2                           0   \n5         Niedersachsen        16                           2   \n6               Sachsen         7                           1   \n7   Nordrhein-Westfalen        25                           4   \n8                Bayern        12                           2   \n9               Hamburg        11                           2   \n10    Baden-Württemberg        24                           5   \n11          Brandenburg         9                           2   \n12               Berlin        28                           7   \n13               Hessen        23                           8   \n14      Rheinland-Pfalz         6                           3   \n15                Total       175                          36   \n\n    Without Security Headers %  With At Least One Security Header #  \\\n0                     0.000000                                    2   \n1                     0.000000                                    5   \n2                     0.000000                                    2   \n3                     0.000000                                    3   \n4                     0.000000                                    2   \n5                    12.500000                                   14   \n6                    14.285714                                    6   \n7                    16.000000                                   21   \n8                    16.666667                                   10   \n9                    18.181818                                    9   \n10                   20.833333                                   19   \n11                   22.222222                                    7   \n12                   25.000000                                   21   \n13                   34.782609                                   15   \n14                   50.000000                                    3   \n15                   20.571429                                  139   \n\n    With At Least One Security Header %  With All Security Headers #  \\\n0                            100.000000                            0   \n1                            100.000000                            0   \n2                            100.000000                            0   \n3                            100.000000                            0   \n4                            100.000000                            0   \n5                             87.500000                            0   \n6                             85.714286                            0   \n7                             84.000000                            0   \n8                             83.333333                            0   \n9                             81.818182                            0   \n10                            79.166667                            0   \n11                            77.777778                            0   \n12                            75.000000                            0   \n13                            65.217391                            0   \n14                            50.000000                            0   \n15                            79.428571                            0   \n\n    With All Security Headers %  \n0                           0.0  \n1                           0.0  \n2                           0.0  \n3                           0.0  \n4                           0.0  \n5                           0.0  \n6                           0.0  \n7                           0.0  \n8                           0.0  \n9                           0.0  \n10                          0.0  \n11                          0.0  \n12                          0.0  \n13                          0.0  \n14                          0.0  \n15                          0.0  ",
      "text/html": "<div>\n<style scoped>\n    .dataframe tbody tr th:only-of-type {\n        vertical-align: middle;\n    }\n\n    .dataframe tbody tr th {\n        vertical-align: top;\n    }\n\n    .dataframe thead th {\n        text-align: right;\n    }\n</style>\n<table border=\"1\" class=\"dataframe\">\n  <thead>\n    <tr style=\"text-align: right;\">\n      <th></th>\n      <th>Region</th>\n      <th>Global #</th>\n      <th>Without Security Headers #</th>\n      <th>Without Security Headers %</th>\n      <th>With At Least One Security Header #</th>\n      <th>With At Least One Security Header %</th>\n      <th>With All Security Headers #</th>\n      <th>With All Security Headers %</th>\n    </tr>\n  </thead>\n  <tbody>\n    <tr>\n      <th>0</th>\n      <td>Bremen</td>\n      <td>2</td>\n      <td>0</td>\n      <td>0.000000</td>\n      <td>2</td>\n      <td>100.000000</td>\n      <td>0</td>\n      <td>0.0</td>\n    </tr>\n    <tr>\n      <th>1</th>\n      <td>Saarland</td>\n      <td>5</td>\n      <td>0</td>\n      <td>0.000000</td>\n      <td>5</td>\n      <td>100.000000</td>\n      <td>0</td>\n      <td>0.0</td>\n    </tr>\n    <tr>\n      <th>2</th>\n      <td>Sachsen-Anhalt</td>\n      <td>2</td>\n      <td>0</td>\n      <td>0.000000</td>\n      <td>2</td>\n      <td>100.000000</td>\n      <td>0</td>\n      <td>0.0</td>\n    </tr>\n    <tr>\n      <th>3</th>\n      <td>Schleswig-Holstein</td>\n      <td>3</td>\n      <td>0</td>\n      <td>0.000000</td>\n      <td>3</td>\n      <td>100.000000</td>\n      <td>0</td>\n      <td>0.0</td>\n    </tr>\n    <tr>\n      <th>4</th>\n      <td>Thüringen</td>\n      <td>2</td>\n      <td>0</td>\n      <td>0.000000</td>\n      <td>2</td>\n      <td>100.000000</td>\n      <td>0</td>\n      <td>0.0</td>\n    </tr>\n    <tr>\n      <th>5</th>\n      <td>Niedersachsen</td>\n      <td>16</td>\n      <td>2</td>\n      <td>12.500000</td>\n      <td>14</td>\n      <td>87.500000</td>\n      <td>0</td>\n      <td>0.0</td>\n    </tr>\n    <tr>\n      <th>6</th>\n      <td>Sachsen</td>\n      <td>7</td>\n      <td>1</td>\n      <td>14.285714</td>\n      <td>6</td>\n      <td>85.714286</td>\n      <td>0</td>\n      <td>0.0</td>\n    </tr>\n    <tr>\n      <th>7</th>\n      <td>Nordrhein-Westfalen</td>\n      <td>25</td>\n      <td>4</td>\n      <td>16.000000</td>\n      <td>21</td>\n      <td>84.000000</td>\n      <td>0</td>\n      <td>0.0</td>\n    </tr>\n    <tr>\n      <th>8</th>\n      <td>Bayern</td>\n      <td>12</td>\n      <td>2</td>\n      <td>16.666667</td>\n      <td>10</td>\n      <td>83.333333</td>\n      <td>0</td>\n      <td>0.0</td>\n    </tr>\n    <tr>\n      <th>9</th>\n      <td>Hamburg</td>\n      <td>11</td>\n      <td>2</td>\n      <td>18.181818</td>\n      <td>9</td>\n      <td>81.818182</td>\n      <td>0</td>\n      <td>0.0</td>\n    </tr>\n    <tr>\n      <th>10</th>\n      <td>Baden-Württemberg</td>\n      <td>24</td>\n      <td>5</td>\n      <td>20.833333</td>\n      <td>19</td>\n      <td>79.166667</td>\n      <td>0</td>\n      <td>0.0</td>\n    </tr>\n    <tr>\n      <th>11</th>\n      <td>Brandenburg</td>\n      <td>9</td>\n      <td>2</td>\n      <td>22.222222</td>\n      <td>7</td>\n      <td>77.777778</td>\n      <td>0</td>\n      <td>0.0</td>\n    </tr>\n    <tr>\n      <th>12</th>\n      <td>Berlin</td>\n      <td>28</td>\n      <td>7</td>\n      <td>25.000000</td>\n      <td>21</td>\n      <td>75.000000</td>\n      <td>0</td>\n      <td>0.0</td>\n    </tr>\n    <tr>\n      <th>13</th>\n      <td>Hessen</td>\n      <td>23</td>\n      <td>8</td>\n      <td>34.782609</td>\n      <td>15</td>\n      <td>65.217391</td>\n      <td>0</td>\n      <td>0.0</td>\n    </tr>\n    <tr>\n      <th>14</th>\n      <td>Rheinland-Pfalz</td>\n      <td>6</td>\n      <td>3</td>\n      <td>50.000000</td>\n      <td>3</td>\n      <td>50.000000</td>\n      <td>0</td>\n      <td>0.0</td>\n    </tr>\n    <tr>\n      <th>15</th>\n      <td>Total</td>\n      <td>175</td>\n      <td>36</td>\n      <td>20.571429</td>\n      <td>139</td>\n      <td>79.428571</td>\n      <td>0</td>\n      <td>0.0</td>\n    </tr>\n  </tbody>\n</table>\n</div>"
     },
     "metadata": {},
     "output_type": "display_data"
    },
    {
     "ename": "KeyError",
     "evalue": "'Rank'",
     "output_type": "error",
     "traceback": [
      "\u001B[1;31m---------------------------------------------------------------------------\u001B[0m",
      "\u001B[1;31mKeyError\u001B[0m                                  Traceback (most recent call last)",
      "Input \u001B[1;32mIn [4]\u001B[0m, in \u001B[0;36m<cell line: 65>\u001B[1;34m()\u001B[0m\n\u001B[0;32m     62\u001B[0m     df_combined[rank_colum] \u001B[38;5;241m=\u001B[39m df_combined\u001B[38;5;241m.\u001B[39mapply(\u001B[38;5;28;01mlambda\u001B[39;00m row: calculate_rank(row, column), axis\u001B[38;5;241m=\u001B[39m\u001B[38;5;241m1\u001B[39m)\n\u001B[0;32m     64\u001B[0m \u001B[38;5;66;03m#order dataframe by column Rank (from highest to lowest)\u001B[39;00m\n\u001B[1;32m---> 65\u001B[0m df_combined \u001B[38;5;241m=\u001B[39m \u001B[43mdf_combined\u001B[49m\u001B[38;5;241;43m.\u001B[39;49m\u001B[43msort_values\u001B[49m\u001B[43m(\u001B[49m\u001B[43mby\u001B[49m\u001B[38;5;241;43m=\u001B[39;49m\u001B[43m[\u001B[49m\u001B[38;5;124;43m'\u001B[39;49m\u001B[38;5;124;43mRank\u001B[39;49m\u001B[38;5;124;43m'\u001B[39;49m\u001B[43m,\u001B[49m\u001B[43m \u001B[49m\u001B[38;5;124;43m'\u001B[39;49m\u001B[38;5;124;43mRank2\u001B[39;49m\u001B[38;5;124;43m'\u001B[39;49m\u001B[43m]\u001B[49m\u001B[43m,\u001B[49m\u001B[43m \u001B[49m\u001B[43mascending\u001B[49m\u001B[38;5;241;43m=\u001B[39;49m\u001B[38;5;28;43;01mFalse\u001B[39;49;00m\u001B[43m)\u001B[49m\n\u001B[0;32m     66\u001B[0m \u001B[38;5;66;03m# move just row with 'Total' in column Region to the end of the dataframe. (Use pandas.concat instead of append to avoid duplicates)\u001B[39;00m\n\u001B[0;32m     67\u001B[0m df_combined \u001B[38;5;241m=\u001B[39m pd\u001B[38;5;241m.\u001B[39mconcat([df_combined[df_combined[\u001B[38;5;124m'\u001B[39m\u001B[38;5;124mRegion\u001B[39m\u001B[38;5;124m'\u001B[39m] \u001B[38;5;241m!=\u001B[39m \u001B[38;5;124m'\u001B[39m\u001B[38;5;124mTotal\u001B[39m\u001B[38;5;124m'\u001B[39m], df_combined[df_combined[\u001B[38;5;124m'\u001B[39m\u001B[38;5;124mRegion\u001B[39m\u001B[38;5;124m'\u001B[39m] \u001B[38;5;241m==\u001B[39m \u001B[38;5;124m'\u001B[39m\u001B[38;5;124mTotal\u001B[39m\u001B[38;5;124m'\u001B[39m]])\n",
      "File \u001B[1;32m~\\AppData\\Local\\Programs\\Python\\Python310\\lib\\site-packages\\pandas\\util\\_decorators.py:311\u001B[0m, in \u001B[0;36mdeprecate_nonkeyword_arguments.<locals>.decorate.<locals>.wrapper\u001B[1;34m(*args, **kwargs)\u001B[0m\n\u001B[0;32m    305\u001B[0m \u001B[38;5;28;01mif\u001B[39;00m \u001B[38;5;28mlen\u001B[39m(args) \u001B[38;5;241m>\u001B[39m num_allow_args:\n\u001B[0;32m    306\u001B[0m     warnings\u001B[38;5;241m.\u001B[39mwarn(\n\u001B[0;32m    307\u001B[0m         msg\u001B[38;5;241m.\u001B[39mformat(arguments\u001B[38;5;241m=\u001B[39marguments),\n\u001B[0;32m    308\u001B[0m         \u001B[38;5;167;01mFutureWarning\u001B[39;00m,\n\u001B[0;32m    309\u001B[0m         stacklevel\u001B[38;5;241m=\u001B[39mstacklevel,\n\u001B[0;32m    310\u001B[0m     )\n\u001B[1;32m--> 311\u001B[0m \u001B[38;5;28;01mreturn\u001B[39;00m func(\u001B[38;5;241m*\u001B[39margs, \u001B[38;5;241m*\u001B[39m\u001B[38;5;241m*\u001B[39mkwargs)\n",
      "File \u001B[1;32m~\\AppData\\Local\\Programs\\Python\\Python310\\lib\\site-packages\\pandas\\core\\frame.py:6295\u001B[0m, in \u001B[0;36mDataFrame.sort_values\u001B[1;34m(self, by, axis, ascending, inplace, kind, na_position, ignore_index, key)\u001B[0m\n\u001B[0;32m   6290\u001B[0m     \u001B[38;5;28;01mraise\u001B[39;00m \u001B[38;5;167;01mValueError\u001B[39;00m(\n\u001B[0;32m   6291\u001B[0m         \u001B[38;5;124mf\u001B[39m\u001B[38;5;124m\"\u001B[39m\u001B[38;5;124mLength of ascending (\u001B[39m\u001B[38;5;132;01m{\u001B[39;00m\u001B[38;5;28mlen\u001B[39m(ascending)\u001B[38;5;132;01m}\u001B[39;00m\u001B[38;5;124m) != length of by (\u001B[39m\u001B[38;5;132;01m{\u001B[39;00m\u001B[38;5;28mlen\u001B[39m(by)\u001B[38;5;132;01m}\u001B[39;00m\u001B[38;5;124m)\u001B[39m\u001B[38;5;124m\"\u001B[39m\n\u001B[0;32m   6292\u001B[0m     )\n\u001B[0;32m   6293\u001B[0m \u001B[38;5;28;01mif\u001B[39;00m \u001B[38;5;28mlen\u001B[39m(by) \u001B[38;5;241m>\u001B[39m \u001B[38;5;241m1\u001B[39m:\n\u001B[1;32m-> 6295\u001B[0m     keys \u001B[38;5;241m=\u001B[39m [\u001B[38;5;28mself\u001B[39m\u001B[38;5;241m.\u001B[39m_get_label_or_level_values(x, axis\u001B[38;5;241m=\u001B[39maxis) \u001B[38;5;28;01mfor\u001B[39;00m x \u001B[38;5;129;01min\u001B[39;00m by]\n\u001B[0;32m   6297\u001B[0m     \u001B[38;5;66;03m# need to rewrap columns in Series to apply key function\u001B[39;00m\n\u001B[0;32m   6298\u001B[0m     \u001B[38;5;28;01mif\u001B[39;00m key \u001B[38;5;129;01mis\u001B[39;00m \u001B[38;5;129;01mnot\u001B[39;00m \u001B[38;5;28;01mNone\u001B[39;00m:\n\u001B[0;32m   6299\u001B[0m         \u001B[38;5;66;03m# error: List comprehension has incompatible type List[Series];\u001B[39;00m\n\u001B[0;32m   6300\u001B[0m         \u001B[38;5;66;03m# expected List[ndarray]\u001B[39;00m\n",
      "File \u001B[1;32m~\\AppData\\Local\\Programs\\Python\\Python310\\lib\\site-packages\\pandas\\core\\frame.py:6295\u001B[0m, in \u001B[0;36m<listcomp>\u001B[1;34m(.0)\u001B[0m\n\u001B[0;32m   6290\u001B[0m     \u001B[38;5;28;01mraise\u001B[39;00m \u001B[38;5;167;01mValueError\u001B[39;00m(\n\u001B[0;32m   6291\u001B[0m         \u001B[38;5;124mf\u001B[39m\u001B[38;5;124m\"\u001B[39m\u001B[38;5;124mLength of ascending (\u001B[39m\u001B[38;5;132;01m{\u001B[39;00m\u001B[38;5;28mlen\u001B[39m(ascending)\u001B[38;5;132;01m}\u001B[39;00m\u001B[38;5;124m) != length of by (\u001B[39m\u001B[38;5;132;01m{\u001B[39;00m\u001B[38;5;28mlen\u001B[39m(by)\u001B[38;5;132;01m}\u001B[39;00m\u001B[38;5;124m)\u001B[39m\u001B[38;5;124m\"\u001B[39m\n\u001B[0;32m   6292\u001B[0m     )\n\u001B[0;32m   6293\u001B[0m \u001B[38;5;28;01mif\u001B[39;00m \u001B[38;5;28mlen\u001B[39m(by) \u001B[38;5;241m>\u001B[39m \u001B[38;5;241m1\u001B[39m:\n\u001B[1;32m-> 6295\u001B[0m     keys \u001B[38;5;241m=\u001B[39m [\u001B[38;5;28;43mself\u001B[39;49m\u001B[38;5;241;43m.\u001B[39;49m\u001B[43m_get_label_or_level_values\u001B[49m\u001B[43m(\u001B[49m\u001B[43mx\u001B[49m\u001B[43m,\u001B[49m\u001B[43m \u001B[49m\u001B[43maxis\u001B[49m\u001B[38;5;241;43m=\u001B[39;49m\u001B[43maxis\u001B[49m\u001B[43m)\u001B[49m \u001B[38;5;28;01mfor\u001B[39;00m x \u001B[38;5;129;01min\u001B[39;00m by]\n\u001B[0;32m   6297\u001B[0m     \u001B[38;5;66;03m# need to rewrap columns in Series to apply key function\u001B[39;00m\n\u001B[0;32m   6298\u001B[0m     \u001B[38;5;28;01mif\u001B[39;00m key \u001B[38;5;129;01mis\u001B[39;00m \u001B[38;5;129;01mnot\u001B[39;00m \u001B[38;5;28;01mNone\u001B[39;00m:\n\u001B[0;32m   6299\u001B[0m         \u001B[38;5;66;03m# error: List comprehension has incompatible type List[Series];\u001B[39;00m\n\u001B[0;32m   6300\u001B[0m         \u001B[38;5;66;03m# expected List[ndarray]\u001B[39;00m\n",
      "File \u001B[1;32m~\\AppData\\Local\\Programs\\Python\\Python310\\lib\\site-packages\\pandas\\core\\generic.py:1840\u001B[0m, in \u001B[0;36mNDFrame._get_label_or_level_values\u001B[1;34m(self, key, axis)\u001B[0m\n\u001B[0;32m   1838\u001B[0m     values \u001B[38;5;241m=\u001B[39m \u001B[38;5;28mself\u001B[39m\u001B[38;5;241m.\u001B[39maxes[axis]\u001B[38;5;241m.\u001B[39mget_level_values(key)\u001B[38;5;241m.\u001B[39m_values\n\u001B[0;32m   1839\u001B[0m \u001B[38;5;28;01melse\u001B[39;00m:\n\u001B[1;32m-> 1840\u001B[0m     \u001B[38;5;28;01mraise\u001B[39;00m \u001B[38;5;167;01mKeyError\u001B[39;00m(key)\n\u001B[0;32m   1842\u001B[0m \u001B[38;5;66;03m# Check for duplicates\u001B[39;00m\n\u001B[0;32m   1843\u001B[0m \u001B[38;5;28;01mif\u001B[39;00m values\u001B[38;5;241m.\u001B[39mndim \u001B[38;5;241m>\u001B[39m \u001B[38;5;241m1\u001B[39m:\n",
      "\u001B[1;31mKeyError\u001B[0m: 'Rank'"
     ]
    }
   ],
   "source": [
    "# Analysis of HEIs with at least one OWASP Recommended Security Headers by region (Pub/Pvt)\n",
    "\n",
    "# settings\n",
    "column_to_sort = 'Without Security Headers %'\n",
    "sort_ascending = True\n",
    "config = [\n",
    "    {'table_name': 'security_headers_by_region_public', 'hei_type': 'Public'},\n",
    "    {'table_name': 'security_headers_by_region_private', 'hei_type': 'Private'}\n",
    "]\n",
    "dfs = []\n",
    "for config_item in config:\n",
    "    table_name = config_item['table_name']\n",
    "    hei_type = config_item['hei_type']\n",
    "    columns_to_display = [region_column_name.title(), column_name_to_results_global]\n",
    "    analysis_df = get_records_by_region(source_df, hei_type=hei_type)\n",
    "    # create columns\n",
    "    # Column creation with distribution of records without any security headers by region\n",
    "    only_headers_false = ' & '.join([f\"`{h}` == False\" for h in headers])\n",
    "    criteria = f'category == \"{hei_type}\" & ({only_headers_false})'\n",
    "    create_column(source_df=source_df, analysis_dataframe=analysis_df, column_name='Without Security Headers', criteria=criteria, columns_to_display=columns_to_display)\n",
    "    # Column creation with distribution of records with at least one security header by region\n",
    "    all_true_filter = ' & '.join([f\"`{h}` == True\" for h in headers])\n",
    "    at_least_one_filter = ' | '.join([f\"`{h}` == True\" for h in headers])\n",
    "    composite_filter = f\"({at_least_one_filter}) & ~({all_true_filter})\"\n",
    "    criteria = f'category == \"{hei_type}\" & ({composite_filter})'\n",
    "    create_column(source_df=source_df, analysis_dataframe=analysis_df, column_name='With At Least One Security Header', criteria=criteria, columns_to_display=columns_to_display)\n",
    "    # Column creation with distribution of records with all security header by region\n",
    "    criteria = f'category == \"{hei_type}\" & ({all_true_filter})'\n",
    "    create_column(source_df=source_df, analysis_dataframe=analysis_df, column_name='With All Security Headers', criteria=criteria, columns_to_display=columns_to_display)\n",
    "    # Finalize dataframe\n",
    "    analysis_df = finalize_dataframe(dataframe=analysis_df, column_to_sort=column_to_sort, ascending=sort_ascending, columns_to_display=columns_to_display)\n",
    "    display(analysis_df)\n",
    "    dfs.append(analysis_df)\n",
    "    # save to csv\n",
    "    save_table(analysis_df, category=category, table_name=table_name)\n",
    "\n",
    "\n",
    "\n",
    "df_public = dfs[0].add_suffix('(pub)')\n",
    "df_private = dfs[1].add_suffix('(pvt)')\n",
    "df_public = df_public.rename(columns={'Region(pub)': 'Region'})\n",
    "df_private = df_private.rename(columns={'Region(pvt)': 'Region'})\n",
    "df_combined = df_public.merge(df_private, on='Region', how='outer')\n",
    "df_combined.fillna(0, inplace=True)\n",
    "# remove columns with # in the name\n",
    "df_combined = df_combined.loc[:, ~df_combined.columns.str.contains('#')]\n",
    "#remove columns global\n",
    "df_combined = df_combined.loc[:, ~df_combined.columns.str.contains('Global')]\n",
    "# remove '%' from name of columns\n",
    "df_combined.columns = df_combined.columns.str.replace('%', '')\n",
    "\n",
    "\n",
    "\n",
    "\n",
    "ranks_columns = []\n",
    "# Specify the columns to use\n",
    "columns_to_use = ['With All Security Headers', 'With At Least One Security Header']\n",
    "# Apply the function to calculate the rank\n",
    "for i, column in enumerate(columns_to_use):\n",
    "    rank_colum = f'Rank {i}'\n",
    "    ranks_columns.append(rank_colum)\n",
    "    df_combined[rank_colum] = df_combined.apply(lambda row: calculate_rank(row, column), axis=1)\n",
    "\n",
    "#order dataframe by column Rank (from highest to lowest)\n",
    "df_combined = df_combined.sort_values(by=['Rank', 'Rank2'], ascending=False)\n",
    "# move just row with 'Total' in column Region to the end of the dataframe. (Use pandas.concat instead of append to avoid duplicates)\n",
    "df_combined = pd.concat([df_combined[df_combined['Region'] != 'Total'], df_combined[df_combined['Region'] == 'Total']])\n",
    "# reset index\n",
    "df_combined.reset_index(drop=True, inplace=True)\n",
    "# remove column Rank\n",
    "df_combined.drop(columns=['Rank', 'Rank2'], inplace=True)\n",
    "#Add a column with the quartile corresponding to the position of the row, that is, considering the total of records -1 (to exclude the total row), if a row is in position 2 it should belong to the first quartile.\n",
    "df_combined['Quartile'] = df_combined.index.map(lambda rank: assign_quartile(rank, len(df_combined)-1))\n",
    "# moved column 'Quartile' to the second position\n",
    "cols = list(df_combined.columns)\n",
    "cols = [cols[0]] + [cols[-1]] + cols[1:-1]\n",
    "df_combined = df_combined[cols]\n",
    "\n",
    "\n",
    "save_table(df_combined, category=category, table_name='security_headers_by_region_combined')"
   ],
   "metadata": {
    "collapsed": false,
    "ExecuteTime": {
     "end_time": "2023-08-09T08:24:44.777702300Z",
     "start_time": "2023-08-09T08:24:38.113568Z"
    }
   }
  },
  {
   "cell_type": "code",
   "execution_count": null,
   "outputs": [],
   "source": [
    "# Analysis of HEIs with at least one OWASP Recommended Security Headers by region\n",
    "\n",
    "# settings\n",
    "column_to_sort = 'Without Security Headers (Public) %'\n",
    "sort_ascending = True\n",
    "columns_to_display = [region_column_name, column_name_to_results_global]\n",
    "analysis_df = get_records_by_region(source_df)\n",
    "\n",
    "# create columns\n",
    "# Column creation with distribution of records without any security headers by region\n",
    "only_public = 'category == \"Public\"'\n",
    "only_headers_false = ' & '.join([f\"`{h}` == False\" for h in headers])\n",
    "criteria = f\"{only_public} & ({only_headers_false})\"\n",
    "create_column(source_df=source_df, analysis_dataframe=analysis_df, column_name='Without Security Headers (Public)', criteria=criteria, columns_to_display=columns_to_display)\n",
    "only_private = 'category == \"Private\"'\n",
    "criteria = f\"{only_private} & ({only_headers_false})\"\n",
    "create_column(source_df=source_df, analysis_dataframe=analysis_df, column_name='Without Security Headers (Private)', criteria=criteria, columns_to_display=columns_to_display)\n",
    "\n",
    "# Column creation with distribution of records with at least one security header by region\n",
    "all_true_filter = ' & '.join([f\"`{h}` == True\" for h in headers])\n",
    "at_least_one_filter = ' | '.join([f\"`{h}` == True\" for h in headers])\n",
    "composite_filter = f\"({at_least_one_filter}) & ~({all_true_filter})\"\n",
    "criteria = f\"{only_public} & ({composite_filter})\"\n",
    "create_column(source_df=source_df, analysis_dataframe=analysis_df, column_name='With At Least One Security Header (Public)', criteria=criteria, columns_to_display=columns_to_display)\n",
    "criteria = f\"{only_private} & ({composite_filter})\"\n",
    "create_column(source_df=source_df, analysis_dataframe=analysis_df, column_name='With At Least One Security Header (Private)', criteria=criteria, columns_to_display=columns_to_display)\n",
    "\n",
    "# Column creation with distribution of records with all security header by region\n",
    "criteria = f\"{only_public} & ({all_true_filter})\"\n",
    "create_column(source_df=source_df, analysis_dataframe=analysis_df, column_name='With All Security Headers (Public)', criteria=criteria, columns_to_display=columns_to_display)\n",
    "criteria = f\"{only_private} & ({all_true_filter})\"\n",
    "create_column(source_df=source_df, analysis_dataframe=analysis_df, column_name='With All Security Headers (Private)', criteria=criteria, columns_to_display=columns_to_display)\n",
    "\n",
    "# Finalize dataframe\n",
    "analysis_df = finalize_dataframe(dataframe=analysis_df, column_to_sort=column_to_sort, ascending=sort_ascending, columns_to_display=columns_to_display)\n",
    "display(analysis_df)\n",
    "\n",
    "# save to csv\n",
    "save_table(analysis_df, category=category, table_name=table_name)\n"
   ],
   "metadata": {
    "collapsed": false,
    "ExecuteTime": {
     "start_time": "2023-08-09T08:24:44.774692200Z"
    }
   }
  },
  {
   "cell_type": "code",
   "execution_count": null,
   "outputs": [],
   "source": [
    "# Report in latex\n",
    "report_results = get_extreme_values(analysis_df)\n",
    "\n",
    "hei_public_without_security_headers = format(report_results.get(\"Total\").get(\"Without Security Headers (Public) %\"), \".2f\")\n",
    "hei_public_with_security_headers = format(report_results.get(\"Total\").get(\"With At Least One Security Header (Public) %\"), \".2f\")\n",
    "hei_public_with_all_security_headers = format(report_results.get(\"Total\").get(\"With All Security Headers (Public) %\"), \".2f\")\n",
    "hei_private_without_security_headers = format(report_results.get(\"Total\").get(\"Without Security Headers (Private) %\"), \".2f\")\n",
    "hei_private_with_security_headers = format(report_results.get(\"Total\").get(\"With At Least One Security Header (Private) %\"), \".2f\")\n",
    "hei_private_with_all_security_headers = format(report_results.get(\"Total\").get(\"With All Security Headers (Private) %\"), \".2f\")\n",
    "\n",
    "report_figure = \"\"\"\n",
    "\\\\begin{figure}[htbp]\n",
    "    \\centering\n",
    "    \\includegraphics[width=0.48\\\\textwidth]{charts/security_headers_by_region.pdf}\n",
    "    \\caption{Distribution of the use Security Headers by region.}\\label{fig:security-headers}\n",
    "\\end{figure}\n",
    "\"\"\"\n",
    "\n",
    "report = f'{report_figure}\\n\\n'\n",
    "report += f'The data presented in Figure~\\\\ref{{fig:security-headers}} provides an overview of the use of security headers at \\glspl{{hei}} in \\countryName. According to the data, {hei_public_without_security_headers}\\% of the public institutions analyzed have not implemented any security headers on their websites, while {hei_private_without_security_headers}\\% of the private institutions analyzed also lack security headers.\\n\\n'\n",
    "report += f'On a positive note, {hei_public_with_security_headers}\\% of the public institutions analyzed have implemented at least one security header in their websites, and {hei_private_with_security_headers}\\% of the private institutions have implemented at least one security header.\\n\\n'\n",
    "report += f'Finally, {hei_public_with_all_security_headers}\\% of the public institutions analyzed have implemented all the security headers in their websites, and {hei_private_with_all_security_headers}\\% of the private institutions have implemented all the security headers.\\n\\n'\n",
    "report += f'In terms of regional differences, private institutions in {report_results.get(\"With At Least One Security Header (Private) %\").get(\"top_regions\")[0][0]} ({format(report_results.get(\"With At Least One Security Header (Private) %\").get(\"top_regions\")[0][1], \".2f\")}\\%), {report_results.get(\"With At Least One Security Header (Private) %\").get(\"top_regions\")[1][0]} ({format(report_results.get(\"With At Least One Security Header (Private) %\").get(\"top_regions\")[1][1], \".2f\")}\\%), and {report_results.get(\"With At Least One Security Header (Private) %\").get(\"top_regions\")[2][0]} ({format(report_results.get(\"With At Least One Security Header (Private) %\").get(\"top_regions\")[2][1], \".2f\")}\\%), '\n",
    "report += f'while public institutions in {report_results.get(\"With At Least One Security Header (Public) %\").get(\"top_regions\")[0][0]} ({format(report_results.get(\"With At Least One Security Header (Public) %\").get(\"top_regions\")[0][1], \".2f\")}\\%), {report_results.get(\"With At Least One Security Header (Public) %\").get(\"top_regions\")[1][0]} ({format(report_results.get(\"With At Least One Security Header (Public) %\").get(\"top_regions\")[1][1], \".2f\")}\\%), and {report_results.get(\"With At Least One Security Header (Public) %\").get(\"top_regions\")[2][0]} ({format(report_results.get(\"With At Least One Security Header (Public) %\").get(\"top_regions\")[2][1], \".2f\")}\\%) have a higher usage of security headers.\\n\\n'\n",
    "report += f'In contrast, private institutions in {report_results.get(\"With At Least One Security Header (Private) %\").get(\"bottom_regions\")[0][0]} ({format(report_results.get(\"With At Least One Security Header (Private) %\").get(\"bottom_regions\")[0][1], \".2f\")}\\%), {report_results.get(\"With At Least One Security Header (Private) %\").get(\"bottom_regions\")[1][0]} ({format(report_results.get(\"With At Least One Security Header (Private) %\").get(\"bottom_regions\")[1][1], \".2f\")}\\%), and {report_results.get(\"With At Least One Security Header (Private) %\").get(\"bottom_regions\")[2][0]} ({format(report_results.get(\"With At Least One Security Header (Private) %\").get(\"bottom_regions\")[2][1], \".2f\")}\\%), '\n",
    "report += f'while public institutions in {report_results.get(\"With At Least One Security Header (Public) %\").get(\"bottom_regions\")[0][0]} ({format(report_results.get(\"With At Least One Security Header (Public) %\").get(\"bottom_regions\")[0][1], \".2f\")}\\%), {report_results.get(\"With At Least One Security Header (Public) %\").get(\"bottom_regions\")[1][0]} ({format(report_results.get(\"With At Least One Security Header (Public) %\").get(\"bottom_regions\")[1][1], \".2f\")}\\%), and {report_results.get(\"With At Least One Security Header (Public) %\").get(\"bottom_regions\")[2][0]} ({format(report_results.get(\"With At Least One Security Headedfddddddddddddddddr (Public) %\").get(\"bottom_regions\")[2][1], \".2f\")}\\%) have a lower usage of security headers.\\n\\n'\n",
    "\n",
    "print(report)\n",
    "\n",
    "# save report to file txt\n",
    "save_report(report=report, category=category, report_name=report_name)"
   ],
   "metadata": {
    "collapsed": false,
    "ExecuteTime": {
     "start_time": "2023-08-09T08:24:44.781698100Z"
    }
   }
  },
  {
   "cell_type": "code",
   "execution_count": null,
   "outputs": [],
   "source": [
    "# specific security headers by region (Pub/Pvt)\n",
    "\n",
    "# settings\n",
    "column_to_sort = 'Without Security Headers %'\n",
    "sort_ascending = True\n",
    "config = [\n",
    "    {'table_name': 'security_headers_by_region_public', 'hei_type': 'Public'},\n",
    "    {'table_name': 'security_headers_by_region_private', 'hei_type': 'Private'}\n",
    "]\n",
    "for config_item in config:\n",
    "    hei_type = config_item['hei_type']\n",
    "    for header in headers:\n",
    "        table_name = f'{header.lower()}_by_region_{hei_type.lower()}'\n",
    "        report_name = f'{header.lower()}_by_region_{hei_type.lower()}'\n",
    "        columns_to_display = [region_column_name, column_name_to_results_global]\n",
    "        analysis_df = get_records_by_region(source_df, hei_type=hei_type)\n",
    "\n",
    "        # Column creation with distribution of records without any security headers by region\n",
    "        only_headers_false = ' & '.join([f\"`{h}` == False\" for h in headers])\n",
    "        criteria = f'category == \"{hei_type}\" & ({only_headers_false})'\n",
    "        create_column(source_df=source_df, analysis_dataframe=analysis_df, column_name='Without Security Headers', criteria=criteria, columns_to_display=columns_to_display)\n",
    "        # Column creation with distribution of records with a specific security header by region\n",
    "        create_column(source_df=source_df, analysis_dataframe=analysis_df, column_name=f\"With {header}\", criteria=f'category == \"{hei_type}\"  & (`{header}` == True)', columns_to_display=columns_to_display)\n",
    "\n",
    "        # Column creation with distribution of records without a specific security header by region\n",
    "        true_at_least_one_header_except_current = ' | '.join([f\"`{h}` == True\" for h in headers if h != header])\n",
    "        criteria = f\"(`{header}` == False) & ({true_at_least_one_header_except_current})\"\n",
    "        create_column(source_df=source_df, analysis_dataframe=analysis_df, column_name=f\"Without {header}\", criteria=f'category == \"{hei_type}\" & {criteria}', columns_to_display=columns_to_display)\n",
    "        display(analysis_df)\n",
    "\n",
    "        # Finalize dataframe\n",
    "        analysis_df = finalize_dataframe(dataframe=analysis_df, column_to_sort=column_to_sort, ascending=sort_ascending, columns_to_display=columns_to_display)\n",
    "        display(analysis_df)\n",
    "        # save to csv\n",
    "        save_table(analysis_df, category=category, table_name=table_name)\n"
   ],
   "metadata": {
    "collapsed": false,
    "ExecuteTime": {
     "end_time": "2023-08-09T08:24:44.797693900Z",
     "start_time": "2023-08-09T08:24:44.787689700Z"
    }
   }
  },
  {
   "cell_type": "code",
   "execution_count": null,
   "outputs": [],
   "source": [
    "# specific security headers by region\n",
    "\n",
    "# settings\n",
    "column_to_sort = 'Without Security Headers (Public) %'\n",
    "sort_ascending = True\n",
    "\n",
    "\n",
    "for header in headers:\n",
    "    table_name = f'{header.lower()}_by_region'\n",
    "    report_name = f'{header.lower()}_by_region'\n",
    "    columns_to_display = [region_column_name, column_name_to_results_global]\n",
    "    analysis_df = get_records_by_region(source_df)\n",
    "\n",
    "    # Column creation with distribution of records without any security headers by region\n",
    "    only_public = 'category == \"Public\"'\n",
    "    only_headers_false = ' & '.join([f\"`{h}` == False\" for h in headers])\n",
    "    criteria = f\"{only_public} & ({only_headers_false})\"\n",
    "    create_column(source_df=source_df, analysis_dataframe=analysis_df, column_name='Without Security Headers (Public)', criteria=criteria, columns_to_display=columns_to_display)\n",
    "    only_private = 'category == \"Private\"'\n",
    "    criteria = f\"{only_private} & ({only_headers_false})\"\n",
    "    create_column(source_df=source_df, analysis_dataframe=analysis_df, column_name='Without Security Headers (Private)', criteria=criteria, columns_to_display=columns_to_display)\n",
    "\n",
    "    # Column creation with distribution of records with a specific security header by region\n",
    "    create_column(source_df=source_df, analysis_dataframe=analysis_df, column_name=f\"With {header} (Public)\", criteria=f\"{only_public} & (`{header}` == True)\", columns_to_display=columns_to_display)\n",
    "    create_column(source_df=source_df, analysis_dataframe=analysis_df, column_name=f\"With {header} (Private)\", criteria=f\"{only_private} & (`{header}` == True)\", columns_to_display=columns_to_display)\n",
    "\n",
    "    # Column creation with distribution of records without a specific security header by region\n",
    "    true_at_least_one_header_except_current = ' | '.join([f\"`{h}` == True\" for h in headers if h != header])\n",
    "    criteria = f\"(`{header}` == False) & ({true_at_least_one_header_except_current})\"\n",
    "    create_column(source_df=source_df, analysis_dataframe=analysis_df, column_name=f\"Without {header} (Public)\", criteria=f\"{only_public} & {criteria}\", columns_to_display=columns_to_display)\n",
    "    create_column(source_df=source_df, analysis_dataframe=analysis_df, column_name=f\"Without {header} (Private)\", criteria=f\"{only_private} & {criteria}\", columns_to_display=columns_to_display)\n",
    "    display(analysis_df)\n",
    "\n",
    "    # Finalize dataframe\n",
    "    analysis_df = finalize_dataframe(dataframe=analysis_df, column_to_sort=column_to_sort, ascending=sort_ascending, columns_to_display=columns_to_display)\n",
    "    display(analysis_df)\n",
    "    # save to csv\n",
    "    save_table(analysis_df, category=category, table_name=table_name)\n",
    "\n",
    "    # save to latex\n",
    "    # report\n",
    "    report_results = get_extreme_values(analysis_df)\n",
    "    hei_private_with_specific_header = format(report_results.get(\"Total\").get(f'With {header} (Private) %'), \".2f\")\n",
    "    hei_private_without_specific_header = format(report_results.get(\"Total\").get(f\"Without {header} (Private) %\"), \".2f\")\n",
    "    hei_public_with_specific_header = format(report_results.get(\"Total\").get(f\"With {header} (Public) %\"), \".2f\")\n",
    "    hei_public_without_specific_header = format(report_results.get(\"Total\").get(f\"Without {header} (Public) %\"), \".2f\")\n",
    "\n",
    "    report_figure = f\"\"\"\n",
    "    \\\\begin{{figure}}[htbp]\n",
    "        \\centering\n",
    "        \\includegraphics[width=0.48\\\\textwidth]{{charts/{table_name}.pdf}}\n",
    "        \\caption{{Distribution of {header} header usage by region.}}\\label{{fig:{header}}}\n",
    "    \\end{{figure}}\n",
    "    \"\"\"\n",
    "\n",
    "    report = f'{report_figure}\\n\\n'\n",
    "    report += f'The data presented in Figure~\\\\ref{{fig:{header}}} provides an overview of the use of {header} security headers at \\glspl{{hei}} in \\countryName. According to the data, {hei_public_without_specific_header}\\% of the public institutions analyzed have not implemented {header} security header on their websites, while {hei_private_without_specific_header}\\% of the private institutions analyzed also lack {header} security header.\\n\\n'\n",
    "    report += f'On a positive note, {hei_public_with_specific_header}\\% of the public institutions analyzed have implemented {header} security headers on their websites, while {hei_private_with_specific_header}\\% of the private institutions analyzed also implemented that security header.\\n\\n'\n",
    "    report += f'In terms of regional differences, private institutions in {report_results.get(f\"With {header} (Private) %\").get(\"top_regions\")[0][0]} ({format(report_results.get(f\"With {header} (Private) %\").get(\"top_regions\")[0][1], \".2f\")}\\%), {report_results.get(f\"With {header} (Private) %\").get(\"top_regions\")[1][0]} ({format(report_results.get(f\"With {header} (Private) %\").get(\"top_regions\")[1][1], \".2f\")}\\%), and {report_results.get(f\"With {header} (Private) %\").get(\"top_regions\")[2][0]} ({format(report_results.get(f\"With {header} (Private) %\").get(\"top_regions\")[2][1], \".2f\")}\\%) have a higher usage of {header} header, '\n",
    "    report += f'while public institutions in {report_results.get(f\"With {header} (Public) %\").get(\"top_regions\")[0][0]} ({format(report_results.get(f\"With {header} (Public) %\").get(\"top_regions\")[0][1], \".2f\")}\\%), {report_results.get(f\"With {header} (Public) %\").get(\"top_regions\")[1][0]} ({format(report_results.get(f\"With {header} (Public) %\").get(\"top_regions\")[1][1], \".2f\")}\\%), and {report_results.get(f\"With {header} (Public) %\").get(\"top_regions\")[2][0]} ({format(report_results.get(f\"With {header} (Public) %\").get(\"top_regions\")[2][1], \".2f\")}\\%) have a higher usage of {header} security header.\\n\\n'\n",
    "    report += f'In contrast, private institutions in {report_results.get(f\"With {header} (Private) %\").get(\"bottom_regions\")[0][0]} ({format(report_results.get(f\"With {header} (Private) %\").get(\"bottom_regions\")[0][1], \".2f\")}\\%), {report_results.get(f\"With {header} (Private) %\").get(\"bottom_regions\")[1][0]} ({format(report_results.get(f\"With {header} (Private) %\").get(\"bottom_regions\")[1][1], \".2f\")}\\%), and {report_results.get(f\"With {header} (Private) %\").get(\"bottom_regions\")[2][0]} ({format(report_results.get(f\"With {header} (Private) %\").get(\"bottom_regions\")[2][1], \".2f\")}\\%), '\n",
    "    report += f'while public institutions in {report_results.get(f\"With {header} (Public) %\").get(\"bottom_regions\")[0][0]} ({format(report_results.get(f\"With {header} (Public) %\").get(\"bottom_regions\")[0][1], \".2f\")}\\%), {report_results.get(f\"With {header} (Public) %\").get(\"bottom_regions\")[1][0]} ({format(report_results.get(f\"With {header} (Public) %\").get(\"bottom_regions\")[1][1], \".2f\")}\\%), and {report_results.get(f\"With {header} (Public) %\").get(\"bottom_regions\")[2][0]} ({format(report_results.get(f\"With {header} (Public) %\").get(\"bottom_regions\")[2][1], \".2f\")}\\%) have a lower usage of security headers.\\n\\n'\n",
    "    # save report to file\n",
    "    print(report)\n",
    "    save_report(report=report, category=category, report_name=report_name)"
   ],
   "metadata": {
    "collapsed": false,
    "ExecuteTime": {
     "start_time": "2023-08-09T08:24:44.793693800Z"
    }
   }
  },
  {
   "cell_type": "code",
   "execution_count": null,
   "outputs": [],
   "source": [],
   "metadata": {
    "collapsed": false,
    "ExecuteTime": {
     "end_time": "2023-08-09T08:24:44.859690100Z",
     "start_time": "2023-08-09T08:24:44.801697800Z"
    }
   }
  }
 ],
 "metadata": {
  "kernelspec": {
   "display_name": "Python 3",
   "language": "python",
   "name": "python3"
  },
  "language_info": {
   "codemirror_mode": {
    "name": "ipython",
    "version": 2
   },
   "file_extension": ".py",
   "mimetype": "text/x-python",
   "name": "python",
   "nbconvert_exporter": "python",
   "pygments_lexer": "ipython2",
   "version": "2.7.6"
  }
 },
 "nbformat": 4,
 "nbformat_minor": 0
}
