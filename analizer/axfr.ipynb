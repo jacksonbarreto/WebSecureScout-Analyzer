{
 "cells": [
  {
   "cell_type": "code",
   "execution_count": 1,
   "metadata": {
    "collapsed": true,
    "ExecuteTime": {
     "end_time": "2023-07-20T07:22:37.877934100Z",
     "start_time": "2023-07-20T07:22:36.598990700Z"
    }
   },
   "outputs": [],
   "source": [
    "from utilities.utilities import load_data, get_records_by_region, create_column, finalize_dataframe, get_extreme_values, create_directory_structure, save_table, save_report, pd, assign_quartile\n",
    "# settings\n",
    "region_column_name = 'Region'\n",
    "table_name = 'axfr_by_region'\n",
    "report_name = 'axfr_by_region'\n",
    "category = 'axfr'\n",
    "column_name_to_results_global = 'Global #'\n",
    "create_directory_structure()\n",
    "\n",
    "source_df = load_data('axfr_checker')"
   ]
  },
  {
   "cell_type": "code",
   "execution_count": 2,
   "outputs": [
    {
     "name": "stdout",
     "output_type": "stream",
     "text": [
      "<class 'pandas.core.frame.DataFrame'>\n",
      "RangeIndex: 458 entries, 0 to 457\n",
      "Data columns (total 8 columns):\n",
      " #   Column            Non-Null Count  Dtype \n",
      "---  ------            --------------  ----- \n",
      " 0   id                458 non-null    int64 \n",
      " 1   region            458 non-null    object\n",
      " 2   name              458 non-null    object\n",
      " 3   category          458 non-null    object\n",
      " 4   url               458 non-null    object\n",
      " 5   axfr_domain       458 non-null    object\n",
      " 6   axfr_nameservers  458 non-null    object\n",
      " 7   has_axfr          457 non-null    object\n",
      "dtypes: int64(1), object(7)\n",
      "memory usage: 28.8+ KB\n"
     ]
    }
   ],
   "source": [
    "source_df.info()"
   ],
   "metadata": {
    "collapsed": false,
    "ExecuteTime": {
     "end_time": "2023-07-20T07:22:42.647663300Z",
     "start_time": "2023-07-20T07:22:42.610668800Z"
    }
   }
  },
  {
   "cell_type": "code",
   "execution_count": 3,
   "outputs": [],
   "source": [
    "# sanity dataset\n",
    "columns_names = ['has_axfr']\n",
    "for column in columns_names:\n",
    "    source_df.loc[source_df[column].isna(), column] = False"
   ],
   "metadata": {
    "collapsed": false,
    "ExecuteTime": {
     "end_time": "2023-07-20T07:22:43.612911500Z",
     "start_time": "2023-07-20T07:22:43.590911200Z"
    }
   }
  },
  {
   "cell_type": "code",
   "execution_count": 4,
   "outputs": [
    {
     "data": {
      "text/plain": "                    Region  Global #  Without axfr #  Without axfr %  \\\n0              Brandenburg        10               9       90.000000   \n1          Rheinland-Pfalz        15              14       93.333333   \n2      Nordrhein-Westfalen        42              40       95.238095   \n3                   Bayern        34              33       97.058824   \n4        Baden-Württemberg        48              48      100.000000   \n5                   Berlin        12              12      100.000000   \n6                   Bremen         5               5      100.000000   \n7                  Hamburg        10              10      100.000000   \n8                   Hessen        22              22      100.000000   \n9   Mecklenburg-Vorpommern         7               7      100.000000   \n10           Niedersachsen        21              21      100.000000   \n11                Saarland         5               5      100.000000   \n12                 Sachsen        23              23      100.000000   \n13          Sachsen-Anhalt         8               8      100.000000   \n14      Schleswig-Holstein        10              10      100.000000   \n15               Thüringen        11              11      100.000000   \n16                   Total       283             278       98.233216   \n\n    With axfr #  With axfr %  \n0             1    10.000000  \n1             1     6.666667  \n2             2     4.761905  \n3             1     2.941176  \n4             0     0.000000  \n5             0     0.000000  \n6             0     0.000000  \n7             0     0.000000  \n8             0     0.000000  \n9             0     0.000000  \n10            0     0.000000  \n11            0     0.000000  \n12            0     0.000000  \n13            0     0.000000  \n14            0     0.000000  \n15            0     0.000000  \n16            5     1.766784  ",
      "text/html": "<div>\n<style scoped>\n    .dataframe tbody tr th:only-of-type {\n        vertical-align: middle;\n    }\n\n    .dataframe tbody tr th {\n        vertical-align: top;\n    }\n\n    .dataframe thead th {\n        text-align: right;\n    }\n</style>\n<table border=\"1\" class=\"dataframe\">\n  <thead>\n    <tr style=\"text-align: right;\">\n      <th></th>\n      <th>Region</th>\n      <th>Global #</th>\n      <th>Without axfr #</th>\n      <th>Without axfr %</th>\n      <th>With axfr #</th>\n      <th>With axfr %</th>\n    </tr>\n  </thead>\n  <tbody>\n    <tr>\n      <th>0</th>\n      <td>Brandenburg</td>\n      <td>10</td>\n      <td>9</td>\n      <td>90.000000</td>\n      <td>1</td>\n      <td>10.000000</td>\n    </tr>\n    <tr>\n      <th>1</th>\n      <td>Rheinland-Pfalz</td>\n      <td>15</td>\n      <td>14</td>\n      <td>93.333333</td>\n      <td>1</td>\n      <td>6.666667</td>\n    </tr>\n    <tr>\n      <th>2</th>\n      <td>Nordrhein-Westfalen</td>\n      <td>42</td>\n      <td>40</td>\n      <td>95.238095</td>\n      <td>2</td>\n      <td>4.761905</td>\n    </tr>\n    <tr>\n      <th>3</th>\n      <td>Bayern</td>\n      <td>34</td>\n      <td>33</td>\n      <td>97.058824</td>\n      <td>1</td>\n      <td>2.941176</td>\n    </tr>\n    <tr>\n      <th>4</th>\n      <td>Baden-Württemberg</td>\n      <td>48</td>\n      <td>48</td>\n      <td>100.000000</td>\n      <td>0</td>\n      <td>0.000000</td>\n    </tr>\n    <tr>\n      <th>5</th>\n      <td>Berlin</td>\n      <td>12</td>\n      <td>12</td>\n      <td>100.000000</td>\n      <td>0</td>\n      <td>0.000000</td>\n    </tr>\n    <tr>\n      <th>6</th>\n      <td>Bremen</td>\n      <td>5</td>\n      <td>5</td>\n      <td>100.000000</td>\n      <td>0</td>\n      <td>0.000000</td>\n    </tr>\n    <tr>\n      <th>7</th>\n      <td>Hamburg</td>\n      <td>10</td>\n      <td>10</td>\n      <td>100.000000</td>\n      <td>0</td>\n      <td>0.000000</td>\n    </tr>\n    <tr>\n      <th>8</th>\n      <td>Hessen</td>\n      <td>22</td>\n      <td>22</td>\n      <td>100.000000</td>\n      <td>0</td>\n      <td>0.000000</td>\n    </tr>\n    <tr>\n      <th>9</th>\n      <td>Mecklenburg-Vorpommern</td>\n      <td>7</td>\n      <td>7</td>\n      <td>100.000000</td>\n      <td>0</td>\n      <td>0.000000</td>\n    </tr>\n    <tr>\n      <th>10</th>\n      <td>Niedersachsen</td>\n      <td>21</td>\n      <td>21</td>\n      <td>100.000000</td>\n      <td>0</td>\n      <td>0.000000</td>\n    </tr>\n    <tr>\n      <th>11</th>\n      <td>Saarland</td>\n      <td>5</td>\n      <td>5</td>\n      <td>100.000000</td>\n      <td>0</td>\n      <td>0.000000</td>\n    </tr>\n    <tr>\n      <th>12</th>\n      <td>Sachsen</td>\n      <td>23</td>\n      <td>23</td>\n      <td>100.000000</td>\n      <td>0</td>\n      <td>0.000000</td>\n    </tr>\n    <tr>\n      <th>13</th>\n      <td>Sachsen-Anhalt</td>\n      <td>8</td>\n      <td>8</td>\n      <td>100.000000</td>\n      <td>0</td>\n      <td>0.000000</td>\n    </tr>\n    <tr>\n      <th>14</th>\n      <td>Schleswig-Holstein</td>\n      <td>10</td>\n      <td>10</td>\n      <td>100.000000</td>\n      <td>0</td>\n      <td>0.000000</td>\n    </tr>\n    <tr>\n      <th>15</th>\n      <td>Thüringen</td>\n      <td>11</td>\n      <td>11</td>\n      <td>100.000000</td>\n      <td>0</td>\n      <td>0.000000</td>\n    </tr>\n    <tr>\n      <th>16</th>\n      <td>Total</td>\n      <td>283</td>\n      <td>278</td>\n      <td>98.233216</td>\n      <td>5</td>\n      <td>1.766784</td>\n    </tr>\n  </tbody>\n</table>\n</div>"
     },
     "metadata": {},
     "output_type": "display_data"
    },
    {
     "data": {
      "text/plain": "                 Region  Global #  Without axfr #  Without axfr %  \\\n0                Bremen         2               1       50.000000   \n1     Baden-Württemberg        24              23       95.833333   \n2   Nordrhein-Westfalen        25              24       96.000000   \n3                Berlin        28              27       96.428571   \n4                Bayern        12              12      100.000000   \n5           Brandenburg         9               9      100.000000   \n6               Hamburg        11              11      100.000000   \n7                Hessen        23              23      100.000000   \n8         Niedersachsen        16              16      100.000000   \n9       Rheinland-Pfalz         6               6      100.000000   \n10             Saarland         5               5      100.000000   \n11              Sachsen         7               7      100.000000   \n12       Sachsen-Anhalt         2               2      100.000000   \n13   Schleswig-Holstein         3               3      100.000000   \n14            Thüringen         2               2      100.000000   \n15                Total       175             171       97.714286   \n\n    With axfr #  With axfr %  \n0             1    50.000000  \n1             1     4.166667  \n2             1     4.000000  \n3             1     3.571429  \n4             0     0.000000  \n5             0     0.000000  \n6             0     0.000000  \n7             0     0.000000  \n8             0     0.000000  \n9             0     0.000000  \n10            0     0.000000  \n11            0     0.000000  \n12            0     0.000000  \n13            0     0.000000  \n14            0     0.000000  \n15            4     2.285714  ",
      "text/html": "<div>\n<style scoped>\n    .dataframe tbody tr th:only-of-type {\n        vertical-align: middle;\n    }\n\n    .dataframe tbody tr th {\n        vertical-align: top;\n    }\n\n    .dataframe thead th {\n        text-align: right;\n    }\n</style>\n<table border=\"1\" class=\"dataframe\">\n  <thead>\n    <tr style=\"text-align: right;\">\n      <th></th>\n      <th>Region</th>\n      <th>Global #</th>\n      <th>Without axfr #</th>\n      <th>Without axfr %</th>\n      <th>With axfr #</th>\n      <th>With axfr %</th>\n    </tr>\n  </thead>\n  <tbody>\n    <tr>\n      <th>0</th>\n      <td>Bremen</td>\n      <td>2</td>\n      <td>1</td>\n      <td>50.000000</td>\n      <td>1</td>\n      <td>50.000000</td>\n    </tr>\n    <tr>\n      <th>1</th>\n      <td>Baden-Württemberg</td>\n      <td>24</td>\n      <td>23</td>\n      <td>95.833333</td>\n      <td>1</td>\n      <td>4.166667</td>\n    </tr>\n    <tr>\n      <th>2</th>\n      <td>Nordrhein-Westfalen</td>\n      <td>25</td>\n      <td>24</td>\n      <td>96.000000</td>\n      <td>1</td>\n      <td>4.000000</td>\n    </tr>\n    <tr>\n      <th>3</th>\n      <td>Berlin</td>\n      <td>28</td>\n      <td>27</td>\n      <td>96.428571</td>\n      <td>1</td>\n      <td>3.571429</td>\n    </tr>\n    <tr>\n      <th>4</th>\n      <td>Bayern</td>\n      <td>12</td>\n      <td>12</td>\n      <td>100.000000</td>\n      <td>0</td>\n      <td>0.000000</td>\n    </tr>\n    <tr>\n      <th>5</th>\n      <td>Brandenburg</td>\n      <td>9</td>\n      <td>9</td>\n      <td>100.000000</td>\n      <td>0</td>\n      <td>0.000000</td>\n    </tr>\n    <tr>\n      <th>6</th>\n      <td>Hamburg</td>\n      <td>11</td>\n      <td>11</td>\n      <td>100.000000</td>\n      <td>0</td>\n      <td>0.000000</td>\n    </tr>\n    <tr>\n      <th>7</th>\n      <td>Hessen</td>\n      <td>23</td>\n      <td>23</td>\n      <td>100.000000</td>\n      <td>0</td>\n      <td>0.000000</td>\n    </tr>\n    <tr>\n      <th>8</th>\n      <td>Niedersachsen</td>\n      <td>16</td>\n      <td>16</td>\n      <td>100.000000</td>\n      <td>0</td>\n      <td>0.000000</td>\n    </tr>\n    <tr>\n      <th>9</th>\n      <td>Rheinland-Pfalz</td>\n      <td>6</td>\n      <td>6</td>\n      <td>100.000000</td>\n      <td>0</td>\n      <td>0.000000</td>\n    </tr>\n    <tr>\n      <th>10</th>\n      <td>Saarland</td>\n      <td>5</td>\n      <td>5</td>\n      <td>100.000000</td>\n      <td>0</td>\n      <td>0.000000</td>\n    </tr>\n    <tr>\n      <th>11</th>\n      <td>Sachsen</td>\n      <td>7</td>\n      <td>7</td>\n      <td>100.000000</td>\n      <td>0</td>\n      <td>0.000000</td>\n    </tr>\n    <tr>\n      <th>12</th>\n      <td>Sachsen-Anhalt</td>\n      <td>2</td>\n      <td>2</td>\n      <td>100.000000</td>\n      <td>0</td>\n      <td>0.000000</td>\n    </tr>\n    <tr>\n      <th>13</th>\n      <td>Schleswig-Holstein</td>\n      <td>3</td>\n      <td>3</td>\n      <td>100.000000</td>\n      <td>0</td>\n      <td>0.000000</td>\n    </tr>\n    <tr>\n      <th>14</th>\n      <td>Thüringen</td>\n      <td>2</td>\n      <td>2</td>\n      <td>100.000000</td>\n      <td>0</td>\n      <td>0.000000</td>\n    </tr>\n    <tr>\n      <th>15</th>\n      <td>Total</td>\n      <td>175</td>\n      <td>171</td>\n      <td>97.714286</td>\n      <td>4</td>\n      <td>2.285714</td>\n    </tr>\n  </tbody>\n</table>\n</div>"
     },
     "metadata": {},
     "output_type": "display_data"
    }
   ],
   "source": [
    "# Analyze of HEIs with DNSSEC enabled by region (Pub/Pvt)\n",
    "\n",
    "\n",
    "# settings\n",
    "column_to_sort = 'Without axfr %'\n",
    "sort_ascending = True\n",
    "config = [\n",
    "    {'table_name': 'axfr_by_region_public', 'hei_type': 'Public'},\n",
    "    {'table_name': 'axfr_by_region_private', 'hei_type': 'Private'}\n",
    "]\n",
    "dfs = []\n",
    "for config_item in config:\n",
    "    table_name = config_item['table_name']\n",
    "    hei_type = config_item['hei_type']\n",
    "    columns_to_display = [region_column_name.title(), column_name_to_results_global]\n",
    "    analysis_df = get_records_by_region(source_df, hei_type=hei_type)\n",
    "    # create columns\n",
    "    # Column creation with distribution of records without DNSSEC by region\n",
    "    create_column(source_df=source_df, analysis_dataframe=analysis_df, column_name='Without axfr', criteria=f'has_axfr == False & category == \"{hei_type}\"', columns_to_display=columns_to_display)\n",
    "    # Column creation with distribution of records with invalid dnssec by region\n",
    "    create_column(source_df=source_df, analysis_dataframe=analysis_df, column_name='With axfr', criteria=f'has_axfr == True & category == \"{hei_type}\"', columns_to_display=columns_to_display)\n",
    "\n",
    "    # Finalize dataframe\n",
    "    analysis_df = finalize_dataframe(dataframe=analysis_df, column_to_sort=column_to_sort, ascending=sort_ascending, columns_to_display=columns_to_display)\n",
    "    display(analysis_df)\n",
    "    dfs.append(analysis_df)\n",
    "    # save to csv\n",
    "    save_table(analysis_df, category=category, table_name=table_name)\n",
    "\n",
    "df_public = dfs[0].add_suffix('(pub)')\n",
    "df_private = dfs[1].add_suffix('(pvt)')\n",
    "df_public = df_public.rename(columns={'Region(pub)': 'Region'})\n",
    "df_private = df_private.rename(columns={'Region(pvt)': 'Region'})\n",
    "df_combined = df_public.merge(df_private, on='Region', how='outer')\n",
    "df_combined.fillna(0, inplace=True)\n",
    "# remove columns with # in the name\n",
    "df_combined = df_combined.loc[:, ~df_combined.columns.str.contains('#')]\n",
    "#remove columns global\n",
    "df_combined = df_combined.loc[:, ~df_combined.columns.str.contains('Global')]\n",
    "# remove '%' from name of columns\n",
    "df_combined.columns = df_combined.columns.str.replace('%', '')\n",
    "\n",
    "ranks_columns = ['Rank']\n",
    "#add column with sum of best columns\n",
    "df_combined[ranks_columns[0]] = df_combined['With axfr (pub)'] + df_combined['With axfr (pvt)']\n",
    "\n",
    "\n",
    "\n",
    "#order dataframe by column Rank (from highest to lowest)\n",
    "df_combined = df_combined.sort_values(by=ranks_columns, ascending=False)\n",
    "# move just row with 'Total' in column Region to the end of the dataframe. (Use pandas.concat instead of append to avoid duplicates)\n",
    "df_combined = pd.concat([df_combined[df_combined['Region'] != 'Total'], df_combined[df_combined['Region'] == 'Total']])\n",
    "# reset index\n",
    "df_combined.reset_index(drop=True, inplace=True)\n",
    "# remove column Rank\n",
    "df_combined.drop(columns=ranks_columns, inplace=True)\n",
    "#Add a column with the quartile corresponding to the position of the row, that is, considering the total of records -1 (to exclude the total row), if a row is in position 2 it should belong to the first quartile.\n",
    "df_combined['Quartile'] = df_combined.index.map(lambda rank: assign_quartile(rank, len(df_combined)-1))\n",
    "# moved column 'Quartile' to the second position\n",
    "cols = list(df_combined.columns)\n",
    "cols = [cols[0]] + [cols[-1]] + cols[1:-1]\n",
    "df_combined = df_combined[cols]\n",
    "\n",
    "\n",
    "save_table(df_combined, category=category, table_name='axfr_by_region_combined')"
   ],
   "metadata": {
    "collapsed": false,
    "ExecuteTime": {
     "end_time": "2023-07-20T07:22:52.117319Z",
     "start_time": "2023-07-20T07:22:51.785327700Z"
    }
   }
  },
  {
   "cell_type": "code",
   "execution_count": null,
   "outputs": [],
   "source": [],
   "metadata": {
    "collapsed": false
   }
  }
 ],
 "metadata": {
  "kernelspec": {
   "display_name": "Python 3",
   "language": "python",
   "name": "python3"
  },
  "language_info": {
   "codemirror_mode": {
    "name": "ipython",
    "version": 2
   },
   "file_extension": ".py",
   "mimetype": "text/x-python",
   "name": "python",
   "nbconvert_exporter": "python",
   "pygments_lexer": "ipython2",
   "version": "2.7.6"
  }
 },
 "nbformat": 4,
 "nbformat_minor": 0
}
