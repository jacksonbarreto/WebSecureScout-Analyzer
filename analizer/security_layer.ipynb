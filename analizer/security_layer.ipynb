{
 "cells": [
  {
   "cell_type": "code",
   "execution_count": 50,
   "metadata": {
    "collapsed": true
   },
   "outputs": [],
   "source": [
    "from utilities.utilities import load_data, get_records_by_region, create_column, finalize_dataframe, save_string_to_file, get_extreme_values, create_directory_structure, save_table, save_report\n",
    "# settings\n",
    "region_column_name = 'Region'\n",
    "\n",
    "category = 'security_layer'\n",
    "column_name_to_results_global = 'Global #'\n",
    "create_directory_structure()\n",
    "\n",
    "\n",
    "\n",
    "source_df = load_data('security_layer_checker')"
   ]
  },
  {
   "cell_type": "code",
   "execution_count": 51,
   "outputs": [],
   "source": [
    "# sanity dataset"
   ],
   "metadata": {
    "collapsed": false
   }
  },
  {
   "cell_type": "code",
   "execution_count": 52,
   "outputs": [
    {
     "data": {
      "text/plain": "       Region  Global #  Without Ssl (Public) #  Without Ssl (Public) %  \\\n0  California         2                       0                     0.0   \n1    Colorado         1                       0                     0.0   \n2     Florida         1                       0                     0.0   \n3     Georgia         1                       0                     0.0   \n4    Michigan         1                       0                     0.0   \n5   Minnesota         1                       0                     0.0   \n6    New York         1                       0                     0.0   \n7       Texas         2                       0                     0.0   \n8       Total        10                       0                     0.0   \n\n   Without Ssl (Private) #  Without Ssl (Private) %  256 (Ecc) (Public) #  \\\n0                        0                      0.0                     0   \n1                        0                      0.0                     0   \n2                        0                      0.0                     0   \n3                        0                      0.0                     0   \n4                        0                      0.0                     0   \n5                        0                      0.0                     0   \n6                        0                      0.0                     0   \n7                        0                      0.0                     0   \n8                        0                      0.0                     0   \n\n   256 (Ecc) (Public) %  256 (Ecc) (Private) #  256 (Ecc) (Private) %  ...  \\\n0                   0.0                      0                    0.0  ...   \n1                   0.0                      0                    0.0  ...   \n2                   0.0                      0                    0.0  ...   \n3                   0.0                      0                    0.0  ...   \n4                   0.0                      0                    0.0  ...   \n5                   0.0                      0                    0.0  ...   \n6                   0.0                      0                    0.0  ...   \n7                   0.0                      0                    0.0  ...   \n8                   0.0                      0                    0.0  ...   \n\n   2048 (Rsa) (Private) #  2048 (Rsa) (Private) %  3072 (Rsa) (Public) #  \\\n0                       2                   100.0                      0   \n1                       0                     0.0                      0   \n2                       1                   100.0                      0   \n3                       1                   100.0                      0   \n4                       1                   100.0                      0   \n5                       1                   100.0                      0   \n6                       0                     0.0                      0   \n7                       2                   100.0                      0   \n8                       8                    80.0                      0   \n\n   3072 (Rsa) (Public) %  3072 (Rsa) (Private) #  3072 (Rsa) (Private) %  \\\n0                    0.0                       0                     0.0   \n1                    0.0                       0                     0.0   \n2                    0.0                       0                     0.0   \n3                    0.0                       0                     0.0   \n4                    0.0                       0                     0.0   \n5                    0.0                       0                     0.0   \n6                    0.0                       0                     0.0   \n7                    0.0                       0                     0.0   \n8                    0.0                       0                     0.0   \n\n   4096 (Rsa) (Public) #  4096 (Rsa) (Public) %  4096 (Rsa) (Private) #  \\\n0                      0                    0.0                       0   \n1                      0                    0.0                       0   \n2                      0                    0.0                       0   \n3                      0                    0.0                       0   \n4                      0                    0.0                       0   \n5                      0                    0.0                       0   \n6                      0                    0.0                       1   \n7                      0                    0.0                       0   \n8                      0                    0.0                       1   \n\n   4096 (Rsa) (Private) %  \n0                     0.0  \n1                     0.0  \n2                     0.0  \n3                     0.0  \n4                     0.0  \n5                     0.0  \n6                   100.0  \n7                     0.0  \n8                    10.0  \n\n[9 rows x 30 columns]",
      "text/html": "<div>\n<style scoped>\n    .dataframe tbody tr th:only-of-type {\n        vertical-align: middle;\n    }\n\n    .dataframe tbody tr th {\n        vertical-align: top;\n    }\n\n    .dataframe thead th {\n        text-align: right;\n    }\n</style>\n<table border=\"1\" class=\"dataframe\">\n  <thead>\n    <tr style=\"text-align: right;\">\n      <th></th>\n      <th>Region</th>\n      <th>Global #</th>\n      <th>Without Ssl (Public) #</th>\n      <th>Without Ssl (Public) %</th>\n      <th>Without Ssl (Private) #</th>\n      <th>Without Ssl (Private) %</th>\n      <th>256 (Ecc) (Public) #</th>\n      <th>256 (Ecc) (Public) %</th>\n      <th>256 (Ecc) (Private) #</th>\n      <th>256 (Ecc) (Private) %</th>\n      <th>...</th>\n      <th>2048 (Rsa) (Private) #</th>\n      <th>2048 (Rsa) (Private) %</th>\n      <th>3072 (Rsa) (Public) #</th>\n      <th>3072 (Rsa) (Public) %</th>\n      <th>3072 (Rsa) (Private) #</th>\n      <th>3072 (Rsa) (Private) %</th>\n      <th>4096 (Rsa) (Public) #</th>\n      <th>4096 (Rsa) (Public) %</th>\n      <th>4096 (Rsa) (Private) #</th>\n      <th>4096 (Rsa) (Private) %</th>\n    </tr>\n  </thead>\n  <tbody>\n    <tr>\n      <th>0</th>\n      <td>California</td>\n      <td>2</td>\n      <td>0</td>\n      <td>0.0</td>\n      <td>0</td>\n      <td>0.0</td>\n      <td>0</td>\n      <td>0.0</td>\n      <td>0</td>\n      <td>0.0</td>\n      <td>...</td>\n      <td>2</td>\n      <td>100.0</td>\n      <td>0</td>\n      <td>0.0</td>\n      <td>0</td>\n      <td>0.0</td>\n      <td>0</td>\n      <td>0.0</td>\n      <td>0</td>\n      <td>0.0</td>\n    </tr>\n    <tr>\n      <th>1</th>\n      <td>Colorado</td>\n      <td>1</td>\n      <td>0</td>\n      <td>0.0</td>\n      <td>0</td>\n      <td>0.0</td>\n      <td>0</td>\n      <td>0.0</td>\n      <td>0</td>\n      <td>0.0</td>\n      <td>...</td>\n      <td>0</td>\n      <td>0.0</td>\n      <td>0</td>\n      <td>0.0</td>\n      <td>0</td>\n      <td>0.0</td>\n      <td>0</td>\n      <td>0.0</td>\n      <td>0</td>\n      <td>0.0</td>\n    </tr>\n    <tr>\n      <th>2</th>\n      <td>Florida</td>\n      <td>1</td>\n      <td>0</td>\n      <td>0.0</td>\n      <td>0</td>\n      <td>0.0</td>\n      <td>0</td>\n      <td>0.0</td>\n      <td>0</td>\n      <td>0.0</td>\n      <td>...</td>\n      <td>1</td>\n      <td>100.0</td>\n      <td>0</td>\n      <td>0.0</td>\n      <td>0</td>\n      <td>0.0</td>\n      <td>0</td>\n      <td>0.0</td>\n      <td>0</td>\n      <td>0.0</td>\n    </tr>\n    <tr>\n      <th>3</th>\n      <td>Georgia</td>\n      <td>1</td>\n      <td>0</td>\n      <td>0.0</td>\n      <td>0</td>\n      <td>0.0</td>\n      <td>0</td>\n      <td>0.0</td>\n      <td>0</td>\n      <td>0.0</td>\n      <td>...</td>\n      <td>1</td>\n      <td>100.0</td>\n      <td>0</td>\n      <td>0.0</td>\n      <td>0</td>\n      <td>0.0</td>\n      <td>0</td>\n      <td>0.0</td>\n      <td>0</td>\n      <td>0.0</td>\n    </tr>\n    <tr>\n      <th>4</th>\n      <td>Michigan</td>\n      <td>1</td>\n      <td>0</td>\n      <td>0.0</td>\n      <td>0</td>\n      <td>0.0</td>\n      <td>0</td>\n      <td>0.0</td>\n      <td>0</td>\n      <td>0.0</td>\n      <td>...</td>\n      <td>1</td>\n      <td>100.0</td>\n      <td>0</td>\n      <td>0.0</td>\n      <td>0</td>\n      <td>0.0</td>\n      <td>0</td>\n      <td>0.0</td>\n      <td>0</td>\n      <td>0.0</td>\n    </tr>\n    <tr>\n      <th>5</th>\n      <td>Minnesota</td>\n      <td>1</td>\n      <td>0</td>\n      <td>0.0</td>\n      <td>0</td>\n      <td>0.0</td>\n      <td>0</td>\n      <td>0.0</td>\n      <td>0</td>\n      <td>0.0</td>\n      <td>...</td>\n      <td>1</td>\n      <td>100.0</td>\n      <td>0</td>\n      <td>0.0</td>\n      <td>0</td>\n      <td>0.0</td>\n      <td>0</td>\n      <td>0.0</td>\n      <td>0</td>\n      <td>0.0</td>\n    </tr>\n    <tr>\n      <th>6</th>\n      <td>New York</td>\n      <td>1</td>\n      <td>0</td>\n      <td>0.0</td>\n      <td>0</td>\n      <td>0.0</td>\n      <td>0</td>\n      <td>0.0</td>\n      <td>0</td>\n      <td>0.0</td>\n      <td>...</td>\n      <td>0</td>\n      <td>0.0</td>\n      <td>0</td>\n      <td>0.0</td>\n      <td>0</td>\n      <td>0.0</td>\n      <td>0</td>\n      <td>0.0</td>\n      <td>1</td>\n      <td>100.0</td>\n    </tr>\n    <tr>\n      <th>7</th>\n      <td>Texas</td>\n      <td>2</td>\n      <td>0</td>\n      <td>0.0</td>\n      <td>0</td>\n      <td>0.0</td>\n      <td>0</td>\n      <td>0.0</td>\n      <td>0</td>\n      <td>0.0</td>\n      <td>...</td>\n      <td>2</td>\n      <td>100.0</td>\n      <td>0</td>\n      <td>0.0</td>\n      <td>0</td>\n      <td>0.0</td>\n      <td>0</td>\n      <td>0.0</td>\n      <td>0</td>\n      <td>0.0</td>\n    </tr>\n    <tr>\n      <th>8</th>\n      <td>Total</td>\n      <td>10</td>\n      <td>0</td>\n      <td>0.0</td>\n      <td>0</td>\n      <td>0.0</td>\n      <td>0</td>\n      <td>0.0</td>\n      <td>0</td>\n      <td>0.0</td>\n      <td>...</td>\n      <td>8</td>\n      <td>80.0</td>\n      <td>0</td>\n      <td>0.0</td>\n      <td>0</td>\n      <td>0.0</td>\n      <td>0</td>\n      <td>0.0</td>\n      <td>1</td>\n      <td>10.0</td>\n    </tr>\n  </tbody>\n</table>\n<p>9 rows × 30 columns</p>\n</div>"
     },
     "metadata": {},
     "output_type": "display_data"
    }
   ],
   "source": [
    "# Analyze of key length by region\n",
    "\n",
    "# settings\n",
    "column_to_sort = 'Without SSL (Public) %'\n",
    "sort_ascending = False\n",
    "table_name = 'key_length_by_region'\n",
    "\n",
    "columns_to_display = [region_column_name.title(), column_name_to_results_global]\n",
    "analysis_df = get_records_by_region(source_df)\n",
    "\n",
    "# create columns\n",
    "# Column creation with distribution of records without SSL by region\n",
    "only_public = 'category == \"Public\"'\n",
    "only_private = 'category == \"Private\"'\n",
    "create_column(source_df=source_df, analysis_dataframe=analysis_df, column_name='Without SSL (Public)', criteria=f'grade == \"M\" & {only_public}', columns_to_display=columns_to_display)\n",
    "create_column(source_df=source_df, analysis_dataframe=analysis_df, column_name='Without SSL (Private)', criteria=f'grade == \"M\" & {only_private}', columns_to_display=columns_to_display)\n",
    "# Creating column with the distribution of Key Length by region\n",
    "key_lengths = [256, 384, 1024, 2048, 3072, 4096]\n",
    "for key_length in key_lengths:\n",
    "    algorithm = 'RSA' if key_length >= 1024 else 'ECC'\n",
    "    create_column(source_df=source_df, analysis_dataframe=analysis_df, column_name=f'{key_length} ({algorithm}) (Public)', criteria=f'grade != \"M\" & key_size == {key_length} & {only_public}', columns_to_display=columns_to_display)\n",
    "    create_column(source_df=source_df, analysis_dataframe=analysis_df, column_name=f'{key_length} ({algorithm}) (Private)', criteria=f'grade != \"M\" & key_size == {key_length} & {only_private}', columns_to_display=columns_to_display)\n",
    "\n",
    "\n",
    "# Finalize dataframe\n",
    "analysis_df = finalize_dataframe(dataframe=analysis_df, column_to_sort=column_to_sort, ascending=sort_ascending, columns_to_display=columns_to_display)\n",
    "display(analysis_df)\n",
    "\n",
    "# save to csv\n",
    "save_table(analysis_df, category=category, table_name=table_name)"
   ],
   "metadata": {
    "collapsed": false
   }
  },
  {
   "cell_type": "code",
   "execution_count": 53,
   "outputs": [
    {
     "name": "stdout",
     "output_type": "stream",
     "text": [
      "\n",
      "\\begin{figure}[htbp]\n",
      "    \\centering\n",
      "    \\includegraphics[width=0.48\\textwidth]{charts/key_length_by_region.pdf}\n",
      "    \\caption{Distribution of the length of \\gls{ssl}/\\gls{tls} digital certificate signing keys.}\\label{fig:key-length}\n",
      "\\end{figure}\n",
      "\n",
      "\n",
      "\n",
      "Fig.~\\ref{fig:key-length} presents an overview of the length of \\gls{ssl}/\\gls{tls} digital certificate signing keys at \\glspl{hei} in \\countryName.\n",
      "\n",
      "According to the data, in analyzed public institutions, 0.00\\% use 256 bits keys, 0.00\\% use 384 bits keys, 0.00\\% use 1024 bits keys, 10.00\\% use 2048 bits keys, 0.00\\% use 3072 bits keys, 0.00\\% use 4096 bits keys, and in analyzed private institutions, 0.00\\% use 256 bits keys, 0.00\\% use 384 bits keys, 0.00\\% use 1024 bits keys, 80.00\\% use 2048 bits keys, 0.00\\% use 3072 bits keys, 10.00\\% use 4096 bits keys, respectively. In terms of regional differences:\n",
      "private institutions in California (0.00\\%), Colorado (0.00\\%), and Florida (0.00\\%) use 256 bits keys the most often, while in California (0.00\\%), Colorado (0.00\\%), and Florida (0.00\\%) use 256 bits keys the least often.\n",
      "\n",
      "In terms of public institutions, California (0.00\\%), Colorado (0.00\\%), and Florida (0.00\\%) use 256 bits keys the most often, while in California (0.00\\%), Colorado (0.00\\%), and Florida (0.00\\%) use 256 bits keys the least often.\n",
      "\n",
      "private institutions in California (0.00\\%), Colorado (0.00\\%), and Florida (0.00\\%) use 384 bits keys the most often, while in California (0.00\\%), Colorado (0.00\\%), and Florida (0.00\\%) use 384 bits keys the least often.\n",
      "\n",
      "In terms of public institutions, California (0.00\\%), Colorado (0.00\\%), and Florida (0.00\\%) use 384 bits keys the most often, while in California (0.00\\%), Colorado (0.00\\%), and Florida (0.00\\%) use 384 bits keys the least often.\n",
      "\n",
      "private institutions in California (0.00\\%), Colorado (0.00\\%), and Florida (0.00\\%) use 1024 bits keys the most often, while in California (0.00\\%), Colorado (0.00\\%), and Florida (0.00\\%) use 1024 bits keys the least often.\n",
      "\n",
      "In terms of public institutions, California (0.00\\%), Colorado (0.00\\%), and Florida (0.00\\%) use 1024 bits keys the most often, while in California (0.00\\%), Colorado (0.00\\%), and Florida (0.00\\%) use 1024 bits keys the least often.\n",
      "\n",
      "private institutions in California (100.00\\%), Florida (100.00\\%), and Georgia (100.00\\%) use 2048 bits keys the most often, while in Colorado (0.00\\%), New York (0.00\\%), and California (100.00\\%) use 2048 bits keys the least often.\n",
      "\n",
      "In terms of public institutions, Colorado (100.00\\%), California (0.00\\%), and Florida (0.00\\%) use 2048 bits keys the most often, while in California (0.00\\%), Florida (0.00\\%), and Georgia (0.00\\%) use 2048 bits keys the least often.\n",
      "\n",
      "private institutions in California (0.00\\%), Colorado (0.00\\%), and Florida (0.00\\%) use 3072 bits keys the most often, while in California (0.00\\%), Colorado (0.00\\%), and Florida (0.00\\%) use 3072 bits keys the least often.\n",
      "\n",
      "In terms of public institutions, California (0.00\\%), Colorado (0.00\\%), and Florida (0.00\\%) use 3072 bits keys the most often, while in California (0.00\\%), Colorado (0.00\\%), and Florida (0.00\\%) use 3072 bits keys the least often.\n",
      "\n",
      "private institutions in New York (100.00\\%), California (0.00\\%), and Colorado (0.00\\%) use 4096 bits keys the most often, while in California (0.00\\%), Colorado (0.00\\%), and Florida (0.00\\%) use 4096 bits keys the least often.\n",
      "\n",
      "In terms of public institutions, California (0.00\\%), Colorado (0.00\\%), and Florida (0.00\\%) use 4096 bits keys the most often, while in California (0.00\\%), Colorado (0.00\\%), and Florida (0.00\\%) use 4096 bits keys the least often.\n",
      "\n"
     ]
    }
   ],
   "source": [
    "# Report in latex\n",
    "report_results = get_extreme_values(analysis_df)\n",
    "report_name = 'key_length_by_region'\n",
    "hei_totals_public = []\n",
    "hei_totals_private = []\n",
    "for key_length in key_lengths:\n",
    "    algorithm = 'RSA' if key_length >= 1024 else 'ECC'\n",
    "    hei_totals_public.append(format(report_results.get(\"Total\").get(f'{key_length} ({algorithm.title()}) (Public) %'), \".2f\"))\n",
    "    hei_totals_private.append(format(report_results.get(\"Total\").get(f'{key_length} ({algorithm.title()}) (Private) %'), \".2f\"))\n",
    "\n",
    "\n",
    "report_figure = f\"\"\"\n",
    "\\\\begin{{figure}}[htbp]\n",
    "    \\centering\n",
    "    \\includegraphics[width=0.48\\\\textwidth]{{charts/{report_name}.pdf}}\n",
    "    \\caption{{Distribution of the length of \\gls{{ssl}}/\\gls{{tls}} digital certificate signing keys.}}\\label{{fig:key-length}}\n",
    "\\end{{figure}}\n",
    "\"\"\"\n",
    "\n",
    "report = f'{report_figure}\\n\\n'\n",
    "report += f\"\"\"\n",
    "Fig.~\\\\ref{{fig:key-length}} presents an overview of the length of \\gls{{ssl}}/\\gls{{tls}} digital certificate signing keys at \\glspl{{hei}} in \\countryName.\n",
    "\n",
    "According to the data, in analyzed public institutions, \"\"\"\n",
    "\n",
    "for i in range(len(key_lengths)):\n",
    "    report += f'{hei_totals_public[i]}\\% use {key_lengths[i]} bits keys, '\n",
    "\n",
    "report += f\"\"\"and in analyzed private institutions, \"\"\"\n",
    "\n",
    "for i in range(len(key_lengths)):\n",
    "    report += f'{hei_totals_private[i]}\\% use {key_lengths[i]} bits keys, '\n",
    "\n",
    "report += f'respectively. In terms of regional differences:'\n",
    "for key_length in key_lengths:\n",
    "    algorithm = 'RSA' if key_length >= 1024 else 'ECC'\n",
    "    report += f\"\"\"\n",
    "private institutions in {report_results.get(f\"{key_length} ({algorithm.title()}) (Private) %\").get(\"top_regions\")[0][0]} ({format(report_results.get(f\"{key_length} ({algorithm.title()}) (Private) %\").get(\"top_regions\")[0][1], \".2f\")}\\%), {report_results.get(f\"{key_length} ({algorithm.title()}) (Private) %\").get(\"top_regions\")[1][0]} ({format(report_results.get(f\"{key_length} ({algorithm.title()}) (Private) %\").get(\"top_regions\")[1][1], \".2f\")}\\%), and {report_results.get(f\"{key_length} ({algorithm.title()}) (Private) %\").get(\"top_regions\")[2][0]} ({format(report_results.get(f\"{key_length} ({algorithm.title()}) (Private) %\").get(\"top_regions\")[2][1], \".2f\")}\\%) use {key_length} bits keys the most often, while in {report_results.get(f\"{key_length} ({algorithm.title()}) (Private) %\").get(\"bottom_regions\")[0][0]} ({format(report_results.get(f\"{key_length} ({algorithm.title()}) (Private) %\").get(\"bottom_regions\")[0][1], \".2f\")}\\%), {report_results.get(f\"{key_length} ({algorithm.title()}) (Private) %\").get(\"bottom_regions\")[1][0]} ({format(report_results.get(f\"{key_length} ({algorithm.title()}) (Private) %\").get(\"bottom_regions\")[1][1], \".2f\")}\\%), and {report_results.get(f\"{key_length} ({algorithm.title()}) (Private) %\").get(\"bottom_regions\")[2][0]} ({format(report_results.get(f\"{key_length} ({algorithm.title()}) (Private) %\").get(\"bottom_regions\")[2][1], \".2f\")}\\%) use {key_length} bits keys the least often.\n",
    "\n",
    "In terms of public institutions, {report_results.get(f\"{key_length} ({algorithm.title()}) (Public) %\").get(\"top_regions\")[0][0]} ({format(report_results.get(f\"{key_length} ({algorithm.title()}) (Public) %\").get(\"top_regions\")[0][1], \".2f\")}\\%), {report_results.get(f\"{key_length} ({algorithm.title()}) (Public) %\").get(\"top_regions\")[1][0]} ({format(report_results.get(f\"{key_length} ({algorithm.title()}) (Public) %\").get(\"top_regions\")[1][1], \".2f\")}\\%), and {report_results.get(f\"{key_length} ({algorithm.title()}) (Public) %\").get(\"top_regions\")[2][0]} ({format(report_results.get(f\"{key_length} ({algorithm.title()}) (Public) %\").get(\"top_regions\")[2][1], \".2f\")}\\%) use {key_length} bits keys the most often, while in {report_results.get(f\"{key_length} ({algorithm.title()}) (Public) %\").get(\"bottom_regions\")[0][0]} ({format(report_results.get(f\"{key_length} ({algorithm.title()}) (Public) %\").get(\"bottom_regions\")[0][1], \".2f\")}\\%), {report_results.get(f\"{key_length} ({algorithm.title()}) (Public) %\").get(\"bottom_regions\")[1][0]} ({format(report_results.get(f\"{key_length} ({algorithm.title()}) (Public) %\").get(\"bottom_regions\")[1][1], \".2f\")}\\%), and {report_results.get(f\"{key_length} ({algorithm.title()}) (Public) %\").get(\"bottom_regions\")[2][0]} ({format(report_results.get(f\"{key_length} ({algorithm.title()}) (Public) %\").get(\"bottom_regions\")[2][1], \".2f\")}\\%) use {key_length} bits keys the least often.\n",
    "\"\"\"\n",
    "\n",
    "print(report)\n",
    "# save report to file txt\n",
    "save_report(report=report, category=category, report_name=report_name)"
   ],
   "metadata": {
    "collapsed": false
   }
  },
  {
   "cell_type": "code",
   "execution_count": 54,
   "outputs": [
    {
     "data": {
      "text/plain": "       Region  Global #  Without Ssl (Public) #  Without Ssl (Public) %  \\\n0  California         2                       0                     0.0   \n1    Colorado         1                       0                     0.0   \n2     Florida         1                       0                     0.0   \n3     Georgia         1                       0                     0.0   \n4    Michigan         1                       0                     0.0   \n5   Minnesota         1                       0                     0.0   \n6    New York         1                       0                     0.0   \n7       Texas         2                       0                     0.0   \n8       Total        10                       0                     0.0   \n\n   Without Ssl (Private) #  Without Ssl (Private) %  Rsa (Public) #  \\\n0                        0                      0.0               0   \n1                        0                      0.0               1   \n2                        0                      0.0               0   \n3                        0                      0.0               0   \n4                        0                      0.0               0   \n5                        0                      0.0               0   \n6                        0                      0.0               0   \n7                        0                      0.0               0   \n8                        0                      0.0               1   \n\n   Rsa (Public) %  Rsa (Private) #  Rsa (Private) %  Ecc (Public) #  \\\n0             0.0                2            100.0               0   \n1           100.0                0              0.0               0   \n2             0.0                1            100.0               0   \n3             0.0                1            100.0               0   \n4             0.0                1            100.0               0   \n5             0.0                1            100.0               0   \n6             0.0                1            100.0               0   \n7             0.0                2            100.0               0   \n8            10.0                9             90.0               0   \n\n   Ecc (Public) %  Ecc (Private) #  Ecc (Private) %  \n0             0.0                0              0.0  \n1             0.0                0              0.0  \n2             0.0                0              0.0  \n3             0.0                0              0.0  \n4             0.0                0              0.0  \n5             0.0                0              0.0  \n6             0.0                0              0.0  \n7             0.0                0              0.0  \n8             0.0                0              0.0  ",
      "text/html": "<div>\n<style scoped>\n    .dataframe tbody tr th:only-of-type {\n        vertical-align: middle;\n    }\n\n    .dataframe tbody tr th {\n        vertical-align: top;\n    }\n\n    .dataframe thead th {\n        text-align: right;\n    }\n</style>\n<table border=\"1\" class=\"dataframe\">\n  <thead>\n    <tr style=\"text-align: right;\">\n      <th></th>\n      <th>Region</th>\n      <th>Global #</th>\n      <th>Without Ssl (Public) #</th>\n      <th>Without Ssl (Public) %</th>\n      <th>Without Ssl (Private) #</th>\n      <th>Without Ssl (Private) %</th>\n      <th>Rsa (Public) #</th>\n      <th>Rsa (Public) %</th>\n      <th>Rsa (Private) #</th>\n      <th>Rsa (Private) %</th>\n      <th>Ecc (Public) #</th>\n      <th>Ecc (Public) %</th>\n      <th>Ecc (Private) #</th>\n      <th>Ecc (Private) %</th>\n    </tr>\n  </thead>\n  <tbody>\n    <tr>\n      <th>0</th>\n      <td>California</td>\n      <td>2</td>\n      <td>0</td>\n      <td>0.0</td>\n      <td>0</td>\n      <td>0.0</td>\n      <td>0</td>\n      <td>0.0</td>\n      <td>2</td>\n      <td>100.0</td>\n      <td>0</td>\n      <td>0.0</td>\n      <td>0</td>\n      <td>0.0</td>\n    </tr>\n    <tr>\n      <th>1</th>\n      <td>Colorado</td>\n      <td>1</td>\n      <td>0</td>\n      <td>0.0</td>\n      <td>0</td>\n      <td>0.0</td>\n      <td>1</td>\n      <td>100.0</td>\n      <td>0</td>\n      <td>0.0</td>\n      <td>0</td>\n      <td>0.0</td>\n      <td>0</td>\n      <td>0.0</td>\n    </tr>\n    <tr>\n      <th>2</th>\n      <td>Florida</td>\n      <td>1</td>\n      <td>0</td>\n      <td>0.0</td>\n      <td>0</td>\n      <td>0.0</td>\n      <td>0</td>\n      <td>0.0</td>\n      <td>1</td>\n      <td>100.0</td>\n      <td>0</td>\n      <td>0.0</td>\n      <td>0</td>\n      <td>0.0</td>\n    </tr>\n    <tr>\n      <th>3</th>\n      <td>Georgia</td>\n      <td>1</td>\n      <td>0</td>\n      <td>0.0</td>\n      <td>0</td>\n      <td>0.0</td>\n      <td>0</td>\n      <td>0.0</td>\n      <td>1</td>\n      <td>100.0</td>\n      <td>0</td>\n      <td>0.0</td>\n      <td>0</td>\n      <td>0.0</td>\n    </tr>\n    <tr>\n      <th>4</th>\n      <td>Michigan</td>\n      <td>1</td>\n      <td>0</td>\n      <td>0.0</td>\n      <td>0</td>\n      <td>0.0</td>\n      <td>0</td>\n      <td>0.0</td>\n      <td>1</td>\n      <td>100.0</td>\n      <td>0</td>\n      <td>0.0</td>\n      <td>0</td>\n      <td>0.0</td>\n    </tr>\n    <tr>\n      <th>5</th>\n      <td>Minnesota</td>\n      <td>1</td>\n      <td>0</td>\n      <td>0.0</td>\n      <td>0</td>\n      <td>0.0</td>\n      <td>0</td>\n      <td>0.0</td>\n      <td>1</td>\n      <td>100.0</td>\n      <td>0</td>\n      <td>0.0</td>\n      <td>0</td>\n      <td>0.0</td>\n    </tr>\n    <tr>\n      <th>6</th>\n      <td>New York</td>\n      <td>1</td>\n      <td>0</td>\n      <td>0.0</td>\n      <td>0</td>\n      <td>0.0</td>\n      <td>0</td>\n      <td>0.0</td>\n      <td>1</td>\n      <td>100.0</td>\n      <td>0</td>\n      <td>0.0</td>\n      <td>0</td>\n      <td>0.0</td>\n    </tr>\n    <tr>\n      <th>7</th>\n      <td>Texas</td>\n      <td>2</td>\n      <td>0</td>\n      <td>0.0</td>\n      <td>0</td>\n      <td>0.0</td>\n      <td>0</td>\n      <td>0.0</td>\n      <td>2</td>\n      <td>100.0</td>\n      <td>0</td>\n      <td>0.0</td>\n      <td>0</td>\n      <td>0.0</td>\n    </tr>\n    <tr>\n      <th>8</th>\n      <td>Total</td>\n      <td>10</td>\n      <td>0</td>\n      <td>0.0</td>\n      <td>0</td>\n      <td>0.0</td>\n      <td>1</td>\n      <td>10.0</td>\n      <td>9</td>\n      <td>90.0</td>\n      <td>0</td>\n      <td>0.0</td>\n      <td>0</td>\n      <td>0.0</td>\n    </tr>\n  </tbody>\n</table>\n</div>"
     },
     "metadata": {},
     "output_type": "display_data"
    }
   ],
   "source": [
    "# Analyze of SSL Algorithms by region\n",
    "\n",
    "# settings\n",
    "column_to_sort = 'Without SSL (Public) %'\n",
    "sort_ascending = False\n",
    "table_name = 'SSL_Algorithms_by_region'\n",
    "\n",
    "columns_to_display = [region_column_name.title(), column_name_to_results_global]\n",
    "analysis_df = get_records_by_region(source_df)\n",
    "\n",
    "# create columns\n",
    "# Column creation with distribution of records without SSL by region\n",
    "only_public = 'category == \"Public\"'\n",
    "only_private = 'category == \"Private\"'\n",
    "create_column(source_df=source_df, analysis_dataframe=analysis_df, column_name='Without SSL (Public)', criteria=f'grade == \"M\" & {only_public}', columns_to_display=columns_to_display)\n",
    "create_column(source_df=source_df, analysis_dataframe=analysis_df, column_name='Without SSL (Private)', criteria=f'grade == \"M\" & {only_private}', columns_to_display=columns_to_display)\n",
    "# Creating column with the distribution of SSL Algorithms by region\n",
    "create_column(source_df=source_df, analysis_dataframe=analysis_df, column_name='RSA (Public)', criteria=f'grade != \"M\" & key_alg == \"RSA\" & {only_public}', columns_to_display=columns_to_display)\n",
    "create_column(source_df=source_df, analysis_dataframe=analysis_df, column_name='RSA (Private)', criteria=f'grade != \"M\" & key_alg == \"RSA\" & {only_private}', columns_to_display=columns_to_display)\n",
    "create_column(source_df=source_df, analysis_dataframe=analysis_df, column_name='ECC (Public)', criteria=f'grade != \"M\" & key_alg == \"ECC\" & {only_public}', columns_to_display=columns_to_display)\n",
    "create_column(source_df=source_df, analysis_dataframe=analysis_df, column_name='ECC (Private)', criteria=f'grade != \"M\" & key_alg == \"ECC\" & {only_private}', columns_to_display=columns_to_display)\n",
    "\n",
    "# Finalize dataframe\n",
    "analysis_df = finalize_dataframe(dataframe=analysis_df, column_to_sort=column_to_sort, ascending=sort_ascending, columns_to_display=columns_to_display)\n",
    "display(analysis_df)\n",
    "\n",
    "# save to csv\n",
    "save_table(analysis_df, category=category, table_name=table_name)"
   ],
   "metadata": {
    "collapsed": false
   }
  },
  {
   "cell_type": "code",
   "execution_count": 55,
   "outputs": [
    {
     "name": "stdout",
     "output_type": "stream",
     "text": [
      "\n",
      "\\begin{figure}[htbp]\n",
      "    \\centering\n",
      "    \\includegraphics[width=0.48\\textwidth]{charts/SSL_Algorithms_by_region.pdf}\n",
      "    \\caption{Distribution of the type of \\gls{ssl}/\\gls{tls} algorithms used}\\label{fig:ssl-algorithms}\n",
      "\\end{figure}\n",
      "\n",
      "\n",
      "\n",
      "Fig.~\\ref{fig:ssl-algorithms} presents an overview of the use of the type of \\gls{ssl}/\\gls{tls} at \\glspl{hei} in \\countryName.\n",
      "\n",
      "According to the data, 10.00\\% of the public institutions analyzed, and 90.00\\% of the private institutions are using \\gls{rsa} encryption algorithm for \\gls{ssl}/\\gls{tls}.\n",
      "\n",
      "On the other hand, 0.00\\% of the public institutions analyzed, and 0.00\\% of the private institutions are using \\gls{ecc} encryption algorithm for \\gls{ssl}/\\gls{tls}.\n",
      "\n",
      "In terms of regional differences, private institutions in California (100.00\\%), Florida (100.00\\%), and Georgia (100.00\\%), and public institutions in Colorado (100.00\\%), California (0.00\\%), and Florida (0.00\\%) have a higher usage of \\gls{rsa} encryption algorithm on your websites.\n",
      "\n",
      "In contrast, private institutions in, Colorado (0.00\\%), California (100.00\\%), and Florida (100.00\\%), and public institutions in California (0.00\\%), Florida (0.00\\%), and Georgia (0.00\\%) have a lower usage of \\gls{rsa} encryption algorithm on your websites.\n",
      "\n",
      "Finally, private institutions in California (0.00\\%), Colorado (0.00\\%), and Florida (0.00\\%), and public institutions in California (0.00\\%), Colorado (0.00\\%), and Florida (0.00\\%) have a higher usage of \\gls{ecc} encryption algorithm on your websites.\n",
      "\n",
      "In contrast, private institutions in California (0.00\\%), Colorado (0.00\\%), and Florida (0.00\\%), and public institutions in California (0.00\\%), Colorado (0.00\\%), and Florida (0.00\\%) have a lower usage of \\gls{ecc} encryption algorithm on your websites.\n",
      "\n"
     ]
    }
   ],
   "source": [
    "# Report in latex\n",
    "report_results = get_extreme_values(analysis_df)\n",
    "report_name = 'SSL_Algorithms_by_region'\n",
    "\n",
    "hei_public_rsa = format(report_results.get(\"Total\").get(\"Rsa (Public) %\"), \".2f\")\n",
    "hei_public_ecc = format(report_results.get(\"Total\").get(\"Ecc (Public) %\"), \".2f\")\n",
    "\n",
    "hei_private_rsa = format(report_results.get(\"Total\").get(\"Rsa (Private) %\"), \".2f\")\n",
    "hei_private_ecc = format(report_results.get(\"Total\").get(\"Ecc (Private) %\"), \".2f\")\n",
    "\n",
    "report_figure = f\"\"\"\n",
    "\\\\begin{{figure}}[htbp]\n",
    "    \\centering\n",
    "    \\includegraphics[width=0.48\\\\textwidth]{{charts/{report_name}.pdf}}\n",
    "    \\caption{{Distribution of the type of \\gls{{ssl}}/\\gls{{tls}} algorithms used}}\\label{{fig:ssl-algorithms}}\n",
    "\\end{{figure}}\n",
    "\"\"\"\n",
    "\n",
    "report = f'{report_figure}\\n\\n'\n",
    "report += f\"\"\"\n",
    "Fig.~\\\\ref{{fig:ssl-algorithms}} presents an overview of the use of the type of \\gls{{ssl}}/\\gls{{tls}} at \\glspl{{hei}} in \\countryName.\n",
    "\n",
    "According to the data, {hei_public_rsa}\\% of the public institutions analyzed, and {hei_private_rsa}\\% of the private institutions are using \\gls{{rsa}} encryption algorithm for \\gls{{ssl}}/\\gls{{tls}}.\n",
    "\n",
    "On the other hand, {hei_public_ecc}\\% of the public institutions analyzed, and {hei_private_ecc}\\% of the private institutions are using \\gls{{ecc}} encryption algorithm for \\gls{{ssl}}/\\gls{{tls}}.\n",
    "\n",
    "In terms of regional differences, private institutions in {report_results.get(\"Rsa (Private) %\").get(\"top_regions\")[0][0]} ({format(report_results.get(\"Rsa (Private) %\").get(\"top_regions\")[0][1], \".2f\")}\\%), {report_results.get(\"Rsa (Private) %\").get(\"top_regions\")[1][0]} ({format(report_results.get(\"Rsa (Private) %\").get(\"top_regions\")[1][1], \".2f\")}\\%), and {report_results.get(\"Rsa (Private) %\").get(\"top_regions\")[2][0]} ({format(report_results.get(\"Rsa (Private) %\").get(\"top_regions\")[2][1], \".2f\")}\\%), and public institutions in {report_results.get(\"Rsa (Public) %\").get(\"top_regions\")[0][0]} ({format(report_results.get(\"Rsa (Public) %\").get(\"top_regions\")[0][1], \".2f\")}\\%), {report_results.get(\"Rsa (Public) %\").get(\"top_regions\")[1][0]} ({format(report_results.get(\"Rsa (Public) %\").get(\"top_regions\")[1][1], \".2f\")}\\%), and {report_results.get(\"Rsa (Public) %\").get(\"top_regions\")[2][0]} ({format(report_results.get(\"Rsa (Public) %\").get(\"top_regions\")[2][1], \".2f\")}\\%) have a higher usage of \\gls{{rsa}} encryption algorithm on your websites.\n",
    "\n",
    "In contrast, private institutions in, {report_results.get(\"Rsa (Private) %\").get(\"bottom_regions\")[0][0]} ({format(report_results.get(\"Rsa (Private) %\").get(\"bottom_regions\")[0][1], \".2f\")}\\%), {report_results.get(\"Rsa (Private) %\").get(\"bottom_regions\")[1][0]} ({format(report_results.get(\"Rsa (Private) %\").get(\"bottom_regions\")[1][1], \".2f\")}\\%), and {report_results.get(\"Rsa (Private) %\").get(\"bottom_regions\")[2][0]} ({format(report_results.get(\"Rsa (Private) %\").get(\"bottom_regions\")[2][1], \".2f\")}\\%), and public institutions in {report_results.get(\"Rsa (Public) %\").get(\"bottom_regions\")[0][0]} ({format(report_results.get(\"Rsa (Public) %\").get(\"bottom_regions\")[0][1], \".2f\")}\\%), {report_results.get(\"Rsa (Public) %\").get(\"bottom_regions\")[1][0]} ({format(report_results.get(\"Rsa (Public) %\").get(\"bottom_regions\")[1][1], \".2f\")}\\%), and {report_results.get(\"Rsa (Public) %\").get(\"bottom_regions\")[2][0]} ({format(report_results.get(\"Rsa (Public) %\").get(\"bottom_regions\")[2][1], \".2f\")}\\%) have a lower usage of \\gls{{rsa}} encryption algorithm on your websites.\n",
    "\n",
    "Finally, private institutions in {report_results.get(\"Ecc (Private) %\").get(\"top_regions\")[0][0]} ({format(report_results.get(\"Ecc (Private) %\").get(\"top_regions\")[0][1], \".2f\")}\\%), {report_results.get(\"Ecc (Private) %\").get(\"top_regions\")[1][0]} ({format(report_results.get(\"Ecc (Private) %\").get(\"top_regions\")[1][1], \".2f\")}\\%), and {report_results.get(\"Ecc (Private) %\").get(\"top_regions\")[2][0]} ({format(report_results.get(\"Ecc (Private) %\").get(\"top_regions\")[2][1], \".2f\")}\\%), and public institutions in {report_results.get(\"Ecc (Public) %\").get(\"top_regions\")[0][0]} ({format(report_results.get(\"Ecc (Public) %\").get(\"top_regions\")[0][1], \".2f\")}\\%), {report_results.get(\"Ecc (Public) %\").get(\"top_regions\")[1][0]} ({format(report_results.get(\"Ecc (Public) %\").get(\"top_regions\")[1][1], \".2f\")}\\%), and {report_results.get(\"Ecc (Public) %\").get(\"top_regions\")[2][0]} ({format(report_results.get(\"Ecc (Public) %\").get(\"top_regions\")[2][1], \".2f\")}\\%) have a higher usage of \\gls{{ecc}} encryption algorithm on your websites.\n",
    "\n",
    "In contrast, private institutions in {report_results.get(\"Ecc (Private) %\").get(\"bottom_regions\")[0][0]} ({format(report_results.get(\"Ecc (Private) %\").get(\"bottom_regions\")[0][1], \".2f\")}\\%), {report_results.get(\"Ecc (Private) %\").get(\"bottom_regions\")[1][0]} ({format(report_results.get(\"Ecc (Private) %\").get(\"bottom_regions\")[1][1], \".2f\")}\\%), and {report_results.get(\"Ecc (Private) %\").get(\"bottom_regions\")[2][0]} ({format(report_results.get(\"Ecc (Private) %\").get(\"bottom_regions\")[2][1], \".2f\")}\\%), and public institutions in {report_results.get(\"Ecc (Public) %\").get(\"bottom_regions\")[0][0]} ({format(report_results.get(\"Ecc (Public) %\").get(\"bottom_regions\")[0][1], \".2f\")}\\%), {report_results.get(\"Ecc (Public) %\").get(\"bottom_regions\")[1][0]} ({format(report_results.get(\"Ecc (Public) %\").get(\"bottom_regions\")[1][1], \".2f\")}\\%), and {report_results.get(\"Ecc (Public) %\").get(\"bottom_regions\")[2][0]} ({format(report_results.get(\"Ecc (Public) %\").get(\"bottom_regions\")[2][1], \".2f\")}\\%) have a lower usage of \\gls{{ecc}} encryption algorithm on your websites.\n",
    "\"\"\"\n",
    "\n",
    "print(report)\n",
    "# save report to file txt\n",
    "save_report(report=report, category=category, report_name=report_name)"
   ],
   "metadata": {
    "collapsed": false
   }
  },
  {
   "cell_type": "code",
   "execution_count": 56,
   "outputs": [
    {
     "data": {
      "text/plain": "       Region  Global #  Without Ssl (Public) #  Without Ssl (Public) %  \\\n0  California         2                       0                     0.0   \n1    Colorado         1                       0                     0.0   \n2     Florida         1                       0                     0.0   \n3     Georgia         1                       0                     0.0   \n4    Michigan         1                       0                     0.0   \n5   Minnesota         1                       0                     0.0   \n6    New York         1                       0                     0.0   \n7       Texas         2                       0                     0.0   \n8       Total        10                       0                     0.0   \n\n   Without Ssl (Private) #  Without Ssl (Private) %  Sslv2.0 (Public) #  \\\n0                        0                      0.0                   0   \n1                        0                      0.0                   0   \n2                        0                      0.0                   0   \n3                        0                      0.0                   0   \n4                        0                      0.0                   0   \n5                        0                      0.0                   0   \n6                        0                      0.0                   0   \n7                        0                      0.0                   0   \n8                        0                      0.0                   0   \n\n   Sslv2.0 (Public) %  Sslv2.0 (Private) #  Sslv2.0 (Private) %  ...  \\\n0                 0.0                    0                  0.0  ...   \n1                 0.0                    0                  0.0  ...   \n2                 0.0                    0                  0.0  ...   \n3                 0.0                    0                  0.0  ...   \n4                 0.0                    0                  0.0  ...   \n5                 0.0                    0                  0.0  ...   \n6                 0.0                    0                  0.0  ...   \n7                 0.0                    0                  0.0  ...   \n8                 0.0                    0                  0.0  ...   \n\n   Tlsv1.1 (Private) #  Tlsv1.1 (Private) %  Tlsv1.2 (Public) #  \\\n0                    0                  0.0                   0   \n1                    0                  0.0                   1   \n2                    0                  0.0                   0   \n3                    0                  0.0                   0   \n4                    0                  0.0                   0   \n5                    0                  0.0                   0   \n6                    0                  0.0                   0   \n7                    0                  0.0                   0   \n8                    0                  0.0                   1   \n\n   Tlsv1.2 (Public) %  Tlsv1.2 (Private) #  Tlsv1.2 (Private) %  \\\n0                 0.0                    2                100.0   \n1               100.0                    0                  0.0   \n2                 0.0                    1                100.0   \n3                 0.0                    0                  0.0   \n4                 0.0                    1                100.0   \n5                 0.0                    1                100.0   \n6                 0.0                    1                100.0   \n7                 0.0                    2                100.0   \n8                10.0                    8                 80.0   \n\n   Tlsv1.3 (Public) #  Tlsv1.3 (Public) %  Tlsv1.3 (Private) #  \\\n0                   0                 0.0                    0   \n1                   0                 0.0                    0   \n2                   0                 0.0                    0   \n3                   0                 0.0                    0   \n4                   0                 0.0                    0   \n5                   0                 0.0                    0   \n6                   0                 0.0                    0   \n7                   0                 0.0                    0   \n8                   0                 0.0                    0   \n\n   Tlsv1.3 (Private) %  \n0                  0.0  \n1                  0.0  \n2                  0.0  \n3                  0.0  \n4                  0.0  \n5                  0.0  \n6                  0.0  \n7                  0.0  \n8                  0.0  \n\n[9 rows x 30 columns]",
      "text/html": "<div>\n<style scoped>\n    .dataframe tbody tr th:only-of-type {\n        vertical-align: middle;\n    }\n\n    .dataframe tbody tr th {\n        vertical-align: top;\n    }\n\n    .dataframe thead th {\n        text-align: right;\n    }\n</style>\n<table border=\"1\" class=\"dataframe\">\n  <thead>\n    <tr style=\"text-align: right;\">\n      <th></th>\n      <th>Region</th>\n      <th>Global #</th>\n      <th>Without Ssl (Public) #</th>\n      <th>Without Ssl (Public) %</th>\n      <th>Without Ssl (Private) #</th>\n      <th>Without Ssl (Private) %</th>\n      <th>Sslv2.0 (Public) #</th>\n      <th>Sslv2.0 (Public) %</th>\n      <th>Sslv2.0 (Private) #</th>\n      <th>Sslv2.0 (Private) %</th>\n      <th>...</th>\n      <th>Tlsv1.1 (Private) #</th>\n      <th>Tlsv1.1 (Private) %</th>\n      <th>Tlsv1.2 (Public) #</th>\n      <th>Tlsv1.2 (Public) %</th>\n      <th>Tlsv1.2 (Private) #</th>\n      <th>Tlsv1.2 (Private) %</th>\n      <th>Tlsv1.3 (Public) #</th>\n      <th>Tlsv1.3 (Public) %</th>\n      <th>Tlsv1.3 (Private) #</th>\n      <th>Tlsv1.3 (Private) %</th>\n    </tr>\n  </thead>\n  <tbody>\n    <tr>\n      <th>0</th>\n      <td>California</td>\n      <td>2</td>\n      <td>0</td>\n      <td>0.0</td>\n      <td>0</td>\n      <td>0.0</td>\n      <td>0</td>\n      <td>0.0</td>\n      <td>0</td>\n      <td>0.0</td>\n      <td>...</td>\n      <td>0</td>\n      <td>0.0</td>\n      <td>0</td>\n      <td>0.0</td>\n      <td>2</td>\n      <td>100.0</td>\n      <td>0</td>\n      <td>0.0</td>\n      <td>0</td>\n      <td>0.0</td>\n    </tr>\n    <tr>\n      <th>1</th>\n      <td>Colorado</td>\n      <td>1</td>\n      <td>0</td>\n      <td>0.0</td>\n      <td>0</td>\n      <td>0.0</td>\n      <td>0</td>\n      <td>0.0</td>\n      <td>0</td>\n      <td>0.0</td>\n      <td>...</td>\n      <td>0</td>\n      <td>0.0</td>\n      <td>1</td>\n      <td>100.0</td>\n      <td>0</td>\n      <td>0.0</td>\n      <td>0</td>\n      <td>0.0</td>\n      <td>0</td>\n      <td>0.0</td>\n    </tr>\n    <tr>\n      <th>2</th>\n      <td>Florida</td>\n      <td>1</td>\n      <td>0</td>\n      <td>0.0</td>\n      <td>0</td>\n      <td>0.0</td>\n      <td>0</td>\n      <td>0.0</td>\n      <td>0</td>\n      <td>0.0</td>\n      <td>...</td>\n      <td>0</td>\n      <td>0.0</td>\n      <td>0</td>\n      <td>0.0</td>\n      <td>1</td>\n      <td>100.0</td>\n      <td>0</td>\n      <td>0.0</td>\n      <td>0</td>\n      <td>0.0</td>\n    </tr>\n    <tr>\n      <th>3</th>\n      <td>Georgia</td>\n      <td>1</td>\n      <td>0</td>\n      <td>0.0</td>\n      <td>0</td>\n      <td>0.0</td>\n      <td>0</td>\n      <td>0.0</td>\n      <td>0</td>\n      <td>0.0</td>\n      <td>...</td>\n      <td>0</td>\n      <td>0.0</td>\n      <td>0</td>\n      <td>0.0</td>\n      <td>0</td>\n      <td>0.0</td>\n      <td>0</td>\n      <td>0.0</td>\n      <td>0</td>\n      <td>0.0</td>\n    </tr>\n    <tr>\n      <th>4</th>\n      <td>Michigan</td>\n      <td>1</td>\n      <td>0</td>\n      <td>0.0</td>\n      <td>0</td>\n      <td>0.0</td>\n      <td>0</td>\n      <td>0.0</td>\n      <td>0</td>\n      <td>0.0</td>\n      <td>...</td>\n      <td>0</td>\n      <td>0.0</td>\n      <td>0</td>\n      <td>0.0</td>\n      <td>1</td>\n      <td>100.0</td>\n      <td>0</td>\n      <td>0.0</td>\n      <td>0</td>\n      <td>0.0</td>\n    </tr>\n    <tr>\n      <th>5</th>\n      <td>Minnesota</td>\n      <td>1</td>\n      <td>0</td>\n      <td>0.0</td>\n      <td>0</td>\n      <td>0.0</td>\n      <td>0</td>\n      <td>0.0</td>\n      <td>0</td>\n      <td>0.0</td>\n      <td>...</td>\n      <td>0</td>\n      <td>0.0</td>\n      <td>0</td>\n      <td>0.0</td>\n      <td>1</td>\n      <td>100.0</td>\n      <td>0</td>\n      <td>0.0</td>\n      <td>0</td>\n      <td>0.0</td>\n    </tr>\n    <tr>\n      <th>6</th>\n      <td>New York</td>\n      <td>1</td>\n      <td>0</td>\n      <td>0.0</td>\n      <td>0</td>\n      <td>0.0</td>\n      <td>0</td>\n      <td>0.0</td>\n      <td>0</td>\n      <td>0.0</td>\n      <td>...</td>\n      <td>0</td>\n      <td>0.0</td>\n      <td>0</td>\n      <td>0.0</td>\n      <td>1</td>\n      <td>100.0</td>\n      <td>0</td>\n      <td>0.0</td>\n      <td>0</td>\n      <td>0.0</td>\n    </tr>\n    <tr>\n      <th>7</th>\n      <td>Texas</td>\n      <td>2</td>\n      <td>0</td>\n      <td>0.0</td>\n      <td>0</td>\n      <td>0.0</td>\n      <td>0</td>\n      <td>0.0</td>\n      <td>0</td>\n      <td>0.0</td>\n      <td>...</td>\n      <td>0</td>\n      <td>0.0</td>\n      <td>0</td>\n      <td>0.0</td>\n      <td>2</td>\n      <td>100.0</td>\n      <td>0</td>\n      <td>0.0</td>\n      <td>0</td>\n      <td>0.0</td>\n    </tr>\n    <tr>\n      <th>8</th>\n      <td>Total</td>\n      <td>10</td>\n      <td>0</td>\n      <td>0.0</td>\n      <td>0</td>\n      <td>0.0</td>\n      <td>0</td>\n      <td>0.0</td>\n      <td>0</td>\n      <td>0.0</td>\n      <td>...</td>\n      <td>0</td>\n      <td>0.0</td>\n      <td>1</td>\n      <td>10.0</td>\n      <td>8</td>\n      <td>80.0</td>\n      <td>0</td>\n      <td>0.0</td>\n      <td>0</td>\n      <td>0.0</td>\n    </tr>\n  </tbody>\n</table>\n<p>9 rows × 30 columns</p>\n</div>"
     },
     "metadata": {},
     "output_type": "display_data"
    }
   ],
   "source": [
    "# Analyze of Worst supported SSL/TLS versions by region\n",
    "\n",
    "# settings\n",
    "column_to_sort = 'Without SSL (Public) %'\n",
    "sort_ascending = False\n",
    "table_name = 'Worst_SSL_supported_by_region'\n",
    "\n",
    "columns_to_display = [region_column_name.title(), column_name_to_results_global]\n",
    "analysis_df = get_records_by_region(source_df)\n",
    "\n",
    "# create columns\n",
    "# Column creation with distribution of records without SSL by region\n",
    "only_public = 'category == \"Public\"'\n",
    "only_private = 'category == \"Private\"'\n",
    "create_column(source_df=source_df, analysis_dataframe=analysis_df, column_name='Without SSL (Public)', criteria=f'grade == \"M\" & {only_public}', columns_to_display=columns_to_display)\n",
    "create_column(source_df=source_df, analysis_dataframe=analysis_df, column_name='Without SSL (Private)', criteria=f'grade == \"M\" & {only_private}', columns_to_display=columns_to_display)\n",
    "# Creating column with the distribution of Worst supported SSL/TLS versions by region\n",
    "versions = ['SSLv2.0', 'SSLv3.0', 'TLSv1.0', 'TLSv1.1', 'TLSv1.2', 'TLSv1.3']\n",
    "only_https = 'grade != \"M\" &'\n",
    "for i in range(len(versions)):\n",
    "    current_version = f'`{versions[i]}` == True &' if i != 0 else f'`{versions[i]}` == True'\n",
    "    previous_versions = ' & '.join([f'`{versions[j]}` == False' for j in range(i)])\n",
    "    criteria = f'{only_https} {current_version} {previous_versions}'\n",
    "    create_column(source_df=source_df, analysis_dataframe=analysis_df, column_name=f'{versions[i]} (Public)', criteria=f'{criteria} & {only_public}', columns_to_display=columns_to_display)\n",
    "    create_column(source_df=source_df, analysis_dataframe=analysis_df, column_name=f'{versions[i]} (Private)', criteria=f'{criteria} & {only_private}', columns_to_display=columns_to_display)\n",
    "\n",
    "# Finalize dataframe\n",
    "analysis_df = finalize_dataframe(dataframe=analysis_df, column_to_sort=column_to_sort, ascending=sort_ascending, columns_to_display=columns_to_display)\n",
    "display(analysis_df)\n",
    "\n",
    "# save to csv\n",
    "save_table(analysis_df, category=category, table_name=table_name)"
   ],
   "metadata": {
    "collapsed": false
   }
  },
  {
   "cell_type": "code",
   "execution_count": 57,
   "outputs": [
    {
     "name": "stdout",
     "output_type": "stream",
     "text": [
      "\n",
      "\\begin{figure}[htbp]\n",
      "    \\centering\n",
      "    \\includegraphics[width=0.48\\textwidth]{charts/Worst_SSL_supported_by_region.pdf}\n",
      "    \\caption{Distribution of the worst version of \\gls{ssl}/\\gls{tls} protocols.}\\label{fig:ssl-worst}\n",
      "\\end{figure}\n",
      "\n",
      "\n",
      "\n",
      "Fig.~\\ref{fig:ssl-worst} presents an overview of the worst version of \\gls{ssl}/\\gls{tls} protocols at \\glspl{hei} in \\countryName.\n",
      "\n",
      "According to the data, 0.00\\% of the public institutions analyzed, and 0.00\\% of the private institutions are using SSLv2.0 version protocol, 0.00\\% of the public institutions analyzed, and 0.00\\% of the private institutions are using SSLv3.0 version protocol, 0.00\\% of the public institutions analyzed, and 10.00\\% of the private institutions are using TLSv1.0 version protocol, 0.00\\% of the public institutions analyzed, and 0.00\\% of the private institutions are using TLSv1.1 version protocol, 10.00\\% of the public institutions analyzed, and 80.00\\% of the private institutions are using TLSv1.2 version protocol, and 0.00\\% of the public institutions analyzed, and 0.00\\% of the private institutions are using TLSv1.3 version protocol.\n",
      "\n",
      "In terms of regional differences, private institutions in California (0.00\\%), Colorado (0.00\\%), and Florida (0.00\\%), and public institutions in California (0.00\\%), Colorado (0.00\\%), and Florida (0.00\\%) have a higher usage of SSLv2.0 version protocol on your websites.\n",
      "\n",
      "In contrast, private institutions in California (0.00\\%), Colorado (0.00\\%), and Florida (0.00\\%), and public institutions in California (0.00\\%), Colorado (0.00\\%), and Florida (0.00\\%) have a lower usage of SSLv2.0 version protocol on your websites.\n",
      "\n",
      "While the usage of SSLv3.0 version protocol is higher in private institutions in California (0.00\\%), Colorado (0.00\\%), and Florida (0.00\\%), and public institutions in California (0.00\\%), Colorado (0.00\\%), and Florida (0.00\\%) than in other regions, the usage of SSLv3.0 version protocol is lower in private institutions in California (0.00\\%), Colorado (0.00\\%), and Florida (0.00\\%), and public institutions in California (0.00\\%), Colorado (0.00\\%), and Florida (0.00\\%) than in other regions.\n",
      "\n",
      "The usage of TLSv1.0 version protocol is higher in private institutions in Georgia (100.00\\%), California (0.00\\%), and Colorado (0.00\\%), and public institutions in California (0.00\\%), Colorado (0.00\\%), and Florida (0.00\\%) than in other regions, while the usage of TLSv1.0 version protocol is lower in private institutions in California (0.00\\%), Colorado (0.00\\%), and Florida (0.00\\%), and public institutions in California (0.00\\%), Colorado (0.00\\%), and Florida (0.00\\%) than in other regions.\n",
      "\n",
      "Already the use of TLSv1.1 version protocol is higher in private institutions in California (0.00\\%), Colorado (0.00\\%), and Florida (0.00\\%), and public institutions in California (0.00\\%), Colorado (0.00\\%), and Florida (0.00\\%) than in other regions, while the usage of TLSv1.1 version protocol is lower in private institutions in California (0.00\\%), Colorado (0.00\\%), and Florida (0.00\\%), and public institutions in California (0.00\\%), Colorado (0.00\\%), and Florida (0.00\\%) than in other regions.\n",
      "\n",
      "While the use of TLSv1.2 version protocol is higher in private institutions in California (100.00\\%), Florida (100.00\\%), and Michigan (100.00\\%), and public institutions in Colorado (100.00\\%), California (0.00\\%), and Florida (0.00\\%) than in other regions, while the usage of TLSv1.2 version protocol is lower in private institutions in Colorado (0.00\\%), Georgia (0.00\\%), and California (100.00\\%), and public institutions in California (0.00\\%), Florida (0.00\\%), and Georgia (0.00\\%) than in other regions.\n",
      "\n",
      "Finally, the use of TLSv1.3 version protocol is higher in private institutions in California (0.00\\%), Colorado (0.00\\%), and Florida (0.00\\%), and public institutions in California (0.00\\%), Colorado (0.00\\%), and Florida (0.00\\%) than in other regions, while the usage of TLSv1.3 version protocol is lower in private institutions in California (0.00\\%), Colorado (0.00\\%), and Florida (0.00\\%), and public institutions in California (0.00\\%), Colorado (0.00\\%), and Florida (0.00\\%) than in other regions.\n",
      "\n"
     ]
    }
   ],
   "source": [
    "# Report in latex\n",
    "report_results = get_extreme_values(analysis_df)\n",
    "report_name = 'Worst_SSL_supported_by_region'\n",
    "\n",
    "hei_public_ssl2 = format(report_results.get(\"Total\").get(\"Sslv2.0 (Public) %\"), \".2f\")\n",
    "hei_public_ssl3 = format(report_results.get(\"Total\").get(\"Sslv3.0 (Public) %\"), \".2f\")\n",
    "hei_public_tls10 = format(report_results.get(\"Total\").get(\"Tlsv1.0 (Public) %\"), \".2f\")\n",
    "hei_public_tls11 = format(report_results.get(\"Total\").get(\"Tlsv1.1 (Public) %\"), \".2f\")\n",
    "hei_public_tls12 = format(report_results.get(\"Total\").get(\"Tlsv1.2 (Public) %\"), \".2f\")\n",
    "hei_public_tls13 = format(report_results.get(\"Total\").get(\"Tlsv1.3 (Public) %\"), \".2f\")\n",
    "\n",
    "hei_private_ssl2 = format(report_results.get(\"Total\").get(\"Sslv2.0 (Private) %\"), \".2f\")\n",
    "hei_private_ssl3 = format(report_results.get(\"Total\").get(\"Sslv3.0 (Private) %\"), \".2f\")\n",
    "hei_private_tls10 = format(report_results.get(\"Total\").get(\"Tlsv1.0 (Private) %\"), \".2f\")\n",
    "hei_private_tls11 = format(report_results.get(\"Total\").get(\"Tlsv1.1 (Private) %\"), \".2f\")\n",
    "hei_private_tls12 = format(report_results.get(\"Total\").get(\"Tlsv1.2 (Private) %\"), \".2f\")\n",
    "hei_private_tls13 = format(report_results.get(\"Total\").get(\"Tlsv1.3 (Private) %\"), \".2f\")\n",
    "\n",
    "report_figure = f\"\"\"\n",
    "\\\\begin{{figure}}[htbp]\n",
    "    \\centering\n",
    "    \\includegraphics[width=0.48\\\\textwidth]{{charts/{report_name}.pdf}}\n",
    "    \\caption{{Distribution of the worst version of \\gls{{ssl}}/\\gls{{tls}} protocols.}}\\label{{fig:ssl-worst}}\n",
    "\\end{{figure}}\n",
    "\"\"\"\n",
    "\n",
    "report = f'{report_figure}\\n\\n'\n",
    "report += f\"\"\"\n",
    "Fig.~\\\\ref{{fig:ssl-worst}} presents an overview of the worst version of \\gls{{ssl}}/\\gls{{tls}} protocols at \\glspl{{hei}} in \\countryName.\n",
    "\n",
    "According to the data, {hei_public_ssl2}\\% of the public institutions analyzed, and {hei_private_ssl2}\\% of the private institutions are using SSLv2.0 version protocol, {hei_public_ssl3}\\% of the public institutions analyzed, and {hei_private_ssl3}\\% of the private institutions are using SSLv3.0 version protocol, {hei_public_tls10}\\% of the public institutions analyzed, and {hei_private_tls10}\\% of the private institutions are using TLSv1.0 version protocol, {hei_public_tls11}\\% of the public institutions analyzed, and {hei_private_tls11}\\% of the private institutions are using TLSv1.1 version protocol, {hei_public_tls12}\\% of the public institutions analyzed, and {hei_private_tls12}\\% of the private institutions are using TLSv1.2 version protocol, and {hei_public_tls13}\\% of the public institutions analyzed, and {hei_private_tls13}\\% of the private institutions are using TLSv1.3 version protocol.\n",
    "\n",
    "In terms of regional differences, private institutions in {report_results.get(\"Sslv2.0 (Private) %\").get(\"top_regions\")[0][0]} ({format(report_results.get(\"Sslv2.0 (Private) %\").get(\"top_regions\")[0][1], \".2f\")}\\%), {report_results.get(\"Sslv2.0 (Private) %\").get(\"top_regions\")[1][0]} ({format(report_results.get(\"Sslv2.0 (Private) %\").get(\"top_regions\")[1][1], \".2f\")}\\%), and {report_results.get(\"Sslv2.0 (Private) %\").get(\"top_regions\")[2][0]} ({format(report_results.get(\"Sslv2.0 (Private) %\").get(\"top_regions\")[2][1], \".2f\")}\\%), and public institutions in {report_results.get(\"Sslv2.0 (Public) %\").get(\"top_regions\")[0][0]} ({format(report_results.get(\"Sslv2.0 (Public) %\").get(\"top_regions\")[0][1], \".2f\")}\\%), {report_results.get(\"Sslv2.0 (Public) %\").get(\"top_regions\")[1][0]} ({format(report_results.get(\"Sslv2.0 (Public) %\").get(\"top_regions\")[1][1], \".2f\")}\\%), and {report_results.get(\"Sslv2.0 (Public) %\").get(\"top_regions\")[2][0]} ({format(report_results.get(\"Sslv2.0 (Public) %\").get(\"top_regions\")[2][1], \".2f\")}\\%) have a higher usage of SSLv2.0 version protocol on your websites.\n",
    "\n",
    "In contrast, private institutions in {report_results.get(\"Sslv2.0 (Private) %\").get(\"bottom_regions\")[0][0]} ({format(report_results.get(\"Sslv2.0 (Private) %\").get(\"bottom_regions\")[0][1], \".2f\")}\\%), {report_results.get(\"Sslv2.0 (Private) %\").get(\"bottom_regions\")[1][0]} ({format(report_results.get(\"Sslv2.0 (Private) %\").get(\"bottom_regions\")[1][1], \".2f\")}\\%), and {report_results.get(\"Sslv2.0 (Private) %\").get(\"bottom_regions\")[2][0]} ({format(report_results.get(\"Sslv2.0 (Private) %\").get(\"bottom_regions\")[2][1], \".2f\")}\\%), and public institutions in {report_results.get(\"Sslv2.0 (Public) %\").get(\"bottom_regions\")[0][0]} ({format(report_results.get(\"Sslv2.0 (Public) %\").get(\"bottom_regions\")[0][1], \".2f\")}\\%), {report_results.get(\"Sslv2.0 (Public) %\").get(\"bottom_regions\")[1][0]} ({format(report_results.get(\"Sslv2.0 (Public) %\").get(\"bottom_regions\")[1][1], \".2f\")}\\%), and {report_results.get(\"Sslv2.0 (Public) %\").get(\"bottom_regions\")[2][0]} ({format(report_results.get(\"Sslv2.0 (Public) %\").get(\"bottom_regions\")[2][1], \".2f\")}\\%) have a lower usage of SSLv2.0 version protocol on your websites.\n",
    "\n",
    "While the usage of SSLv3.0 version protocol is higher in private institutions in {report_results.get(\"Sslv3.0 (Private) %\").get(\"top_regions\")[0][0]} ({format(report_results.get(\"Sslv3.0 (Private) %\").get(\"top_regions\")[0][1], \".2f\")}\\%), {report_results.get(\"Sslv3.0 (Private) %\").get(\"top_regions\")[1][0]} ({format(report_results.get(\"Sslv3.0 (Private) %\").get(\"top_regions\")[1][1], \".2f\")}\\%), and {report_results.get(\"Sslv3.0 (Private) %\").get(\"top_regions\")[2][0]} ({format(report_results.get(\"Sslv3.0 (Private) %\").get(\"top_regions\")[2][1], \".2f\")}\\%), and public institutions in {report_results.get(\"Sslv3.0 (Public) %\").get(\"top_regions\")[0][0]} ({format(report_results.get(\"Sslv3.0 (Public) %\").get(\"top_regions\")[0][1], \".2f\")}\\%), {report_results.get(\"Sslv3.0 (Public) %\").get(\"top_regions\")[1][0]} ({format(report_results.get(\"Sslv3.0 (Public) %\").get(\"top_regions\")[1][1], \".2f\")}\\%), and {report_results.get(\"Sslv3.0 (Public) %\").get(\"top_regions\")[2][0]} ({format(report_results.get(\"Sslv3.0 (Public) %\").get(\"top_regions\")[2][1], \".2f\")}\\%) than in other regions, the usage of SSLv3.0 version protocol is lower in private institutions in {report_results.get(\"Sslv3.0 (Private) %\").get(\"bottom_regions\")[0][0]} ({format(report_results.get(\"Sslv3.0 (Private) %\").get(\"bottom_regions\")[0][1], \".2f\")}\\%), {report_results.get(\"Sslv3.0 (Private) %\").get(\"bottom_regions\")[1][0]} ({format(report_results.get(\"Sslv3.0 (Private) %\").get(\"bottom_regions\")[1][1], \".2f\")}\\%), and {report_results.get(\"Sslv3.0 (Private) %\").get(\"bottom_regions\")[2][0]} ({format(report_results.get(\"Sslv3.0 (Private) %\").get(\"bottom_regions\")[2][1], \".2f\")}\\%), and public institutions in {report_results.get(\"Sslv3.0 (Public) %\").get(\"bottom_regions\")[0][0]} ({format(report_results.get(\"Sslv3.0 (Public) %\").get(\"bottom_regions\")[0][1], \".2f\")}\\%), {report_results.get(\"Sslv3.0 (Public) %\").get(\"bottom_regions\")[1][0]} ({format(report_results.get(\"Sslv3.0 (Public) %\").get(\"bottom_regions\")[1][1], \".2f\")}\\%), and {report_results.get(\"Sslv3.0 (Public) %\").get(\"bottom_regions\")[2][0]} ({format(report_results.get(\"Sslv3.0 (Public) %\").get(\"bottom_regions\")[2][1], \".2f\")}\\%) than in other regions.\n",
    "\n",
    "The usage of TLSv1.0 version protocol is higher in private institutions in {report_results.get(\"Tlsv1.0 (Private) %\").get(\"top_regions\")[0][0]} ({format(report_results.get(\"Tlsv1.0 (Private) %\").get(\"top_regions\")[0][1], \".2f\")}\\%), {report_results.get(\"Tlsv1.0 (Private) %\").get(\"top_regions\")[1][0]} ({format(report_results.get(\"Tlsv1.0 (Private) %\").get(\"top_regions\")[1][1], \".2f\")}\\%), and {report_results.get(\"Tlsv1.0 (Private) %\").get(\"top_regions\")[2][0]} ({format(report_results.get(\"Tlsv1.0 (Private) %\").get(\"top_regions\")[2][1], \".2f\")}\\%), and public institutions in {report_results.get(\"Tlsv1.0 (Public) %\").get(\"top_regions\")[0][0]} ({format(report_results.get(\"Tlsv1.0 (Public) %\").get(\"top_regions\")[0][1], \".2f\")}\\%), {report_results.get(\"Tlsv1.0 (Public) %\").get(\"top_regions\")[1][0]} ({format(report_results.get(\"Tlsv1.0 (Public) %\").get(\"top_regions\")[1][1], \".2f\")}\\%), and {report_results.get(\"Tlsv1.0 (Public) %\").get(\"top_regions\")[2][0]} ({format(report_results.get(\"Tlsv1.0 (Public) %\").get(\"top_regions\")[2][1], \".2f\")}\\%) than in other regions, while the usage of TLSv1.0 version protocol is lower in private institutions in {report_results.get(\"Tlsv1.0 (Private) %\").get(\"bottom_regions\")[0][0]} ({format(report_results.get(\"Tlsv1.0 (Private) %\").get(\"bottom_regions\")[0][1], \".2f\")}\\%), {report_results.get(\"Tlsv1.0 (Private) %\").get(\"bottom_regions\")[1][0]} ({format(report_results.get(\"Tlsv1.0 (Private) %\").get(\"bottom_regions\")[1][1], \".2f\")}\\%), and {report_results.get(\"Tlsv1.0 (Private) %\").get(\"bottom_regions\")[2][0]} ({format(report_results.get(\"Tlsv1.0 (Private) %\").get(\"bottom_regions\")[2][1], \".2f\")}\\%), and public institutions in {report_results.get(\"Tlsv1.0 (Public) %\").get(\"bottom_regions\")[0][0]} ({format(report_results.get(\"Tlsv1.0 (Public) %\").get(\"bottom_regions\")[0][1], \".2f\")}\\%), {report_results.get(\"Tlsv1.0 (Public) %\").get(\"bottom_regions\")[1][0]} ({format(report_results.get(\"Tlsv1.0 (Public) %\").get(\"bottom_regions\")[1][1], \".2f\")}\\%), and {report_results.get(\"Tlsv1.0 (Public) %\").get(\"bottom_regions\")[2][0]} ({format(report_results.get(\"Tlsv1.0 (Public) %\").get(\"bottom_regions\")[2][1], \".2f\")}\\%) than in other regions.\n",
    "\n",
    "Already the use of TLSv1.1 version protocol is higher in private institutions in {report_results.get(\"Tlsv1.1 (Private) %\").get(\"top_regions\")[0][0]} ({format(report_results.get(\"Tlsv1.1 (Private) %\").get(\"top_regions\")[0][1], \".2f\")}\\%), {report_results.get(\"Tlsv1.1 (Private) %\").get(\"top_regions\")[1][0]} ({format(report_results.get(\"Tlsv1.1 (Private) %\").get(\"top_regions\")[1][1], \".2f\")}\\%), and {report_results.get(\"Tlsv1.1 (Private) %\").get(\"top_regions\")[2][0]} ({format(report_results.get(\"Tlsv1.1 (Private) %\").get(\"top_regions\")[2][1], \".2f\")}\\%), and public institutions in {report_results.get(\"Tlsv1.1 (Public) %\").get(\"top_regions\")[0][0]} ({format(report_results.get(\"Tlsv1.1 (Public) %\").get(\"top_regions\")[0][1], \".2f\")}\\%), {report_results.get(\"Tlsv1.1 (Public) %\").get(\"top_regions\")[1][0]} ({format(report_results.get(\"Tlsv1.1 (Public) %\").get(\"top_regions\")[1][1], \".2f\")}\\%), and {report_results.get(\"Tlsv1.1 (Public) %\").get(\"top_regions\")[2][0]} ({format(report_results.get(\"Tlsv1.1 (Public) %\").get(\"top_regions\")[2][1], \".2f\")}\\%) than in other regions, while the usage of TLSv1.1 version protocol is lower in private institutions in {report_results.get(\"Tlsv1.1 (Private) %\").get(\"bottom_regions\")[0][0]} ({format(report_results.get(\"Tlsv1.1 (Private) %\").get(\"bottom_regions\")[0][1], \".2f\")}\\%), {report_results.get(\"Tlsv1.1 (Private) %\").get(\"bottom_regions\")[1][0]} ({format(report_results.get(\"Tlsv1.1 (Private) %\").get(\"bottom_regions\")[1][1], \".2f\")}\\%), and {report_results.get(\"Tlsv1.1 (Private) %\").get(\"bottom_regions\")[2][0]} ({format(report_results.get(\"Tlsv1.1 (Private) %\").get(\"bottom_regions\")[2][1], \".2f\")}\\%), and public institutions in {report_results.get(\"Tlsv1.1 (Public) %\").get(\"bottom_regions\")[0][0]} ({format(report_results.get(\"Tlsv1.1 (Public) %\").get(\"bottom_regions\")[0][1], \".2f\")}\\%), {report_results.get(\"Tlsv1.1 (Public) %\").get(\"bottom_regions\")[1][0]} ({format(report_results.get(\"Tlsv1.1 (Public) %\").get(\"bottom_regions\")[1][1], \".2f\")}\\%), and {report_results.get(\"Tlsv1.1 (Public) %\").get(\"bottom_regions\")[2][0]} ({format(report_results.get(\"Tlsv1.1 (Public) %\").get(\"bottom_regions\")[2][1], \".2f\")}\\%) than in other regions.\n",
    "\n",
    "While the use of TLSv1.2 version protocol is higher in private institutions in {report_results.get(\"Tlsv1.2 (Private) %\").get(\"top_regions\")[0][0]} ({format(report_results.get(\"Tlsv1.2 (Private) %\").get(\"top_regions\")[0][1], \".2f\")}\\%), {report_results.get(\"Tlsv1.2 (Private) %\").get(\"top_regions\")[1][0]} ({format(report_results.get(\"Tlsv1.2 (Private) %\").get(\"top_regions\")[1][1], \".2f\")}\\%), and {report_results.get(\"Tlsv1.2 (Private) %\").get(\"top_regions\")[2][0]} ({format(report_results.get(\"Tlsv1.2 (Private) %\").get(\"top_regions\")[2][1], \".2f\")}\\%), and public institutions in {report_results.get(\"Tlsv1.2 (Public) %\").get(\"top_regions\")[0][0]} ({format(report_results.get(\"Tlsv1.2 (Public) %\").get(\"top_regions\")[0][1], \".2f\")}\\%), {report_results.get(\"Tlsv1.2 (Public) %\").get(\"top_regions\")[1][0]} ({format(report_results.get(\"Tlsv1.2 (Public) %\").get(\"top_regions\")[1][1], \".2f\")}\\%), and {report_results.get(\"Tlsv1.2 (Public) %\").get(\"top_regions\")[2][0]} ({format(report_results.get(\"Tlsv1.2 (Public) %\").get(\"top_regions\")[2][1], \".2f\")}\\%) than in other regions, while the usage of TLSv1.2 version protocol is lower in private institutions in {report_results.get(\"Tlsv1.2 (Private) %\").get(\"bottom_regions\")[0][0]} ({format(report_results.get(\"Tlsv1.2 (Private) %\").get(\"bottom_regions\")[0][1], \".2f\")}\\%), {report_results.get(\"Tlsv1.2 (Private) %\").get(\"bottom_regions\")[1][0]} ({format(report_results.get(\"Tlsv1.2 (Private) %\").get(\"bottom_regions\")[1][1], \".2f\")}\\%), and {report_results.get(\"Tlsv1.2 (Private) %\").get(\"bottom_regions\")[2][0]} ({format(report_results.get(\"Tlsv1.2 (Private) %\").get(\"bottom_regions\")[2][1], \".2f\")}\\%), and public institutions in {report_results.get(\"Tlsv1.2 (Public) %\").get(\"bottom_regions\")[0][0]} ({format(report_results.get(\"Tlsv1.2 (Public) %\").get(\"bottom_regions\")[0][1], \".2f\")}\\%), {report_results.get(\"Tlsv1.2 (Public) %\").get(\"bottom_regions\")[1][0]} ({format(report_results.get(\"Tlsv1.2 (Public) %\").get(\"bottom_regions\")[1][1], \".2f\")}\\%), and {report_results.get(\"Tlsv1.2 (Public) %\").get(\"bottom_regions\")[2][0]} ({format(report_results.get(\"Tlsv1.2 (Public) %\").get(\"bottom_regions\")[2][1], \".2f\")}\\%) than in other regions.\n",
    "\n",
    "Finally, the use of TLSv1.3 version protocol is higher in private institutions in {report_results.get(\"Tlsv1.3 (Private) %\").get(\"top_regions\")[0][0]} ({format(report_results.get(\"Tlsv1.3 (Private) %\").get(\"top_regions\")[0][1], \".2f\")}\\%), {report_results.get(\"Tlsv1.3 (Private) %\").get(\"top_regions\")[1][0]} ({format(report_results.get(\"Tlsv1.3 (Private) %\").get(\"top_regions\")[1][1], \".2f\")}\\%), and {report_results.get(\"Tlsv1.3 (Private) %\").get(\"top_regions\")[2][0]} ({format(report_results.get(\"Tlsv1.3 (Private) %\").get(\"top_regions\")[2][1], \".2f\")}\\%), and public institutions in {report_results.get(\"Tlsv1.3 (Public) %\").get(\"top_regions\")[0][0]} ({format(report_results.get(\"Tlsv1.3 (Public) %\").get(\"top_regions\")[0][1], \".2f\")}\\%), {report_results.get(\"Tlsv1.3 (Public) %\").get(\"top_regions\")[1][0]} ({format(report_results.get(\"Tlsv1.3 (Public) %\").get(\"top_regions\")[1][1], \".2f\")}\\%), and {report_results.get(\"Tlsv1.3 (Public) %\").get(\"top_regions\")[2][0]} ({format(report_results.get(\"Tlsv1.3 (Public) %\").get(\"top_regions\")[2][1], \".2f\")}\\%) than in other regions, while the usage of TLSv1.3 version protocol is lower in private institutions in {report_results.get(\"Tlsv1.3 (Private) %\").get(\"bottom_regions\")[0][0]} ({format(report_results.get(\"Tlsv1.3 (Private) %\").get(\"bottom_regions\")[0][1], \".2f\")}\\%), {report_results.get(\"Tlsv1.3 (Private) %\").get(\"bottom_regions\")[1][0]} ({format(report_results.get(\"Tlsv1.3 (Private) %\").get(\"bottom_regions\")[1][1], \".2f\")}\\%), and {report_results.get(\"Tlsv1.3 (Private) %\").get(\"bottom_regions\")[2][0]} ({format(report_results.get(\"Tlsv1.3 (Private) %\").get(\"bottom_regions\")[2][1], \".2f\")}\\%), and public institutions in {report_results.get(\"Tlsv1.3 (Public) %\").get(\"bottom_regions\")[0][0]} ({format(report_results.get(\"Tlsv1.3 (Public) %\").get(\"bottom_regions\")[0][1], \".2f\")}\\%), {report_results.get(\"Tlsv1.3 (Public) %\").get(\"bottom_regions\")[1][0]} ({format(report_results.get(\"Tlsv1.3 (Public) %\").get(\"bottom_regions\")[1][1], \".2f\")}\\%), and {report_results.get(\"Tlsv1.3 (Public) %\").get(\"bottom_regions\")[2][0]} ({format(report_results.get(\"Tlsv1.3 (Public) %\").get(\"bottom_regions\")[2][1], \".2f\")}\\%) than in other regions.\n",
    "\"\"\"\n",
    "\n",
    "print(report)\n",
    "# save report to file txt\n",
    "save_report(report=report, category=category, report_name=report_name)\n"
   ],
   "metadata": {
    "collapsed": false
   }
  },
  {
   "cell_type": "code",
   "execution_count": 58,
   "outputs": [
    {
     "data": {
      "text/plain": "       Region  Global #  Without Ssl (Public) #  Without Ssl (Public) %  \\\n0  California         2                       0                     0.0   \n1    Colorado         1                       0                     0.0   \n2     Florida         1                       0                     0.0   \n3     Georgia         1                       0                     0.0   \n4    Michigan         1                       0                     0.0   \n5   Minnesota         1                       0                     0.0   \n6    New York         1                       0                     0.0   \n7       Texas         2                       0                     0.0   \n8       Total        10                       0                     0.0   \n\n   Without Ssl (Private) #  Without Ssl (Private) %  \\\n0                        0                      0.0   \n1                        0                      0.0   \n2                        0                      0.0   \n3                        0                      0.0   \n4                        0                      0.0   \n5                        0                      0.0   \n6                        0                      0.0   \n7                        0                      0.0   \n8                        0                      0.0   \n\n   Valid Configuration (Public) #  Valid Configuration (Public) %  \\\n0                               0                             0.0   \n1                               1                           100.0   \n2                               0                             0.0   \n3                               0                             0.0   \n4                               0                             0.0   \n5                               0                             0.0   \n6                               0                             0.0   \n7                               0                             0.0   \n8                               1                            10.0   \n\n   Invalid Configuration (Public) #  Invalid Configuration (Public) %  \\\n0                                 0                               0.0   \n1                                 0                               0.0   \n2                                 0                               0.0   \n3                                 0                               0.0   \n4                                 0                               0.0   \n5                                 0                               0.0   \n6                                 0                               0.0   \n7                                 0                               0.0   \n8                                 0                               0.0   \n\n   Valid Configuration (Private) #  Valid Configuration (Private) %  \\\n0                                2                            100.0   \n1                                0                              0.0   \n2                                1                            100.0   \n3                                1                            100.0   \n4                                1                            100.0   \n5                                1                            100.0   \n6                                1                            100.0   \n7                                2                            100.0   \n8                                9                             90.0   \n\n   Invalid Configuration (Private) #  Invalid Configuration (Private) %  \n0                                  0                                0.0  \n1                                  0                                0.0  \n2                                  0                                0.0  \n3                                  0                                0.0  \n4                                  0                                0.0  \n5                                  0                                0.0  \n6                                  0                                0.0  \n7                                  0                                0.0  \n8                                  0                                0.0  ",
      "text/html": "<div>\n<style scoped>\n    .dataframe tbody tr th:only-of-type {\n        vertical-align: middle;\n    }\n\n    .dataframe tbody tr th {\n        vertical-align: top;\n    }\n\n    .dataframe thead th {\n        text-align: right;\n    }\n</style>\n<table border=\"1\" class=\"dataframe\">\n  <thead>\n    <tr style=\"text-align: right;\">\n      <th></th>\n      <th>Region</th>\n      <th>Global #</th>\n      <th>Without Ssl (Public) #</th>\n      <th>Without Ssl (Public) %</th>\n      <th>Without Ssl (Private) #</th>\n      <th>Without Ssl (Private) %</th>\n      <th>Valid Configuration (Public) #</th>\n      <th>Valid Configuration (Public) %</th>\n      <th>Invalid Configuration (Public) #</th>\n      <th>Invalid Configuration (Public) %</th>\n      <th>Valid Configuration (Private) #</th>\n      <th>Valid Configuration (Private) %</th>\n      <th>Invalid Configuration (Private) #</th>\n      <th>Invalid Configuration (Private) %</th>\n    </tr>\n  </thead>\n  <tbody>\n    <tr>\n      <th>0</th>\n      <td>California</td>\n      <td>2</td>\n      <td>0</td>\n      <td>0.0</td>\n      <td>0</td>\n      <td>0.0</td>\n      <td>0</td>\n      <td>0.0</td>\n      <td>0</td>\n      <td>0.0</td>\n      <td>2</td>\n      <td>100.0</td>\n      <td>0</td>\n      <td>0.0</td>\n    </tr>\n    <tr>\n      <th>1</th>\n      <td>Colorado</td>\n      <td>1</td>\n      <td>0</td>\n      <td>0.0</td>\n      <td>0</td>\n      <td>0.0</td>\n      <td>1</td>\n      <td>100.0</td>\n      <td>0</td>\n      <td>0.0</td>\n      <td>0</td>\n      <td>0.0</td>\n      <td>0</td>\n      <td>0.0</td>\n    </tr>\n    <tr>\n      <th>2</th>\n      <td>Florida</td>\n      <td>1</td>\n      <td>0</td>\n      <td>0.0</td>\n      <td>0</td>\n      <td>0.0</td>\n      <td>0</td>\n      <td>0.0</td>\n      <td>0</td>\n      <td>0.0</td>\n      <td>1</td>\n      <td>100.0</td>\n      <td>0</td>\n      <td>0.0</td>\n    </tr>\n    <tr>\n      <th>3</th>\n      <td>Georgia</td>\n      <td>1</td>\n      <td>0</td>\n      <td>0.0</td>\n      <td>0</td>\n      <td>0.0</td>\n      <td>0</td>\n      <td>0.0</td>\n      <td>0</td>\n      <td>0.0</td>\n      <td>1</td>\n      <td>100.0</td>\n      <td>0</td>\n      <td>0.0</td>\n    </tr>\n    <tr>\n      <th>4</th>\n      <td>Michigan</td>\n      <td>1</td>\n      <td>0</td>\n      <td>0.0</td>\n      <td>0</td>\n      <td>0.0</td>\n      <td>0</td>\n      <td>0.0</td>\n      <td>0</td>\n      <td>0.0</td>\n      <td>1</td>\n      <td>100.0</td>\n      <td>0</td>\n      <td>0.0</td>\n    </tr>\n    <tr>\n      <th>5</th>\n      <td>Minnesota</td>\n      <td>1</td>\n      <td>0</td>\n      <td>0.0</td>\n      <td>0</td>\n      <td>0.0</td>\n      <td>0</td>\n      <td>0.0</td>\n      <td>0</td>\n      <td>0.0</td>\n      <td>1</td>\n      <td>100.0</td>\n      <td>0</td>\n      <td>0.0</td>\n    </tr>\n    <tr>\n      <th>6</th>\n      <td>New York</td>\n      <td>1</td>\n      <td>0</td>\n      <td>0.0</td>\n      <td>0</td>\n      <td>0.0</td>\n      <td>0</td>\n      <td>0.0</td>\n      <td>0</td>\n      <td>0.0</td>\n      <td>1</td>\n      <td>100.0</td>\n      <td>0</td>\n      <td>0.0</td>\n    </tr>\n    <tr>\n      <th>7</th>\n      <td>Texas</td>\n      <td>2</td>\n      <td>0</td>\n      <td>0.0</td>\n      <td>0</td>\n      <td>0.0</td>\n      <td>0</td>\n      <td>0.0</td>\n      <td>0</td>\n      <td>0.0</td>\n      <td>2</td>\n      <td>100.0</td>\n      <td>0</td>\n      <td>0.0</td>\n    </tr>\n    <tr>\n      <th>8</th>\n      <td>Total</td>\n      <td>10</td>\n      <td>0</td>\n      <td>0.0</td>\n      <td>0</td>\n      <td>0.0</td>\n      <td>1</td>\n      <td>10.0</td>\n      <td>0</td>\n      <td>0.0</td>\n      <td>9</td>\n      <td>90.0</td>\n      <td>0</td>\n      <td>0.0</td>\n    </tr>\n  </tbody>\n</table>\n</div>"
     },
     "metadata": {},
     "output_type": "display_data"
    }
   ],
   "source": [
    "# Analyze of valid SSL/TLS by region\n",
    "\n",
    "# settings\n",
    "column_to_sort = 'Without SSL (Public) %'\n",
    "sort_ascending = False\n",
    "table_name = 'valid_ssl_by_region'\n",
    "\n",
    "columns_to_display = [region_column_name.title(), column_name_to_results_global]\n",
    "analysis_df = get_records_by_region(source_df)\n",
    "\n",
    "# create columns\n",
    "# Column creation with distribution of records without SSL by region\n",
    "only_public = 'category == \"Public\"'\n",
    "only_private = 'category == \"Private\"'\n",
    "create_column(source_df=source_df, analysis_dataframe=analysis_df, column_name='Without SSL (Public)', criteria=f'grade == \"M\" & {only_public}', columns_to_display=columns_to_display)\n",
    "create_column(source_df=source_df, analysis_dataframe=analysis_df, column_name='Without SSL (Private)', criteria=f'grade == \"M\" & {only_private}', columns_to_display=columns_to_display)\n",
    "# Creating column with the distribution of valid SSL/TLS by region\n",
    "create_column(source_df=source_df, analysis_dataframe=analysis_df, column_name='Valid Configuration (Public)', criteria=f'grade != \"M\" & is_valid == True & {only_public}', columns_to_display=columns_to_display)\n",
    "create_column(source_df=source_df, analysis_dataframe=analysis_df, column_name='Invalid Configuration (Public)', criteria=f'grade != \"M\" & is_valid == False & {only_public}', columns_to_display=columns_to_display)\n",
    "create_column(source_df=source_df, analysis_dataframe=analysis_df, column_name='Valid Configuration (Private)', criteria=f'grade != \"M\" & is_valid == True & {only_private}', columns_to_display=columns_to_display)\n",
    "create_column(source_df=source_df, analysis_dataframe=analysis_df, column_name='Invalid Configuration (Private)', criteria=f'grade != \"M\" & is_valid == False & {only_private}', columns_to_display=columns_to_display)\n",
    "\n",
    "# Finalize dataframe\n",
    "analysis_df = finalize_dataframe(dataframe=analysis_df, column_to_sort=column_to_sort, ascending=sort_ascending, columns_to_display=columns_to_display)\n",
    "display(analysis_df)\n",
    "\n",
    "# save to csv\n",
    "save_table(analysis_df, category=category, table_name=table_name)"
   ],
   "metadata": {
    "collapsed": false
   }
  },
  {
   "cell_type": "code",
   "execution_count": 59,
   "outputs": [
    {
     "name": "stdout",
     "output_type": "stream",
     "text": [
      "\n",
      "\\begin{figure}[htbp]\n",
      "    \\centering\n",
      "    \\includegraphics[width=0.48\\textwidth]{charts/valid_ssl_by_region.pdf}\n",
      "    \\caption{Distribution of valid configuration \\gls{ssl}/\\gls{tls} by region.}\\label{fig:valid-ssl}\n",
      "\\end{figure}\n",
      "\n",
      "\n",
      "\n",
      "Fig.~\\ref{fig:valid-ssl} presents an overview of the valid configuration of \\gls{ssl}/\\gls{tls} protocols at \\glspl{hei} in \\countryName.\n",
      "\n",
      "According to the data, \\gls{ssl}/\\gls{tls} protocols are configured correctly in 10.00\\% of the \\glspl{hei} public that are publicly accessible, and in 90.00\\% of the \\glspl{hei} private.\n",
      "\n",
      "On the other hand, 0.00\\% of the \\glspl{hei} public that are publicly accessible have an invalid configuration of \\gls{ssl}/\\gls{tls} protocols, and 0.00\\% of the \\glspl{hei} private.\n",
      "\n",
      "In terms of regional differences, private institutions in California (100.00\\%), Florida (100.00\\%), and Georgia (100.00\\%), and public institutions in Colorado (100.00\\%), California (0.00\\%), and Florida (0.00\\%) have the highest percentage of valid configuration of \\gls{ssl}/\\gls{tls} protocols.\n",
      "\n",
      "In contrast, private institutions in California (0.00\\%), Colorado (0.00\\%), and Florida (0.00\\%), and public institutions in California (0.00\\%), Colorado (0.00\\%), and Florida (0.00\\%) have the highest percentage of invalid configuration of \\gls{ssl}/\\gls{tls} protocols.\n",
      "\n"
     ]
    }
   ],
   "source": [
    "# Report in latex\n",
    "report_results = get_extreme_values(analysis_df)\n",
    "report_name = 'valid_ssl_by_region'\n",
    "\n",
    "hei_public_valid = format(report_results.get(\"Total\").get(\"Valid Configuration (Public) %\"), \".2f\")\n",
    "hei_public_invalid = format(report_results.get(\"Total\").get(\"Invalid Configuration (Public) %\"), \".2f\")\n",
    "\n",
    "hei_private_valid = format(report_results.get(\"Total\").get(\"Valid Configuration (Private) %\"), \".2f\")\n",
    "hei_private_invalid = format(report_results.get(\"Total\").get(\"Invalid Configuration (Private) %\"), \".2f\")\n",
    "\n",
    "report_figure = f\"\"\"\n",
    "\\\\begin{{figure}}[htbp]\n",
    "    \\centering\n",
    "    \\includegraphics[width=0.48\\\\textwidth]{{charts/{report_name}.pdf}}\n",
    "    \\caption{{Distribution of valid configuration \\gls{{ssl}}/\\gls{{tls}} by region.}}\\label{{fig:valid-ssl}}\n",
    "\\end{{figure}}\n",
    "\"\"\"\n",
    "\n",
    "report = f'{report_figure}\\n\\n'\n",
    "\n",
    "report += f\"\"\"\n",
    "Fig.~\\\\ref{{fig:valid-ssl}} presents an overview of the valid configuration of \\gls{{ssl}}/\\gls{{tls}} protocols at \\glspl{{hei}} in \\countryName.\n",
    "\n",
    "According to the data, \\gls{{ssl}}/\\gls{{tls}} protocols are configured correctly in {hei_public_valid}\\% of the \\glspl{{hei}} public that are publicly accessible, and in {hei_private_valid}\\% of the \\glspl{{hei}} private.\n",
    "\n",
    "On the other hand, {hei_public_invalid}\\% of the \\glspl{{hei}} public that are publicly accessible have an invalid configuration of \\gls{{ssl}}/\\gls{{tls}} protocols, and {hei_private_invalid}\\% of the \\glspl{{hei}} private.\n",
    "\n",
    "In terms of regional differences, private institutions in {report_results.get(\"Valid Configuration (Private) %\").get(\"top_regions\")[0][0]} ({format(report_results.get(\"Valid Configuration (Private) %\").get(\"top_regions\")[0][1], \".2f\")}\\%), {report_results.get(\"Valid Configuration (Private) %\").get(\"top_regions\")[1][0]} ({format(report_results.get(\"Valid Configuration (Private) %\").get(\"top_regions\")[1][1], \".2f\")}\\%), and {report_results.get(\"Valid Configuration (Private) %\").get(\"top_regions\")[2][0]} ({format(report_results.get(\"Valid Configuration (Private) %\").get(\"top_regions\")[2][1], \".2f\")}\\%), and public institutions in {report_results.get(\"Valid Configuration (Public) %\").get(\"top_regions\")[0][0]} ({format(report_results.get(\"Valid Configuration (Public) %\").get(\"top_regions\")[0][1], \".2f\")}\\%), {report_results.get(\"Valid Configuration (Public) %\").get(\"top_regions\")[1][0]} ({format(report_results.get(\"Valid Configuration (Public) %\").get(\"top_regions\")[1][1], \".2f\")}\\%), and {report_results.get(\"Valid Configuration (Public) %\").get(\"top_regions\")[2][0]} ({format(report_results.get(\"Valid Configuration (Public) %\").get(\"top_regions\")[2][1], \".2f\")}\\%) have the highest percentage of valid configuration of \\gls{{ssl}}/\\gls{{tls}} protocols.\n",
    "\n",
    "In contrast, private institutions in {report_results.get(\"Invalid Configuration (Private) %\").get(\"top_regions\")[0][0]} ({format(report_results.get(\"Invalid Configuration (Private) %\").get(\"top_regions\")[0][1], \".2f\")}\\%), {report_results.get(\"Invalid Configuration (Private) %\").get(\"top_regions\")[1][0]} ({format(report_results.get(\"Invalid Configuration (Private) %\").get(\"top_regions\")[1][1], \".2f\")}\\%), and {report_results.get(\"Invalid Configuration (Private) %\").get(\"top_regions\")[2][0]} ({format(report_results.get(\"Invalid Configuration (Private) %\").get(\"top_regions\")[2][1], \".2f\")}\\%), and public institutions in {report_results.get(\"Invalid Configuration (Public) %\").get(\"top_regions\")[0][0]} ({format(report_results.get(\"Invalid Configuration (Public) %\").get(\"top_regions\")[0][1], \".2f\")}\\%), {report_results.get(\"Invalid Configuration (Public) %\").get(\"top_regions\")[1][0]} ({format(report_results.get(\"Invalid Configuration (Public) %\").get(\"top_regions\")[1][1], \".2f\")}\\%), and {report_results.get(\"Invalid Configuration (Public) %\").get(\"top_regions\")[2][0]} ({format(report_results.get(\"Invalid Configuration (Public) %\").get(\"top_regions\")[2][1], \".2f\")}\\%) have the highest percentage of invalid configuration of \\gls{{ssl}}/\\gls{{tls}} protocols.\n",
    "\"\"\"\n",
    "\n",
    "print(report)\n",
    "# save report to file txt\n",
    "save_report(report=report, category=category, report_name=report_name)"
   ],
   "metadata": {
    "collapsed": false
   }
  },
  {
   "cell_type": "code",
   "execution_count": 59,
   "outputs": [],
   "source": [],
   "metadata": {
    "collapsed": false
   }
  }
 ],
 "metadata": {
  "kernelspec": {
   "display_name": "Python 3",
   "language": "python",
   "name": "python3"
  },
  "language_info": {
   "codemirror_mode": {
    "name": "ipython",
    "version": 2
   },
   "file_extension": ".py",
   "mimetype": "text/x-python",
   "name": "python",
   "nbconvert_exporter": "python",
   "pygments_lexer": "ipython2",
   "version": "2.7.6"
  }
 },
 "nbformat": 4,
 "nbformat_minor": 0
}
