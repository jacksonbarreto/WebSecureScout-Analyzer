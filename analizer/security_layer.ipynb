{
 "cells": [
  {
   "cell_type": "code",
   "execution_count": 1,
   "metadata": {
    "collapsed": true,
    "ExecuteTime": {
     "end_time": "2023-06-22T10:55:04.688594900Z",
     "start_time": "2023-06-22T10:55:03.946596700Z"
    }
   },
   "outputs": [],
   "source": [
    "from utilities.utilities import load_data, get_records_by_region, create_column, finalize_dataframe, get_extreme_values, create_directory_structure, save_table, save_report, pd, assign_quartile, rank_key_size\n",
    "# settings\n",
    "region_column_name = 'Region'\n",
    "\n",
    "category = 'security_layer'\n",
    "column_name_to_results_global = 'Global #'\n",
    "create_directory_structure()\n",
    "\n",
    "\n",
    "\n",
    "source_df = load_data('security_layer_checker')"
   ]
  },
  {
   "cell_type": "code",
   "execution_count": 2,
   "outputs": [
    {
     "name": "stdout",
     "output_type": "stream",
     "text": [
      "<class 'pandas.core.frame.DataFrame'>\n",
      "RangeIndex: 458 entries, 0 to 457\n",
      "Data columns (total 35 columns):\n",
      " #   Column                      Non-Null Count  Dtype \n",
      "---  ------                      --------------  ----- \n",
      " 0   id                          458 non-null    int64 \n",
      " 1   region                      458 non-null    object\n",
      " 2   name                        458 non-null    object\n",
      " 3   category                    458 non-null    object\n",
      " 4   url                         458 non-null    object\n",
      " 5   grade                       458 non-null    object\n",
      " 6   SSLv2.0                     458 non-null    bool  \n",
      " 7   SSLv3.0                     458 non-null    bool  \n",
      " 8   TLSv1.0                     458 non-null    bool  \n",
      " 9   TLSv1.1                     458 non-null    bool  \n",
      " 10  TLSv1.2                     458 non-null    bool  \n",
      " 11  TLSv1.3                     458 non-null    bool  \n",
      " 12  dns_caa                     458 non-null    bool  \n",
      " 13  issuer                      454 non-null    object\n",
      " 14  key_size                    458 non-null    int64 \n",
      " 15  key_alg                     454 non-null    object\n",
      " 16  signature_alg               454 non-null    object\n",
      " 17  must_staple                 458 non-null    bool  \n",
      " 18  sct                         458 non-null    bool  \n",
      " 19  subject                     454 non-null    object\n",
      " 20  is_valid                    458 non-null    bool  \n",
      " 21  cert_chain_trust            458 non-null    bool  \n",
      " 22  beast                       458 non-null    bool  \n",
      " 23  heartbleed                  458 non-null    bool  \n",
      " 24  poodle                      458 non-null    bool  \n",
      " 25  freak                       458 non-null    bool  \n",
      " 26  ccs_injection               458 non-null    object\n",
      " 27  lucky_minus20               458 non-null    object\n",
      " 28  ticket_bleed                458 non-null    object\n",
      " 29  bleichenbacher              458 non-null    object\n",
      " 30  zombie_poodle               458 non-null    object\n",
      " 31  golden_doodle               458 non-null    object\n",
      " 32  zero_length_padding_oracle  458 non-null    object\n",
      " 33  sleeping_poodle             458 non-null    object\n",
      " 34  poodle_tls                  458 non-null    object\n",
      "dtypes: bool(15), int64(2), object(18)\n",
      "memory usage: 78.4+ KB\n"
     ]
    }
   ],
   "source": [
    "source_df.info()"
   ],
   "metadata": {
    "collapsed": false,
    "ExecuteTime": {
     "end_time": "2023-06-20T09:42:53.722237900Z",
     "start_time": "2023-06-20T09:42:53.652241100Z"
    }
   }
  },
  {
   "cell_type": "code",
   "execution_count": 2,
   "outputs": [],
   "source": [
    "# sanity dataset\n",
    "source_df.loc[source_df['grade'].isna(), 'grade'] = 'M'"
   ],
   "metadata": {
    "collapsed": false,
    "ExecuteTime": {
     "end_time": "2023-06-22T10:55:05.549748500Z",
     "start_time": "2023-06-22T10:55:05.510750700Z"
    }
   }
  },
  {
   "cell_type": "code",
   "execution_count": 5,
   "outputs": [],
   "source": [
    "# Analyze of CA (pub/Pvt)\n",
    "\n",
    "# settings\n",
    "sort_ascending = False\n",
    "config = [\n",
    "    {'table_name': 'ca_public', 'hei_type': 'Public'},\n",
    "    {'table_name': 'ca_private', 'hei_type': 'Private'}\n",
    "]\n",
    "for config_item in config:\n",
    "    table_name = config_item['table_name']\n",
    "    hei_type = config_item['hei_type']\n",
    "\n",
    "    filtered_df = source_df.query(f'grade != \"M\" & category == \"{hei_type}\"').groupby('issuer').count()['url'].sort_values(ascending=False)\n",
    "    top_5_df = filtered_df.head(5).reset_index()\n",
    "    other_total = filtered_df[5:].sum()\n",
    "\n",
    "    top_5_df.loc[5] = ['Others', other_total]\n",
    "    top_5_df['percentual'] = (top_5_df['url'] / top_5_df['url'].sum()) * 100\n",
    "    top_5_df.columns = ['Certificate Authority', 'Total #', 'Total %']\n",
    "    top_5_df.reset_index(drop=True, inplace=True)\n",
    "\n",
    "    # save to csv\n",
    "    save_table(top_5_df, category=category, table_name=table_name)"
   ],
   "metadata": {
    "collapsed": false,
    "ExecuteTime": {
     "end_time": "2023-06-20T09:44:32.864822100Z",
     "start_time": "2023-06-20T09:44:32.784830100Z"
    }
   }
  },
  {
   "cell_type": "code",
   "execution_count": 2,
   "outputs": [
    {
     "ename": "ValueError",
     "evalue": "Percent sum is not equal to 100 for row 9: 98.50746268656717",
     "output_type": "error",
     "traceback": [
      "\u001B[1;31m---------------------------------------------------------------------------\u001B[0m",
      "\u001B[1;31mValueError\u001B[0m                                Traceback (most recent call last)",
      "Input \u001B[1;32mIn [2]\u001B[0m, in \u001B[0;36m<cell line: 26>\u001B[1;34m()\u001B[0m\n\u001B[0;32m     22\u001B[0m     create_column(source_df\u001B[38;5;241m=\u001B[39msource_df, analysis_dataframe\u001B[38;5;241m=\u001B[39manalysis_df, column_name\u001B[38;5;241m=\u001B[39m\u001B[38;5;124mf\u001B[39m\u001B[38;5;124m'\u001B[39m\u001B[38;5;132;01m{\u001B[39;00mkey_length\u001B[38;5;132;01m}\u001B[39;00m\u001B[38;5;124m (\u001B[39m\u001B[38;5;132;01m{\u001B[39;00malgorithm\u001B[38;5;132;01m}\u001B[39;00m\u001B[38;5;124m) (Private)\u001B[39m\u001B[38;5;124m'\u001B[39m, criteria\u001B[38;5;241m=\u001B[39m\u001B[38;5;124mf\u001B[39m\u001B[38;5;124m'\u001B[39m\u001B[38;5;124mgrade != \u001B[39m\u001B[38;5;124m\"\u001B[39m\u001B[38;5;124mM\u001B[39m\u001B[38;5;124m\"\u001B[39m\u001B[38;5;124m & key_size == \u001B[39m\u001B[38;5;132;01m{\u001B[39;00mkey_length\u001B[38;5;132;01m}\u001B[39;00m\u001B[38;5;124m & \u001B[39m\u001B[38;5;132;01m{\u001B[39;00monly_private\u001B[38;5;132;01m}\u001B[39;00m\u001B[38;5;124m'\u001B[39m, columns_to_display\u001B[38;5;241m=\u001B[39mcolumns_to_display)\n\u001B[0;32m     25\u001B[0m \u001B[38;5;66;03m# Finalize dataframe\u001B[39;00m\n\u001B[1;32m---> 26\u001B[0m analysis_df \u001B[38;5;241m=\u001B[39m \u001B[43mfinalize_dataframe\u001B[49m\u001B[43m(\u001B[49m\u001B[43mdataframe\u001B[49m\u001B[38;5;241;43m=\u001B[39;49m\u001B[43manalysis_df\u001B[49m\u001B[43m,\u001B[49m\u001B[43m \u001B[49m\u001B[43mcolumn_to_sort\u001B[49m\u001B[38;5;241;43m=\u001B[39;49m\u001B[43mcolumn_to_sort\u001B[49m\u001B[43m,\u001B[49m\u001B[43m \u001B[49m\u001B[43mascending\u001B[49m\u001B[38;5;241;43m=\u001B[39;49m\u001B[43msort_ascending\u001B[49m\u001B[43m,\u001B[49m\u001B[43m \u001B[49m\u001B[43mcolumns_to_display\u001B[49m\u001B[38;5;241;43m=\u001B[39;49m\u001B[43mcolumns_to_display\u001B[49m\u001B[43m)\u001B[49m\n\u001B[0;32m     27\u001B[0m display(analysis_df)\n\u001B[0;32m     29\u001B[0m \u001B[38;5;66;03m# save to csv\u001B[39;00m\n",
      "File \u001B[1;32m~\\Dropbox\\Produção Acadêmica\\Artigos\\Overview cibersecurity online HEIS\\Germany\\results\\WebSecureScout-Analyzer\\utilities\\utilities.py:192\u001B[0m, in \u001B[0;36mfinalize_dataframe\u001B[1;34m(dataframe, columns_to_display, column_to_sort, ascending, region_column_name)\u001B[0m\n\u001B[0;32m    190\u001B[0m columns_to_display \u001B[38;5;241m=\u001B[39m [column \u001B[38;5;28;01mfor\u001B[39;00m column \u001B[38;5;129;01min\u001B[39;00m columns_to_display]\n\u001B[0;32m    191\u001B[0m dataframe \u001B[38;5;241m=\u001B[39m dataframe[columns_to_display]\n\u001B[1;32m--> 192\u001B[0m \u001B[43mvalidate_row_percent\u001B[49m\u001B[43m(\u001B[49m\u001B[43mdataframe\u001B[49m\u001B[43m)\u001B[49m\n\u001B[0;32m    193\u001B[0m \u001B[38;5;28;01mreturn\u001B[39;00m dataframe\n",
      "File \u001B[1;32m~\\Dropbox\\Produção Acadêmica\\Artigos\\Overview cibersecurity online HEIS\\Germany\\results\\WebSecureScout-Analyzer\\utilities\\utilities.py:141\u001B[0m, in \u001B[0;36mvalidate_row_percent\u001B[1;34m(dataframe)\u001B[0m\n\u001B[0;32m    139\u001B[0m         percent_sum \u001B[38;5;241m+\u001B[39m\u001B[38;5;241m=\u001B[39m row[column_name]\n\u001B[0;32m    140\u001B[0m \u001B[38;5;28;01mif\u001B[39;00m \u001B[38;5;28mabs\u001B[39m(percent_sum \u001B[38;5;241m-\u001B[39m \u001B[38;5;241m100\u001B[39m) \u001B[38;5;241m>\u001B[39m \u001B[38;5;241m0.00001\u001B[39m:\n\u001B[1;32m--> 141\u001B[0m     \u001B[38;5;28;01mraise\u001B[39;00m \u001B[38;5;167;01mValueError\u001B[39;00m(\u001B[38;5;124mf\u001B[39m\u001B[38;5;124m\"\u001B[39m\u001B[38;5;124mPercent sum is not equal to 100 for row \u001B[39m\u001B[38;5;132;01m{\u001B[39;00mindex\u001B[38;5;132;01m}\u001B[39;00m\u001B[38;5;124m: \u001B[39m\u001B[38;5;132;01m{\u001B[39;00mpercent_sum\u001B[38;5;132;01m}\u001B[39;00m\u001B[38;5;124m\"\u001B[39m)\n",
      "\u001B[1;31mValueError\u001B[0m: Percent sum is not equal to 100 for row 9: 98.50746268656717"
     ]
    }
   ],
   "source": [
    "# Analyze of key length by region\n",
    "\n",
    "# settings\n",
    "column_to_sort = 'Without SSL (Public) %'\n",
    "sort_ascending = False\n",
    "table_name = 'key_length_by_region'\n",
    "\n",
    "columns_to_display = [region_column_name.title(), column_name_to_results_global]\n",
    "analysis_df = get_records_by_region(source_df)\n",
    "\n",
    "# create columns\n",
    "# Column creation with distribution of records without SSL by region\n",
    "only_public = 'category == \"Public\"'\n",
    "only_private = 'category == \"Private\"'\n",
    "create_column(source_df=source_df, analysis_dataframe=analysis_df, column_name='Without SSL (Public)', criteria=f'grade == \"M\" & {only_public}', columns_to_display=columns_to_display)\n",
    "create_column(source_df=source_df, analysis_dataframe=analysis_df, column_name='Without SSL (Private)', criteria=f'grade == \"M\" & {only_private}', columns_to_display=columns_to_display)\n",
    "# Creating column with the distribution of Key Length by region\n",
    "key_lengths = [256, 384, 1024, 2048, 3072, 4096]\n",
    "for key_length in key_lengths:\n",
    "    algorithm = 'RSA' if key_length >= 1024 else 'ECC'\n",
    "    create_column(source_df=source_df, analysis_dataframe=analysis_df, column_name=f'{key_length} ({algorithm}) (Public)', criteria=f'grade != \"M\" & key_size == {key_length} & {only_public}', columns_to_display=columns_to_display)\n",
    "    create_column(source_df=source_df, analysis_dataframe=analysis_df, column_name=f'{key_length} ({algorithm}) (Private)', criteria=f'grade != \"M\" & key_size == {key_length} & {only_private}', columns_to_display=columns_to_display)\n",
    "\n",
    "\n",
    "# Finalize dataframe\n",
    "analysis_df = finalize_dataframe(dataframe=analysis_df, column_to_sort=column_to_sort, ascending=sort_ascending, columns_to_display=columns_to_display)\n",
    "display(analysis_df)\n",
    "\n",
    "# save to csv\n",
    "save_table(analysis_df, category=category, table_name=table_name)"
   ],
   "metadata": {
    "collapsed": false,
    "ExecuteTime": {
     "end_time": "2023-06-20T10:17:00.217381500Z",
     "start_time": "2023-06-20T10:16:56.845298800Z"
    }
   }
  },
  {
   "cell_type": "code",
   "execution_count": 5,
   "outputs": [
    {
     "data": {
      "text/plain": "                        url  key_size grade                        issuer\n274           www.fh-swf.de      8192     B  DFN-Verein Global Issuing CA\n322          www.hs-kehl.de         0     M                           NaN\n324  www.fh-schwetzingen.de         0     M                           NaN\n330      www.fh-guestrow.de         0     M                           NaN\n389   www.pa.polizei-nds.de         0     M                           NaN",
      "text/html": "<div>\n<style scoped>\n    .dataframe tbody tr th:only-of-type {\n        vertical-align: middle;\n    }\n\n    .dataframe tbody tr th {\n        vertical-align: top;\n    }\n\n    .dataframe thead th {\n        text-align: right;\n    }\n</style>\n<table border=\"1\" class=\"dataframe\">\n  <thead>\n    <tr style=\"text-align: right;\">\n      <th></th>\n      <th>url</th>\n      <th>key_size</th>\n      <th>grade</th>\n      <th>issuer</th>\n    </tr>\n  </thead>\n  <tbody>\n    <tr>\n      <th>274</th>\n      <td>www.fh-swf.de</td>\n      <td>8192</td>\n      <td>B</td>\n      <td>DFN-Verein Global Issuing CA</td>\n    </tr>\n    <tr>\n      <th>322</th>\n      <td>www.hs-kehl.de</td>\n      <td>0</td>\n      <td>M</td>\n      <td>NaN</td>\n    </tr>\n    <tr>\n      <th>324</th>\n      <td>www.fh-schwetzingen.de</td>\n      <td>0</td>\n      <td>M</td>\n      <td>NaN</td>\n    </tr>\n    <tr>\n      <th>330</th>\n      <td>www.fh-guestrow.de</td>\n      <td>0</td>\n      <td>M</td>\n      <td>NaN</td>\n    </tr>\n    <tr>\n      <th>389</th>\n      <td>www.pa.polizei-nds.de</td>\n      <td>0</td>\n      <td>M</td>\n      <td>NaN</td>\n    </tr>\n  </tbody>\n</table>\n</div>"
     },
     "metadata": {},
     "output_type": "display_data"
    }
   ],
   "source": [
    "pub = source_df[source_df['category'] == 'Public']\n",
    "criteria = 'key_size != 256 & key_size != 384 & key_size != 1024 & key_size != 2048 & key_size != 3072 & key_size != 4096'\n",
    "strange = pub.query(criteria)\n",
    "display(strange[['url', 'key_size', 'grade', 'issuer']])\n",
    "# reescreva otimizadamente a consulta anterior\n"
   ],
   "metadata": {
    "collapsed": false,
    "ExecuteTime": {
     "end_time": "2023-06-20T10:17:54.668978400Z",
     "start_time": "2023-06-20T10:17:54.613978800Z"
    }
   }
  },
  {
   "cell_type": "code",
   "execution_count": 3,
   "outputs": [
    {
     "name": "stdout",
     "output_type": "stream",
     "text": [
      "[2048, 3072, 256, 4096, 384, 8192]\n"
     ]
    }
   ],
   "source": [
    "key_lengths = source_df['key_size'].unique()\n",
    "# Remova o valor zero, caso esteja presente\n",
    "key_lengths = [key_length for key_length in key_lengths if key_length != 0]\n",
    "\n",
    "# Ordenar os tamanhos de chave com base no mapeamento personalizado\n",
    "key_lengths = sorted(key_lengths, key=rank_key_size)\n",
    "print(key_lengths)"
   ],
   "metadata": {
    "collapsed": false,
    "ExecuteTime": {
     "end_time": "2023-06-21T10:57:20.342273300Z",
     "start_time": "2023-06-21T10:57:20.317272900Z"
    }
   }
  },
  {
   "cell_type": "code",
   "execution_count": 6,
   "outputs": [
    {
     "data": {
      "text/plain": "                    Region  Global #  Without SSL #  Without SSL %  \\\n0   Mecklenburg-Vorpommern         7              1      14.285714   \n1            Niedersachsen        21              1       4.761905   \n2        Baden-Württemberg        48              2       4.166667   \n3                   Bayern        34              0       0.000000   \n4                   Berlin        12              0       0.000000   \n5              Brandenburg        10              0       0.000000   \n6                   Bremen         5              0       0.000000   \n7                  Hamburg        10              0       0.000000   \n8                   Hessen        22              0       0.000000   \n9      Nordrhein-Westfalen        42              0       0.000000   \n10         Rheinland-Pfalz        15              0       0.000000   \n11                Saarland         5              0       0.000000   \n12                 Sachsen        23              0       0.000000   \n13          Sachsen-Anhalt         8              0       0.000000   \n14      Schleswig-Holstein        10              0       0.000000   \n15               Thüringen        11              0       0.000000   \n16                   Total       283              4       1.413428   \n\n    2048 (RSA) #  2048 (RSA) %  3072 (RSA) #  3072 (RSA) %  256 (ECC) #  \\\n0              0      0.000000             0      0.000000            0   \n1             11     52.380952             0      0.000000            0   \n2             22     45.833333             0      0.000000            5   \n3             15     44.117647             0      0.000000            2   \n4              5     41.666667             0      0.000000            2   \n5              6     60.000000             0      0.000000            0   \n6              1     20.000000             0      0.000000            0   \n7              7     70.000000             0      0.000000            0   \n8              7     31.818182             0      0.000000            1   \n9             22     52.380952             0      0.000000            0   \n10             7     46.666667             0      0.000000            0   \n11             2     40.000000             0      0.000000            0   \n12            12     52.173913             1      4.347826            0   \n13             4     50.000000             0      0.000000            1   \n14             4     40.000000             0      0.000000            0   \n15             7     63.636364             0      0.000000            0   \n16           132     46.643110             1      0.353357           11   \n\n    256 (ECC) %  4096 (RSA) #  4096 (RSA) %  384 (ECC) #  384 (ECC) %  \\\n0      0.000000             6     85.714286            0     0.000000   \n1      0.000000             9     42.857143            0     0.000000   \n2     10.416667            18     37.500000            1     2.083333   \n3      5.882353            17     50.000000            0     0.000000   \n4     16.666667             5     41.666667            0     0.000000   \n5      0.000000             3     30.000000            1    10.000000   \n6      0.000000             4     80.000000            0     0.000000   \n7      0.000000             2     20.000000            1    10.000000   \n8      4.545455            14     63.636364            0     0.000000   \n9      0.000000            17     40.476190            2     4.761905   \n10     0.000000             7     46.666667            1     6.666667   \n11     0.000000             3     60.000000            0     0.000000   \n12     0.000000            10     43.478261            0     0.000000   \n13    12.500000             3     37.500000            0     0.000000   \n14     0.000000             5     50.000000            1    10.000000   \n15     0.000000             4     36.363636            0     0.000000   \n16     3.886926           127     44.876325            7     2.473498   \n\n    8192 (RSA) #  8192 (RSA) %  \n0              0      0.000000  \n1              0      0.000000  \n2              0      0.000000  \n3              0      0.000000  \n4              0      0.000000  \n5              0      0.000000  \n6              0      0.000000  \n7              0      0.000000  \n8              0      0.000000  \n9              1      2.380952  \n10             0      0.000000  \n11             0      0.000000  \n12             0      0.000000  \n13             0      0.000000  \n14             0      0.000000  \n15             0      0.000000  \n16             1      0.353357  ",
      "text/html": "<div>\n<style scoped>\n    .dataframe tbody tr th:only-of-type {\n        vertical-align: middle;\n    }\n\n    .dataframe tbody tr th {\n        vertical-align: top;\n    }\n\n    .dataframe thead th {\n        text-align: right;\n    }\n</style>\n<table border=\"1\" class=\"dataframe\">\n  <thead>\n    <tr style=\"text-align: right;\">\n      <th></th>\n      <th>Region</th>\n      <th>Global #</th>\n      <th>Without SSL #</th>\n      <th>Without SSL %</th>\n      <th>2048 (RSA) #</th>\n      <th>2048 (RSA) %</th>\n      <th>3072 (RSA) #</th>\n      <th>3072 (RSA) %</th>\n      <th>256 (ECC) #</th>\n      <th>256 (ECC) %</th>\n      <th>4096 (RSA) #</th>\n      <th>4096 (RSA) %</th>\n      <th>384 (ECC) #</th>\n      <th>384 (ECC) %</th>\n      <th>8192 (RSA) #</th>\n      <th>8192 (RSA) %</th>\n    </tr>\n  </thead>\n  <tbody>\n    <tr>\n      <th>0</th>\n      <td>Mecklenburg-Vorpommern</td>\n      <td>7</td>\n      <td>1</td>\n      <td>14.285714</td>\n      <td>0</td>\n      <td>0.000000</td>\n      <td>0</td>\n      <td>0.000000</td>\n      <td>0</td>\n      <td>0.000000</td>\n      <td>6</td>\n      <td>85.714286</td>\n      <td>0</td>\n      <td>0.000000</td>\n      <td>0</td>\n      <td>0.000000</td>\n    </tr>\n    <tr>\n      <th>1</th>\n      <td>Niedersachsen</td>\n      <td>21</td>\n      <td>1</td>\n      <td>4.761905</td>\n      <td>11</td>\n      <td>52.380952</td>\n      <td>0</td>\n      <td>0.000000</td>\n      <td>0</td>\n      <td>0.000000</td>\n      <td>9</td>\n      <td>42.857143</td>\n      <td>0</td>\n      <td>0.000000</td>\n      <td>0</td>\n      <td>0.000000</td>\n    </tr>\n    <tr>\n      <th>2</th>\n      <td>Baden-Württemberg</td>\n      <td>48</td>\n      <td>2</td>\n      <td>4.166667</td>\n      <td>22</td>\n      <td>45.833333</td>\n      <td>0</td>\n      <td>0.000000</td>\n      <td>5</td>\n      <td>10.416667</td>\n      <td>18</td>\n      <td>37.500000</td>\n      <td>1</td>\n      <td>2.083333</td>\n      <td>0</td>\n      <td>0.000000</td>\n    </tr>\n    <tr>\n      <th>3</th>\n      <td>Bayern</td>\n      <td>34</td>\n      <td>0</td>\n      <td>0.000000</td>\n      <td>15</td>\n      <td>44.117647</td>\n      <td>0</td>\n      <td>0.000000</td>\n      <td>2</td>\n      <td>5.882353</td>\n      <td>17</td>\n      <td>50.000000</td>\n      <td>0</td>\n      <td>0.000000</td>\n      <td>0</td>\n      <td>0.000000</td>\n    </tr>\n    <tr>\n      <th>4</th>\n      <td>Berlin</td>\n      <td>12</td>\n      <td>0</td>\n      <td>0.000000</td>\n      <td>5</td>\n      <td>41.666667</td>\n      <td>0</td>\n      <td>0.000000</td>\n      <td>2</td>\n      <td>16.666667</td>\n      <td>5</td>\n      <td>41.666667</td>\n      <td>0</td>\n      <td>0.000000</td>\n      <td>0</td>\n      <td>0.000000</td>\n    </tr>\n    <tr>\n      <th>5</th>\n      <td>Brandenburg</td>\n      <td>10</td>\n      <td>0</td>\n      <td>0.000000</td>\n      <td>6</td>\n      <td>60.000000</td>\n      <td>0</td>\n      <td>0.000000</td>\n      <td>0</td>\n      <td>0.000000</td>\n      <td>3</td>\n      <td>30.000000</td>\n      <td>1</td>\n      <td>10.000000</td>\n      <td>0</td>\n      <td>0.000000</td>\n    </tr>\n    <tr>\n      <th>6</th>\n      <td>Bremen</td>\n      <td>5</td>\n      <td>0</td>\n      <td>0.000000</td>\n      <td>1</td>\n      <td>20.000000</td>\n      <td>0</td>\n      <td>0.000000</td>\n      <td>0</td>\n      <td>0.000000</td>\n      <td>4</td>\n      <td>80.000000</td>\n      <td>0</td>\n      <td>0.000000</td>\n      <td>0</td>\n      <td>0.000000</td>\n    </tr>\n    <tr>\n      <th>7</th>\n      <td>Hamburg</td>\n      <td>10</td>\n      <td>0</td>\n      <td>0.000000</td>\n      <td>7</td>\n      <td>70.000000</td>\n      <td>0</td>\n      <td>0.000000</td>\n      <td>0</td>\n      <td>0.000000</td>\n      <td>2</td>\n      <td>20.000000</td>\n      <td>1</td>\n      <td>10.000000</td>\n      <td>0</td>\n      <td>0.000000</td>\n    </tr>\n    <tr>\n      <th>8</th>\n      <td>Hessen</td>\n      <td>22</td>\n      <td>0</td>\n      <td>0.000000</td>\n      <td>7</td>\n      <td>31.818182</td>\n      <td>0</td>\n      <td>0.000000</td>\n      <td>1</td>\n      <td>4.545455</td>\n      <td>14</td>\n      <td>63.636364</td>\n      <td>0</td>\n      <td>0.000000</td>\n      <td>0</td>\n      <td>0.000000</td>\n    </tr>\n    <tr>\n      <th>9</th>\n      <td>Nordrhein-Westfalen</td>\n      <td>42</td>\n      <td>0</td>\n      <td>0.000000</td>\n      <td>22</td>\n      <td>52.380952</td>\n      <td>0</td>\n      <td>0.000000</td>\n      <td>0</td>\n      <td>0.000000</td>\n      <td>17</td>\n      <td>40.476190</td>\n      <td>2</td>\n      <td>4.761905</td>\n      <td>1</td>\n      <td>2.380952</td>\n    </tr>\n    <tr>\n      <th>10</th>\n      <td>Rheinland-Pfalz</td>\n      <td>15</td>\n      <td>0</td>\n      <td>0.000000</td>\n      <td>7</td>\n      <td>46.666667</td>\n      <td>0</td>\n      <td>0.000000</td>\n      <td>0</td>\n      <td>0.000000</td>\n      <td>7</td>\n      <td>46.666667</td>\n      <td>1</td>\n      <td>6.666667</td>\n      <td>0</td>\n      <td>0.000000</td>\n    </tr>\n    <tr>\n      <th>11</th>\n      <td>Saarland</td>\n      <td>5</td>\n      <td>0</td>\n      <td>0.000000</td>\n      <td>2</td>\n      <td>40.000000</td>\n      <td>0</td>\n      <td>0.000000</td>\n      <td>0</td>\n      <td>0.000000</td>\n      <td>3</td>\n      <td>60.000000</td>\n      <td>0</td>\n      <td>0.000000</td>\n      <td>0</td>\n      <td>0.000000</td>\n    </tr>\n    <tr>\n      <th>12</th>\n      <td>Sachsen</td>\n      <td>23</td>\n      <td>0</td>\n      <td>0.000000</td>\n      <td>12</td>\n      <td>52.173913</td>\n      <td>1</td>\n      <td>4.347826</td>\n      <td>0</td>\n      <td>0.000000</td>\n      <td>10</td>\n      <td>43.478261</td>\n      <td>0</td>\n      <td>0.000000</td>\n      <td>0</td>\n      <td>0.000000</td>\n    </tr>\n    <tr>\n      <th>13</th>\n      <td>Sachsen-Anhalt</td>\n      <td>8</td>\n      <td>0</td>\n      <td>0.000000</td>\n      <td>4</td>\n      <td>50.000000</td>\n      <td>0</td>\n      <td>0.000000</td>\n      <td>1</td>\n      <td>12.500000</td>\n      <td>3</td>\n      <td>37.500000</td>\n      <td>0</td>\n      <td>0.000000</td>\n      <td>0</td>\n      <td>0.000000</td>\n    </tr>\n    <tr>\n      <th>14</th>\n      <td>Schleswig-Holstein</td>\n      <td>10</td>\n      <td>0</td>\n      <td>0.000000</td>\n      <td>4</td>\n      <td>40.000000</td>\n      <td>0</td>\n      <td>0.000000</td>\n      <td>0</td>\n      <td>0.000000</td>\n      <td>5</td>\n      <td>50.000000</td>\n      <td>1</td>\n      <td>10.000000</td>\n      <td>0</td>\n      <td>0.000000</td>\n    </tr>\n    <tr>\n      <th>15</th>\n      <td>Thüringen</td>\n      <td>11</td>\n      <td>0</td>\n      <td>0.000000</td>\n      <td>7</td>\n      <td>63.636364</td>\n      <td>0</td>\n      <td>0.000000</td>\n      <td>0</td>\n      <td>0.000000</td>\n      <td>4</td>\n      <td>36.363636</td>\n      <td>0</td>\n      <td>0.000000</td>\n      <td>0</td>\n      <td>0.000000</td>\n    </tr>\n    <tr>\n      <th>16</th>\n      <td>Total</td>\n      <td>283</td>\n      <td>4</td>\n      <td>1.413428</td>\n      <td>132</td>\n      <td>46.643110</td>\n      <td>1</td>\n      <td>0.353357</td>\n      <td>11</td>\n      <td>3.886926</td>\n      <td>127</td>\n      <td>44.876325</td>\n      <td>7</td>\n      <td>2.473498</td>\n      <td>1</td>\n      <td>0.353357</td>\n    </tr>\n  </tbody>\n</table>\n</div>"
     },
     "metadata": {},
     "output_type": "display_data"
    },
    {
     "data": {
      "text/plain": "                 Region  Global #  Without SSL #  Without SSL %  2048 (RSA) #  \\\n0     Baden-Württemberg        24              0            0.0            20   \n1                Bayern        12              0            0.0             9   \n2                Berlin        28              0            0.0            23   \n3           Brandenburg         9              0            0.0             8   \n4                Bremen         2              0            0.0             1   \n5               Hamburg        11              0            0.0             9   \n6                Hessen        23              0            0.0            18   \n7         Niedersachsen        16              0            0.0            14   \n8   Nordrhein-Westfalen        25              0            0.0            18   \n9       Rheinland-Pfalz         6              0            0.0             6   \n10             Saarland         5              0            0.0             5   \n11              Sachsen         7              0            0.0             7   \n12       Sachsen-Anhalt         2              0            0.0             2   \n13   Schleswig-Holstein         3              0            0.0             3   \n14            Thüringen         2              0            0.0             2   \n15                Total       175              0            0.0           145   \n\n    2048 (RSA) %  3072 (RSA) #  3072 (RSA) %  256 (ECC) #  256 (ECC) %  \\\n0      83.333333             0      0.000000            0     0.000000   \n1      75.000000             1      8.333333            1     8.333333   \n2      82.142857             0      0.000000            1     3.571429   \n3      88.888889             0      0.000000            0     0.000000   \n4      50.000000             0      0.000000            0     0.000000   \n5      81.818182             0      0.000000            1     9.090909   \n6      78.260870             1      4.347826            0     0.000000   \n7      87.500000             0      0.000000            0     0.000000   \n8      72.000000             0      0.000000            0     0.000000   \n9     100.000000             0      0.000000            0     0.000000   \n10    100.000000             0      0.000000            0     0.000000   \n11    100.000000             0      0.000000            0     0.000000   \n12    100.000000             0      0.000000            0     0.000000   \n13    100.000000             0      0.000000            0     0.000000   \n14    100.000000             0      0.000000            0     0.000000   \n15     82.857143             2      1.142857            3     1.714286   \n\n    4096 (RSA) #  4096 (RSA) %  384 (ECC) #  384 (ECC) %  8192 (RSA) #  \\\n0              3     12.500000            1     4.166667             0   \n1              1      8.333333            0     0.000000             0   \n2              4     14.285714            0     0.000000             0   \n3              1     11.111111            0     0.000000             0   \n4              1     50.000000            0     0.000000             0   \n5              1      9.090909            0     0.000000             0   \n6              4     17.391304            0     0.000000             0   \n7              2     12.500000            0     0.000000             0   \n8              7     28.000000            0     0.000000             0   \n9              0      0.000000            0     0.000000             0   \n10             0      0.000000            0     0.000000             0   \n11             0      0.000000            0     0.000000             0   \n12             0      0.000000            0     0.000000             0   \n13             0      0.000000            0     0.000000             0   \n14             0      0.000000            0     0.000000             0   \n15            24     13.714286            1     0.571429             0   \n\n    8192 (RSA) %  \n0            0.0  \n1            0.0  \n2            0.0  \n3            0.0  \n4            0.0  \n5            0.0  \n6            0.0  \n7            0.0  \n8            0.0  \n9            0.0  \n10           0.0  \n11           0.0  \n12           0.0  \n13           0.0  \n14           0.0  \n15           0.0  ",
      "text/html": "<div>\n<style scoped>\n    .dataframe tbody tr th:only-of-type {\n        vertical-align: middle;\n    }\n\n    .dataframe tbody tr th {\n        vertical-align: top;\n    }\n\n    .dataframe thead th {\n        text-align: right;\n    }\n</style>\n<table border=\"1\" class=\"dataframe\">\n  <thead>\n    <tr style=\"text-align: right;\">\n      <th></th>\n      <th>Region</th>\n      <th>Global #</th>\n      <th>Without SSL #</th>\n      <th>Without SSL %</th>\n      <th>2048 (RSA) #</th>\n      <th>2048 (RSA) %</th>\n      <th>3072 (RSA) #</th>\n      <th>3072 (RSA) %</th>\n      <th>256 (ECC) #</th>\n      <th>256 (ECC) %</th>\n      <th>4096 (RSA) #</th>\n      <th>4096 (RSA) %</th>\n      <th>384 (ECC) #</th>\n      <th>384 (ECC) %</th>\n      <th>8192 (RSA) #</th>\n      <th>8192 (RSA) %</th>\n    </tr>\n  </thead>\n  <tbody>\n    <tr>\n      <th>0</th>\n      <td>Baden-Württemberg</td>\n      <td>24</td>\n      <td>0</td>\n      <td>0.0</td>\n      <td>20</td>\n      <td>83.333333</td>\n      <td>0</td>\n      <td>0.000000</td>\n      <td>0</td>\n      <td>0.000000</td>\n      <td>3</td>\n      <td>12.500000</td>\n      <td>1</td>\n      <td>4.166667</td>\n      <td>0</td>\n      <td>0.0</td>\n    </tr>\n    <tr>\n      <th>1</th>\n      <td>Bayern</td>\n      <td>12</td>\n      <td>0</td>\n      <td>0.0</td>\n      <td>9</td>\n      <td>75.000000</td>\n      <td>1</td>\n      <td>8.333333</td>\n      <td>1</td>\n      <td>8.333333</td>\n      <td>1</td>\n      <td>8.333333</td>\n      <td>0</td>\n      <td>0.000000</td>\n      <td>0</td>\n      <td>0.0</td>\n    </tr>\n    <tr>\n      <th>2</th>\n      <td>Berlin</td>\n      <td>28</td>\n      <td>0</td>\n      <td>0.0</td>\n      <td>23</td>\n      <td>82.142857</td>\n      <td>0</td>\n      <td>0.000000</td>\n      <td>1</td>\n      <td>3.571429</td>\n      <td>4</td>\n      <td>14.285714</td>\n      <td>0</td>\n      <td>0.000000</td>\n      <td>0</td>\n      <td>0.0</td>\n    </tr>\n    <tr>\n      <th>3</th>\n      <td>Brandenburg</td>\n      <td>9</td>\n      <td>0</td>\n      <td>0.0</td>\n      <td>8</td>\n      <td>88.888889</td>\n      <td>0</td>\n      <td>0.000000</td>\n      <td>0</td>\n      <td>0.000000</td>\n      <td>1</td>\n      <td>11.111111</td>\n      <td>0</td>\n      <td>0.000000</td>\n      <td>0</td>\n      <td>0.0</td>\n    </tr>\n    <tr>\n      <th>4</th>\n      <td>Bremen</td>\n      <td>2</td>\n      <td>0</td>\n      <td>0.0</td>\n      <td>1</td>\n      <td>50.000000</td>\n      <td>0</td>\n      <td>0.000000</td>\n      <td>0</td>\n      <td>0.000000</td>\n      <td>1</td>\n      <td>50.000000</td>\n      <td>0</td>\n      <td>0.000000</td>\n      <td>0</td>\n      <td>0.0</td>\n    </tr>\n    <tr>\n      <th>5</th>\n      <td>Hamburg</td>\n      <td>11</td>\n      <td>0</td>\n      <td>0.0</td>\n      <td>9</td>\n      <td>81.818182</td>\n      <td>0</td>\n      <td>0.000000</td>\n      <td>1</td>\n      <td>9.090909</td>\n      <td>1</td>\n      <td>9.090909</td>\n      <td>0</td>\n      <td>0.000000</td>\n      <td>0</td>\n      <td>0.0</td>\n    </tr>\n    <tr>\n      <th>6</th>\n      <td>Hessen</td>\n      <td>23</td>\n      <td>0</td>\n      <td>0.0</td>\n      <td>18</td>\n      <td>78.260870</td>\n      <td>1</td>\n      <td>4.347826</td>\n      <td>0</td>\n      <td>0.000000</td>\n      <td>4</td>\n      <td>17.391304</td>\n      <td>0</td>\n      <td>0.000000</td>\n      <td>0</td>\n      <td>0.0</td>\n    </tr>\n    <tr>\n      <th>7</th>\n      <td>Niedersachsen</td>\n      <td>16</td>\n      <td>0</td>\n      <td>0.0</td>\n      <td>14</td>\n      <td>87.500000</td>\n      <td>0</td>\n      <td>0.000000</td>\n      <td>0</td>\n      <td>0.000000</td>\n      <td>2</td>\n      <td>12.500000</td>\n      <td>0</td>\n      <td>0.000000</td>\n      <td>0</td>\n      <td>0.0</td>\n    </tr>\n    <tr>\n      <th>8</th>\n      <td>Nordrhein-Westfalen</td>\n      <td>25</td>\n      <td>0</td>\n      <td>0.0</td>\n      <td>18</td>\n      <td>72.000000</td>\n      <td>0</td>\n      <td>0.000000</td>\n      <td>0</td>\n      <td>0.000000</td>\n      <td>7</td>\n      <td>28.000000</td>\n      <td>0</td>\n      <td>0.000000</td>\n      <td>0</td>\n      <td>0.0</td>\n    </tr>\n    <tr>\n      <th>9</th>\n      <td>Rheinland-Pfalz</td>\n      <td>6</td>\n      <td>0</td>\n      <td>0.0</td>\n      <td>6</td>\n      <td>100.000000</td>\n      <td>0</td>\n      <td>0.000000</td>\n      <td>0</td>\n      <td>0.000000</td>\n      <td>0</td>\n      <td>0.000000</td>\n      <td>0</td>\n      <td>0.000000</td>\n      <td>0</td>\n      <td>0.0</td>\n    </tr>\n    <tr>\n      <th>10</th>\n      <td>Saarland</td>\n      <td>5</td>\n      <td>0</td>\n      <td>0.0</td>\n      <td>5</td>\n      <td>100.000000</td>\n      <td>0</td>\n      <td>0.000000</td>\n      <td>0</td>\n      <td>0.000000</td>\n      <td>0</td>\n      <td>0.000000</td>\n      <td>0</td>\n      <td>0.000000</td>\n      <td>0</td>\n      <td>0.0</td>\n    </tr>\n    <tr>\n      <th>11</th>\n      <td>Sachsen</td>\n      <td>7</td>\n      <td>0</td>\n      <td>0.0</td>\n      <td>7</td>\n      <td>100.000000</td>\n      <td>0</td>\n      <td>0.000000</td>\n      <td>0</td>\n      <td>0.000000</td>\n      <td>0</td>\n      <td>0.000000</td>\n      <td>0</td>\n      <td>0.000000</td>\n      <td>0</td>\n      <td>0.0</td>\n    </tr>\n    <tr>\n      <th>12</th>\n      <td>Sachsen-Anhalt</td>\n      <td>2</td>\n      <td>0</td>\n      <td>0.0</td>\n      <td>2</td>\n      <td>100.000000</td>\n      <td>0</td>\n      <td>0.000000</td>\n      <td>0</td>\n      <td>0.000000</td>\n      <td>0</td>\n      <td>0.000000</td>\n      <td>0</td>\n      <td>0.000000</td>\n      <td>0</td>\n      <td>0.0</td>\n    </tr>\n    <tr>\n      <th>13</th>\n      <td>Schleswig-Holstein</td>\n      <td>3</td>\n      <td>0</td>\n      <td>0.0</td>\n      <td>3</td>\n      <td>100.000000</td>\n      <td>0</td>\n      <td>0.000000</td>\n      <td>0</td>\n      <td>0.000000</td>\n      <td>0</td>\n      <td>0.000000</td>\n      <td>0</td>\n      <td>0.000000</td>\n      <td>0</td>\n      <td>0.0</td>\n    </tr>\n    <tr>\n      <th>14</th>\n      <td>Thüringen</td>\n      <td>2</td>\n      <td>0</td>\n      <td>0.0</td>\n      <td>2</td>\n      <td>100.000000</td>\n      <td>0</td>\n      <td>0.000000</td>\n      <td>0</td>\n      <td>0.000000</td>\n      <td>0</td>\n      <td>0.000000</td>\n      <td>0</td>\n      <td>0.000000</td>\n      <td>0</td>\n      <td>0.0</td>\n    </tr>\n    <tr>\n      <th>15</th>\n      <td>Total</td>\n      <td>175</td>\n      <td>0</td>\n      <td>0.0</td>\n      <td>145</td>\n      <td>82.857143</td>\n      <td>2</td>\n      <td>1.142857</td>\n      <td>3</td>\n      <td>1.714286</td>\n      <td>24</td>\n      <td>13.714286</td>\n      <td>1</td>\n      <td>0.571429</td>\n      <td>0</td>\n      <td>0.0</td>\n    </tr>\n  </tbody>\n</table>\n</div>"
     },
     "metadata": {},
     "output_type": "display_data"
    }
   ],
   "source": [
    "# Analyze of key length by region (Pub/Pvt)\n",
    "\n",
    "# settings\n",
    "column_to_sort = 'Without SSL %'\n",
    "sort_ascending = False\n",
    "config = [\n",
    "    {'table_name': 'key_length_by_region_public', 'hei_type': 'Public'},\n",
    "    {'table_name': 'key_length_by_region_private', 'hei_type': 'Private'}\n",
    "]\n",
    "dfs = []\n",
    "key_lengths = source_df['key_size'].unique()\n",
    "key_lengths = [key_length for key_length in key_lengths if key_length != 0]\n",
    "key_lengths = sorted(key_lengths, key=rank_key_size)\n",
    "\n",
    "for config_item in config:\n",
    "    table_name = config_item['table_name']\n",
    "    hei_type = config_item['hei_type']\n",
    "    columns_to_display = [region_column_name.title(), column_name_to_results_global]\n",
    "    analysis_df = get_records_by_region(source_df, hei_type=hei_type)\n",
    "\n",
    "    # create columns\n",
    "    # Column creation with distribution of records without SSL by region\n",
    "    create_column(source_df=source_df, analysis_dataframe=analysis_df, column_name='Without SSL', criteria=f'grade == \"M\" & category == \"{hei_type}\"', columns_to_display=columns_to_display)\n",
    "    # Creating column with the distribution of Key Length by region\n",
    "    #deveria obter todos os valores desta coluna de forma dinamica\n",
    "    for key_length in key_lengths:\n",
    "        algorithm = 'RSA' if key_length >= 1024 else 'ECC'\n",
    "        create_column(source_df=source_df, analysis_dataframe=analysis_df, column_name=f'{key_length} ({algorithm})', criteria=f'grade != \"M\" & key_size == {key_length} & category == \"{hei_type}\"', columns_to_display=columns_to_display)\n",
    "\n",
    "    # Finalize dataframe\n",
    "    analysis_df = finalize_dataframe(dataframe=analysis_df, column_to_sort=column_to_sort, ascending=sort_ascending, columns_to_display=columns_to_display)\n",
    "    display(analysis_df)\n",
    "    dfs.append(analysis_df)\n",
    "    # save to csv\n",
    "    save_table(analysis_df, category=category, table_name=table_name)\n",
    "\n",
    "df_public = dfs[0].add_suffix('(pub)')\n",
    "df_private = dfs[1].add_suffix('(pvt)')\n",
    "df_public = df_public.rename(columns={'Region(pub)': 'Region'})\n",
    "df_private = df_private.rename(columns={'Region(pvt)': 'Region'})\n",
    "df_combined = df_public.merge(df_private, on='Region', how='outer')\n",
    "df_combined.fillna(0, inplace=True)\n",
    "percent_columns_pub = [col for col in df_combined.columns if col.endswith('%(pub)')]\n",
    "\n",
    "# remove columns with # in the name\n",
    "df_combined = df_combined.loc[:, ~df_combined.columns.str.contains('#')]\n",
    "#remove columns global\n",
    "df_combined = df_combined.loc[:, ~df_combined.columns.str.contains('Global')]\n",
    "# remove '%' from name of columns\n",
    "df_combined.columns = df_combined.columns.str.replace('%', '')\n",
    "\n",
    "ranks_columns = ['Rank', 'Rank2', 'Rank3', 'Rank4']\n",
    "#add column with sum of best columns\n",
    "df_combined[ranks_columns[0]] = df_combined['8192 (RSA) (pub)'] + df_combined['8192 (RSA) (pvt)']\n",
    "df_combined[ranks_columns[1]] = df_combined['384 (ECC) (pub)'] + df_combined['384 (ECC) (pvt)']\n",
    "df_combined[ranks_columns[2]] = df_combined['4096 (RSA) (pub)'] + df_combined['4096 (RSA) (pvt)']\n",
    "df_combined[ranks_columns[3]] = df_combined['256 (ECC) (pub)'] + df_combined['256 (ECC) (pvt)']\n",
    "\n",
    "\n",
    "#order dataframe by column Rank (from highest to lowest)\n",
    "df_combined = df_combined.sort_values(by=ranks_columns, ascending=False)\n",
    "# move just row with 'Total' in column Region to the end of the dataframe. (Use pandas.concat instead of append to avoid duplicates)\n",
    "df_combined = pd.concat([df_combined[df_combined['Region'] != 'Total'], df_combined[df_combined['Region'] == 'Total']])\n",
    "# reset index\n",
    "df_combined.reset_index(drop=True, inplace=True)\n",
    "# remove column Rank\n",
    "df_combined.drop(columns=ranks_columns, inplace=True)\n",
    "#Add a column with the quartile corresponding to the position of the row, that is, considering the total of records -1 (to exclude the total row), if a row is in position 2 it should belong to the first quartile.\n",
    "df_combined['Quartile'] = df_combined.index.map(lambda rank: assign_quartile(rank, len(df_combined)-1))\n",
    "# moved column 'Quartile' to the second position\n",
    "cols = list(df_combined.columns)\n",
    "cols = [cols[0]] + [cols[-1]] + cols[1:-1]\n",
    "df_combined = df_combined[cols]\n",
    "\n",
    "\n",
    "save_table(df_combined, category=category, table_name='key_length_by_region_combined')"
   ],
   "metadata": {
    "collapsed": false,
    "ExecuteTime": {
     "end_time": "2023-06-21T11:00:59.770592700Z",
     "start_time": "2023-06-21T11:00:57.561600900Z"
    }
   }
  },
  {
   "cell_type": "code",
   "execution_count": 4,
   "outputs": [
    {
     "name": "stdout",
     "output_type": "stream",
     "text": [
      "['RSA' nan 'EC']\n"
     ]
    },
    {
     "ename": "ValueError",
     "evalue": "Percent sum is not equal to 100 for row 0: 299.29",
     "output_type": "error",
     "traceback": [
      "\u001B[1;31m---------------------------------------------------------------------------\u001B[0m",
      "\u001B[1;31mValueError\u001B[0m                                Traceback (most recent call last)",
      "Input \u001B[1;32mIn [4]\u001B[0m, in \u001B[0;36m<cell line: 24>\u001B[1;34m()\u001B[0m\n\u001B[0;32m     21\u001B[0m create_column(source_df\u001B[38;5;241m=\u001B[39msource_df, analysis_dataframe\u001B[38;5;241m=\u001B[39manalysis_df, column_name\u001B[38;5;241m=\u001B[39m\u001B[38;5;124m'\u001B[39m\u001B[38;5;124mECC (Private)\u001B[39m\u001B[38;5;124m'\u001B[39m, criteria\u001B[38;5;241m=\u001B[39m\u001B[38;5;124mf\u001B[39m\u001B[38;5;124m'\u001B[39m\u001B[38;5;124mgrade != \u001B[39m\u001B[38;5;124m\"\u001B[39m\u001B[38;5;124mM\u001B[39m\u001B[38;5;124m\"\u001B[39m\u001B[38;5;124m & key_alg == \u001B[39m\u001B[38;5;124m\"\u001B[39m\u001B[38;5;124mEC\u001B[39m\u001B[38;5;124m\"\u001B[39m\u001B[38;5;124m & \u001B[39m\u001B[38;5;132;01m{\u001B[39;00monly_private\u001B[38;5;132;01m}\u001B[39;00m\u001B[38;5;124m'\u001B[39m, columns_to_display\u001B[38;5;241m=\u001B[39mcolumns_to_display)\n\u001B[0;32m     23\u001B[0m \u001B[38;5;66;03m# Finalize dataframe\u001B[39;00m\n\u001B[1;32m---> 24\u001B[0m analysis_df \u001B[38;5;241m=\u001B[39m \u001B[43mfinalize_dataframe\u001B[49m\u001B[43m(\u001B[49m\u001B[43mdataframe\u001B[49m\u001B[38;5;241;43m=\u001B[39;49m\u001B[43manalysis_df\u001B[49m\u001B[43m,\u001B[49m\u001B[43m \u001B[49m\u001B[43mcolumn_to_sort\u001B[49m\u001B[38;5;241;43m=\u001B[39;49m\u001B[43mcolumn_to_sort\u001B[49m\u001B[43m,\u001B[49m\u001B[43m \u001B[49m\u001B[43mascending\u001B[49m\u001B[38;5;241;43m=\u001B[39;49m\u001B[43msort_ascending\u001B[49m\u001B[43m,\u001B[49m\u001B[43m \u001B[49m\u001B[43mcolumns_to_display\u001B[49m\u001B[38;5;241;43m=\u001B[39;49m\u001B[43mcolumns_to_display\u001B[49m\u001B[43m)\u001B[49m\n\u001B[0;32m     25\u001B[0m display(analysis_df)\n\u001B[0;32m     27\u001B[0m \u001B[38;5;66;03m# save to csv\u001B[39;00m\n",
      "File \u001B[1;32m~\\Dropbox\\Produção Acadêmica\\Artigos\\Overview cibersecurity online HEIS\\USA\\WebSecureScout-Analyzer\\utilities\\utilities.py:192\u001B[0m, in \u001B[0;36mfinalize_dataframe\u001B[1;34m(dataframe, columns_to_display, column_to_sort, ascending, region_column_name)\u001B[0m\n\u001B[0;32m    190\u001B[0m columns_to_display \u001B[38;5;241m=\u001B[39m [column \u001B[38;5;28;01mfor\u001B[39;00m column \u001B[38;5;129;01min\u001B[39;00m columns_to_display]\n\u001B[0;32m    191\u001B[0m dataframe \u001B[38;5;241m=\u001B[39m dataframe[columns_to_display]\n\u001B[1;32m--> 192\u001B[0m \u001B[43mvalidate_row_percent\u001B[49m\u001B[43m(\u001B[49m\u001B[43mdataframe\u001B[49m\u001B[43m)\u001B[49m\n\u001B[0;32m    193\u001B[0m \u001B[38;5;28;01mreturn\u001B[39;00m dataframe\n",
      "File \u001B[1;32m~\\Dropbox\\Produção Acadêmica\\Artigos\\Overview cibersecurity online HEIS\\USA\\WebSecureScout-Analyzer\\utilities\\utilities.py:141\u001B[0m, in \u001B[0;36mvalidate_row_percent\u001B[1;34m(dataframe)\u001B[0m\n\u001B[0;32m    139\u001B[0m         percent_sum \u001B[38;5;241m+\u001B[39m\u001B[38;5;241m=\u001B[39m row[column_name]\n\u001B[0;32m    140\u001B[0m \u001B[38;5;28;01mif\u001B[39;00m \u001B[38;5;28mabs\u001B[39m(percent_sum \u001B[38;5;241m-\u001B[39m \u001B[38;5;241m100\u001B[39m) \u001B[38;5;241m>\u001B[39m \u001B[38;5;241m0.00001\u001B[39m:\n\u001B[1;32m--> 141\u001B[0m     \u001B[38;5;28;01mraise\u001B[39;00m \u001B[38;5;167;01mValueError\u001B[39;00m(\u001B[38;5;124mf\u001B[39m\u001B[38;5;124m\"\u001B[39m\u001B[38;5;124mPercent sum is not equal to 100 for row \u001B[39m\u001B[38;5;132;01m{\u001B[39;00mindex\u001B[38;5;132;01m}\u001B[39;00m\u001B[38;5;124m: \u001B[39m\u001B[38;5;132;01m{\u001B[39;00mpercent_sum\u001B[38;5;132;01m}\u001B[39;00m\u001B[38;5;124m\"\u001B[39m)\n",
      "\u001B[1;31mValueError\u001B[0m: Percent sum is not equal to 100 for row 0: 299.29"
     ]
    }
   ],
   "source": [
    "# Analyze of SSL Algorithms by region\n",
    "print(source_df['key_alg'].unique())\n",
    "# settings\n",
    "column_to_sort = 'Without SSL (Public) %'\n",
    "sort_ascending = False\n",
    "table_name = 'SSL_Algorithms_by_region'\n",
    "\n",
    "columns_to_display = [region_column_name.title(), column_name_to_results_global]\n",
    "analysis_df = get_records_by_region(source_df)\n",
    "\n",
    "# create columns\n",
    "# Column creation with distribution of records without SSL by region\n",
    "only_public = 'category == \"Public\"'\n",
    "only_private = 'category == \"Private\"'\n",
    "create_column(source_df=source_df, analysis_dataframe=analysis_df, column_name='Without SSL (Public)', criteria=f'grade == \"M\" & {only_public}', columns_to_display=columns_to_display)\n",
    "create_column(source_df=source_df, analysis_dataframe=analysis_df, column_name='Without SSL (Private)', criteria=f'grade == \"M\" & {only_private}', columns_to_display=columns_to_display)\n",
    "# Creating column with the distribution of SSL Algorithms by region\n",
    "create_column(source_df=source_df, analysis_dataframe=analysis_df, column_name='RSA (Public)', criteria=f'grade != \"M\" & key_alg == \"RSA\" & {only_public}', columns_to_display=columns_to_display)\n",
    "create_column(source_df=source_df, analysis_dataframe=analysis_df, column_name='RSA (Private)', criteria=f'grade != \"M\" & key_alg == \"RSA\" & {only_private}', columns_to_display=columns_to_display)\n",
    "create_column(source_df=source_df, analysis_dataframe=analysis_df, column_name='ECC (Public)', criteria=f'grade != \"M\" & key_alg == \"EC\" & {only_public}', columns_to_display=columns_to_display)\n",
    "create_column(source_df=source_df, analysis_dataframe=analysis_df, column_name='ECC (Private)', criteria=f'grade != \"M\" & key_alg == \"EC\" & {only_private}', columns_to_display=columns_to_display)\n",
    "\n",
    "# Finalize dataframe\n",
    "analysis_df = finalize_dataframe(dataframe=analysis_df, column_to_sort=column_to_sort, ascending=sort_ascending, columns_to_display=columns_to_display)\n",
    "display(analysis_df)\n",
    "\n",
    "# save to csv\n",
    "save_table(analysis_df, category=category, table_name=table_name)"
   ],
   "metadata": {
    "collapsed": false
   }
  },
  {
   "cell_type": "code",
   "execution_count": 4,
   "outputs": [
    {
     "data": {
      "text/plain": "                    Region  Global #  Without SSL #  Without SSL %  RSA #  \\\n0   Mecklenburg-Vorpommern         7              1      14.285714      6   \n1            Niedersachsen        21              1       4.761905     20   \n2        Baden-Württemberg        48              2       4.166667     40   \n3                   Bayern        34              0       0.000000     32   \n4                   Berlin        12              0       0.000000     10   \n5              Brandenburg        10              0       0.000000      9   \n6                   Bremen         5              0       0.000000      5   \n7                  Hamburg        10              0       0.000000      9   \n8                   Hessen        22              0       0.000000     21   \n9      Nordrhein-Westfalen        42              0       0.000000     40   \n10         Rheinland-Pfalz        15              0       0.000000     14   \n11                Saarland         5              0       0.000000      5   \n12                 Sachsen        23              0       0.000000     23   \n13          Sachsen-Anhalt         8              0       0.000000      7   \n14      Schleswig-Holstein        10              0       0.000000      9   \n15               Thüringen        11              0       0.000000     11   \n16                   Total       283              4       1.413428    261   \n\n         RSA %  ECC #      ECC %  \n0    85.714286      0   0.000000  \n1    95.238095      0   0.000000  \n2    83.333333      6  12.500000  \n3    94.117647      2   5.882353  \n4    83.333333      2  16.666667  \n5    90.000000      1  10.000000  \n6   100.000000      0   0.000000  \n7    90.000000      1  10.000000  \n8    95.454545      1   4.545455  \n9    95.238095      2   4.761905  \n10   93.333333      1   6.666667  \n11  100.000000      0   0.000000  \n12  100.000000      0   0.000000  \n13   87.500000      1  12.500000  \n14   90.000000      1  10.000000  \n15  100.000000      0   0.000000  \n16   92.226148     18   6.360424  ",
      "text/html": "<div>\n<style scoped>\n    .dataframe tbody tr th:only-of-type {\n        vertical-align: middle;\n    }\n\n    .dataframe tbody tr th {\n        vertical-align: top;\n    }\n\n    .dataframe thead th {\n        text-align: right;\n    }\n</style>\n<table border=\"1\" class=\"dataframe\">\n  <thead>\n    <tr style=\"text-align: right;\">\n      <th></th>\n      <th>Region</th>\n      <th>Global #</th>\n      <th>Without SSL #</th>\n      <th>Without SSL %</th>\n      <th>RSA #</th>\n      <th>RSA %</th>\n      <th>ECC #</th>\n      <th>ECC %</th>\n    </tr>\n  </thead>\n  <tbody>\n    <tr>\n      <th>0</th>\n      <td>Mecklenburg-Vorpommern</td>\n      <td>7</td>\n      <td>1</td>\n      <td>14.285714</td>\n      <td>6</td>\n      <td>85.714286</td>\n      <td>0</td>\n      <td>0.000000</td>\n    </tr>\n    <tr>\n      <th>1</th>\n      <td>Niedersachsen</td>\n      <td>21</td>\n      <td>1</td>\n      <td>4.761905</td>\n      <td>20</td>\n      <td>95.238095</td>\n      <td>0</td>\n      <td>0.000000</td>\n    </tr>\n    <tr>\n      <th>2</th>\n      <td>Baden-Württemberg</td>\n      <td>48</td>\n      <td>2</td>\n      <td>4.166667</td>\n      <td>40</td>\n      <td>83.333333</td>\n      <td>6</td>\n      <td>12.500000</td>\n    </tr>\n    <tr>\n      <th>3</th>\n      <td>Bayern</td>\n      <td>34</td>\n      <td>0</td>\n      <td>0.000000</td>\n      <td>32</td>\n      <td>94.117647</td>\n      <td>2</td>\n      <td>5.882353</td>\n    </tr>\n    <tr>\n      <th>4</th>\n      <td>Berlin</td>\n      <td>12</td>\n      <td>0</td>\n      <td>0.000000</td>\n      <td>10</td>\n      <td>83.333333</td>\n      <td>2</td>\n      <td>16.666667</td>\n    </tr>\n    <tr>\n      <th>5</th>\n      <td>Brandenburg</td>\n      <td>10</td>\n      <td>0</td>\n      <td>0.000000</td>\n      <td>9</td>\n      <td>90.000000</td>\n      <td>1</td>\n      <td>10.000000</td>\n    </tr>\n    <tr>\n      <th>6</th>\n      <td>Bremen</td>\n      <td>5</td>\n      <td>0</td>\n      <td>0.000000</td>\n      <td>5</td>\n      <td>100.000000</td>\n      <td>0</td>\n      <td>0.000000</td>\n    </tr>\n    <tr>\n      <th>7</th>\n      <td>Hamburg</td>\n      <td>10</td>\n      <td>0</td>\n      <td>0.000000</td>\n      <td>9</td>\n      <td>90.000000</td>\n      <td>1</td>\n      <td>10.000000</td>\n    </tr>\n    <tr>\n      <th>8</th>\n      <td>Hessen</td>\n      <td>22</td>\n      <td>0</td>\n      <td>0.000000</td>\n      <td>21</td>\n      <td>95.454545</td>\n      <td>1</td>\n      <td>4.545455</td>\n    </tr>\n    <tr>\n      <th>9</th>\n      <td>Nordrhein-Westfalen</td>\n      <td>42</td>\n      <td>0</td>\n      <td>0.000000</td>\n      <td>40</td>\n      <td>95.238095</td>\n      <td>2</td>\n      <td>4.761905</td>\n    </tr>\n    <tr>\n      <th>10</th>\n      <td>Rheinland-Pfalz</td>\n      <td>15</td>\n      <td>0</td>\n      <td>0.000000</td>\n      <td>14</td>\n      <td>93.333333</td>\n      <td>1</td>\n      <td>6.666667</td>\n    </tr>\n    <tr>\n      <th>11</th>\n      <td>Saarland</td>\n      <td>5</td>\n      <td>0</td>\n      <td>0.000000</td>\n      <td>5</td>\n      <td>100.000000</td>\n      <td>0</td>\n      <td>0.000000</td>\n    </tr>\n    <tr>\n      <th>12</th>\n      <td>Sachsen</td>\n      <td>23</td>\n      <td>0</td>\n      <td>0.000000</td>\n      <td>23</td>\n      <td>100.000000</td>\n      <td>0</td>\n      <td>0.000000</td>\n    </tr>\n    <tr>\n      <th>13</th>\n      <td>Sachsen-Anhalt</td>\n      <td>8</td>\n      <td>0</td>\n      <td>0.000000</td>\n      <td>7</td>\n      <td>87.500000</td>\n      <td>1</td>\n      <td>12.500000</td>\n    </tr>\n    <tr>\n      <th>14</th>\n      <td>Schleswig-Holstein</td>\n      <td>10</td>\n      <td>0</td>\n      <td>0.000000</td>\n      <td>9</td>\n      <td>90.000000</td>\n      <td>1</td>\n      <td>10.000000</td>\n    </tr>\n    <tr>\n      <th>15</th>\n      <td>Thüringen</td>\n      <td>11</td>\n      <td>0</td>\n      <td>0.000000</td>\n      <td>11</td>\n      <td>100.000000</td>\n      <td>0</td>\n      <td>0.000000</td>\n    </tr>\n    <tr>\n      <th>16</th>\n      <td>Total</td>\n      <td>283</td>\n      <td>4</td>\n      <td>1.413428</td>\n      <td>261</td>\n      <td>92.226148</td>\n      <td>18</td>\n      <td>6.360424</td>\n    </tr>\n  </tbody>\n</table>\n</div>"
     },
     "metadata": {},
     "output_type": "display_data"
    },
    {
     "data": {
      "text/plain": "                 Region  Global #  Without SSL #  Without SSL %  RSA #  \\\n0     Baden-Württemberg        24              0            0.0     23   \n1                Bayern        12              0            0.0     11   \n2                Berlin        28              0            0.0     27   \n3           Brandenburg         9              0            0.0      9   \n4                Bremen         2              0            0.0      2   \n5               Hamburg        11              0            0.0     10   \n6                Hessen        23              0            0.0     23   \n7         Niedersachsen        16              0            0.0     16   \n8   Nordrhein-Westfalen        25              0            0.0     25   \n9       Rheinland-Pfalz         6              0            0.0      6   \n10             Saarland         5              0            0.0      5   \n11              Sachsen         7              0            0.0      7   \n12       Sachsen-Anhalt         2              0            0.0      2   \n13   Schleswig-Holstein         3              0            0.0      3   \n14            Thüringen         2              0            0.0      2   \n15                Total       175              0            0.0    171   \n\n         RSA %  ECC #     ECC %  \n0    95.833333      1  4.166667  \n1    91.666667      1  8.333333  \n2    96.428571      1  3.571429  \n3   100.000000      0  0.000000  \n4   100.000000      0  0.000000  \n5    90.909091      1  9.090909  \n6   100.000000      0  0.000000  \n7   100.000000      0  0.000000  \n8   100.000000      0  0.000000  \n9   100.000000      0  0.000000  \n10  100.000000      0  0.000000  \n11  100.000000      0  0.000000  \n12  100.000000      0  0.000000  \n13  100.000000      0  0.000000  \n14  100.000000      0  0.000000  \n15   97.714286      4  2.285714  ",
      "text/html": "<div>\n<style scoped>\n    .dataframe tbody tr th:only-of-type {\n        vertical-align: middle;\n    }\n\n    .dataframe tbody tr th {\n        vertical-align: top;\n    }\n\n    .dataframe thead th {\n        text-align: right;\n    }\n</style>\n<table border=\"1\" class=\"dataframe\">\n  <thead>\n    <tr style=\"text-align: right;\">\n      <th></th>\n      <th>Region</th>\n      <th>Global #</th>\n      <th>Without SSL #</th>\n      <th>Without SSL %</th>\n      <th>RSA #</th>\n      <th>RSA %</th>\n      <th>ECC #</th>\n      <th>ECC %</th>\n    </tr>\n  </thead>\n  <tbody>\n    <tr>\n      <th>0</th>\n      <td>Baden-Württemberg</td>\n      <td>24</td>\n      <td>0</td>\n      <td>0.0</td>\n      <td>23</td>\n      <td>95.833333</td>\n      <td>1</td>\n      <td>4.166667</td>\n    </tr>\n    <tr>\n      <th>1</th>\n      <td>Bayern</td>\n      <td>12</td>\n      <td>0</td>\n      <td>0.0</td>\n      <td>11</td>\n      <td>91.666667</td>\n      <td>1</td>\n      <td>8.333333</td>\n    </tr>\n    <tr>\n      <th>2</th>\n      <td>Berlin</td>\n      <td>28</td>\n      <td>0</td>\n      <td>0.0</td>\n      <td>27</td>\n      <td>96.428571</td>\n      <td>1</td>\n      <td>3.571429</td>\n    </tr>\n    <tr>\n      <th>3</th>\n      <td>Brandenburg</td>\n      <td>9</td>\n      <td>0</td>\n      <td>0.0</td>\n      <td>9</td>\n      <td>100.000000</td>\n      <td>0</td>\n      <td>0.000000</td>\n    </tr>\n    <tr>\n      <th>4</th>\n      <td>Bremen</td>\n      <td>2</td>\n      <td>0</td>\n      <td>0.0</td>\n      <td>2</td>\n      <td>100.000000</td>\n      <td>0</td>\n      <td>0.000000</td>\n    </tr>\n    <tr>\n      <th>5</th>\n      <td>Hamburg</td>\n      <td>11</td>\n      <td>0</td>\n      <td>0.0</td>\n      <td>10</td>\n      <td>90.909091</td>\n      <td>1</td>\n      <td>9.090909</td>\n    </tr>\n    <tr>\n      <th>6</th>\n      <td>Hessen</td>\n      <td>23</td>\n      <td>0</td>\n      <td>0.0</td>\n      <td>23</td>\n      <td>100.000000</td>\n      <td>0</td>\n      <td>0.000000</td>\n    </tr>\n    <tr>\n      <th>7</th>\n      <td>Niedersachsen</td>\n      <td>16</td>\n      <td>0</td>\n      <td>0.0</td>\n      <td>16</td>\n      <td>100.000000</td>\n      <td>0</td>\n      <td>0.000000</td>\n    </tr>\n    <tr>\n      <th>8</th>\n      <td>Nordrhein-Westfalen</td>\n      <td>25</td>\n      <td>0</td>\n      <td>0.0</td>\n      <td>25</td>\n      <td>100.000000</td>\n      <td>0</td>\n      <td>0.000000</td>\n    </tr>\n    <tr>\n      <th>9</th>\n      <td>Rheinland-Pfalz</td>\n      <td>6</td>\n      <td>0</td>\n      <td>0.0</td>\n      <td>6</td>\n      <td>100.000000</td>\n      <td>0</td>\n      <td>0.000000</td>\n    </tr>\n    <tr>\n      <th>10</th>\n      <td>Saarland</td>\n      <td>5</td>\n      <td>0</td>\n      <td>0.0</td>\n      <td>5</td>\n      <td>100.000000</td>\n      <td>0</td>\n      <td>0.000000</td>\n    </tr>\n    <tr>\n      <th>11</th>\n      <td>Sachsen</td>\n      <td>7</td>\n      <td>0</td>\n      <td>0.0</td>\n      <td>7</td>\n      <td>100.000000</td>\n      <td>0</td>\n      <td>0.000000</td>\n    </tr>\n    <tr>\n      <th>12</th>\n      <td>Sachsen-Anhalt</td>\n      <td>2</td>\n      <td>0</td>\n      <td>0.0</td>\n      <td>2</td>\n      <td>100.000000</td>\n      <td>0</td>\n      <td>0.000000</td>\n    </tr>\n    <tr>\n      <th>13</th>\n      <td>Schleswig-Holstein</td>\n      <td>3</td>\n      <td>0</td>\n      <td>0.0</td>\n      <td>3</td>\n      <td>100.000000</td>\n      <td>0</td>\n      <td>0.000000</td>\n    </tr>\n    <tr>\n      <th>14</th>\n      <td>Thüringen</td>\n      <td>2</td>\n      <td>0</td>\n      <td>0.0</td>\n      <td>2</td>\n      <td>100.000000</td>\n      <td>0</td>\n      <td>0.000000</td>\n    </tr>\n    <tr>\n      <th>15</th>\n      <td>Total</td>\n      <td>175</td>\n      <td>0</td>\n      <td>0.0</td>\n      <td>171</td>\n      <td>97.714286</td>\n      <td>4</td>\n      <td>2.285714</td>\n    </tr>\n  </tbody>\n</table>\n</div>"
     },
     "metadata": {},
     "output_type": "display_data"
    }
   ],
   "source": [
    "# Analyze of SSL Algorithms by region (Pub/Pvt)\n",
    "# settings\n",
    "column_to_sort = 'Without SSL %'\n",
    "sort_ascending = False\n",
    "config = [\n",
    "    {'table_name': 'SSL_Algorithms_by_region_public', 'hei_type': 'Public'},\n",
    "    {'table_name': 'SSL_Algorithms_by_region_private', 'hei_type': 'Private'}\n",
    "]\n",
    "dfs = []\n",
    "for config_item in config:\n",
    "    table_name = config_item['table_name']\n",
    "    hei_type = config_item['hei_type']\n",
    "    columns_to_display = [region_column_name.title(), column_name_to_results_global]\n",
    "    analysis_df = get_records_by_region(source_df, hei_type=hei_type)\n",
    "    # create columns\n",
    "    # Column creation with distribution of records without SSL by region\n",
    "    create_column(source_df=source_df, analysis_dataframe=analysis_df, column_name='Without SSL', criteria=f'grade == \"M\" & category == \"{hei_type}\"', columns_to_display=columns_to_display)\n",
    "    # Creating column with the distribution of SSL Algorithms by region\n",
    "    create_column(source_df=source_df, analysis_dataframe=analysis_df, column_name='RSA', criteria=f'grade != \"M\" & key_alg == \"RSA\" & category == \"{hei_type}\"', columns_to_display=columns_to_display)\n",
    "    create_column(source_df=source_df, analysis_dataframe=analysis_df, column_name='ECC', criteria=f'grade != \"M\" & key_alg == \"EC\" & category == \"{hei_type}\"', columns_to_display=columns_to_display)\n",
    "    # Finalize dataframe\n",
    "    analysis_df = finalize_dataframe(dataframe=analysis_df, column_to_sort=column_to_sort, ascending=sort_ascending, columns_to_display=columns_to_display)\n",
    "    display(analysis_df)\n",
    "    dfs.append(analysis_df)\n",
    "    # save to csv\n",
    "    save_table(analysis_df, category=category, table_name=table_name)\n",
    "\n",
    "df_public = dfs[0].add_suffix('(pub)')\n",
    "df_private = dfs[1].add_suffix('(pvt)')\n",
    "df_public = df_public.rename(columns={'Region(pub)': 'Region'})\n",
    "df_private = df_private.rename(columns={'Region(pvt)': 'Region'})\n",
    "df_combined = df_public.merge(df_private, on='Region', how='outer')\n",
    "df_combined.fillna(0, inplace=True)\n",
    "# remove columns with # in the name\n",
    "df_combined = df_combined.loc[:, ~df_combined.columns.str.contains('#')]\n",
    "#remove columns global\n",
    "df_combined = df_combined.loc[:, ~df_combined.columns.str.contains('Global')]\n",
    "# remove '%' from name of columns\n",
    "df_combined.columns = df_combined.columns.str.replace('%', '')\n",
    "\n",
    "ranks_columns = ['Rank', 'Rank2', 'Rank3']\n",
    "#add column with sum of best columns\n",
    "df_combined[ranks_columns[0]] = df_combined['ECC (pub)'] + df_combined['ECC (pvt)']\n",
    "df_combined[ranks_columns[1]] = df_combined['RSA (pub)'] + df_combined['RSA (pvt)']\n",
    "df_combined[ranks_columns[2]] = df_combined['Without SSL (pub)'] + df_combined['Without SSL (pvt)']\n",
    "\n",
    "\n",
    "#order dataframe by column Rank (from highest to lowest)\n",
    "df_combined = df_combined.sort_values(by=ranks_columns, ascending=False)\n",
    "# move just row with 'Total' in column Region to the end of the dataframe. (Use pandas.concat instead of append to avoid duplicates)\n",
    "df_combined = pd.concat([df_combined[df_combined['Region'] != 'Total'], df_combined[df_combined['Region'] == 'Total']])\n",
    "# reset index\n",
    "df_combined.reset_index(drop=True, inplace=True)\n",
    "# remove column Rank\n",
    "df_combined.drop(columns=ranks_columns, inplace=True)\n",
    "#Add a column with the quartile corresponding to the position of the row, that is, considering the total of records -1 (to exclude the total row), if a row is in position 2 it should belong to the first quartile.\n",
    "df_combined['Quartile'] = df_combined.index.map(lambda rank: assign_quartile(rank, len(df_combined)-1))\n",
    "# moved column 'Quartile' to the second position\n",
    "cols = list(df_combined.columns)\n",
    "cols = [cols[0]] + [cols[-1]] + cols[1:-1]\n",
    "df_combined = df_combined[cols]\n",
    "\n",
    "\n",
    "save_table(df_combined, category=category, table_name='SSL_Algorithms_by_region_combined')"
   ],
   "metadata": {
    "collapsed": false,
    "ExecuteTime": {
     "end_time": "2023-06-22T11:00:46.982267800Z",
     "start_time": "2023-06-22T11:00:46.367280Z"
    }
   }
  },
  {
   "cell_type": "code",
   "execution_count": 15,
   "outputs": [
    {
     "name": "stdout",
     "output_type": "stream",
     "text": [
      "{'Global #': 1943, 'Without SSL (Public) #': 8, 'Without SSL (Public) %': 0.4117344312918168, 'Without SSL (Private) #': 12, 'Without SSL (Private) %': 0.6176016469377252, 'RSA (Public) #': 542, 'RSA (Public) %': 27.895007720020587, 'RSA (Private) #': 1325, 'RSA (Private) %': 68.19351518270716, 'ECC (Public) #': 9, 'ECC (Public) %': 0.46320123520329387, 'ECC (Private) #': 47, 'ECC (Private) %': 2.4189397838394235}\n",
      "\n",
      "\\begin{figure}[htbp]\n",
      "    \\centering\n",
      "    \\includegraphics[width=0.48\\textwidth]{charts/SSL_Algorithms_by_region.pdf}\n",
      "    \\caption{Distribution of the type of \\gls{ssl}/\\gls{tls} algorithms used}\\label{fig:ssl-algorithms}\n",
      "\\end{figure}\n",
      "\n",
      "\n",
      "\n",
      "Fig.~\\ref{fig:ssl-algorithms} presents an overview of the use of the type of \\gls{ssl}/\\gls{tls} at \\glspl{hei} in \\countryName.\n",
      "\n",
      "According to the data, 96.96\\% of the public institutions analyzed, and 68.19\\% of the private institutions are using \\gls{rsa} encryption algorithm for \\gls{ssl}/\\gls{tls}.\n",
      "\n",
      "On the other hand, 0.65\\% of the public institutions analyzed, and 2.42\\% of the private institutions are using \\gls{ecc} encryption algorithm for \\gls{ssl}/\\gls{tls}.\n",
      "\n",
      "In terms of regional differences, private institutions in District of Columbia (91.67\\%), Rhode Island (90.00\\%), and Iowa (88.24\\%), and public institutions in Wyoming (100.00\\%), New Mexico (70.00\\%), and North Dakota (66.67\\%) have a higher usage of \\gls{rsa} encryption algorithm on your websites.\n",
      "\n",
      "In contrast, private institutions in, Wyoming (0.00\\%), New Mexico (30.00\\%), and North Dakota (33.33\\%), and public institutions in District of Columbia (8.33\\%), Iowa (8.82\\%), and Rhode Island (10.00\\%) have a lower usage of \\gls{rsa} encryption algorithm on your websites.\n",
      "\n",
      "Finally, private institutions in Oklahoma (12.00\\%), Kentucky (10.34\\%), and Connecticut (7.69\\%), and public institutions in Oklahoma (12.00\\%), Kansas (3.57\\%), and Wisconsin (2.56\\%) have a higher usage of \\gls{ecc} encryption algorithm on your websites.\n",
      "\n",
      "In contrast, private institutions in Colorado (0.00\\%), Utah (0.00\\%), and Vermont (0.00\\%), and public institutions in Colorado (0.00\\%), Mississippi (0.00\\%), and Nevada (0.00\\%) have a lower usage of \\gls{ecc} encryption algorithm on your websites.\n",
      "\n"
     ]
    }
   ],
   "source": [
    "# Report in latex\n",
    "report_results = get_extreme_values(analysis_df)\n",
    "report_name = 'SSL_Algorithms_by_region'\n",
    "\n",
    "tot_pub = report_results.get(\"Total\").get(\"RSA (Public) #\") + report_results.get(\"Total\").get(\"ECC (Public) #\") + report_results.get(\"Total\").get(\"Without SSL (Public) #\")\n",
    "tot_priv = report_results.get(\"Total\").get(\"RSA (Private) #\") + report_results.get(\"Total\").get(\"ECC (Private) #\") + report_results.get(\"Total\").get(\"Without SSL (Private) #\")\n",
    "hei_public_rsa = format(report_results.get(\"Total\").get(\"RSA (Public) #\") / tot_pub * 100, \".2f\")\n",
    "hei_public_ecc = format(report_results.get(\"Total\").get(\"ECC (Public) #\") / tot_priv * 100, \".2f\")\n",
    "\n",
    "hei_private_rsa = format(report_results.get(\"Total\").get(\"RSA (Private) %\"), \".2f\")\n",
    "hei_private_ecc = format(report_results.get(\"Total\").get(\"ECC (Private) %\"), \".2f\")\n",
    "\n",
    "report_figure = f\"\"\"\n",
    "\\\\begin{{figure}}[htbp]\n",
    "    \\centering\n",
    "    \\includegraphics[width=0.48\\\\textwidth]{{charts/{report_name}.pdf}}\n",
    "    \\caption{{Distribution of the type of \\gls{{ssl}}/\\gls{{tls}} algorithms used}}\\label{{fig:ssl-algorithms}}\n",
    "\\end{{figure}}\n",
    "\"\"\"\n",
    "\n",
    "report = f'{report_figure}\\n\\n'\n",
    "report += f\"\"\"\n",
    "Fig.~\\\\ref{{fig:ssl-algorithms}} presents an overview of the use of the type of \\gls{{ssl}}/\\gls{{tls}} at \\glspl{{hei}} in \\countryName.\n",
    "\n",
    "According to the data, {hei_public_rsa}\\% of the public institutions analyzed, and {hei_private_rsa}\\% of the private institutions are using \\gls{{rsa}} encryption algorithm for \\gls{{ssl}}/\\gls{{tls}}.\n",
    "\n",
    "On the other hand, {hei_public_ecc}\\% of the public institutions analyzed, and {hei_private_ecc}\\% of the private institutions are using \\gls{{ecc}} encryption algorithm for \\gls{{ssl}}/\\gls{{tls}}.\n",
    "\n",
    "In terms of regional differences, private institutions in {report_results.get(\"RSA (Private) %\").get(\"top_regions\")[0][0]} ({format(report_results.get(\"RSA (Private) %\").get(\"top_regions\")[0][1], \".2f\")}\\%), {report_results.get(\"RSA (Private) %\").get(\"top_regions\")[1][0]} ({format(report_results.get(\"RSA (Private) %\").get(\"top_regions\")[1][1], \".2f\")}\\%), and {report_results.get(\"RSA (Private) %\").get(\"top_regions\")[2][0]} ({format(report_results.get(\"RSA (Private) %\").get(\"top_regions\")[2][1], \".2f\")}\\%), and public institutions in {report_results.get(\"RSA (Public) %\").get(\"top_regions\")[0][0]} ({format(report_results.get(\"RSA (Public) %\").get(\"top_regions\")[0][1], \".2f\")}\\%), {report_results.get(\"RSA (Public) %\").get(\"top_regions\")[1][0]} ({format(report_results.get(\"RSA (Public) %\").get(\"top_regions\")[1][1], \".2f\")}\\%), and {report_results.get(\"RSA (Public) %\").get(\"top_regions\")[2][0]} ({format(report_results.get(\"RSA (Public) %\").get(\"top_regions\")[2][1], \".2f\")}\\%) have a higher usage of \\gls{{rsa}} encryption algorithm on your websites.\n",
    "\n",
    "In contrast, private institutions in, {report_results.get(\"RSA (Private) %\").get(\"bottom_regions\")[0][0]} ({format(report_results.get(\"RSA (Private) %\").get(\"bottom_regions\")[0][1], \".2f\")}\\%), {report_results.get(\"RSA (Private) %\").get(\"bottom_regions\")[1][0]} ({format(report_results.get(\"RSA (Private) %\").get(\"bottom_regions\")[1][1], \".2f\")}\\%), and {report_results.get(\"RSA (Private) %\").get(\"bottom_regions\")[2][0]} ({format(report_results.get(\"RSA (Private) %\").get(\"bottom_regions\")[2][1], \".2f\")}\\%), and public institutions in {report_results.get(\"RSA (Public) %\").get(\"bottom_regions\")[0][0]} ({format(report_results.get(\"RSA (Public) %\").get(\"bottom_regions\")[0][1], \".2f\")}\\%), {report_results.get(\"RSA (Public) %\").get(\"bottom_regions\")[1][0]} ({format(report_results.get(\"RSA (Public) %\").get(\"bottom_regions\")[1][1], \".2f\")}\\%), and {report_results.get(\"RSA (Public) %\").get(\"bottom_regions\")[2][0]} ({format(report_results.get(\"RSA (Public) %\").get(\"bottom_regions\")[2][1], \".2f\")}\\%) have a lower usage of \\gls{{rsa}} encryption algorithm on your websites.\n",
    "\n",
    "Finally, private institutions in {report_results.get(\"ECC (Private) %\").get(\"top_regions\")[0][0]} ({format(report_results.get(\"ECC (Private) %\").get(\"top_regions\")[0][1], \".2f\")}\\%), {report_results.get(\"ECC (Private) %\").get(\"top_regions\")[1][0]} ({format(report_results.get(\"ECC (Private) %\").get(\"top_regions\")[1][1], \".2f\")}\\%), and {report_results.get(\"ECC (Private) %\").get(\"top_regions\")[2][0]} ({format(report_results.get(\"ECC (Private) %\").get(\"top_regions\")[2][1], \".2f\")}\\%), and public institutions in {report_results.get(\"ECC (Public) %\").get(\"top_regions\")[0][0]} ({format(report_results.get(\"ECC (Public) %\").get(\"top_regions\")[0][1], \".2f\")}\\%), {report_results.get(\"ECC (Public) %\").get(\"top_regions\")[1][0]} ({format(report_results.get(\"ECC (Public) %\").get(\"top_regions\")[1][1], \".2f\")}\\%), and {report_results.get(\"ECC (Public) %\").get(\"top_regions\")[2][0]} ({format(report_results.get(\"ECC (Public) %\").get(\"top_regions\")[2][1], \".2f\")}\\%) have a higher usage of \\gls{{ecc}} encryption algorithm on your websites.\n",
    "\n",
    "In contrast, private institutions in {report_results.get(\"ECC (Private) %\").get(\"bottom_regions\")[0][0]} ({format(report_results.get(\"ECC (Private) %\").get(\"bottom_regions\")[0][1], \".2f\")}\\%), {report_results.get(\"ECC (Private) %\").get(\"bottom_regions\")[1][0]} ({format(report_results.get(\"ECC (Private) %\").get(\"bottom_regions\")[1][1], \".2f\")}\\%), and {report_results.get(\"ECC (Private) %\").get(\"bottom_regions\")[2][0]} ({format(report_results.get(\"ECC (Private) %\").get(\"bottom_regions\")[2][1], \".2f\")}\\%), and public institutions in {report_results.get(\"ECC (Public) %\").get(\"bottom_regions\")[0][0]} ({format(report_results.get(\"ECC (Public) %\").get(\"bottom_regions\")[0][1], \".2f\")}\\%), {report_results.get(\"ECC (Public) %\").get(\"bottom_regions\")[1][0]} ({format(report_results.get(\"ECC (Public) %\").get(\"bottom_regions\")[1][1], \".2f\")}\\%), and {report_results.get(\"ECC (Public) %\").get(\"bottom_regions\")[2][0]} ({format(report_results.get(\"ECC (Public) %\").get(\"bottom_regions\")[2][1], \".2f\")}\\%) have a lower usage of \\gls{{ecc}} encryption algorithm on your websites.\n",
    "\"\"\"\n",
    "\n",
    "print(report)\n",
    "# save report to file txt\n",
    "save_report(report=report, category=category, report_name=report_name)"
   ],
   "metadata": {
    "collapsed": false
   }
  },
  {
   "cell_type": "code",
   "execution_count": 14,
   "outputs": [
    {
     "data": {
      "text/plain": "                    Region  Global #  Without SSL #  Without SSL %  SSLv2.0 #  \\\n0   Mecklenburg-Vorpommern         7              1      14.285714          0   \n1            Niedersachsen        21              1       4.761905          0   \n2        Baden-Württemberg        48              2       4.166667          0   \n3                   Bayern        34              0       0.000000          0   \n4                   Berlin        12              0       0.000000          0   \n5              Brandenburg        10              0       0.000000          0   \n6                   Bremen         5              0       0.000000          0   \n7                  Hamburg        10              0       0.000000          0   \n8                   Hessen        22              0       0.000000          0   \n9      Nordrhein-Westfalen        42              0       0.000000          0   \n10         Rheinland-Pfalz        15              0       0.000000          0   \n11                Saarland         5              0       0.000000          0   \n12                 Sachsen        23              0       0.000000          0   \n13          Sachsen-Anhalt         8              0       0.000000          0   \n14      Schleswig-Holstein        10              0       0.000000          0   \n15               Thüringen        11              0       0.000000          0   \n16                   Total       283              4       1.413428          0   \n\n    SSLv2.0 %  SSLv3.0 #  SSLv3.0 %  TLSv1.0 #  TLSv1.0 %  TLSv1.1 #  \\\n0         0.0          0   0.000000          0   0.000000          0   \n1         0.0          0   0.000000          2   9.523810          0   \n2         0.0          0   0.000000          2   4.166667          0   \n3         0.0          0   0.000000          5  14.705882          0   \n4         0.0          0   0.000000          3  25.000000          0   \n5         0.0          0   0.000000          2  20.000000          0   \n6         0.0          0   0.000000          1  20.000000          0   \n7         0.0          0   0.000000          2  20.000000          0   \n8         0.0          1   4.545455          0   0.000000          0   \n9         0.0          0   0.000000          7  16.666667          0   \n10        0.0          0   0.000000          1   6.666667          0   \n11        0.0          0   0.000000          0   0.000000          0   \n12        0.0          0   0.000000          1   4.347826          1   \n13        0.0          0   0.000000          0   0.000000          0   \n14        0.0          0   0.000000          3  30.000000          0   \n15        0.0          0   0.000000          1   9.090909          0   \n16        0.0          1   0.353357         30  10.600707          1   \n\n    TLSv1.1 %  TLSv1.2 #   TLSv1.2 %  TLSv1.3 #  TLSv1.3 %  \n0    0.000000          6   85.714286          0        0.0  \n1    0.000000         18   85.714286          0        0.0  \n2    0.000000         44   91.666667          0        0.0  \n3    0.000000         29   85.294118          0        0.0  \n4    0.000000          9   75.000000          0        0.0  \n5    0.000000          8   80.000000          0        0.0  \n6    0.000000          4   80.000000          0        0.0  \n7    0.000000          8   80.000000          0        0.0  \n8    0.000000         21   95.454545          0        0.0  \n9    0.000000         35   83.333333          0        0.0  \n10   0.000000         14   93.333333          0        0.0  \n11   0.000000          5  100.000000          0        0.0  \n12   4.347826         21   91.304348          0        0.0  \n13   0.000000          8  100.000000          0        0.0  \n14   0.000000          7   70.000000          0        0.0  \n15   0.000000         10   90.909091          0        0.0  \n16   0.353357        247   87.279152          0        0.0  ",
      "text/html": "<div>\n<style scoped>\n    .dataframe tbody tr th:only-of-type {\n        vertical-align: middle;\n    }\n\n    .dataframe tbody tr th {\n        vertical-align: top;\n    }\n\n    .dataframe thead th {\n        text-align: right;\n    }\n</style>\n<table border=\"1\" class=\"dataframe\">\n  <thead>\n    <tr style=\"text-align: right;\">\n      <th></th>\n      <th>Region</th>\n      <th>Global #</th>\n      <th>Without SSL #</th>\n      <th>Without SSL %</th>\n      <th>SSLv2.0 #</th>\n      <th>SSLv2.0 %</th>\n      <th>SSLv3.0 #</th>\n      <th>SSLv3.0 %</th>\n      <th>TLSv1.0 #</th>\n      <th>TLSv1.0 %</th>\n      <th>TLSv1.1 #</th>\n      <th>TLSv1.1 %</th>\n      <th>TLSv1.2 #</th>\n      <th>TLSv1.2 %</th>\n      <th>TLSv1.3 #</th>\n      <th>TLSv1.3 %</th>\n    </tr>\n  </thead>\n  <tbody>\n    <tr>\n      <th>0</th>\n      <td>Mecklenburg-Vorpommern</td>\n      <td>7</td>\n      <td>1</td>\n      <td>14.285714</td>\n      <td>0</td>\n      <td>0.0</td>\n      <td>0</td>\n      <td>0.000000</td>\n      <td>0</td>\n      <td>0.000000</td>\n      <td>0</td>\n      <td>0.000000</td>\n      <td>6</td>\n      <td>85.714286</td>\n      <td>0</td>\n      <td>0.0</td>\n    </tr>\n    <tr>\n      <th>1</th>\n      <td>Niedersachsen</td>\n      <td>21</td>\n      <td>1</td>\n      <td>4.761905</td>\n      <td>0</td>\n      <td>0.0</td>\n      <td>0</td>\n      <td>0.000000</td>\n      <td>2</td>\n      <td>9.523810</td>\n      <td>0</td>\n      <td>0.000000</td>\n      <td>18</td>\n      <td>85.714286</td>\n      <td>0</td>\n      <td>0.0</td>\n    </tr>\n    <tr>\n      <th>2</th>\n      <td>Baden-Württemberg</td>\n      <td>48</td>\n      <td>2</td>\n      <td>4.166667</td>\n      <td>0</td>\n      <td>0.0</td>\n      <td>0</td>\n      <td>0.000000</td>\n      <td>2</td>\n      <td>4.166667</td>\n      <td>0</td>\n      <td>0.000000</td>\n      <td>44</td>\n      <td>91.666667</td>\n      <td>0</td>\n      <td>0.0</td>\n    </tr>\n    <tr>\n      <th>3</th>\n      <td>Bayern</td>\n      <td>34</td>\n      <td>0</td>\n      <td>0.000000</td>\n      <td>0</td>\n      <td>0.0</td>\n      <td>0</td>\n      <td>0.000000</td>\n      <td>5</td>\n      <td>14.705882</td>\n      <td>0</td>\n      <td>0.000000</td>\n      <td>29</td>\n      <td>85.294118</td>\n      <td>0</td>\n      <td>0.0</td>\n    </tr>\n    <tr>\n      <th>4</th>\n      <td>Berlin</td>\n      <td>12</td>\n      <td>0</td>\n      <td>0.000000</td>\n      <td>0</td>\n      <td>0.0</td>\n      <td>0</td>\n      <td>0.000000</td>\n      <td>3</td>\n      <td>25.000000</td>\n      <td>0</td>\n      <td>0.000000</td>\n      <td>9</td>\n      <td>75.000000</td>\n      <td>0</td>\n      <td>0.0</td>\n    </tr>\n    <tr>\n      <th>5</th>\n      <td>Brandenburg</td>\n      <td>10</td>\n      <td>0</td>\n      <td>0.000000</td>\n      <td>0</td>\n      <td>0.0</td>\n      <td>0</td>\n      <td>0.000000</td>\n      <td>2</td>\n      <td>20.000000</td>\n      <td>0</td>\n      <td>0.000000</td>\n      <td>8</td>\n      <td>80.000000</td>\n      <td>0</td>\n      <td>0.0</td>\n    </tr>\n    <tr>\n      <th>6</th>\n      <td>Bremen</td>\n      <td>5</td>\n      <td>0</td>\n      <td>0.000000</td>\n      <td>0</td>\n      <td>0.0</td>\n      <td>0</td>\n      <td>0.000000</td>\n      <td>1</td>\n      <td>20.000000</td>\n      <td>0</td>\n      <td>0.000000</td>\n      <td>4</td>\n      <td>80.000000</td>\n      <td>0</td>\n      <td>0.0</td>\n    </tr>\n    <tr>\n      <th>7</th>\n      <td>Hamburg</td>\n      <td>10</td>\n      <td>0</td>\n      <td>0.000000</td>\n      <td>0</td>\n      <td>0.0</td>\n      <td>0</td>\n      <td>0.000000</td>\n      <td>2</td>\n      <td>20.000000</td>\n      <td>0</td>\n      <td>0.000000</td>\n      <td>8</td>\n      <td>80.000000</td>\n      <td>0</td>\n      <td>0.0</td>\n    </tr>\n    <tr>\n      <th>8</th>\n      <td>Hessen</td>\n      <td>22</td>\n      <td>0</td>\n      <td>0.000000</td>\n      <td>0</td>\n      <td>0.0</td>\n      <td>1</td>\n      <td>4.545455</td>\n      <td>0</td>\n      <td>0.000000</td>\n      <td>0</td>\n      <td>0.000000</td>\n      <td>21</td>\n      <td>95.454545</td>\n      <td>0</td>\n      <td>0.0</td>\n    </tr>\n    <tr>\n      <th>9</th>\n      <td>Nordrhein-Westfalen</td>\n      <td>42</td>\n      <td>0</td>\n      <td>0.000000</td>\n      <td>0</td>\n      <td>0.0</td>\n      <td>0</td>\n      <td>0.000000</td>\n      <td>7</td>\n      <td>16.666667</td>\n      <td>0</td>\n      <td>0.000000</td>\n      <td>35</td>\n      <td>83.333333</td>\n      <td>0</td>\n      <td>0.0</td>\n    </tr>\n    <tr>\n      <th>10</th>\n      <td>Rheinland-Pfalz</td>\n      <td>15</td>\n      <td>0</td>\n      <td>0.000000</td>\n      <td>0</td>\n      <td>0.0</td>\n      <td>0</td>\n      <td>0.000000</td>\n      <td>1</td>\n      <td>6.666667</td>\n      <td>0</td>\n      <td>0.000000</td>\n      <td>14</td>\n      <td>93.333333</td>\n      <td>0</td>\n      <td>0.0</td>\n    </tr>\n    <tr>\n      <th>11</th>\n      <td>Saarland</td>\n      <td>5</td>\n      <td>0</td>\n      <td>0.000000</td>\n      <td>0</td>\n      <td>0.0</td>\n      <td>0</td>\n      <td>0.000000</td>\n      <td>0</td>\n      <td>0.000000</td>\n      <td>0</td>\n      <td>0.000000</td>\n      <td>5</td>\n      <td>100.000000</td>\n      <td>0</td>\n      <td>0.0</td>\n    </tr>\n    <tr>\n      <th>12</th>\n      <td>Sachsen</td>\n      <td>23</td>\n      <td>0</td>\n      <td>0.000000</td>\n      <td>0</td>\n      <td>0.0</td>\n      <td>0</td>\n      <td>0.000000</td>\n      <td>1</td>\n      <td>4.347826</td>\n      <td>1</td>\n      <td>4.347826</td>\n      <td>21</td>\n      <td>91.304348</td>\n      <td>0</td>\n      <td>0.0</td>\n    </tr>\n    <tr>\n      <th>13</th>\n      <td>Sachsen-Anhalt</td>\n      <td>8</td>\n      <td>0</td>\n      <td>0.000000</td>\n      <td>0</td>\n      <td>0.0</td>\n      <td>0</td>\n      <td>0.000000</td>\n      <td>0</td>\n      <td>0.000000</td>\n      <td>0</td>\n      <td>0.000000</td>\n      <td>8</td>\n      <td>100.000000</td>\n      <td>0</td>\n      <td>0.0</td>\n    </tr>\n    <tr>\n      <th>14</th>\n      <td>Schleswig-Holstein</td>\n      <td>10</td>\n      <td>0</td>\n      <td>0.000000</td>\n      <td>0</td>\n      <td>0.0</td>\n      <td>0</td>\n      <td>0.000000</td>\n      <td>3</td>\n      <td>30.000000</td>\n      <td>0</td>\n      <td>0.000000</td>\n      <td>7</td>\n      <td>70.000000</td>\n      <td>0</td>\n      <td>0.0</td>\n    </tr>\n    <tr>\n      <th>15</th>\n      <td>Thüringen</td>\n      <td>11</td>\n      <td>0</td>\n      <td>0.000000</td>\n      <td>0</td>\n      <td>0.0</td>\n      <td>0</td>\n      <td>0.000000</td>\n      <td>1</td>\n      <td>9.090909</td>\n      <td>0</td>\n      <td>0.000000</td>\n      <td>10</td>\n      <td>90.909091</td>\n      <td>0</td>\n      <td>0.0</td>\n    </tr>\n    <tr>\n      <th>16</th>\n      <td>Total</td>\n      <td>283</td>\n      <td>4</td>\n      <td>1.413428</td>\n      <td>0</td>\n      <td>0.0</td>\n      <td>1</td>\n      <td>0.353357</td>\n      <td>30</td>\n      <td>10.600707</td>\n      <td>1</td>\n      <td>0.353357</td>\n      <td>247</td>\n      <td>87.279152</td>\n      <td>0</td>\n      <td>0.0</td>\n    </tr>\n  </tbody>\n</table>\n</div>"
     },
     "metadata": {},
     "output_type": "display_data"
    },
    {
     "data": {
      "text/plain": "                 Region  Global #  Without SSL #  Without SSL %  SSLv2.0 #  \\\n0     Baden-Württemberg        24              0            0.0          0   \n1                Bayern        12              0            0.0          0   \n2                Berlin        28              0            0.0          0   \n3           Brandenburg         9              0            0.0          0   \n4                Bremen         2              0            0.0          0   \n5               Hamburg        11              0            0.0          0   \n6                Hessen        23              0            0.0          0   \n7         Niedersachsen        16              0            0.0          0   \n8   Nordrhein-Westfalen        25              0            0.0          0   \n9       Rheinland-Pfalz         6              0            0.0          0   \n10             Saarland         5              0            0.0          0   \n11              Sachsen         7              0            0.0          0   \n12       Sachsen-Anhalt         2              0            0.0          0   \n13   Schleswig-Holstein         3              0            0.0          0   \n14            Thüringen         2              0            0.0          0   \n15                Total       175              0            0.0          0   \n\n    SSLv2.0 %  SSLv3.0 #  SSLv3.0 %  TLSv1.0 #  TLSv1.0 %  TLSv1.1 #  \\\n0         0.0          0   0.000000          5  20.833333          0   \n1         0.0          0   0.000000          2  16.666667          0   \n2         0.0          0   0.000000          7  25.000000          0   \n3         0.0          0   0.000000          1  11.111111          0   \n4         0.0          0   0.000000          0   0.000000          0   \n5         0.0          0   0.000000          0   0.000000          0   \n6         0.0          0   0.000000          7  30.434783          0   \n7         0.0          0   0.000000          3  18.750000          0   \n8         0.0          0   0.000000          5  20.000000          0   \n9         0.0          0   0.000000          1  16.666667          0   \n10        0.0          1  20.000000          2  40.000000          0   \n11        0.0          0   0.000000          1  14.285714          0   \n12        0.0          0   0.000000          0   0.000000          0   \n13        0.0          0   0.000000          1  33.333333          0   \n14        0.0          0   0.000000          0   0.000000          0   \n15        0.0          1   0.571429         35  20.000000          0   \n\n    TLSv1.1 %  TLSv1.2 #   TLSv1.2 %  TLSv1.3 #  TLSv1.3 %  \n0         0.0         19   79.166667          0        0.0  \n1         0.0         10   83.333333          0        0.0  \n2         0.0         21   75.000000          0        0.0  \n3         0.0          8   88.888889          0        0.0  \n4         0.0          2  100.000000          0        0.0  \n5         0.0         11  100.000000          0        0.0  \n6         0.0         16   69.565217          0        0.0  \n7         0.0         13   81.250000          0        0.0  \n8         0.0         20   80.000000          0        0.0  \n9         0.0          5   83.333333          0        0.0  \n10        0.0          2   40.000000          0        0.0  \n11        0.0          6   85.714286          0        0.0  \n12        0.0          2  100.000000          0        0.0  \n13        0.0          2   66.666667          0        0.0  \n14        0.0          2  100.000000          0        0.0  \n15        0.0        139   79.428571          0        0.0  ",
      "text/html": "<div>\n<style scoped>\n    .dataframe tbody tr th:only-of-type {\n        vertical-align: middle;\n    }\n\n    .dataframe tbody tr th {\n        vertical-align: top;\n    }\n\n    .dataframe thead th {\n        text-align: right;\n    }\n</style>\n<table border=\"1\" class=\"dataframe\">\n  <thead>\n    <tr style=\"text-align: right;\">\n      <th></th>\n      <th>Region</th>\n      <th>Global #</th>\n      <th>Without SSL #</th>\n      <th>Without SSL %</th>\n      <th>SSLv2.0 #</th>\n      <th>SSLv2.0 %</th>\n      <th>SSLv3.0 #</th>\n      <th>SSLv3.0 %</th>\n      <th>TLSv1.0 #</th>\n      <th>TLSv1.0 %</th>\n      <th>TLSv1.1 #</th>\n      <th>TLSv1.1 %</th>\n      <th>TLSv1.2 #</th>\n      <th>TLSv1.2 %</th>\n      <th>TLSv1.3 #</th>\n      <th>TLSv1.3 %</th>\n    </tr>\n  </thead>\n  <tbody>\n    <tr>\n      <th>0</th>\n      <td>Baden-Württemberg</td>\n      <td>24</td>\n      <td>0</td>\n      <td>0.0</td>\n      <td>0</td>\n      <td>0.0</td>\n      <td>0</td>\n      <td>0.000000</td>\n      <td>5</td>\n      <td>20.833333</td>\n      <td>0</td>\n      <td>0.0</td>\n      <td>19</td>\n      <td>79.166667</td>\n      <td>0</td>\n      <td>0.0</td>\n    </tr>\n    <tr>\n      <th>1</th>\n      <td>Bayern</td>\n      <td>12</td>\n      <td>0</td>\n      <td>0.0</td>\n      <td>0</td>\n      <td>0.0</td>\n      <td>0</td>\n      <td>0.000000</td>\n      <td>2</td>\n      <td>16.666667</td>\n      <td>0</td>\n      <td>0.0</td>\n      <td>10</td>\n      <td>83.333333</td>\n      <td>0</td>\n      <td>0.0</td>\n    </tr>\n    <tr>\n      <th>2</th>\n      <td>Berlin</td>\n      <td>28</td>\n      <td>0</td>\n      <td>0.0</td>\n      <td>0</td>\n      <td>0.0</td>\n      <td>0</td>\n      <td>0.000000</td>\n      <td>7</td>\n      <td>25.000000</td>\n      <td>0</td>\n      <td>0.0</td>\n      <td>21</td>\n      <td>75.000000</td>\n      <td>0</td>\n      <td>0.0</td>\n    </tr>\n    <tr>\n      <th>3</th>\n      <td>Brandenburg</td>\n      <td>9</td>\n      <td>0</td>\n      <td>0.0</td>\n      <td>0</td>\n      <td>0.0</td>\n      <td>0</td>\n      <td>0.000000</td>\n      <td>1</td>\n      <td>11.111111</td>\n      <td>0</td>\n      <td>0.0</td>\n      <td>8</td>\n      <td>88.888889</td>\n      <td>0</td>\n      <td>0.0</td>\n    </tr>\n    <tr>\n      <th>4</th>\n      <td>Bremen</td>\n      <td>2</td>\n      <td>0</td>\n      <td>0.0</td>\n      <td>0</td>\n      <td>0.0</td>\n      <td>0</td>\n      <td>0.000000</td>\n      <td>0</td>\n      <td>0.000000</td>\n      <td>0</td>\n      <td>0.0</td>\n      <td>2</td>\n      <td>100.000000</td>\n      <td>0</td>\n      <td>0.0</td>\n    </tr>\n    <tr>\n      <th>5</th>\n      <td>Hamburg</td>\n      <td>11</td>\n      <td>0</td>\n      <td>0.0</td>\n      <td>0</td>\n      <td>0.0</td>\n      <td>0</td>\n      <td>0.000000</td>\n      <td>0</td>\n      <td>0.000000</td>\n      <td>0</td>\n      <td>0.0</td>\n      <td>11</td>\n      <td>100.000000</td>\n      <td>0</td>\n      <td>0.0</td>\n    </tr>\n    <tr>\n      <th>6</th>\n      <td>Hessen</td>\n      <td>23</td>\n      <td>0</td>\n      <td>0.0</td>\n      <td>0</td>\n      <td>0.0</td>\n      <td>0</td>\n      <td>0.000000</td>\n      <td>7</td>\n      <td>30.434783</td>\n      <td>0</td>\n      <td>0.0</td>\n      <td>16</td>\n      <td>69.565217</td>\n      <td>0</td>\n      <td>0.0</td>\n    </tr>\n    <tr>\n      <th>7</th>\n      <td>Niedersachsen</td>\n      <td>16</td>\n      <td>0</td>\n      <td>0.0</td>\n      <td>0</td>\n      <td>0.0</td>\n      <td>0</td>\n      <td>0.000000</td>\n      <td>3</td>\n      <td>18.750000</td>\n      <td>0</td>\n      <td>0.0</td>\n      <td>13</td>\n      <td>81.250000</td>\n      <td>0</td>\n      <td>0.0</td>\n    </tr>\n    <tr>\n      <th>8</th>\n      <td>Nordrhein-Westfalen</td>\n      <td>25</td>\n      <td>0</td>\n      <td>0.0</td>\n      <td>0</td>\n      <td>0.0</td>\n      <td>0</td>\n      <td>0.000000</td>\n      <td>5</td>\n      <td>20.000000</td>\n      <td>0</td>\n      <td>0.0</td>\n      <td>20</td>\n      <td>80.000000</td>\n      <td>0</td>\n      <td>0.0</td>\n    </tr>\n    <tr>\n      <th>9</th>\n      <td>Rheinland-Pfalz</td>\n      <td>6</td>\n      <td>0</td>\n      <td>0.0</td>\n      <td>0</td>\n      <td>0.0</td>\n      <td>0</td>\n      <td>0.000000</td>\n      <td>1</td>\n      <td>16.666667</td>\n      <td>0</td>\n      <td>0.0</td>\n      <td>5</td>\n      <td>83.333333</td>\n      <td>0</td>\n      <td>0.0</td>\n    </tr>\n    <tr>\n      <th>10</th>\n      <td>Saarland</td>\n      <td>5</td>\n      <td>0</td>\n      <td>0.0</td>\n      <td>0</td>\n      <td>0.0</td>\n      <td>1</td>\n      <td>20.000000</td>\n      <td>2</td>\n      <td>40.000000</td>\n      <td>0</td>\n      <td>0.0</td>\n      <td>2</td>\n      <td>40.000000</td>\n      <td>0</td>\n      <td>0.0</td>\n    </tr>\n    <tr>\n      <th>11</th>\n      <td>Sachsen</td>\n      <td>7</td>\n      <td>0</td>\n      <td>0.0</td>\n      <td>0</td>\n      <td>0.0</td>\n      <td>0</td>\n      <td>0.000000</td>\n      <td>1</td>\n      <td>14.285714</td>\n      <td>0</td>\n      <td>0.0</td>\n      <td>6</td>\n      <td>85.714286</td>\n      <td>0</td>\n      <td>0.0</td>\n    </tr>\n    <tr>\n      <th>12</th>\n      <td>Sachsen-Anhalt</td>\n      <td>2</td>\n      <td>0</td>\n      <td>0.0</td>\n      <td>0</td>\n      <td>0.0</td>\n      <td>0</td>\n      <td>0.000000</td>\n      <td>0</td>\n      <td>0.000000</td>\n      <td>0</td>\n      <td>0.0</td>\n      <td>2</td>\n      <td>100.000000</td>\n      <td>0</td>\n      <td>0.0</td>\n    </tr>\n    <tr>\n      <th>13</th>\n      <td>Schleswig-Holstein</td>\n      <td>3</td>\n      <td>0</td>\n      <td>0.0</td>\n      <td>0</td>\n      <td>0.0</td>\n      <td>0</td>\n      <td>0.000000</td>\n      <td>1</td>\n      <td>33.333333</td>\n      <td>0</td>\n      <td>0.0</td>\n      <td>2</td>\n      <td>66.666667</td>\n      <td>0</td>\n      <td>0.0</td>\n    </tr>\n    <tr>\n      <th>14</th>\n      <td>Thüringen</td>\n      <td>2</td>\n      <td>0</td>\n      <td>0.0</td>\n      <td>0</td>\n      <td>0.0</td>\n      <td>0</td>\n      <td>0.000000</td>\n      <td>0</td>\n      <td>0.000000</td>\n      <td>0</td>\n      <td>0.0</td>\n      <td>2</td>\n      <td>100.000000</td>\n      <td>0</td>\n      <td>0.0</td>\n    </tr>\n    <tr>\n      <th>15</th>\n      <td>Total</td>\n      <td>175</td>\n      <td>0</td>\n      <td>0.0</td>\n      <td>0</td>\n      <td>0.0</td>\n      <td>1</td>\n      <td>0.571429</td>\n      <td>35</td>\n      <td>20.000000</td>\n      <td>0</td>\n      <td>0.0</td>\n      <td>139</td>\n      <td>79.428571</td>\n      <td>0</td>\n      <td>0.0</td>\n    </tr>\n  </tbody>\n</table>\n</div>"
     },
     "metadata": {},
     "output_type": "display_data"
    }
   ],
   "source": [
    "# Analyze of Worst supported SSL/TLS versions by region (Pub/Pvt)\n",
    "\n",
    "# settings\n",
    "column_to_sort = 'Without SSL %'\n",
    "sort_ascending = False\n",
    "config = [\n",
    "    {'table_name': 'Worst_SSL_supported_by_region_public', 'hei_type': 'Public'},\n",
    "    {'table_name': 'Worst_SSL_supported_by_region_private', 'hei_type': 'Private'}\n",
    "]\n",
    "dfs = []\n",
    "for config_item in config:\n",
    "    table_name = config_item['table_name']\n",
    "    hei_type = config_item['hei_type']\n",
    "    columns_to_display = [region_column_name.title(), column_name_to_results_global]\n",
    "    analysis_df = get_records_by_region(source_df, hei_type=hei_type)\n",
    "    # create columns\n",
    "    # Column creation with distribution of records without SSL by region\n",
    "    create_column(source_df=source_df, analysis_dataframe=analysis_df, column_name='Without SSL', criteria=f'grade == \"M\" & category == \"{hei_type}\"', columns_to_display=columns_to_display)\n",
    "\n",
    "    # Creating column with the distribution of Worst supported SSL/TLS versions by region\n",
    "    versions = ['SSLv2.0', 'SSLv3.0', 'TLSv1.0', 'TLSv1.1', 'TLSv1.2', 'TLSv1.3']\n",
    "    only_https = 'grade != \"M\" &'\n",
    "    for i in range(len(versions)):\n",
    "        current_version = f'`{versions[i]}` == True &' if i != 0 else f'`{versions[i]}` == True'\n",
    "        previous_versions = ' & '.join([f'`{versions[j]}` == False' for j in range(i)])\n",
    "        criteria = f'{only_https} {current_version} {previous_versions}'\n",
    "        create_column(source_df=source_df, analysis_dataframe=analysis_df, column_name=f'{versions[i]}', criteria=f'{criteria} & category == \"{hei_type}\"', columns_to_display=columns_to_display)\n",
    "    # Finalize dataframe\n",
    "    analysis_df = finalize_dataframe(dataframe=analysis_df, column_to_sort=column_to_sort, ascending=sort_ascending, columns_to_display=columns_to_display)\n",
    "    display(analysis_df)\n",
    "    dfs.append(analysis_df)\n",
    "    # save to csv\n",
    "    save_table(analysis_df, category=category, table_name=table_name)\n",
    "\n",
    "\n",
    "df_public = dfs[0].add_suffix('(pub)')\n",
    "df_private = dfs[1].add_suffix('(pvt)')\n",
    "df_public = df_public.rename(columns={'Region(pub)': 'Region'})\n",
    "df_private = df_private.rename(columns={'Region(pvt)': 'Region'})\n",
    "df_combined = df_public.merge(df_private, on='Region', how='outer')\n",
    "df_combined.fillna(0, inplace=True)\n",
    "# remove columns with # in the name\n",
    "df_combined = df_combined.loc[:, ~df_combined.columns.str.contains('#')]\n",
    "#remove columns global\n",
    "df_combined = df_combined.loc[:, ~df_combined.columns.str.contains('Global')]\n",
    "# remove '%' from name of columns\n",
    "df_combined.columns = df_combined.columns.str.replace('%', '')\n",
    "\n",
    "ranks_columns = ['Rank', 'Rank2']\n",
    "#add column with sum of best columns\n",
    "df_combined[ranks_columns[0]] = df_combined['TLSv1.3 (pub)'] + df_combined['TLSv1.3 (pvt)']\n",
    "df_combined[ranks_columns[1]] = df_combined['TLSv1.2 (pub)'] + df_combined['TLSv1.2 (pvt)']\n",
    "\n",
    "\n",
    "#order dataframe by column Rank (from highest to lowest)\n",
    "df_combined = df_combined.sort_values(by=ranks_columns, ascending=False)\n",
    "# move just row with 'Total' in column Region to the end of the dataframe. (Use pandas.concat instead of append to avoid duplicates)\n",
    "df_combined = pd.concat([df_combined[df_combined['Region'] != 'Total'], df_combined[df_combined['Region'] == 'Total']])\n",
    "# reset index\n",
    "df_combined.reset_index(drop=True, inplace=True)\n",
    "# remove column Rank\n",
    "df_combined.drop(columns=ranks_columns, inplace=True)\n",
    "#Add a column with the quartile corresponding to the position of the row, that is, considering the total of records -1 (to exclude the total row), if a row is in position 2 it should belong to the first quartile.\n",
    "df_combined['Quartile'] = df_combined.index.map(lambda rank: assign_quartile(rank, len(df_combined)-1))\n",
    "# moved column 'Quartile' to the second position\n",
    "cols = list(df_combined.columns)\n",
    "cols = [cols[0]] + [cols[-1]] + cols[1:-1]\n",
    "df_combined = df_combined[cols]\n",
    "\n",
    "\n",
    "save_table(df_combined, category=category, table_name='Worst_SSL_supported_by_region_combined')"
   ],
   "metadata": {
    "collapsed": false,
    "ExecuteTime": {
     "end_time": "2023-06-20T14:54:53.352704300Z",
     "start_time": "2023-06-20T14:54:52.851709500Z"
    }
   }
  },
  {
   "cell_type": "code",
   "execution_count": null,
   "outputs": [],
   "source": [],
   "metadata": {
    "collapsed": false
   }
  },
  {
   "cell_type": "code",
   "execution_count": 9,
   "outputs": [
    {
     "name": "stdout",
     "output_type": "stream",
     "text": [
      "\n",
      "\\begin{figure}[htbp]\n",
      "    \\centering\n",
      "    \\includegraphics[width=0.48\\textwidth]{charts/Worst_SSL_supported_by_region.pdf}\n",
      "    \\caption{Distribution of the worst version of \\gls{ssl}/\\gls{tls} protocols.}\\label{fig:ssl-worst}\n",
      "\\end{figure}\n",
      "\n",
      "\n",
      "\n",
      "Fig.~\\ref{fig:ssl-worst} presents an overview of the worst version of \\gls{ssl}/\\gls{tls} protocols at \\glspl{hei} in \\countryName.\n",
      "\n",
      "According to the data, 0.00\\% of the public institutions analyzed, and 0.00\\% of the private institutions are using SSLv2.0 version protocol, 0.46\\% of the public institutions analyzed, and 0.57\\% of the private institutions are using SSLv3.0 version protocol, 6.64\\% of the public institutions analyzed, and 14.15\\% of the private institutions are using TLSv1.0 version protocol, 1.34\\% of the public institutions analyzed, and 1.96\\% of the private institutions are using TLSv1.1 version protocol, 19.92\\% of the public institutions analyzed, and 53.94\\% of the private institutions are using TLSv1.2 version protocol, and 0.00\\% of the public institutions analyzed, and 0.00\\% of the private institutions are using TLSv1.3 version protocol.\n",
      "\n",
      "In terms of regional differences, private institutions in Colorado (0.00\\%), Illinois (0.00\\%), and Montana (0.00\\%), and public institutions in Colorado (0.00\\%), Illinois (0.00\\%), and Montana (0.00\\%) have a higher usage of SSLv2.0 version protocol on your websites.\n",
      "\n",
      "In contrast, private institutions in Colorado (0.00\\%), Missouri (0.00\\%), and Montana (0.00\\%), and public institutions in Colorado (0.00\\%), Missouri (0.00\\%), and Montana (0.00\\%) have a lower usage of SSLv2.0 version protocol on your websites.\n",
      "\n",
      "While the usage of SSLv3.0 version protocol is higher in private institutions in Montana (10.00\\%), New Hampshire (7.14\\%), and Tennessee (4.55\\%), and public institutions in Arkansas (5.00\\%), Connecticut (3.85\\%), and Louisiana (3.85\\%) than in other regions, the usage of SSLv3.0 version protocol is lower in private institutions in Colorado (0.00\\%), Nevada (0.00\\%), and Indiana (0.00\\%), and public institutions in Colorado (0.00\\%), Mississippi (0.00\\%), and Nevada (0.00\\%) than in other regions.\n",
      "\n",
      "The usage of TLSv1.0 version protocol is higher in private institutions in Delaware (40.00\\%), District of Columbia (33.33\\%), and Virginia (25.93\\%), and public institutions in Idaho (37.50\\%), North Dakota (33.33\\%), and New Mexico (30.00\\%) than in other regions, while the usage of TLSv1.0 version protocol is lower in private institutions in Wyoming (0.00\\%), Alaska (0.00\\%), and Idaho (0.00\\%), and public institutions in Wyoming (0.00\\%), Nevada (0.00\\%), and Rhode Island (0.00\\%) than in other regions.\n",
      "\n",
      "Already the use of TLSv1.1 version protocol is higher in private institutions in District of Columbia (16.67\\%), Kansas (10.71\\%), and West Virginia (9.52\\%), and public institutions in Oklahoma (16.00\\%), Montana (10.00\\%), and Alabama (9.68\\%) than in other regions, while the usage of TLSv1.1 version protocol is lower in private institutions in Wyoming (0.00\\%), Idaho (0.00\\%), and Hawaii (0.00\\%), and public institutions in Colorado (0.00\\%), Washington (0.00\\%), and Mississippi (0.00\\%) than in other regions.\n",
      "\n",
      "While the use of TLSv1.2 version protocol is higher in private institutions in Rhode Island (90.00\\%), Arizona (70.00\\%), and Vermont (70.00\\%), and public institutions in Wyoming (100.00\\%), Alaska (60.00\\%), and Montana (50.00\\%) than in other regions, while the usage of TLSv1.2 version protocol is lower in private institutions in Wyoming (0.00\\%), Delaware (20.00\\%), and New Mexico (20.00\\%), and public institutions in Iowa (5.88\\%), District of Columbia (8.33\\%), and Pennsylvania (9.35\\%) than in other regions.\n",
      "\n",
      "Finally, the use of TLSv1.3 version protocol is higher in private institutions in Colorado (0.00\\%), Illinois (0.00\\%), and Montana (0.00\\%), and public institutions in Colorado (0.00\\%), Illinois (0.00\\%), and Montana (0.00\\%) than in other regions, while the usage of TLSv1.3 version protocol is lower in private institutions in Colorado (0.00\\%), Missouri (0.00\\%), and Montana (0.00\\%), and public institutions in Colorado (0.00\\%), Missouri (0.00\\%), and Montana (0.00\\%) than in other regions.\n",
      "\n"
     ]
    }
   ],
   "source": [
    "# Report in latex\n",
    "report_results = get_extreme_values(analysis_df)\n",
    "report_name = 'Worst_SSL_supported_by_region'\n",
    "\n",
    "hei_public_ssl2 = format(report_results.get(\"Total\").get(\"SSLv2.0 (Public) %\"), \".2f\")\n",
    "hei_public_ssl3 = format(report_results.get(\"Total\").get(\"SSLv3.0 (Public) %\"), \".2f\")\n",
    "hei_public_tls10 = format(report_results.get(\"Total\").get(\"TLSv1.0 (Public) %\"), \".2f\")\n",
    "hei_public_tls11 = format(report_results.get(\"Total\").get(\"TLSv1.1 (Public) %\"), \".2f\")\n",
    "hei_public_tls12 = format(report_results.get(\"Total\").get(\"TLSv1.2 (Public) %\"), \".2f\")\n",
    "hei_public_tls13 = format(report_results.get(\"Total\").get(\"TLSv1.3 (Public) %\"), \".2f\")\n",
    "\n",
    "hei_private_ssl2 = format(report_results.get(\"Total\").get(\"SSLv2.0 (Private) %\"), \".2f\")\n",
    "hei_private_ssl3 = format(report_results.get(\"Total\").get(\"SSLv3.0 (Private) %\"), \".2f\")\n",
    "hei_private_tls10 = format(report_results.get(\"Total\").get(\"TLSv1.0 (Private) %\"), \".2f\")\n",
    "hei_private_tls11 = format(report_results.get(\"Total\").get(\"TLSv1.1 (Private) %\"), \".2f\")\n",
    "hei_private_tls12 = format(report_results.get(\"Total\").get(\"TLSv1.2 (Private) %\"), \".2f\")\n",
    "hei_private_tls13 = format(report_results.get(\"Total\").get(\"TLSv1.3 (Private) %\"), \".2f\")\n",
    "\n",
    "report_figure = f\"\"\"\n",
    "\\\\begin{{figure}}[htbp]\n",
    "    \\centering\n",
    "    \\includegraphics[width=0.48\\\\textwidth]{{charts/{report_name}.pdf}}\n",
    "    \\caption{{Distribution of the worst version of \\gls{{ssl}}/\\gls{{tls}} protocols.}}\\label{{fig:ssl-worst}}\n",
    "\\end{{figure}}\n",
    "\"\"\"\n",
    "\n",
    "report = f'{report_figure}\\n\\n'\n",
    "report += f\"\"\"\n",
    "Fig.~\\\\ref{{fig:ssl-worst}} presents an overview of the worst version of \\gls{{ssl}}/\\gls{{tls}} protocols at \\glspl{{hei}} in \\countryName.\n",
    "\n",
    "According to the data, {hei_public_ssl2}\\% of the public institutions analyzed, and {hei_private_ssl2}\\% of the private institutions are using SSLv2.0 version protocol, {hei_public_ssl3}\\% of the public institutions analyzed, and {hei_private_ssl3}\\% of the private institutions are using SSLv3.0 version protocol, {hei_public_tls10}\\% of the public institutions analyzed, and {hei_private_tls10}\\% of the private institutions are using TLSv1.0 version protocol, {hei_public_tls11}\\% of the public institutions analyzed, and {hei_private_tls11}\\% of the private institutions are using TLSv1.1 version protocol, {hei_public_tls12}\\% of the public institutions analyzed, and {hei_private_tls12}\\% of the private institutions are using TLSv1.2 version protocol, and {hei_public_tls13}\\% of the public institutions analyzed, and {hei_private_tls13}\\% of the private institutions are using TLSv1.3 version protocol.\n",
    "\n",
    "In terms of regional differences, private institutions in {report_results.get(\"SSLv2.0 (Private) %\").get(\"top_regions\")[0][0]} ({format(report_results.get(\"SSLv2.0 (Private) %\").get(\"top_regions\")[0][1], \".2f\")}\\%), {report_results.get(\"SSLv2.0 (Private) %\").get(\"top_regions\")[1][0]} ({format(report_results.get(\"SSLv2.0 (Private) %\").get(\"top_regions\")[1][1], \".2f\")}\\%), and {report_results.get(\"SSLv2.0 (Private) %\").get(\"top_regions\")[2][0]} ({format(report_results.get(\"SSLv2.0 (Private) %\").get(\"top_regions\")[2][1], \".2f\")}\\%), and public institutions in {report_results.get(\"SSLv2.0 (Public) %\").get(\"top_regions\")[0][0]} ({format(report_results.get(\"SSLv2.0 (Public) %\").get(\"top_regions\")[0][1], \".2f\")}\\%), {report_results.get(\"SSLv2.0 (Public) %\").get(\"top_regions\")[1][0]} ({format(report_results.get(\"SSLv2.0 (Public) %\").get(\"top_regions\")[1][1], \".2f\")}\\%), and {report_results.get(\"SSLv2.0 (Public) %\").get(\"top_regions\")[2][0]} ({format(report_results.get(\"SSLv2.0 (Public) %\").get(\"top_regions\")[2][1], \".2f\")}\\%) have a higher usage of SSLv2.0 version protocol on your websites.\n",
    "\n",
    "In contrast, private institutions in {report_results.get(\"SSLv2.0 (Private) %\").get(\"bottom_regions\")[0][0]} ({format(report_results.get(\"SSLv2.0 (Private) %\").get(\"bottom_regions\")[0][1], \".2f\")}\\%), {report_results.get(\"SSLv2.0 (Private) %\").get(\"bottom_regions\")[1][0]} ({format(report_results.get(\"SSLv2.0 (Private) %\").get(\"bottom_regions\")[1][1], \".2f\")}\\%), and {report_results.get(\"SSLv2.0 (Private) %\").get(\"bottom_regions\")[2][0]} ({format(report_results.get(\"SSLv2.0 (Private) %\").get(\"bottom_regions\")[2][1], \".2f\")}\\%), and public institutions in {report_results.get(\"SSLv2.0 (Public) %\").get(\"bottom_regions\")[0][0]} ({format(report_results.get(\"SSLv2.0 (Public) %\").get(\"bottom_regions\")[0][1], \".2f\")}\\%), {report_results.get(\"SSLv2.0 (Public) %\").get(\"bottom_regions\")[1][0]} ({format(report_results.get(\"SSLv2.0 (Public) %\").get(\"bottom_regions\")[1][1], \".2f\")}\\%), and {report_results.get(\"SSLv2.0 (Public) %\").get(\"bottom_regions\")[2][0]} ({format(report_results.get(\"SSLv2.0 (Public) %\").get(\"bottom_regions\")[2][1], \".2f\")}\\%) have a lower usage of SSLv2.0 version protocol on your websites.\n",
    "\n",
    "While the usage of SSLv3.0 version protocol is higher in private institutions in {report_results.get(\"SSLv3.0 (Private) %\").get(\"top_regions\")[0][0]} ({format(report_results.get(\"SSLv3.0 (Private) %\").get(\"top_regions\")[0][1], \".2f\")}\\%), {report_results.get(\"SSLv3.0 (Private) %\").get(\"top_regions\")[1][0]} ({format(report_results.get(\"SSLv3.0 (Private) %\").get(\"top_regions\")[1][1], \".2f\")}\\%), and {report_results.get(\"SSLv3.0 (Private) %\").get(\"top_regions\")[2][0]} ({format(report_results.get(\"SSLv3.0 (Private) %\").get(\"top_regions\")[2][1], \".2f\")}\\%), and public institutions in {report_results.get(\"SSLv3.0 (Public) %\").get(\"top_regions\")[0][0]} ({format(report_results.get(\"SSLv3.0 (Public) %\").get(\"top_regions\")[0][1], \".2f\")}\\%), {report_results.get(\"SSLv3.0 (Public) %\").get(\"top_regions\")[1][0]} ({format(report_results.get(\"SSLv3.0 (Public) %\").get(\"top_regions\")[1][1], \".2f\")}\\%), and {report_results.get(\"SSLv3.0 (Public) %\").get(\"top_regions\")[2][0]} ({format(report_results.get(\"SSLv3.0 (Public) %\").get(\"top_regions\")[2][1], \".2f\")}\\%) than in other regions, the usage of SSLv3.0 version protocol is lower in private institutions in {report_results.get(\"SSLv3.0 (Private) %\").get(\"bottom_regions\")[0][0]} ({format(report_results.get(\"SSLv3.0 (Private) %\").get(\"bottom_regions\")[0][1], \".2f\")}\\%), {report_results.get(\"SSLv3.0 (Private) %\").get(\"bottom_regions\")[1][0]} ({format(report_results.get(\"SSLv3.0 (Private) %\").get(\"bottom_regions\")[1][1], \".2f\")}\\%), and {report_results.get(\"SSLv3.0 (Private) %\").get(\"bottom_regions\")[2][0]} ({format(report_results.get(\"SSLv3.0 (Private) %\").get(\"bottom_regions\")[2][1], \".2f\")}\\%), and public institutions in {report_results.get(\"SSLv3.0 (Public) %\").get(\"bottom_regions\")[0][0]} ({format(report_results.get(\"SSLv3.0 (Public) %\").get(\"bottom_regions\")[0][1], \".2f\")}\\%), {report_results.get(\"SSLv3.0 (Public) %\").get(\"bottom_regions\")[1][0]} ({format(report_results.get(\"SSLv3.0 (Public) %\").get(\"bottom_regions\")[1][1], \".2f\")}\\%), and {report_results.get(\"SSLv3.0 (Public) %\").get(\"bottom_regions\")[2][0]} ({format(report_results.get(\"SSLv3.0 (Public) %\").get(\"bottom_regions\")[2][1], \".2f\")}\\%) than in other regions.\n",
    "\n",
    "The usage of TLSv1.0 version protocol is higher in private institutions in {report_results.get(\"TLSv1.0 (Private) %\").get(\"top_regions\")[0][0]} ({format(report_results.get(\"TLSv1.0 (Private) %\").get(\"top_regions\")[0][1], \".2f\")}\\%), {report_results.get(\"TLSv1.0 (Private) %\").get(\"top_regions\")[1][0]} ({format(report_results.get(\"TLSv1.0 (Private) %\").get(\"top_regions\")[1][1], \".2f\")}\\%), and {report_results.get(\"TLSv1.0 (Private) %\").get(\"top_regions\")[2][0]} ({format(report_results.get(\"TLSv1.0 (Private) %\").get(\"top_regions\")[2][1], \".2f\")}\\%), and public institutions in {report_results.get(\"TLSv1.0 (Public) %\").get(\"top_regions\")[0][0]} ({format(report_results.get(\"TLSv1.0 (Public) %\").get(\"top_regions\")[0][1], \".2f\")}\\%), {report_results.get(\"TLSv1.0 (Public) %\").get(\"top_regions\")[1][0]} ({format(report_results.get(\"TLSv1.0 (Public) %\").get(\"top_regions\")[1][1], \".2f\")}\\%), and {report_results.get(\"TLSv1.0 (Public) %\").get(\"top_regions\")[2][0]} ({format(report_results.get(\"TLSv1.0 (Public) %\").get(\"top_regions\")[2][1], \".2f\")}\\%) than in other regions, while the usage of TLSv1.0 version protocol is lower in private institutions in {report_results.get(\"TLSv1.0 (Private) %\").get(\"bottom_regions\")[0][0]} ({format(report_results.get(\"TLSv1.0 (Private) %\").get(\"bottom_regions\")[0][1], \".2f\")}\\%), {report_results.get(\"TLSv1.0 (Private) %\").get(\"bottom_regions\")[1][0]} ({format(report_results.get(\"TLSv1.0 (Private) %\").get(\"bottom_regions\")[1][1], \".2f\")}\\%), and {report_results.get(\"TLSv1.0 (Private) %\").get(\"bottom_regions\")[2][0]} ({format(report_results.get(\"TLSv1.0 (Private) %\").get(\"bottom_regions\")[2][1], \".2f\")}\\%), and public institutions in {report_results.get(\"TLSv1.0 (Public) %\").get(\"bottom_regions\")[0][0]} ({format(report_results.get(\"TLSv1.0 (Public) %\").get(\"bottom_regions\")[0][1], \".2f\")}\\%), {report_results.get(\"TLSv1.0 (Public) %\").get(\"bottom_regions\")[1][0]} ({format(report_results.get(\"TLSv1.0 (Public) %\").get(\"bottom_regions\")[1][1], \".2f\")}\\%), and {report_results.get(\"TLSv1.0 (Public) %\").get(\"bottom_regions\")[2][0]} ({format(report_results.get(\"TLSv1.0 (Public) %\").get(\"bottom_regions\")[2][1], \".2f\")}\\%) than in other regions.\n",
    "\n",
    "Already the use of TLSv1.1 version protocol is higher in private institutions in {report_results.get(\"TLSv1.1 (Private) %\").get(\"top_regions\")[0][0]} ({format(report_results.get(\"TLSv1.1 (Private) %\").get(\"top_regions\")[0][1], \".2f\")}\\%), {report_results.get(\"TLSv1.1 (Private) %\").get(\"top_regions\")[1][0]} ({format(report_results.get(\"TLSv1.1 (Private) %\").get(\"top_regions\")[1][1], \".2f\")}\\%), and {report_results.get(\"TLSv1.1 (Private) %\").get(\"top_regions\")[2][0]} ({format(report_results.get(\"TLSv1.1 (Private) %\").get(\"top_regions\")[2][1], \".2f\")}\\%), and public institutions in {report_results.get(\"TLSv1.1 (Public) %\").get(\"top_regions\")[0][0]} ({format(report_results.get(\"TLSv1.1 (Public) %\").get(\"top_regions\")[0][1], \".2f\")}\\%), {report_results.get(\"TLSv1.1 (Public) %\").get(\"top_regions\")[1][0]} ({format(report_results.get(\"TLSv1.1 (Public) %\").get(\"top_regions\")[1][1], \".2f\")}\\%), and {report_results.get(\"TLSv1.1 (Public) %\").get(\"top_regions\")[2][0]} ({format(report_results.get(\"TLSv1.1 (Public) %\").get(\"top_regions\")[2][1], \".2f\")}\\%) than in other regions, while the usage of TLSv1.1 version protocol is lower in private institutions in {report_results.get(\"TLSv1.1 (Private) %\").get(\"bottom_regions\")[0][0]} ({format(report_results.get(\"TLSv1.1 (Private) %\").get(\"bottom_regions\")[0][1], \".2f\")}\\%), {report_results.get(\"TLSv1.1 (Private) %\").get(\"bottom_regions\")[1][0]} ({format(report_results.get(\"TLSv1.1 (Private) %\").get(\"bottom_regions\")[1][1], \".2f\")}\\%), and {report_results.get(\"TLSv1.1 (Private) %\").get(\"bottom_regions\")[2][0]} ({format(report_results.get(\"TLSv1.1 (Private) %\").get(\"bottom_regions\")[2][1], \".2f\")}\\%), and public institutions in {report_results.get(\"TLSv1.1 (Public) %\").get(\"bottom_regions\")[0][0]} ({format(report_results.get(\"TLSv1.1 (Public) %\").get(\"bottom_regions\")[0][1], \".2f\")}\\%), {report_results.get(\"TLSv1.1 (Public) %\").get(\"bottom_regions\")[1][0]} ({format(report_results.get(\"TLSv1.1 (Public) %\").get(\"bottom_regions\")[1][1], \".2f\")}\\%), and {report_results.get(\"TLSv1.1 (Public) %\").get(\"bottom_regions\")[2][0]} ({format(report_results.get(\"TLSv1.1 (Public) %\").get(\"bottom_regions\")[2][1], \".2f\")}\\%) than in other regions.\n",
    "\n",
    "While the use of TLSv1.2 version protocol is higher in private institutions in {report_results.get(\"TLSv1.2 (Private) %\").get(\"top_regions\")[0][0]} ({format(report_results.get(\"TLSv1.2 (Private) %\").get(\"top_regions\")[0][1], \".2f\")}\\%), {report_results.get(\"TLSv1.2 (Private) %\").get(\"top_regions\")[1][0]} ({format(report_results.get(\"TLSv1.2 (Private) %\").get(\"top_regions\")[1][1], \".2f\")}\\%), and {report_results.get(\"TLSv1.2 (Private) %\").get(\"top_regions\")[2][0]} ({format(report_results.get(\"TLSv1.2 (Private) %\").get(\"top_regions\")[2][1], \".2f\")}\\%), and public institutions in {report_results.get(\"TLSv1.2 (Public) %\").get(\"top_regions\")[0][0]} ({format(report_results.get(\"TLSv1.2 (Public) %\").get(\"top_regions\")[0][1], \".2f\")}\\%), {report_results.get(\"TLSv1.2 (Public) %\").get(\"top_regions\")[1][0]} ({format(report_results.get(\"TLSv1.2 (Public) %\").get(\"top_regions\")[1][1], \".2f\")}\\%), and {report_results.get(\"TLSv1.2 (Public) %\").get(\"top_regions\")[2][0]} ({format(report_results.get(\"TLSv1.2 (Public) %\").get(\"top_regions\")[2][1], \".2f\")}\\%) than in other regions, while the usage of TLSv1.2 version protocol is lower in private institutions in {report_results.get(\"TLSv1.2 (Private) %\").get(\"bottom_regions\")[0][0]} ({format(report_results.get(\"TLSv1.2 (Private) %\").get(\"bottom_regions\")[0][1], \".2f\")}\\%), {report_results.get(\"TLSv1.2 (Private) %\").get(\"bottom_regions\")[1][0]} ({format(report_results.get(\"TLSv1.2 (Private) %\").get(\"bottom_regions\")[1][1], \".2f\")}\\%), and {report_results.get(\"TLSv1.2 (Private) %\").get(\"bottom_regions\")[2][0]} ({format(report_results.get(\"TLSv1.2 (Private) %\").get(\"bottom_regions\")[2][1], \".2f\")}\\%), and public institutions in {report_results.get(\"TLSv1.2 (Public) %\").get(\"bottom_regions\")[0][0]} ({format(report_results.get(\"TLSv1.2 (Public) %\").get(\"bottom_regions\")[0][1], \".2f\")}\\%), {report_results.get(\"TLSv1.2 (Public) %\").get(\"bottom_regions\")[1][0]} ({format(report_results.get(\"TLSv1.2 (Public) %\").get(\"bottom_regions\")[1][1], \".2f\")}\\%), and {report_results.get(\"TLSv1.2 (Public) %\").get(\"bottom_regions\")[2][0]} ({format(report_results.get(\"TLSv1.2 (Public) %\").get(\"bottom_regions\")[2][1], \".2f\")}\\%) than in other regions.\n",
    "\n",
    "Finally, the use of TLSv1.3 version protocol is higher in private institutions in {report_results.get(\"TLSv1.3 (Private) %\").get(\"top_regions\")[0][0]} ({format(report_results.get(\"TLSv1.3 (Private) %\").get(\"top_regions\")[0][1], \".2f\")}\\%), {report_results.get(\"TLSv1.3 (Private) %\").get(\"top_regions\")[1][0]} ({format(report_results.get(\"TLSv1.3 (Private) %\").get(\"top_regions\")[1][1], \".2f\")}\\%), and {report_results.get(\"TLSv1.3 (Private) %\").get(\"top_regions\")[2][0]} ({format(report_results.get(\"TLSv1.3 (Private) %\").get(\"top_regions\")[2][1], \".2f\")}\\%), and public institutions in {report_results.get(\"TLSv1.3 (Public) %\").get(\"top_regions\")[0][0]} ({format(report_results.get(\"TLSv1.3 (Public) %\").get(\"top_regions\")[0][1], \".2f\")}\\%), {report_results.get(\"TLSv1.3 (Public) %\").get(\"top_regions\")[1][0]} ({format(report_results.get(\"TLSv1.3 (Public) %\").get(\"top_regions\")[1][1], \".2f\")}\\%), and {report_results.get(\"TLSv1.3 (Public) %\").get(\"top_regions\")[2][0]} ({format(report_results.get(\"TLSv1.3 (Public) %\").get(\"top_regions\")[2][1], \".2f\")}\\%) than in other regions, while the usage of TLSv1.3 version protocol is lower in private institutions in {report_results.get(\"TLSv1.3 (Private) %\").get(\"bottom_regions\")[0][0]} ({format(report_results.get(\"TLSv1.3 (Private) %\").get(\"bottom_regions\")[0][1], \".2f\")}\\%), {report_results.get(\"TLSv1.3 (Private) %\").get(\"bottom_regions\")[1][0]} ({format(report_results.get(\"TLSv1.3 (Private) %\").get(\"bottom_regions\")[1][1], \".2f\")}\\%), and {report_results.get(\"TLSv1.3 (Private) %\").get(\"bottom_regions\")[2][0]} ({format(report_results.get(\"TLSv1.3 (Private) %\").get(\"bottom_regions\")[2][1], \".2f\")}\\%), and public institutions in {report_results.get(\"TLSv1.3 (Public) %\").get(\"bottom_regions\")[0][0]} ({format(report_results.get(\"TLSv1.3 (Public) %\").get(\"bottom_regions\")[0][1], \".2f\")}\\%), {report_results.get(\"TLSv1.3 (Public) %\").get(\"bottom_regions\")[1][0]} ({format(report_results.get(\"TLSv1.3 (Public) %\").get(\"bottom_regions\")[1][1], \".2f\")}\\%), and {report_results.get(\"TLSv1.3 (Public) %\").get(\"bottom_regions\")[2][0]} ({format(report_results.get(\"TLSv1.3 (Public) %\").get(\"bottom_regions\")[2][1], \".2f\")}\\%) than in other regions.\n",
    "\"\"\"\n",
    "\n",
    "print(report)\n",
    "# save report to file txt\n",
    "save_report(report=report, category=category, report_name=report_name)\n"
   ],
   "metadata": {
    "collapsed": false
   }
  },
  {
   "cell_type": "code",
   "execution_count": 16,
   "outputs": [
    {
     "data": {
      "text/plain": "                    Region  Global #  Without SSL #  Without SSL %  \\\n0   Mecklenburg-Vorpommern         7              1      14.285714   \n1            Niedersachsen        21              1       4.761905   \n2        Baden-Württemberg        48              2       4.166667   \n3                   Bayern        34              0       0.000000   \n4                   Berlin        12              0       0.000000   \n5              Brandenburg        10              0       0.000000   \n6                   Bremen         5              0       0.000000   \n7                  Hamburg        10              0       0.000000   \n8                   Hessen        22              0       0.000000   \n9      Nordrhein-Westfalen        42              0       0.000000   \n10         Rheinland-Pfalz        15              0       0.000000   \n11                Saarland         5              0       0.000000   \n12                 Sachsen        23              0       0.000000   \n13          Sachsen-Anhalt         8              0       0.000000   \n14      Schleswig-Holstein        10              0       0.000000   \n15               Thüringen        11              0       0.000000   \n16                   Total       283              4       1.413428   \n\n    Valid Configuration #  Valid Configuration %  Invalid Configuration #  \\\n0                       6              85.714286                        0   \n1                      19              90.476190                        1   \n2                      46              95.833333                        0   \n3                      34             100.000000                        0   \n4                      12             100.000000                        0   \n5                      10             100.000000                        0   \n6                       5             100.000000                        0   \n7                      10             100.000000                        0   \n8                      22             100.000000                        0   \n9                      42             100.000000                        0   \n10                     15             100.000000                        0   \n11                      5             100.000000                        0   \n12                     23             100.000000                        0   \n13                      8             100.000000                        0   \n14                     10             100.000000                        0   \n15                     11             100.000000                        0   \n16                    278              98.233216                        1   \n\n    Invalid Configuration %  \n0                  0.000000  \n1                  4.761905  \n2                  0.000000  \n3                  0.000000  \n4                  0.000000  \n5                  0.000000  \n6                  0.000000  \n7                  0.000000  \n8                  0.000000  \n9                  0.000000  \n10                 0.000000  \n11                 0.000000  \n12                 0.000000  \n13                 0.000000  \n14                 0.000000  \n15                 0.000000  \n16                 0.353357  ",
      "text/html": "<div>\n<style scoped>\n    .dataframe tbody tr th:only-of-type {\n        vertical-align: middle;\n    }\n\n    .dataframe tbody tr th {\n        vertical-align: top;\n    }\n\n    .dataframe thead th {\n        text-align: right;\n    }\n</style>\n<table border=\"1\" class=\"dataframe\">\n  <thead>\n    <tr style=\"text-align: right;\">\n      <th></th>\n      <th>Region</th>\n      <th>Global #</th>\n      <th>Without SSL #</th>\n      <th>Without SSL %</th>\n      <th>Valid Configuration #</th>\n      <th>Valid Configuration %</th>\n      <th>Invalid Configuration #</th>\n      <th>Invalid Configuration %</th>\n    </tr>\n  </thead>\n  <tbody>\n    <tr>\n      <th>0</th>\n      <td>Mecklenburg-Vorpommern</td>\n      <td>7</td>\n      <td>1</td>\n      <td>14.285714</td>\n      <td>6</td>\n      <td>85.714286</td>\n      <td>0</td>\n      <td>0.000000</td>\n    </tr>\n    <tr>\n      <th>1</th>\n      <td>Niedersachsen</td>\n      <td>21</td>\n      <td>1</td>\n      <td>4.761905</td>\n      <td>19</td>\n      <td>90.476190</td>\n      <td>1</td>\n      <td>4.761905</td>\n    </tr>\n    <tr>\n      <th>2</th>\n      <td>Baden-Württemberg</td>\n      <td>48</td>\n      <td>2</td>\n      <td>4.166667</td>\n      <td>46</td>\n      <td>95.833333</td>\n      <td>0</td>\n      <td>0.000000</td>\n    </tr>\n    <tr>\n      <th>3</th>\n      <td>Bayern</td>\n      <td>34</td>\n      <td>0</td>\n      <td>0.000000</td>\n      <td>34</td>\n      <td>100.000000</td>\n      <td>0</td>\n      <td>0.000000</td>\n    </tr>\n    <tr>\n      <th>4</th>\n      <td>Berlin</td>\n      <td>12</td>\n      <td>0</td>\n      <td>0.000000</td>\n      <td>12</td>\n      <td>100.000000</td>\n      <td>0</td>\n      <td>0.000000</td>\n    </tr>\n    <tr>\n      <th>5</th>\n      <td>Brandenburg</td>\n      <td>10</td>\n      <td>0</td>\n      <td>0.000000</td>\n      <td>10</td>\n      <td>100.000000</td>\n      <td>0</td>\n      <td>0.000000</td>\n    </tr>\n    <tr>\n      <th>6</th>\n      <td>Bremen</td>\n      <td>5</td>\n      <td>0</td>\n      <td>0.000000</td>\n      <td>5</td>\n      <td>100.000000</td>\n      <td>0</td>\n      <td>0.000000</td>\n    </tr>\n    <tr>\n      <th>7</th>\n      <td>Hamburg</td>\n      <td>10</td>\n      <td>0</td>\n      <td>0.000000</td>\n      <td>10</td>\n      <td>100.000000</td>\n      <td>0</td>\n      <td>0.000000</td>\n    </tr>\n    <tr>\n      <th>8</th>\n      <td>Hessen</td>\n      <td>22</td>\n      <td>0</td>\n      <td>0.000000</td>\n      <td>22</td>\n      <td>100.000000</td>\n      <td>0</td>\n      <td>0.000000</td>\n    </tr>\n    <tr>\n      <th>9</th>\n      <td>Nordrhein-Westfalen</td>\n      <td>42</td>\n      <td>0</td>\n      <td>0.000000</td>\n      <td>42</td>\n      <td>100.000000</td>\n      <td>0</td>\n      <td>0.000000</td>\n    </tr>\n    <tr>\n      <th>10</th>\n      <td>Rheinland-Pfalz</td>\n      <td>15</td>\n      <td>0</td>\n      <td>0.000000</td>\n      <td>15</td>\n      <td>100.000000</td>\n      <td>0</td>\n      <td>0.000000</td>\n    </tr>\n    <tr>\n      <th>11</th>\n      <td>Saarland</td>\n      <td>5</td>\n      <td>0</td>\n      <td>0.000000</td>\n      <td>5</td>\n      <td>100.000000</td>\n      <td>0</td>\n      <td>0.000000</td>\n    </tr>\n    <tr>\n      <th>12</th>\n      <td>Sachsen</td>\n      <td>23</td>\n      <td>0</td>\n      <td>0.000000</td>\n      <td>23</td>\n      <td>100.000000</td>\n      <td>0</td>\n      <td>0.000000</td>\n    </tr>\n    <tr>\n      <th>13</th>\n      <td>Sachsen-Anhalt</td>\n      <td>8</td>\n      <td>0</td>\n      <td>0.000000</td>\n      <td>8</td>\n      <td>100.000000</td>\n      <td>0</td>\n      <td>0.000000</td>\n    </tr>\n    <tr>\n      <th>14</th>\n      <td>Schleswig-Holstein</td>\n      <td>10</td>\n      <td>0</td>\n      <td>0.000000</td>\n      <td>10</td>\n      <td>100.000000</td>\n      <td>0</td>\n      <td>0.000000</td>\n    </tr>\n    <tr>\n      <th>15</th>\n      <td>Thüringen</td>\n      <td>11</td>\n      <td>0</td>\n      <td>0.000000</td>\n      <td>11</td>\n      <td>100.000000</td>\n      <td>0</td>\n      <td>0.000000</td>\n    </tr>\n    <tr>\n      <th>16</th>\n      <td>Total</td>\n      <td>283</td>\n      <td>4</td>\n      <td>1.413428</td>\n      <td>278</td>\n      <td>98.233216</td>\n      <td>1</td>\n      <td>0.353357</td>\n    </tr>\n  </tbody>\n</table>\n</div>"
     },
     "metadata": {},
     "output_type": "display_data"
    },
    {
     "data": {
      "text/plain": "                 Region  Global #  Without SSL #  Without SSL %  \\\n0     Baden-Württemberg        24              0            0.0   \n1                Bayern        12              0            0.0   \n2                Berlin        28              0            0.0   \n3           Brandenburg         9              0            0.0   \n4                Bremen         2              0            0.0   \n5               Hamburg        11              0            0.0   \n6                Hessen        23              0            0.0   \n7         Niedersachsen        16              0            0.0   \n8   Nordrhein-Westfalen        25              0            0.0   \n9       Rheinland-Pfalz         6              0            0.0   \n10             Saarland         5              0            0.0   \n11              Sachsen         7              0            0.0   \n12       Sachsen-Anhalt         2              0            0.0   \n13   Schleswig-Holstein         3              0            0.0   \n14            Thüringen         2              0            0.0   \n15                Total       175              0            0.0   \n\n    Valid Configuration #  Valid Configuration %  Invalid Configuration #  \\\n0                      24             100.000000                        0   \n1                      11              91.666667                        1   \n2                      28             100.000000                        0   \n3                       9             100.000000                        0   \n4                       2             100.000000                        0   \n5                      11             100.000000                        0   \n6                      23             100.000000                        0   \n7                      16             100.000000                        0   \n8                      25             100.000000                        0   \n9                       6             100.000000                        0   \n10                      5             100.000000                        0   \n11                      7             100.000000                        0   \n12                      2             100.000000                        0   \n13                      3             100.000000                        0   \n14                      2             100.000000                        0   \n15                    174              99.428571                        1   \n\n    Invalid Configuration %  \n0                  0.000000  \n1                  8.333333  \n2                  0.000000  \n3                  0.000000  \n4                  0.000000  \n5                  0.000000  \n6                  0.000000  \n7                  0.000000  \n8                  0.000000  \n9                  0.000000  \n10                 0.000000  \n11                 0.000000  \n12                 0.000000  \n13                 0.000000  \n14                 0.000000  \n15                 0.571429  ",
      "text/html": "<div>\n<style scoped>\n    .dataframe tbody tr th:only-of-type {\n        vertical-align: middle;\n    }\n\n    .dataframe tbody tr th {\n        vertical-align: top;\n    }\n\n    .dataframe thead th {\n        text-align: right;\n    }\n</style>\n<table border=\"1\" class=\"dataframe\">\n  <thead>\n    <tr style=\"text-align: right;\">\n      <th></th>\n      <th>Region</th>\n      <th>Global #</th>\n      <th>Without SSL #</th>\n      <th>Without SSL %</th>\n      <th>Valid Configuration #</th>\n      <th>Valid Configuration %</th>\n      <th>Invalid Configuration #</th>\n      <th>Invalid Configuration %</th>\n    </tr>\n  </thead>\n  <tbody>\n    <tr>\n      <th>0</th>\n      <td>Baden-Württemberg</td>\n      <td>24</td>\n      <td>0</td>\n      <td>0.0</td>\n      <td>24</td>\n      <td>100.000000</td>\n      <td>0</td>\n      <td>0.000000</td>\n    </tr>\n    <tr>\n      <th>1</th>\n      <td>Bayern</td>\n      <td>12</td>\n      <td>0</td>\n      <td>0.0</td>\n      <td>11</td>\n      <td>91.666667</td>\n      <td>1</td>\n      <td>8.333333</td>\n    </tr>\n    <tr>\n      <th>2</th>\n      <td>Berlin</td>\n      <td>28</td>\n      <td>0</td>\n      <td>0.0</td>\n      <td>28</td>\n      <td>100.000000</td>\n      <td>0</td>\n      <td>0.000000</td>\n    </tr>\n    <tr>\n      <th>3</th>\n      <td>Brandenburg</td>\n      <td>9</td>\n      <td>0</td>\n      <td>0.0</td>\n      <td>9</td>\n      <td>100.000000</td>\n      <td>0</td>\n      <td>0.000000</td>\n    </tr>\n    <tr>\n      <th>4</th>\n      <td>Bremen</td>\n      <td>2</td>\n      <td>0</td>\n      <td>0.0</td>\n      <td>2</td>\n      <td>100.000000</td>\n      <td>0</td>\n      <td>0.000000</td>\n    </tr>\n    <tr>\n      <th>5</th>\n      <td>Hamburg</td>\n      <td>11</td>\n      <td>0</td>\n      <td>0.0</td>\n      <td>11</td>\n      <td>100.000000</td>\n      <td>0</td>\n      <td>0.000000</td>\n    </tr>\n    <tr>\n      <th>6</th>\n      <td>Hessen</td>\n      <td>23</td>\n      <td>0</td>\n      <td>0.0</td>\n      <td>23</td>\n      <td>100.000000</td>\n      <td>0</td>\n      <td>0.000000</td>\n    </tr>\n    <tr>\n      <th>7</th>\n      <td>Niedersachsen</td>\n      <td>16</td>\n      <td>0</td>\n      <td>0.0</td>\n      <td>16</td>\n      <td>100.000000</td>\n      <td>0</td>\n      <td>0.000000</td>\n    </tr>\n    <tr>\n      <th>8</th>\n      <td>Nordrhein-Westfalen</td>\n      <td>25</td>\n      <td>0</td>\n      <td>0.0</td>\n      <td>25</td>\n      <td>100.000000</td>\n      <td>0</td>\n      <td>0.000000</td>\n    </tr>\n    <tr>\n      <th>9</th>\n      <td>Rheinland-Pfalz</td>\n      <td>6</td>\n      <td>0</td>\n      <td>0.0</td>\n      <td>6</td>\n      <td>100.000000</td>\n      <td>0</td>\n      <td>0.000000</td>\n    </tr>\n    <tr>\n      <th>10</th>\n      <td>Saarland</td>\n      <td>5</td>\n      <td>0</td>\n      <td>0.0</td>\n      <td>5</td>\n      <td>100.000000</td>\n      <td>0</td>\n      <td>0.000000</td>\n    </tr>\n    <tr>\n      <th>11</th>\n      <td>Sachsen</td>\n      <td>7</td>\n      <td>0</td>\n      <td>0.0</td>\n      <td>7</td>\n      <td>100.000000</td>\n      <td>0</td>\n      <td>0.000000</td>\n    </tr>\n    <tr>\n      <th>12</th>\n      <td>Sachsen-Anhalt</td>\n      <td>2</td>\n      <td>0</td>\n      <td>0.0</td>\n      <td>2</td>\n      <td>100.000000</td>\n      <td>0</td>\n      <td>0.000000</td>\n    </tr>\n    <tr>\n      <th>13</th>\n      <td>Schleswig-Holstein</td>\n      <td>3</td>\n      <td>0</td>\n      <td>0.0</td>\n      <td>3</td>\n      <td>100.000000</td>\n      <td>0</td>\n      <td>0.000000</td>\n    </tr>\n    <tr>\n      <th>14</th>\n      <td>Thüringen</td>\n      <td>2</td>\n      <td>0</td>\n      <td>0.0</td>\n      <td>2</td>\n      <td>100.000000</td>\n      <td>0</td>\n      <td>0.000000</td>\n    </tr>\n    <tr>\n      <th>15</th>\n      <td>Total</td>\n      <td>175</td>\n      <td>0</td>\n      <td>0.0</td>\n      <td>174</td>\n      <td>99.428571</td>\n      <td>1</td>\n      <td>0.571429</td>\n    </tr>\n  </tbody>\n</table>\n</div>"
     },
     "metadata": {},
     "output_type": "display_data"
    }
   ],
   "source": [
    "# Analyze of valid SSL/TLS by region (Pub/Pvt)\n",
    "\n",
    "# settings\n",
    "column_to_sort = 'Without SSL %'\n",
    "sort_ascending = False\n",
    "config = [\n",
    "    {'table_name': 'valid_ssl_by_region_public', 'hei_type': 'Public'},\n",
    "    {'table_name': 'valid_ssl_by_region_private', 'hei_type': 'Private'}\n",
    "]\n",
    "dfs = []\n",
    "for config_item in config:\n",
    "    table_name = config_item['table_name']\n",
    "    hei_type = config_item['hei_type']\n",
    "    columns_to_display = [region_column_name.title(), column_name_to_results_global]\n",
    "    analysis_df = get_records_by_region(source_df, hei_type=hei_type)\n",
    "    # create columns\n",
    "    # Column creation with distribution of records without SSL by region\n",
    "    create_column(source_df=source_df, analysis_dataframe=analysis_df, column_name='Without SSL', criteria=f'grade == \"M\" & category == \"{hei_type}\"', columns_to_display=columns_to_display)\n",
    "    # Creating column with the distribution of valid SSL/TLS by region\n",
    "    create_column(source_df=source_df, analysis_dataframe=analysis_df, column_name='Valid Configuration', criteria=f'grade != \"M\" & is_valid == True & category == \"{hei_type}\"', columns_to_display=columns_to_display)\n",
    "    create_column(source_df=source_df, analysis_dataframe=analysis_df, column_name='Invalid Configuration', criteria=f'grade != \"M\" & is_valid == False & category == \"{hei_type}\"', columns_to_display=columns_to_display)\n",
    "    # Finalize dataframe\n",
    "    analysis_df = finalize_dataframe(dataframe=analysis_df, column_to_sort=column_to_sort, ascending=sort_ascending, columns_to_display=columns_to_display)\n",
    "    display(analysis_df)\n",
    "    dfs.append(analysis_df)\n",
    "    # save to csv\n",
    "    save_table(analysis_df, category=category, table_name=table_name)\n",
    "\n",
    "\n",
    "df_public = dfs[0].add_suffix('(pub)')\n",
    "df_private = dfs[1].add_suffix('(pvt)')\n",
    "df_public = df_public.rename(columns={'Region(pub)': 'Region'})\n",
    "df_private = df_private.rename(columns={'Region(pvt)': 'Region'})\n",
    "df_combined = df_public.merge(df_private, on='Region', how='outer')\n",
    "df_combined.fillna(0, inplace=True)\n",
    "# remove columns with # in the name\n",
    "df_combined = df_combined.loc[:, ~df_combined.columns.str.contains('#')]\n",
    "#remove columns global\n",
    "df_combined = df_combined.loc[:, ~df_combined.columns.str.contains('Global')]\n",
    "# remove '%' from name of columns\n",
    "df_combined.columns = df_combined.columns.str.replace('%', '')\n",
    "\n",
    "ranks_columns = ['Rank', 'Rank2', 'Rank3']\n",
    "#add column with sum of best columns\n",
    "df_combined[ranks_columns[0]] = df_combined['Valid Configuration (pub)'] + df_combined['Valid Configuration (pvt)']\n",
    "df_combined[ranks_columns[1]] = df_combined['Invalid Configuration (pub)'] + df_combined['Invalid Configuration (pvt)']\n",
    "df_combined[ranks_columns[2]] = df_combined['Without SSL (pub)'] + df_combined['Without SSL (pvt)']\n",
    "\n",
    "\n",
    "#order dataframe by column Rank (from highest to lowest)\n",
    "df_combined = df_combined.sort_values(by=ranks_columns, ascending=False)\n",
    "# move just row with 'Total' in column Region to the end of the dataframe. (Use pandas.concat instead of append to avoid duplicates)\n",
    "df_combined = pd.concat([df_combined[df_combined['Region'] != 'Total'], df_combined[df_combined['Region'] == 'Total']])\n",
    "# reset index\n",
    "df_combined.reset_index(drop=True, inplace=True)\n",
    "# remove column Rank\n",
    "df_combined.drop(columns=ranks_columns, inplace=True)\n",
    "#Add a column with the quartile corresponding to the position of the row, that is, considering the total of records -1 (to exclude the total row), if a row is in position 2 it should belong to the first quartile.\n",
    "df_combined['Quartile'] = df_combined.index.map(lambda rank: assign_quartile(rank, len(df_combined)-1))\n",
    "# moved column 'Quartile' to the second position\n",
    "cols = list(df_combined.columns)\n",
    "cols = [cols[0]] + [cols[-1]] + cols[1:-1]\n",
    "df_combined = df_combined[cols]\n",
    "\n",
    "\n",
    "save_table(df_combined, category=category, table_name='valid_ssl_by_region_combined')"
   ],
   "metadata": {
    "collapsed": false,
    "ExecuteTime": {
     "end_time": "2023-06-21T09:54:56.831251900Z",
     "start_time": "2023-06-21T09:54:56.253255Z"
    }
   }
  },
  {
   "cell_type": "code",
   "execution_count": null,
   "outputs": [],
   "source": [
    "# Analyze of valid SSL/TLS by region\n",
    "\n",
    "# settings\n",
    "column_to_sort = 'Without SSL (Public) %'\n",
    "sort_ascending = False\n",
    "table_name = 'valid_ssl_by_region'\n",
    "\n",
    "columns_to_display = [region_column_name.title(), column_name_to_results_global]\n",
    "analysis_df = get_records_by_region(source_df)\n",
    "\n",
    "# create columns\n",
    "# Column creation with distribution of records without SSL by region\n",
    "only_public = 'category == \"Public\"'\n",
    "only_private = 'category == \"Private\"'\n",
    "create_column(source_df=source_df, analysis_dataframe=analysis_df, column_name='Without SSL (Public)', criteria=f'grade == \"M\" & {only_public}', columns_to_display=columns_to_display)\n",
    "create_column(source_df=source_df, analysis_dataframe=analysis_df, column_name='Without SSL (Private)', criteria=f'grade == \"M\" & {only_private}', columns_to_display=columns_to_display)\n",
    "# Creating column with the distribution of valid SSL/TLS by region\n",
    "create_column(source_df=source_df, analysis_dataframe=analysis_df, column_name='Valid Configuration (Public)', criteria=f'grade != \"M\" & is_valid == True & {only_public}', columns_to_display=columns_to_display)\n",
    "create_column(source_df=source_df, analysis_dataframe=analysis_df, column_name='Invalid Configuration (Public)', criteria=f'grade != \"M\" & is_valid == False & {only_public}', columns_to_display=columns_to_display)\n",
    "create_column(source_df=source_df, analysis_dataframe=analysis_df, column_name='Valid Configuration (Private)', criteria=f'grade != \"M\" & is_valid == True & {only_private}', columns_to_display=columns_to_display)\n",
    "create_column(source_df=source_df, analysis_dataframe=analysis_df, column_name='Invalid Configuration (Private)', criteria=f'grade != \"M\" & is_valid == False & {only_private}', columns_to_display=columns_to_display)\n",
    "\n",
    "# Finalize dataframe\n",
    "analysis_df = finalize_dataframe(dataframe=analysis_df, column_to_sort=column_to_sort, ascending=sort_ascending, columns_to_display=columns_to_display)\n",
    "display(analysis_df)\n",
    "\n",
    "# save to csv\n",
    "save_table(analysis_df, category=category, table_name=table_name)"
   ],
   "metadata": {
    "collapsed": false
   }
  },
  {
   "cell_type": "code",
   "execution_count": 11,
   "outputs": [
    {
     "name": "stdout",
     "output_type": "stream",
     "text": [
      "\n",
      "\\begin{figure}[htbp]\n",
      "    \\centering\n",
      "    \\includegraphics[width=0.48\\textwidth]{charts/valid_ssl_by_region.pdf}\n",
      "    \\caption{Distribution of valid configuration \\gls{ssl}/\\gls{tls} by region.}\\label{fig:valid-ssl}\n",
      "\\end{figure}\n",
      "\n",
      "\n",
      "\n",
      "Fig.~\\ref{fig:valid-ssl} presents an overview of the valid configuration of \\gls{ssl}/\\gls{tls} protocols at \\glspl{hei} in \\countryName.\n",
      "\n",
      "According to the data, \\gls{ssl}/\\gls{tls} protocols are configured correctly in 98.21\\% of the \\glspl{hei} public, and in 98.05\\% of the \\glspl{hei} private.\n",
      "\n",
      "\n",
      "In terms of regional differences, private institutions in District of Columbia (91.67\\%), Iowa (91.18\\%), and Rhode Island (90.00\\%), and public institutions in Wyoming (100.00\\%), New Mexico (70.00\\%), and North Dakota (66.67\\%) have the highest percentage of valid configuration of \\gls{ssl}/\\gls{tls} protocols.\n",
      "\n",
      "In contrast, private institutions in Nevada (10.00\\%), Mississippi (5.88\\%), and Arkansas (5.00\\%), and public institutions in Maine (6.25\\%), Louisiana (3.85\\%), and Colorado (0.00\\%) have the highest percentage of invalid configuration of \\gls{ssl}/\\gls{tls} protocols.\n",
      "\n"
     ]
    }
   ],
   "source": [
    "# Report in latex\n",
    "report_results = get_extreme_values(analysis_df)\n",
    "report_name = 'valid_ssl_by_region'\n",
    "\n",
    "tot_pub = report_results.get(\"Total\").get(\"Valid Configuration (Public) #\") + report_results.get(\"Total\").get(\"Invalid Configuration (Public) #\") + report_results.get(\"Total\").get(\"Without SSL (Public) #\")\n",
    "hei_public_valid = format(report_results.get(\"Total\").get(\"Valid Configuration (Public) #\") / tot_pub * 100, \".2f\")\n",
    "\n",
    "hei_public_invalid = format(report_results.get(\"Total\").get(\"Invalid Configuration (Public) %\"), \".2f\")\n",
    "tot_private = report_results.get(\"Total\").get(\"Valid Configuration (Private) #\") + report_results.get(\"Total\").get(\"Invalid Configuration (Private) #\") + report_results.get(\"Total\").get(\"Without SSL (Private) #\")\n",
    "hei_private_valid = format(report_results.get(\"Total\").get(\"Valid Configuration (Private) #\") / tot_private * 100, \".2f\")\n",
    "hei_private_invalid = format(report_results.get(\"Total\").get(\"Invalid Configuration (Private) %\"), \".2f\")\n",
    "\n",
    "report_figure = f\"\"\"\n",
    "\\\\begin{{figure}}[htbp]\n",
    "    \\centering\n",
    "    \\includegraphics[width=0.48\\\\textwidth]{{charts/{report_name}.pdf}}\n",
    "    \\caption{{Distribution of valid configuration \\gls{{ssl}}/\\gls{{tls}} by region.}}\\label{{fig:valid-ssl}}\n",
    "\\end{{figure}}\n",
    "\"\"\"\n",
    "\n",
    "report = f'{report_figure}\\n\\n'\n",
    "\n",
    "report += f\"\"\"\n",
    "Fig.~\\\\ref{{fig:valid-ssl}} presents an overview of the valid configuration of \\gls{{ssl}}/\\gls{{tls}} protocols at \\glspl{{hei}} in \\countryName.\n",
    "\n",
    "According to the data, \\gls{{ssl}}/\\gls{{tls}} protocols are configured correctly in {hei_public_valid}\\% of the \\glspl{{hei}} public, and in {hei_private_valid}\\% of the \\glspl{{hei}} private.\n",
    "\n",
    "\n",
    "In terms of regional differences, private institutions in {report_results.get(\"Valid Configuration (Private) %\").get(\"top_regions\")[0][0]} ({format(report_results.get(\"Valid Configuration (Private) %\").get(\"top_regions\")[0][1], \".2f\")}\\%), {report_results.get(\"Valid Configuration (Private) %\").get(\"top_regions\")[1][0]} ({format(report_results.get(\"Valid Configuration (Private) %\").get(\"top_regions\")[1][1], \".2f\")}\\%), and {report_results.get(\"Valid Configuration (Private) %\").get(\"top_regions\")[2][0]} ({format(report_results.get(\"Valid Configuration (Private) %\").get(\"top_regions\")[2][1], \".2f\")}\\%), and public institutions in {report_results.get(\"Valid Configuration (Public) %\").get(\"top_regions\")[0][0]} ({format(report_results.get(\"Valid Configuration (Public) %\").get(\"top_regions\")[0][1], \".2f\")}\\%), {report_results.get(\"Valid Configuration (Public) %\").get(\"top_regions\")[1][0]} ({format(report_results.get(\"Valid Configuration (Public) %\").get(\"top_regions\")[1][1], \".2f\")}\\%), and {report_results.get(\"Valid Configuration (Public) %\").get(\"top_regions\")[2][0]} ({format(report_results.get(\"Valid Configuration (Public) %\").get(\"top_regions\")[2][1], \".2f\")}\\%) have the highest percentage of valid configuration of \\gls{{ssl}}/\\gls{{tls}} protocols.\n",
    "\n",
    "In contrast, private institutions in {report_results.get(\"Invalid Configuration (Private) %\").get(\"top_regions\")[0][0]} ({format(report_results.get(\"Invalid Configuration (Private) %\").get(\"top_regions\")[0][1], \".2f\")}\\%), {report_results.get(\"Invalid Configuration (Private) %\").get(\"top_regions\")[1][0]} ({format(report_results.get(\"Invalid Configuration (Private) %\").get(\"top_regions\")[1][1], \".2f\")}\\%), and {report_results.get(\"Invalid Configuration (Private) %\").get(\"top_regions\")[2][0]} ({format(report_results.get(\"Invalid Configuration (Private) %\").get(\"top_regions\")[2][1], \".2f\")}\\%), and public institutions in {report_results.get(\"Invalid Configuration (Public) %\").get(\"top_regions\")[0][0]} ({format(report_results.get(\"Invalid Configuration (Public) %\").get(\"top_regions\")[0][1], \".2f\")}\\%), {report_results.get(\"Invalid Configuration (Public) %\").get(\"top_regions\")[1][0]} ({format(report_results.get(\"Invalid Configuration (Public) %\").get(\"top_regions\")[1][1], \".2f\")}\\%), and {report_results.get(\"Invalid Configuration (Public) %\").get(\"top_regions\")[2][0]} ({format(report_results.get(\"Invalid Configuration (Public) %\").get(\"top_regions\")[2][1], \".2f\")}\\%) have the highest percentage of invalid configuration of \\gls{{ssl}}/\\gls{{tls}} protocols.\n",
    "\"\"\"\n",
    "\n",
    "print(report)\n",
    "# save report to file txt\n",
    "save_report(report=report, category=category, report_name=report_name)"
   ],
   "metadata": {
    "collapsed": false
   }
  },
  {
   "cell_type": "code",
   "execution_count": 11,
   "outputs": [],
   "source": [],
   "metadata": {
    "collapsed": false
   }
  }
 ],
 "metadata": {
  "kernelspec": {
   "display_name": "Python 3",
   "language": "python",
   "name": "python3"
  },
  "language_info": {
   "codemirror_mode": {
    "name": "ipython",
    "version": 2
   },
   "file_extension": ".py",
   "mimetype": "text/x-python",
   "name": "python",
   "nbconvert_exporter": "python",
   "pygments_lexer": "ipython2",
   "version": "2.7.6"
  }
 },
 "nbformat": 4,
 "nbformat_minor": 0
}
