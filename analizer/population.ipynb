{
 "cells": [
  {
   "cell_type": "code",
   "execution_count": 2,
   "metadata": {
    "collapsed": true,
    "ExecuteTime": {
     "end_time": "2023-06-23T12:16:24.681135500Z",
     "start_time": "2023-06-23T12:16:20.435027100Z"
    }
   },
   "outputs": [],
   "source": [
    "from utilities.utilities import load_data, get_records_by_region, create_column, finalize_dataframe, get_extreme_values, create_directory_structure, save_table, save_report\n",
    "# settings\n",
    "region_column_name = 'Region'\n",
    "\n",
    "category = 'population'\n",
    "column_name_to_results_global = 'Global #'\n",
    "create_directory_structure()\n",
    "\n",
    "source_df = load_data('https_checker')"
   ]
  },
  {
   "cell_type": "code",
   "execution_count": 5,
   "outputs": [
    {
     "data": {
      "text/plain": "                    Region  Global #  Public #    Public %  Private #  \\\n0                   Berlin        40        12   30.000000         28   \n1                  Hamburg        21        10   47.619048         11   \n2                   Hessen        45        22   48.888889         23   \n3                 Saarland        10         5   50.000000          5   \n4              Brandenburg        19        10   52.631579          9   \n5            Niedersachsen        37        21   56.756757         16   \n6      Nordrhein-Westfalen        67        42   62.686567         25   \n7        Baden-Württemberg        72        48   66.666667         24   \n8                   Bremen         7         5   71.428571          2   \n9          Rheinland-Pfalz        21        15   71.428571          6   \n10                  Bayern        46        34   73.913043         12   \n11                 Sachsen        30        23   76.666667          7   \n12      Schleswig-Holstein        13        10   76.923077          3   \n13          Sachsen-Anhalt        10         8   80.000000          2   \n14               Thüringen        13        11   84.615385          2   \n15  Mecklenburg-Vorpommern         7         7  100.000000          0   \n16                   Total       458       283   61.790393        175   \n\n    Private %  \n0   70.000000  \n1   52.380952  \n2   51.111111  \n3   50.000000  \n4   47.368421  \n5   43.243243  \n6   37.313433  \n7   33.333333  \n8   28.571429  \n9   28.571429  \n10  26.086957  \n11  23.333333  \n12  23.076923  \n13  20.000000  \n14  15.384615  \n15   0.000000  \n16  38.209607  ",
      "text/html": "<div>\n<style scoped>\n    .dataframe tbody tr th:only-of-type {\n        vertical-align: middle;\n    }\n\n    .dataframe tbody tr th {\n        vertical-align: top;\n    }\n\n    .dataframe thead th {\n        text-align: right;\n    }\n</style>\n<table border=\"1\" class=\"dataframe\">\n  <thead>\n    <tr style=\"text-align: right;\">\n      <th></th>\n      <th>Region</th>\n      <th>Global #</th>\n      <th>Public #</th>\n      <th>Public %</th>\n      <th>Private #</th>\n      <th>Private %</th>\n    </tr>\n  </thead>\n  <tbody>\n    <tr>\n      <th>0</th>\n      <td>Berlin</td>\n      <td>40</td>\n      <td>12</td>\n      <td>30.000000</td>\n      <td>28</td>\n      <td>70.000000</td>\n    </tr>\n    <tr>\n      <th>1</th>\n      <td>Hamburg</td>\n      <td>21</td>\n      <td>10</td>\n      <td>47.619048</td>\n      <td>11</td>\n      <td>52.380952</td>\n    </tr>\n    <tr>\n      <th>2</th>\n      <td>Hessen</td>\n      <td>45</td>\n      <td>22</td>\n      <td>48.888889</td>\n      <td>23</td>\n      <td>51.111111</td>\n    </tr>\n    <tr>\n      <th>3</th>\n      <td>Saarland</td>\n      <td>10</td>\n      <td>5</td>\n      <td>50.000000</td>\n      <td>5</td>\n      <td>50.000000</td>\n    </tr>\n    <tr>\n      <th>4</th>\n      <td>Brandenburg</td>\n      <td>19</td>\n      <td>10</td>\n      <td>52.631579</td>\n      <td>9</td>\n      <td>47.368421</td>\n    </tr>\n    <tr>\n      <th>5</th>\n      <td>Niedersachsen</td>\n      <td>37</td>\n      <td>21</td>\n      <td>56.756757</td>\n      <td>16</td>\n      <td>43.243243</td>\n    </tr>\n    <tr>\n      <th>6</th>\n      <td>Nordrhein-Westfalen</td>\n      <td>67</td>\n      <td>42</td>\n      <td>62.686567</td>\n      <td>25</td>\n      <td>37.313433</td>\n    </tr>\n    <tr>\n      <th>7</th>\n      <td>Baden-Württemberg</td>\n      <td>72</td>\n      <td>48</td>\n      <td>66.666667</td>\n      <td>24</td>\n      <td>33.333333</td>\n    </tr>\n    <tr>\n      <th>8</th>\n      <td>Bremen</td>\n      <td>7</td>\n      <td>5</td>\n      <td>71.428571</td>\n      <td>2</td>\n      <td>28.571429</td>\n    </tr>\n    <tr>\n      <th>9</th>\n      <td>Rheinland-Pfalz</td>\n      <td>21</td>\n      <td>15</td>\n      <td>71.428571</td>\n      <td>6</td>\n      <td>28.571429</td>\n    </tr>\n    <tr>\n      <th>10</th>\n      <td>Bayern</td>\n      <td>46</td>\n      <td>34</td>\n      <td>73.913043</td>\n      <td>12</td>\n      <td>26.086957</td>\n    </tr>\n    <tr>\n      <th>11</th>\n      <td>Sachsen</td>\n      <td>30</td>\n      <td>23</td>\n      <td>76.666667</td>\n      <td>7</td>\n      <td>23.333333</td>\n    </tr>\n    <tr>\n      <th>12</th>\n      <td>Schleswig-Holstein</td>\n      <td>13</td>\n      <td>10</td>\n      <td>76.923077</td>\n      <td>3</td>\n      <td>23.076923</td>\n    </tr>\n    <tr>\n      <th>13</th>\n      <td>Sachsen-Anhalt</td>\n      <td>10</td>\n      <td>8</td>\n      <td>80.000000</td>\n      <td>2</td>\n      <td>20.000000</td>\n    </tr>\n    <tr>\n      <th>14</th>\n      <td>Thüringen</td>\n      <td>13</td>\n      <td>11</td>\n      <td>84.615385</td>\n      <td>2</td>\n      <td>15.384615</td>\n    </tr>\n    <tr>\n      <th>15</th>\n      <td>Mecklenburg-Vorpommern</td>\n      <td>7</td>\n      <td>7</td>\n      <td>100.000000</td>\n      <td>0</td>\n      <td>0.000000</td>\n    </tr>\n    <tr>\n      <th>16</th>\n      <td>Total</td>\n      <td>458</td>\n      <td>283</td>\n      <td>61.790393</td>\n      <td>175</td>\n      <td>38.209607</td>\n    </tr>\n  </tbody>\n</table>\n</div>"
     },
     "metadata": {},
     "output_type": "display_data"
    }
   ],
   "source": [
    "# Analyze of category (public or private) by region\n",
    "\n",
    "# settings\n",
    "column_to_sort = 'Public %'\n",
    "sort_ascending = True\n",
    "table_name = 'hei_category_by_region'\n",
    "\n",
    "columns_to_display = [region_column_name.title(), column_name_to_results_global]\n",
    "analysis_df = get_records_by_region(source_df)\n",
    "\n",
    "# create columns\n",
    "# Column creation with distribution of HEIs category by region\n",
    "create_column(source_df=source_df, analysis_dataframe=analysis_df, column_name='Public', criteria='category == \"Public\"', columns_to_display=columns_to_display)\n",
    "create_column(source_df=source_df, analysis_dataframe=analysis_df, column_name='Private', criteria='category == \"Private\"', columns_to_display=columns_to_display)\n",
    "\n",
    "# Finalize dataframe\n",
    "analysis_df = finalize_dataframe(dataframe=analysis_df, column_to_sort=column_to_sort, ascending=sort_ascending, columns_to_display=columns_to_display)\n",
    "display(analysis_df)\n",
    "\n",
    "# save to csv\n",
    "save_table(analysis_df, category=category, table_name=table_name)"
   ],
   "metadata": {
    "collapsed": false,
    "ExecuteTime": {
     "end_time": "2023-06-23T12:17:15.103256Z",
     "start_time": "2023-06-23T12:17:13.839255900Z"
    }
   }
  },
  {
   "cell_type": "code",
   "execution_count": 3,
   "outputs": [
    {
     "name": "stdout",
     "output_type": "stream",
     "text": [
      "\n",
      "\\begin{figure}[htbp]\n",
      "    \\centering\n",
      "    \\includegraphics[width=0.48\\textwidth]{charts/hei_category_by_region.pdf}\n",
      "    \\caption{Distribution of the category of financing of HEIs by region.}\\label{fig:hei-category}\n",
      "\\end{figure}\n",
      "\n",
      "\n",
      "Fig.~\\ref{fig:hei-category} presents an overview of the category of financing (Public/Private) at 1978 \\glspl{hei} analized in \\countryName.According to the data, 28.46\\% of \\glspl{hei} are public, while 71.54\\% are private.\n",
      "\n",
      "In terms of regional differences, the regions Wyoming (100.00\\%), New Mexico (70.00\\%), and North Dakota (66.67\\%) have the highest percentage of public \\glspl{hei}, while regions with the highest concentration of private \\glspl{hei} are District of Columbia (91.67\\%), Iowa (91.18\\%), and Illinois (83.78\\%).\n",
      "\n"
     ]
    }
   ],
   "source": [
    "# Report in latex\n",
    "report_results = get_extreme_values(analysis_df)\n",
    "report_name = 'hei_category_by_region'\n",
    "\n",
    "hei_public = format(report_results.get(\"Total\").get(\"Public %\"), \".2f\")\n",
    "hei_private = format(report_results.get(\"Total\").get(\"Private %\"), \".2f\")\n",
    "total_hei = report_results.get(\"Total\").get(\"Global #\")\n",
    "\n",
    "report_figure = f\"\"\"\n",
    "\\\\begin{{figure}}[htbp]\n",
    "    \\centering\n",
    "    \\includegraphics[width=0.48\\\\textwidth]{{charts/{report_name}.pdf}}\n",
    "    \\caption{{Distribution of the category of financing of HEIs by region.}}\\label{{fig:hei-category}}\n",
    "\\end{{figure}}\n",
    "\"\"\"\n",
    "\n",
    "report = f'{report_figure}\\n\\n'\n",
    "report += f'Fig.~\\\\ref{{fig:hei-category}} presents an overview of the category of financing (Public/Private) at {total_hei} \\glspl{{hei}} analized in \\countryName.'\n",
    "report += f'According to the data, {hei_public}\\% of \\glspl{{hei}} are public, while {hei_private}\\% are private.'\n",
    "\n",
    "report += f\"\"\"\n",
    "\n",
    "In terms of regional differences, the regions {report_results.get(\"Public %\").get(\"top_regions\")[0][0]} ({format(report_results.get(\"Public %\").get(\"top_regions\")[0][1], \".2f\")}\\%), {report_results.get(\"Public %\").get(\"top_regions\")[1][0]} ({format(report_results.get(\"Public %\").get(\"top_regions\")[1][1], \".2f\")}\\%), and {report_results.get(\"Public %\").get(\"top_regions\")[2][0]} ({format(report_results.get(\"Public %\").get(\"top_regions\")[2][1], \".2f\")}\\%) have the highest percentage of public \\glspl{{hei}}, while regions with the highest concentration of private \\glspl{{hei}} are {report_results.get(\"Private %\").get(\"top_regions\")[0][0]} ({format(report_results.get(\"Private %\").get(\"top_regions\")[0][1], \".2f\")}\\%), {report_results.get(\"Private %\").get(\"top_regions\")[1][0]} ({format(report_results.get(\"Private %\").get(\"top_regions\")[1][1], \".2f\")}\\%), and {report_results.get(\"Private %\").get(\"top_regions\")[2][0]} ({format(report_results.get(\"Private %\").get(\"top_regions\")[2][1], \".2f\")}\\%).\n",
    "\"\"\"\n",
    "\n",
    "print(report)\n",
    "# save report to file txt\n",
    "save_report(report=report, category=category, report_name=report_name)"
   ],
   "metadata": {
    "collapsed": false
   }
  },
  {
   "cell_type": "code",
   "execution_count": 3,
   "outputs": [],
   "source": [],
   "metadata": {
    "collapsed": false
   }
  }
 ],
 "metadata": {
  "kernelspec": {
   "display_name": "Python 3",
   "language": "python",
   "name": "python3"
  },
  "language_info": {
   "codemirror_mode": {
    "name": "ipython",
    "version": 2
   },
   "file_extension": ".py",
   "mimetype": "text/x-python",
   "name": "python",
   "nbconvert_exporter": "python",
   "pygments_lexer": "ipython2",
   "version": "2.7.6"
  }
 },
 "nbformat": 4,
 "nbformat_minor": 0
}
