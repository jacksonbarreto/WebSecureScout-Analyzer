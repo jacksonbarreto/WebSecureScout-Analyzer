{
 "cells": [
  {
   "cell_type": "code",
   "execution_count": 4,
   "metadata": {
    "collapsed": true
   },
   "outputs": [],
   "source": [
    "from utilities.utilities import load_data, get_records_by_region, create_column, finalize_dataframe, save_string_to_file, get_extreme_values, create_directory_structure, save_table, save_report\n",
    "# settings\n",
    "region_column_name = 'Region'\n",
    "\n",
    "category = 'population'\n",
    "column_name_to_results_global = 'Global #'\n",
    "create_directory_structure()\n",
    "\n",
    "\n",
    "\n",
    "source_df = load_data('https_checker')"
   ]
  },
  {
   "cell_type": "code",
   "execution_count": 5,
   "outputs": [
    {
     "data": {
      "text/plain": "       Region  Global #  Public #    Public %  Private #   Private %\n0    Colorado         1         1  100.000000          0    0.000000\n1  California         2         0    0.000000          2  100.000000\n2     Florida         1         0    0.000000          1  100.000000\n3     Georgia         1         0    0.000000          1  100.000000\n4    Illinois         1         0    0.000000          1  100.000000\n5    Michigan         1         0    0.000000          1  100.000000\n6   Minnesota         1         0    0.000000          1  100.000000\n7    New York         1         0    0.000000          1  100.000000\n8       Texas         2         0    0.000000          2  100.000000\n9       Total        11         1    9.090909         10   90.909091",
      "text/html": "<div>\n<style scoped>\n    .dataframe tbody tr th:only-of-type {\n        vertical-align: middle;\n    }\n\n    .dataframe tbody tr th {\n        vertical-align: top;\n    }\n\n    .dataframe thead th {\n        text-align: right;\n    }\n</style>\n<table border=\"1\" class=\"dataframe\">\n  <thead>\n    <tr style=\"text-align: right;\">\n      <th></th>\n      <th>Region</th>\n      <th>Global #</th>\n      <th>Public #</th>\n      <th>Public %</th>\n      <th>Private #</th>\n      <th>Private %</th>\n    </tr>\n  </thead>\n  <tbody>\n    <tr>\n      <th>0</th>\n      <td>Colorado</td>\n      <td>1</td>\n      <td>1</td>\n      <td>100.000000</td>\n      <td>0</td>\n      <td>0.000000</td>\n    </tr>\n    <tr>\n      <th>1</th>\n      <td>California</td>\n      <td>2</td>\n      <td>0</td>\n      <td>0.000000</td>\n      <td>2</td>\n      <td>100.000000</td>\n    </tr>\n    <tr>\n      <th>2</th>\n      <td>Florida</td>\n      <td>1</td>\n      <td>0</td>\n      <td>0.000000</td>\n      <td>1</td>\n      <td>100.000000</td>\n    </tr>\n    <tr>\n      <th>3</th>\n      <td>Georgia</td>\n      <td>1</td>\n      <td>0</td>\n      <td>0.000000</td>\n      <td>1</td>\n      <td>100.000000</td>\n    </tr>\n    <tr>\n      <th>4</th>\n      <td>Illinois</td>\n      <td>1</td>\n      <td>0</td>\n      <td>0.000000</td>\n      <td>1</td>\n      <td>100.000000</td>\n    </tr>\n    <tr>\n      <th>5</th>\n      <td>Michigan</td>\n      <td>1</td>\n      <td>0</td>\n      <td>0.000000</td>\n      <td>1</td>\n      <td>100.000000</td>\n    </tr>\n    <tr>\n      <th>6</th>\n      <td>Minnesota</td>\n      <td>1</td>\n      <td>0</td>\n      <td>0.000000</td>\n      <td>1</td>\n      <td>100.000000</td>\n    </tr>\n    <tr>\n      <th>7</th>\n      <td>New York</td>\n      <td>1</td>\n      <td>0</td>\n      <td>0.000000</td>\n      <td>1</td>\n      <td>100.000000</td>\n    </tr>\n    <tr>\n      <th>8</th>\n      <td>Texas</td>\n      <td>2</td>\n      <td>0</td>\n      <td>0.000000</td>\n      <td>2</td>\n      <td>100.000000</td>\n    </tr>\n    <tr>\n      <th>9</th>\n      <td>Total</td>\n      <td>11</td>\n      <td>1</td>\n      <td>9.090909</td>\n      <td>10</td>\n      <td>90.909091</td>\n    </tr>\n  </tbody>\n</table>\n</div>"
     },
     "metadata": {},
     "output_type": "display_data"
    }
   ],
   "source": [
    "# Analyze of category (public or private) by region\n",
    "\n",
    "# settings\n",
    "column_to_sort = 'Public %'\n",
    "sort_ascending = False\n",
    "table_name = 'hei_category_by_region'\n",
    "\n",
    "columns_to_display = [region_column_name.title(), column_name_to_results_global]\n",
    "analysis_df = get_records_by_region(source_df)\n",
    "\n",
    "# create columns\n",
    "# Column creation with distribution of HEIs category by region\n",
    "create_column(source_df=source_df, analysis_dataframe=analysis_df, column_name='Public', criteria='category == \"Public\"', columns_to_display=columns_to_display)\n",
    "create_column(source_df=source_df, analysis_dataframe=analysis_df, column_name='Private', criteria='category == \"Private\"', columns_to_display=columns_to_display)\n",
    "\n",
    "# Finalize dataframe\n",
    "analysis_df = finalize_dataframe(dataframe=analysis_df, column_to_sort=column_to_sort, ascending=sort_ascending, columns_to_display=columns_to_display)\n",
    "display(analysis_df)\n",
    "\n",
    "# save to csv\n",
    "save_table(analysis_df, category=category, table_name=table_name)"
   ],
   "metadata": {
    "collapsed": false
   }
  },
  {
   "cell_type": "code",
   "execution_count": 6,
   "outputs": [
    {
     "name": "stdout",
     "output_type": "stream",
     "text": [
      "\n",
      "\\begin{figure}[htbp]\n",
      "    \\centering\n",
      "    \\includegraphics[width=0.48\\textwidth]{charts/hei_category_by_region.pdf}\n",
      "    \\caption{Distribution of the category of financing of HEIs by region.}\\label{fig:hei-category}\n",
      "\\end{figure}\n",
      "\n",
      "\n",
      "Fig.~\\ref{fig:hei-category} presents an overview of the category of financing (Public/Private) at 11 \\glspl{hei} analized in \\countryName.According to the data, 9.09\\% of \\glspl{hei} are public, while 90.91\\% are private.\n",
      "\n",
      "In terms of regional differences, the regions Colorado (100.00\\%), California (0.00\\%), and Florida (0.00\\%) have the highest percentage of public \\glspl{hei}, while regions with the highest concentration of private \\glspl{hei} are California (100.00\\%), Florida (100.00\\%), and Georgia (100.00\\%).\n",
      "\n"
     ]
    }
   ],
   "source": [
    "# Report in latex\n",
    "report_results = get_extreme_values(analysis_df)\n",
    "report_name = 'hei_category_by_region'\n",
    "\n",
    "hei_public = format(report_results.get(\"Total\").get(\"Public %\"), \".2f\")\n",
    "hei_private = format(report_results.get(\"Total\").get(\"Private %\"), \".2f\")\n",
    "total_hei = report_results.get(\"Total\").get(\"Global #\")\n",
    "\n",
    "report_figure = f\"\"\"\n",
    "\\\\begin{{figure}}[htbp]\n",
    "    \\centering\n",
    "    \\includegraphics[width=0.48\\\\textwidth]{{charts/{report_name}.pdf}}\n",
    "    \\caption{{Distribution of the category of financing of HEIs by region.}}\\label{{fig:hei-category}}\n",
    "\\end{{figure}}\n",
    "\"\"\"\n",
    "\n",
    "report = f'{report_figure}\\n\\n'\n",
    "report += f'Fig.~\\\\ref{{fig:hei-category}} presents an overview of the category of financing (Public/Private) at {total_hei} \\glspl{{hei}} analized in \\countryName.'\n",
    "report += f'According to the data, {hei_public}\\% of \\glspl{{hei}} are public, while {hei_private}\\% are private.'\n",
    "\n",
    "report += f\"\"\"\n",
    "\n",
    "In terms of regional differences, the regions {report_results.get(\"Public %\").get(\"top_regions\")[0][0]} ({format(report_results.get(\"Public %\").get(\"top_regions\")[0][1], \".2f\")}\\%), {report_results.get(\"Public %\").get(\"top_regions\")[1][0]} ({format(report_results.get(\"Public %\").get(\"top_regions\")[1][1], \".2f\")}\\%), and {report_results.get(\"Public %\").get(\"top_regions\")[2][0]} ({format(report_results.get(\"Public %\").get(\"top_regions\")[2][1], \".2f\")}\\%) have the highest percentage of public \\glspl{{hei}}, while regions with the highest concentration of private \\glspl{{hei}} are {report_results.get(\"Private %\").get(\"top_regions\")[0][0]} ({format(report_results.get(\"Private %\").get(\"top_regions\")[0][1], \".2f\")}\\%), {report_results.get(\"Private %\").get(\"top_regions\")[1][0]} ({format(report_results.get(\"Private %\").get(\"top_regions\")[1][1], \".2f\")}\\%), and {report_results.get(\"Private %\").get(\"top_regions\")[2][0]} ({format(report_results.get(\"Private %\").get(\"top_regions\")[2][1], \".2f\")}\\%).\n",
    "\"\"\"\n",
    "\n",
    "print(report)\n",
    "# save report to file txt\n",
    "save_report(report=report, category=category, report_name=report_name)"
   ],
   "metadata": {
    "collapsed": false
   }
  },
  {
   "cell_type": "code",
   "execution_count": 6,
   "outputs": [],
   "source": [],
   "metadata": {
    "collapsed": false
   }
  }
 ],
 "metadata": {
  "kernelspec": {
   "display_name": "Python 3",
   "language": "python",
   "name": "python3"
  },
  "language_info": {
   "codemirror_mode": {
    "name": "ipython",
    "version": 2
   },
   "file_extension": ".py",
   "mimetype": "text/x-python",
   "name": "python",
   "nbconvert_exporter": "python",
   "pygments_lexer": "ipython2",
   "version": "2.7.6"
  }
 },
 "nbformat": 4,
 "nbformat_minor": 0
}
