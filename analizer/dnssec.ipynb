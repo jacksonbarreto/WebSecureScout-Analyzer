{
 "cells": [
  {
   "cell_type": "code",
   "execution_count": 1,
   "metadata": {
    "collapsed": true
   },
   "outputs": [],
   "source": [
    "from utilities.utilities import load_data, get_records_by_region, create_column, finalize_dataframe, save_string_to_file, get_extreme_values, create_directory_structure, save_table, save_report\n",
    "# settings\n",
    "region_column_name = 'Region'\n",
    "table_name = 'dnssec_by_region'\n",
    "report_name = 'dnssec_by_region'\n",
    "category = 'dnssec'\n",
    "column_name_to_results_global = 'Global #'\n",
    "create_directory_structure()\n",
    "\n",
    "source_df = load_data('dnssec_checker')"
   ]
  },
  {
   "cell_type": "code",
   "execution_count": 2,
   "outputs": [],
   "source": [
    "# sanity dataset\n",
    "columns_names = ['has_dnssec', 'dnssec_is_valid']\n",
    "for column in columns_names:\n",
    "    source_df.loc[source_df[column].isna(), column] = False"
   ],
   "metadata": {
    "collapsed": false
   }
  },
  {
   "cell_type": "code",
   "execution_count": 3,
   "outputs": [
    {
     "data": {
      "text/plain": "       Region  Global #  Without DNSSEC (Public) #  Without DNSSEC (Public) %  \\\n0  California         2                          0                   0.000000   \n1     Florida         1                          0                   0.000000   \n2     Georgia         1                          0                   0.000000   \n3    Illinois         1                          0                   0.000000   \n4    Michigan         1                          0                   0.000000   \n5   Minnesota         1                          0                   0.000000   \n6    New York         1                          0                   0.000000   \n7       Texas         2                          0                   0.000000   \n8    Colorado         1                          1                 100.000000   \n9       Total        11                          1                   9.090909   \n\n   Without DNSSEC (Private) #  Without DNSSEC (Private) %  \\\n0                           2                  100.000000   \n1                           1                  100.000000   \n2                           1                  100.000000   \n3                           1                  100.000000   \n4                           1                  100.000000   \n5                           1                  100.000000   \n6                           1                  100.000000   \n7                           2                  100.000000   \n8                           0                    0.000000   \n9                          10                   90.909091   \n\n   With Valid DNSSEC (Public) #  With Valid DNSSEC (Public) %  \\\n0                             0                           0.0   \n1                             0                           0.0   \n2                             0                           0.0   \n3                             0                           0.0   \n4                             0                           0.0   \n5                             0                           0.0   \n6                             0                           0.0   \n7                             0                           0.0   \n8                             0                           0.0   \n9                             0                           0.0   \n\n   With Valid DNSSEC (Private) #  With Valid DNSSEC (Private) %  \\\n0                              0                            0.0   \n1                              0                            0.0   \n2                              0                            0.0   \n3                              0                            0.0   \n4                              0                            0.0   \n5                              0                            0.0   \n6                              0                            0.0   \n7                              0                            0.0   \n8                              0                            0.0   \n9                              0                            0.0   \n\n   With Invalid DNSSEC (Public) #  With Invalid DNSSEC (Public) %  \\\n0                               0                             0.0   \n1                               0                             0.0   \n2                               0                             0.0   \n3                               0                             0.0   \n4                               0                             0.0   \n5                               0                             0.0   \n6                               0                             0.0   \n7                               0                             0.0   \n8                               0                             0.0   \n9                               0                             0.0   \n\n   With Invalid DNSSEC (Private) #  With Invalid DNSSEC (Private) %  \n0                                0                              0.0  \n1                                0                              0.0  \n2                                0                              0.0  \n3                                0                              0.0  \n4                                0                              0.0  \n5                                0                              0.0  \n6                                0                              0.0  \n7                                0                              0.0  \n8                                0                              0.0  \n9                                0                              0.0  ",
      "text/html": "<div>\n<style scoped>\n    .dataframe tbody tr th:only-of-type {\n        vertical-align: middle;\n    }\n\n    .dataframe tbody tr th {\n        vertical-align: top;\n    }\n\n    .dataframe thead th {\n        text-align: right;\n    }\n</style>\n<table border=\"1\" class=\"dataframe\">\n  <thead>\n    <tr style=\"text-align: right;\">\n      <th></th>\n      <th>Region</th>\n      <th>Global #</th>\n      <th>Without DNSSEC (Public) #</th>\n      <th>Without DNSSEC (Public) %</th>\n      <th>Without DNSSEC (Private) #</th>\n      <th>Without DNSSEC (Private) %</th>\n      <th>With Valid DNSSEC (Public) #</th>\n      <th>With Valid DNSSEC (Public) %</th>\n      <th>With Valid DNSSEC (Private) #</th>\n      <th>With Valid DNSSEC (Private) %</th>\n      <th>With Invalid DNSSEC (Public) #</th>\n      <th>With Invalid DNSSEC (Public) %</th>\n      <th>With Invalid DNSSEC (Private) #</th>\n      <th>With Invalid DNSSEC (Private) %</th>\n    </tr>\n  </thead>\n  <tbody>\n    <tr>\n      <th>0</th>\n      <td>California</td>\n      <td>2</td>\n      <td>0</td>\n      <td>0.000000</td>\n      <td>2</td>\n      <td>100.000000</td>\n      <td>0</td>\n      <td>0.0</td>\n      <td>0</td>\n      <td>0.0</td>\n      <td>0</td>\n      <td>0.0</td>\n      <td>0</td>\n      <td>0.0</td>\n    </tr>\n    <tr>\n      <th>1</th>\n      <td>Florida</td>\n      <td>1</td>\n      <td>0</td>\n      <td>0.000000</td>\n      <td>1</td>\n      <td>100.000000</td>\n      <td>0</td>\n      <td>0.0</td>\n      <td>0</td>\n      <td>0.0</td>\n      <td>0</td>\n      <td>0.0</td>\n      <td>0</td>\n      <td>0.0</td>\n    </tr>\n    <tr>\n      <th>2</th>\n      <td>Georgia</td>\n      <td>1</td>\n      <td>0</td>\n      <td>0.000000</td>\n      <td>1</td>\n      <td>100.000000</td>\n      <td>0</td>\n      <td>0.0</td>\n      <td>0</td>\n      <td>0.0</td>\n      <td>0</td>\n      <td>0.0</td>\n      <td>0</td>\n      <td>0.0</td>\n    </tr>\n    <tr>\n      <th>3</th>\n      <td>Illinois</td>\n      <td>1</td>\n      <td>0</td>\n      <td>0.000000</td>\n      <td>1</td>\n      <td>100.000000</td>\n      <td>0</td>\n      <td>0.0</td>\n      <td>0</td>\n      <td>0.0</td>\n      <td>0</td>\n      <td>0.0</td>\n      <td>0</td>\n      <td>0.0</td>\n    </tr>\n    <tr>\n      <th>4</th>\n      <td>Michigan</td>\n      <td>1</td>\n      <td>0</td>\n      <td>0.000000</td>\n      <td>1</td>\n      <td>100.000000</td>\n      <td>0</td>\n      <td>0.0</td>\n      <td>0</td>\n      <td>0.0</td>\n      <td>0</td>\n      <td>0.0</td>\n      <td>0</td>\n      <td>0.0</td>\n    </tr>\n    <tr>\n      <th>5</th>\n      <td>Minnesota</td>\n      <td>1</td>\n      <td>0</td>\n      <td>0.000000</td>\n      <td>1</td>\n      <td>100.000000</td>\n      <td>0</td>\n      <td>0.0</td>\n      <td>0</td>\n      <td>0.0</td>\n      <td>0</td>\n      <td>0.0</td>\n      <td>0</td>\n      <td>0.0</td>\n    </tr>\n    <tr>\n      <th>6</th>\n      <td>New York</td>\n      <td>1</td>\n      <td>0</td>\n      <td>0.000000</td>\n      <td>1</td>\n      <td>100.000000</td>\n      <td>0</td>\n      <td>0.0</td>\n      <td>0</td>\n      <td>0.0</td>\n      <td>0</td>\n      <td>0.0</td>\n      <td>0</td>\n      <td>0.0</td>\n    </tr>\n    <tr>\n      <th>7</th>\n      <td>Texas</td>\n      <td>2</td>\n      <td>0</td>\n      <td>0.000000</td>\n      <td>2</td>\n      <td>100.000000</td>\n      <td>0</td>\n      <td>0.0</td>\n      <td>0</td>\n      <td>0.0</td>\n      <td>0</td>\n      <td>0.0</td>\n      <td>0</td>\n      <td>0.0</td>\n    </tr>\n    <tr>\n      <th>8</th>\n      <td>Colorado</td>\n      <td>1</td>\n      <td>1</td>\n      <td>100.000000</td>\n      <td>0</td>\n      <td>0.000000</td>\n      <td>0</td>\n      <td>0.0</td>\n      <td>0</td>\n      <td>0.0</td>\n      <td>0</td>\n      <td>0.0</td>\n      <td>0</td>\n      <td>0.0</td>\n    </tr>\n    <tr>\n      <th>9</th>\n      <td>Total</td>\n      <td>11</td>\n      <td>1</td>\n      <td>9.090909</td>\n      <td>10</td>\n      <td>90.909091</td>\n      <td>0</td>\n      <td>0.0</td>\n      <td>0</td>\n      <td>0.0</td>\n      <td>0</td>\n      <td>0.0</td>\n      <td>0</td>\n      <td>0.0</td>\n    </tr>\n  </tbody>\n</table>\n</div>"
     },
     "metadata": {},
     "output_type": "display_data"
    }
   ],
   "source": [
    "# Analyze of HEIs with DNSSEC enabled by region\n",
    "\n",
    "# settings\n",
    "column_to_sort = 'Without DNSSEC (Public) %'\n",
    "sort_ascending = True\n",
    "columns_to_display = [region_column_name.title(), column_name_to_results_global]\n",
    "analysis_df = get_records_by_region(source_df)\n",
    "\n",
    "# create columns\n",
    "# Column creation with distribution of records without dnssec by region\n",
    "only_public = 'category == \"Public\"'\n",
    "only_private = 'category == \"Private\"'\n",
    "create_column(source_df=source_df, analysis_dataframe=analysis_df, column_name='Without DNSSEC (Public)', criteria=f'has_dnssec == False & {only_public}', columns_to_display=columns_to_display)\n",
    "create_column(source_df=source_df, analysis_dataframe=analysis_df, column_name='Without DNSSEC (Private)', criteria=f'has_dnssec == False & {only_private}', columns_to_display=columns_to_display)\n",
    "# Column creation with distribution of records with valid dnssec by region\n",
    "criteria = 'has_dnssec == True & dnssec_is_valid == True'\n",
    "create_column(source_df=source_df, analysis_dataframe=analysis_df, column_name='With Valid DNSSEC (Public)', criteria=f'{criteria} & {only_public}', columns_to_display=columns_to_display)\n",
    "create_column(source_df=source_df, analysis_dataframe=analysis_df, column_name='With Valid DNSSEC (Private)', criteria=f'{criteria} & {only_private}', columns_to_display=columns_to_display)\n",
    "# Column creation with distribution of records with invalid dnssec by region\n",
    "criteria = 'has_dnssec == True & dnssec_is_valid == False'\n",
    "create_column(source_df=source_df, analysis_dataframe=analysis_df, column_name='With Invalid DNSSEC (Public)', criteria=f'{criteria} & {only_public}', columns_to_display=columns_to_display)\n",
    "create_column(source_df=source_df, analysis_dataframe=analysis_df, column_name='With Invalid DNSSEC (Private)', criteria=f'{criteria} & {only_private}', columns_to_display=columns_to_display)\n",
    "\n",
    "# Finalize dataframe\n",
    "analysis_df = finalize_dataframe(dataframe=analysis_df, column_to_sort=column_to_sort, ascending=sort_ascending, columns_to_display=columns_to_display)\n",
    "display(analysis_df)\n",
    "\n",
    "# save to csv\n",
    "save_table(analysis_df, category=category, table_name=table_name)"
   ],
   "metadata": {
    "collapsed": false
   }
  },
  {
   "cell_type": "code",
   "execution_count": 4,
   "outputs": [
    {
     "name": "stdout",
     "output_type": "stream",
     "text": [
      "\n",
      "\\begin{figure}[htbp]\n",
      "    \\centering\n",
      "    \\includegraphics[width=0.48\\textwidth]{charts/dnssec.pdf}\n",
      "    \\caption{Distribution of DNSSEC usage by regions.}\\label{fig:dnssec}\n",
      "\\end{figure}\n",
      "\n",
      "\n",
      "The data presented in Figure~\\ref{fig:dnssec} provides an overview of the use of \\gls{dnssec} at \\glspl{hei} in \\countryName. According to the data, 9.09\\% of the public institutions analyzed have not implemented \\gls{dnssec} on their domains, while 90.91\\% of the private institutions analyzed also dont use \\gls{dnssec}.\n",
      "\n",
      "On a positive note, 0.00\\% of the public institutions analyzed have implemented \\gls{dnssec} with a valid configurations in their domains, and 0.00\\% of the private institutions have implemented valid DNSSEC.\n",
      "\n",
      "However, 0.00\\% of the public institutions analyzed have implemented invalid \\gls{dnssec} in their domains, and 0.00\\% of the private institutions also have implemented \\gls{dnssec} with invalid configurations.\n",
      "\n",
      "In terms of regional differences, private institutions in California (0.00\\%), Florida (0.00\\%), and Georgia (0.00\\%), and public institutions in California (0.00\\%), Florida (0.00\\%), and Georgia (0.00\\%) have a higher usage of \\gls{dnssec}.\n",
      "\n",
      "In contrast, private institutions in California (0.00\\%), Florida (0.00\\%), and Georgia (0.00\\%), and public institutions in California (0.00\\%), Florida (0.00\\%), and Georgia (0.00\\%) have a lower usage of \\gls{dnssec}.\n",
      "\n",
      "Finally, when it comes to invalid settings, private institutions in California (0.00\\%), Florida (0.00\\%), and Georgia (0.00\\%), and public institutions in California (0.00\\%), Florida (0.00\\%), and Georgia (0.00\\%) have a higher usage of \\gls{dnssec} with invalid configurations.\n",
      "\n",
      "\n"
     ]
    }
   ],
   "source": [
    "# Report in latex\n",
    "report_results = get_extreme_values(analysis_df)\n",
    "\n",
    "hei_public_without_dnssec = format(report_results.get(\"Total\").get(\"Without DNSSEC (Public) %\"), \".2f\")\n",
    "hei_public_with_valid_dnssec = format(report_results.get(\"Total\").get(\"With Valid DNSSEC (Public) %\"), \".2f\")\n",
    "hei_public_with_invalid_dnssec = format(report_results.get(\"Total\").get(\"With Invalid DNSSEC (Public) %\"), \".2f\")\n",
    "\n",
    "hei_private_without_dnssec = format(report_results.get(\"Total\").get(\"Without DNSSEC (Private) %\"), \".2f\")\n",
    "hei_private_with_valid_dnssec = format(report_results.get(\"Total\").get(\"With Valid DNSSEC (Private) %\"), \".2f\")\n",
    "hei_private_with_invalid_dnssec = format(report_results.get(\"Total\").get(\"With Invalid DNSSEC (Private) %\"), \".2f\")\n",
    "\n",
    "report_figure = \"\"\"\n",
    "\\\\begin{figure}[htbp]\n",
    "    \\centering\n",
    "    \\includegraphics[width=0.48\\\\textwidth]{charts/dnssec.pdf}\n",
    "    \\caption{Distribution of DNSSEC usage by regions.}\\label{fig:dnssec}\n",
    "\\end{figure}\n",
    "\"\"\"\n",
    "\n",
    "report = f'{report_figure}\\n\\n'\n",
    "report += f'The data presented in Figure~\\\\ref{{fig:dnssec}} provides an overview of the use of \\gls{{dnssec}} at \\glspl{{hei}} in \\countryName. According to the data, {hei_public_without_dnssec}\\% of the public institutions analyzed have not implemented \\gls{{dnssec}} on their domains, while {hei_private_without_dnssec}\\% of the private institutions analyzed also dont use \\gls{{dnssec}}.\\n\\n'\n",
    "report += f'On a positive note, {hei_public_with_valid_dnssec}\\% of the public institutions analyzed have implemented \\gls{{dnssec}} with a valid configurations in their domains, and {hei_private_with_valid_dnssec}\\% of the private institutions have implemented valid DNSSEC.\\n\\n'\n",
    "report += f'However, {hei_public_with_invalid_dnssec}\\% of the public institutions analyzed have implemented invalid \\gls{{dnssec}} in their domains, and {hei_private_with_invalid_dnssec}\\% of the private institutions also have implemented \\gls{{dnssec}} with invalid configurations.\\n\\n'\n",
    "\n",
    "report += f'In terms of regional differences, private institutions in {report_results.get(\"With Valid DNSSEC (Private) %\").get(\"top_regions\")[0][0]} ({format(report_results.get(\"With Valid DNSSEC (Private) %\").get(\"top_regions\")[0][1], \".2f\")}\\%), {report_results.get(\"With Valid DNSSEC (Private) %\").get(\"top_regions\")[1][0]} ({format(report_results.get(\"With Valid DNSSEC (Private) %\").get(\"top_regions\")[1][1], \".2f\")}\\%), and {report_results.get(\"With Valid DNSSEC (Private) %\").get(\"top_regions\")[2][0]} ({format(report_results.get(\"With Valid DNSSEC (Private) %\").get(\"top_regions\")[2][1], \".2f\")}\\%), '\n",
    "report += f'and public institutions in {report_results.get(\"With Valid DNSSEC (Public) %\").get(\"top_regions\")[0][0]} ({format(report_results.get(\"With Valid DNSSEC (Public) %\").get(\"top_regions\")[0][1], \".2f\")}\\%), {report_results.get(\"With Valid DNSSEC (Public) %\").get(\"top_regions\")[1][0]} ({format(report_results.get(\"With Valid DNSSEC (Public) %\").get(\"top_regions\")[1][1], \".2f\")}\\%), and {report_results.get(\"With Valid DNSSEC (Public) %\").get(\"top_regions\")[2][0]} ({format(report_results.get(\"With Valid DNSSEC (Public) %\").get(\"top_regions\")[2][1], \".2f\")}\\%) have a higher usage of \\gls{{dnssec}}.\\n\\n'\n",
    "\n",
    "report += f'In contrast, private institutions in {report_results.get(\"With Valid DNSSEC (Private) %\").get(\"bottom_regions\")[0][0]} ({format(report_results.get(\"With Valid DNSSEC (Private) %\").get(\"bottom_regions\")[0][1], \".2f\")}\\%), {report_results.get(\"With Valid DNSSEC (Private) %\").get(\"bottom_regions\")[1][0]} ({format(report_results.get(\"With Valid DNSSEC (Private) %\").get(\"bottom_regions\")[1][1], \".2f\")}\\%), and {report_results.get(\"With Valid DNSSEC (Private) %\").get(\"bottom_regions\")[2][0]} ({format(report_results.get(\"With Valid DNSSEC (Private) %\").get(\"bottom_regions\")[2][1], \".2f\")}\\%), '\n",
    "report += f'and public institutions in {report_results.get(\"With Valid DNSSEC (Public) %\").get(\"bottom_regions\")[0][0]} ({format(report_results.get(\"With Valid DNSSEC (Public) %\").get(\"bottom_regions\")[0][1], \".2f\")}\\%), {report_results.get(\"With Valid DNSSEC (Public) %\").get(\"bottom_regions\")[1][0]} ({format(report_results.get(\"With Valid DNSSEC (Public) %\").get(\"bottom_regions\")[1][1], \".2f\")}\\%), and {report_results.get(\"With Valid DNSSEC (Public) %\").get(\"bottom_regions\")[2][0]} ({format(report_results.get(\"With Valid DNSSEC (Public) %\").get(\"bottom_regions\")[2][1], \".2f\")}\\%) have a lower usage of \\gls{{dnssec}}.\\n\\n'\n",
    "\n",
    "report += f'Finally, when it comes to invalid settings, private institutions in {report_results.get(\"With Invalid DNSSEC (Private) %\").get(\"top_regions\")[0][0]} ({format(report_results.get(\"With Invalid DNSSEC (Private) %\").get(\"top_regions\")[0][1], \".2f\")}\\%), {report_results.get(\"With Invalid DNSSEC (Private) %\").get(\"top_regions\")[1][0]} ({format(report_results.get(\"With Invalid DNSSEC (Private) %\").get(\"top_regions\")[1][1], \".2f\")}\\%), and {report_results.get(\"With Invalid DNSSEC (Private) %\").get(\"top_regions\")[2][0]} ({format(report_results.get(\"With Invalid DNSSEC (Private) %\").get(\"top_regions\")[2][1], \".2f\")}\\%), '\n",
    "report += f'and public institutions in {report_results.get(\"With Invalid DNSSEC (Public) %\").get(\"top_regions\")[0][0]} ({format(report_results.get(\"With Invalid DNSSEC (Public) %\").get(\"top_regions\")[0][1], \".2f\")}\\%), {report_results.get(\"With Invalid DNSSEC (Public) %\").get(\"top_regions\")[1][0]} ({format(report_results.get(\"With Invalid DNSSEC (Public) %\").get(\"top_regions\")[1][1], \".2f\")}\\%), and {report_results.get(\"With Invalid DNSSEC (Public) %\").get(\"top_regions\")[2][0]} ({format(report_results.get(\"With Invalid DNSSEC (Public) %\").get(\"top_regions\")[2][1], \".2f\")}\\%) have a higher usage of \\gls{{dnssec}} with invalid configurations.\\n\\n'\n",
    "\n",
    "print(report)\n",
    "# save report to file txt\n",
    "save_report(report=report, category=category, report_name=report_name)"
   ],
   "metadata": {
    "collapsed": false
   }
  },
  {
   "cell_type": "code",
   "execution_count": null,
   "outputs": [],
   "source": [],
   "metadata": {
    "collapsed": false
   }
  }
 ],
 "metadata": {
  "kernelspec": {
   "display_name": "Python 3",
   "language": "python",
   "name": "python3"
  },
  "language_info": {
   "codemirror_mode": {
    "name": "ipython",
    "version": 2
   },
   "file_extension": ".py",
   "mimetype": "text/x-python",
   "name": "python",
   "nbconvert_exporter": "python",
   "pygments_lexer": "ipython2",
   "version": "2.7.6"
  }
 },
 "nbformat": 4,
 "nbformat_minor": 0
}
