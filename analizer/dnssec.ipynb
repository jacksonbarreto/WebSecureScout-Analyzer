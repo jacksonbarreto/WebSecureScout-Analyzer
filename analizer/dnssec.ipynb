{
 "cells": [
  {
   "cell_type": "code",
   "execution_count": 1,
   "metadata": {
    "collapsed": true,
    "ExecuteTime": {
     "end_time": "2023-07-07T07:32:14.354348900Z",
     "start_time": "2023-07-07T07:32:09.337005200Z"
    }
   },
   "outputs": [],
   "source": [
    "from utilities.utilities import load_data, get_records_by_region, create_column, finalize_dataframe, get_extreme_values, create_directory_structure, save_table, save_report, pd, assign_quartile\n",
    "# settings\n",
    "region_column_name = 'Region'\n",
    "table_name = 'dnssec_by_region'\n",
    "report_name = 'dnssec_by_region'\n",
    "category = 'dnssec'\n",
    "column_name_to_results_global = 'Global #'\n",
    "create_directory_structure()\n",
    "\n",
    "source_df = load_data('dnssec_checker')"
   ]
  },
  {
   "cell_type": "code",
   "execution_count": 2,
   "outputs": [
    {
     "name": "stdout",
     "output_type": "stream",
     "text": [
      "<class 'pandas.core.frame.DataFrame'>\n",
      "RangeIndex: 458 entries, 0 to 457\n",
      "Data columns (total 10 columns):\n",
      " #   Column             Non-Null Count  Dtype \n",
      "---  ------             --------------  ----- \n",
      " 0   id                 458 non-null    int64 \n",
      " 1   region             458 non-null    object\n",
      " 2   name               458 non-null    object\n",
      " 3   category           458 non-null    object\n",
      " 4   url                458 non-null    object\n",
      " 5   dnssec_domain      458 non-null    object\n",
      " 6   dnssec_nameserver  457 non-null    object\n",
      " 7   has_dnssec         458 non-null    bool  \n",
      " 8   dnssec_is_valid    458 non-null    bool  \n",
      " 9   dnssec_algorithm   50 non-null     object\n",
      "dtypes: bool(2), int64(1), object(7)\n",
      "memory usage: 29.6+ KB\n"
     ]
    }
   ],
   "source": [
    "source_df.info()"
   ],
   "metadata": {
    "collapsed": false,
    "ExecuteTime": {
     "end_time": "2023-07-07T07:32:16.298351700Z",
     "start_time": "2023-07-07T07:32:16.171356100Z"
    }
   }
  },
  {
   "cell_type": "code",
   "execution_count": 3,
   "outputs": [],
   "source": [
    "# sanity dataset\n",
    "columns_names = ['has_dnssec', 'dnssec_is_valid']\n",
    "for column in columns_names:\n",
    "    source_df.loc[source_df[column].isna(), column] = False"
   ],
   "metadata": {
    "collapsed": false,
    "ExecuteTime": {
     "end_time": "2023-07-07T07:32:50.665347700Z",
     "start_time": "2023-07-07T07:32:50.641351300Z"
    }
   }
  },
  {
   "cell_type": "code",
   "execution_count": 4,
   "outputs": [
    {
     "data": {
      "text/plain": "                    Region  Global #  Without DNSSEC #  Without DNSSEC %  \\\n0                   Bayern        34                14         41.176471   \n1   Mecklenburg-Vorpommern         7                 5         71.428571   \n2              Brandenburg        10                 8         80.000000   \n3                   Bremen         5                 4         80.000000   \n4                  Hamburg        10                 8         80.000000   \n5      Nordrhein-Westfalen        42                36         85.714286   \n6          Rheinland-Pfalz        15                13         86.666667   \n7                   Hessen        22                20         90.909091   \n8                   Berlin        12                11         91.666667   \n9            Niedersachsen        21                20         95.238095   \n10                 Sachsen        23                22         95.652174   \n11       Baden-Württemberg        48                46         95.833333   \n12                Saarland         5                 5        100.000000   \n13          Sachsen-Anhalt         8                 8        100.000000   \n14      Schleswig-Holstein        10                10        100.000000   \n15               Thüringen        11                11        100.000000   \n16                   Total       283               241         85.159011   \n\n    With Invalid DNSSEC #  With Invalid DNSSEC %  With Valid DNSSEC #  \\\n0                       0                    0.0                   20   \n1                       0                    0.0                    2   \n2                       0                    0.0                    2   \n3                       0                    0.0                    1   \n4                       0                    0.0                    2   \n5                       0                    0.0                    6   \n6                       0                    0.0                    2   \n7                       0                    0.0                    2   \n8                       0                    0.0                    1   \n9                       0                    0.0                    1   \n10                      0                    0.0                    1   \n11                      0                    0.0                    2   \n12                      0                    0.0                    0   \n13                      0                    0.0                    0   \n14                      0                    0.0                    0   \n15                      0                    0.0                    0   \n16                      0                    0.0                   42   \n\n    With Valid DNSSEC %  \n0             58.823529  \n1             28.571429  \n2             20.000000  \n3             20.000000  \n4             20.000000  \n5             14.285714  \n6             13.333333  \n7              9.090909  \n8              8.333333  \n9              4.761905  \n10             4.347826  \n11             4.166667  \n12             0.000000  \n13             0.000000  \n14             0.000000  \n15             0.000000  \n16            14.840989  ",
      "text/html": "<div>\n<style scoped>\n    .dataframe tbody tr th:only-of-type {\n        vertical-align: middle;\n    }\n\n    .dataframe tbody tr th {\n        vertical-align: top;\n    }\n\n    .dataframe thead th {\n        text-align: right;\n    }\n</style>\n<table border=\"1\" class=\"dataframe\">\n  <thead>\n    <tr style=\"text-align: right;\">\n      <th></th>\n      <th>Region</th>\n      <th>Global #</th>\n      <th>Without DNSSEC #</th>\n      <th>Without DNSSEC %</th>\n      <th>With Invalid DNSSEC #</th>\n      <th>With Invalid DNSSEC %</th>\n      <th>With Valid DNSSEC #</th>\n      <th>With Valid DNSSEC %</th>\n    </tr>\n  </thead>\n  <tbody>\n    <tr>\n      <th>0</th>\n      <td>Bayern</td>\n      <td>34</td>\n      <td>14</td>\n      <td>41.176471</td>\n      <td>0</td>\n      <td>0.0</td>\n      <td>20</td>\n      <td>58.823529</td>\n    </tr>\n    <tr>\n      <th>1</th>\n      <td>Mecklenburg-Vorpommern</td>\n      <td>7</td>\n      <td>5</td>\n      <td>71.428571</td>\n      <td>0</td>\n      <td>0.0</td>\n      <td>2</td>\n      <td>28.571429</td>\n    </tr>\n    <tr>\n      <th>2</th>\n      <td>Brandenburg</td>\n      <td>10</td>\n      <td>8</td>\n      <td>80.000000</td>\n      <td>0</td>\n      <td>0.0</td>\n      <td>2</td>\n      <td>20.000000</td>\n    </tr>\n    <tr>\n      <th>3</th>\n      <td>Bremen</td>\n      <td>5</td>\n      <td>4</td>\n      <td>80.000000</td>\n      <td>0</td>\n      <td>0.0</td>\n      <td>1</td>\n      <td>20.000000</td>\n    </tr>\n    <tr>\n      <th>4</th>\n      <td>Hamburg</td>\n      <td>10</td>\n      <td>8</td>\n      <td>80.000000</td>\n      <td>0</td>\n      <td>0.0</td>\n      <td>2</td>\n      <td>20.000000</td>\n    </tr>\n    <tr>\n      <th>5</th>\n      <td>Nordrhein-Westfalen</td>\n      <td>42</td>\n      <td>36</td>\n      <td>85.714286</td>\n      <td>0</td>\n      <td>0.0</td>\n      <td>6</td>\n      <td>14.285714</td>\n    </tr>\n    <tr>\n      <th>6</th>\n      <td>Rheinland-Pfalz</td>\n      <td>15</td>\n      <td>13</td>\n      <td>86.666667</td>\n      <td>0</td>\n      <td>0.0</td>\n      <td>2</td>\n      <td>13.333333</td>\n    </tr>\n    <tr>\n      <th>7</th>\n      <td>Hessen</td>\n      <td>22</td>\n      <td>20</td>\n      <td>90.909091</td>\n      <td>0</td>\n      <td>0.0</td>\n      <td>2</td>\n      <td>9.090909</td>\n    </tr>\n    <tr>\n      <th>8</th>\n      <td>Berlin</td>\n      <td>12</td>\n      <td>11</td>\n      <td>91.666667</td>\n      <td>0</td>\n      <td>0.0</td>\n      <td>1</td>\n      <td>8.333333</td>\n    </tr>\n    <tr>\n      <th>9</th>\n      <td>Niedersachsen</td>\n      <td>21</td>\n      <td>20</td>\n      <td>95.238095</td>\n      <td>0</td>\n      <td>0.0</td>\n      <td>1</td>\n      <td>4.761905</td>\n    </tr>\n    <tr>\n      <th>10</th>\n      <td>Sachsen</td>\n      <td>23</td>\n      <td>22</td>\n      <td>95.652174</td>\n      <td>0</td>\n      <td>0.0</td>\n      <td>1</td>\n      <td>4.347826</td>\n    </tr>\n    <tr>\n      <th>11</th>\n      <td>Baden-Württemberg</td>\n      <td>48</td>\n      <td>46</td>\n      <td>95.833333</td>\n      <td>0</td>\n      <td>0.0</td>\n      <td>2</td>\n      <td>4.166667</td>\n    </tr>\n    <tr>\n      <th>12</th>\n      <td>Saarland</td>\n      <td>5</td>\n      <td>5</td>\n      <td>100.000000</td>\n      <td>0</td>\n      <td>0.0</td>\n      <td>0</td>\n      <td>0.000000</td>\n    </tr>\n    <tr>\n      <th>13</th>\n      <td>Sachsen-Anhalt</td>\n      <td>8</td>\n      <td>8</td>\n      <td>100.000000</td>\n      <td>0</td>\n      <td>0.0</td>\n      <td>0</td>\n      <td>0.000000</td>\n    </tr>\n    <tr>\n      <th>14</th>\n      <td>Schleswig-Holstein</td>\n      <td>10</td>\n      <td>10</td>\n      <td>100.000000</td>\n      <td>0</td>\n      <td>0.0</td>\n      <td>0</td>\n      <td>0.000000</td>\n    </tr>\n    <tr>\n      <th>15</th>\n      <td>Thüringen</td>\n      <td>11</td>\n      <td>11</td>\n      <td>100.000000</td>\n      <td>0</td>\n      <td>0.0</td>\n      <td>0</td>\n      <td>0.000000</td>\n    </tr>\n    <tr>\n      <th>16</th>\n      <td>Total</td>\n      <td>283</td>\n      <td>241</td>\n      <td>85.159011</td>\n      <td>0</td>\n      <td>0.0</td>\n      <td>42</td>\n      <td>14.840989</td>\n    </tr>\n  </tbody>\n</table>\n</div>"
     },
     "metadata": {},
     "output_type": "display_data"
    },
    {
     "data": {
      "text/plain": "                 Region  Global #  Without DNSSEC #  Without DNSSEC %  \\\n0                Bayern        12                 9         75.000000   \n1       Rheinland-Pfalz         6                 5         83.333333   \n2           Brandenburg         9                 8         88.888889   \n3   Nordrhein-Westfalen        25                23         92.000000   \n4         Niedersachsen        16                15         93.750000   \n5     Baden-Württemberg        24                24        100.000000   \n6                Berlin        28                28        100.000000   \n7                Bremen         2                 2        100.000000   \n8               Hamburg        11                11        100.000000   \n9                Hessen        23                23        100.000000   \n10             Saarland         5                 5        100.000000   \n11              Sachsen         7                 7        100.000000   \n12       Sachsen-Anhalt         2                 2        100.000000   \n13   Schleswig-Holstein         3                 3        100.000000   \n14            Thüringen         2                 2        100.000000   \n15                Total       175               167         95.428571   \n\n    With Invalid DNSSEC #  With Invalid DNSSEC %  With Valid DNSSEC #  \\\n0                       0               0.000000                    3   \n1                       0               0.000000                    1   \n2                       0               0.000000                    1   \n3                       1               4.000000                    1   \n4                       0               0.000000                    1   \n5                       0               0.000000                    0   \n6                       0               0.000000                    0   \n7                       0               0.000000                    0   \n8                       0               0.000000                    0   \n9                       0               0.000000                    0   \n10                      0               0.000000                    0   \n11                      0               0.000000                    0   \n12                      0               0.000000                    0   \n13                      0               0.000000                    0   \n14                      0               0.000000                    0   \n15                      1               0.571429                    7   \n\n    With Valid DNSSEC %  \n0             25.000000  \n1             16.666667  \n2             11.111111  \n3              4.000000  \n4              6.250000  \n5              0.000000  \n6              0.000000  \n7              0.000000  \n8              0.000000  \n9              0.000000  \n10             0.000000  \n11             0.000000  \n12             0.000000  \n13             0.000000  \n14             0.000000  \n15             4.000000  ",
      "text/html": "<div>\n<style scoped>\n    .dataframe tbody tr th:only-of-type {\n        vertical-align: middle;\n    }\n\n    .dataframe tbody tr th {\n        vertical-align: top;\n    }\n\n    .dataframe thead th {\n        text-align: right;\n    }\n</style>\n<table border=\"1\" class=\"dataframe\">\n  <thead>\n    <tr style=\"text-align: right;\">\n      <th></th>\n      <th>Region</th>\n      <th>Global #</th>\n      <th>Without DNSSEC #</th>\n      <th>Without DNSSEC %</th>\n      <th>With Invalid DNSSEC #</th>\n      <th>With Invalid DNSSEC %</th>\n      <th>With Valid DNSSEC #</th>\n      <th>With Valid DNSSEC %</th>\n    </tr>\n  </thead>\n  <tbody>\n    <tr>\n      <th>0</th>\n      <td>Bayern</td>\n      <td>12</td>\n      <td>9</td>\n      <td>75.000000</td>\n      <td>0</td>\n      <td>0.000000</td>\n      <td>3</td>\n      <td>25.000000</td>\n    </tr>\n    <tr>\n      <th>1</th>\n      <td>Rheinland-Pfalz</td>\n      <td>6</td>\n      <td>5</td>\n      <td>83.333333</td>\n      <td>0</td>\n      <td>0.000000</td>\n      <td>1</td>\n      <td>16.666667</td>\n    </tr>\n    <tr>\n      <th>2</th>\n      <td>Brandenburg</td>\n      <td>9</td>\n      <td>8</td>\n      <td>88.888889</td>\n      <td>0</td>\n      <td>0.000000</td>\n      <td>1</td>\n      <td>11.111111</td>\n    </tr>\n    <tr>\n      <th>3</th>\n      <td>Nordrhein-Westfalen</td>\n      <td>25</td>\n      <td>23</td>\n      <td>92.000000</td>\n      <td>1</td>\n      <td>4.000000</td>\n      <td>1</td>\n      <td>4.000000</td>\n    </tr>\n    <tr>\n      <th>4</th>\n      <td>Niedersachsen</td>\n      <td>16</td>\n      <td>15</td>\n      <td>93.750000</td>\n      <td>0</td>\n      <td>0.000000</td>\n      <td>1</td>\n      <td>6.250000</td>\n    </tr>\n    <tr>\n      <th>5</th>\n      <td>Baden-Württemberg</td>\n      <td>24</td>\n      <td>24</td>\n      <td>100.000000</td>\n      <td>0</td>\n      <td>0.000000</td>\n      <td>0</td>\n      <td>0.000000</td>\n    </tr>\n    <tr>\n      <th>6</th>\n      <td>Berlin</td>\n      <td>28</td>\n      <td>28</td>\n      <td>100.000000</td>\n      <td>0</td>\n      <td>0.000000</td>\n      <td>0</td>\n      <td>0.000000</td>\n    </tr>\n    <tr>\n      <th>7</th>\n      <td>Bremen</td>\n      <td>2</td>\n      <td>2</td>\n      <td>100.000000</td>\n      <td>0</td>\n      <td>0.000000</td>\n      <td>0</td>\n      <td>0.000000</td>\n    </tr>\n    <tr>\n      <th>8</th>\n      <td>Hamburg</td>\n      <td>11</td>\n      <td>11</td>\n      <td>100.000000</td>\n      <td>0</td>\n      <td>0.000000</td>\n      <td>0</td>\n      <td>0.000000</td>\n    </tr>\n    <tr>\n      <th>9</th>\n      <td>Hessen</td>\n      <td>23</td>\n      <td>23</td>\n      <td>100.000000</td>\n      <td>0</td>\n      <td>0.000000</td>\n      <td>0</td>\n      <td>0.000000</td>\n    </tr>\n    <tr>\n      <th>10</th>\n      <td>Saarland</td>\n      <td>5</td>\n      <td>5</td>\n      <td>100.000000</td>\n      <td>0</td>\n      <td>0.000000</td>\n      <td>0</td>\n      <td>0.000000</td>\n    </tr>\n    <tr>\n      <th>11</th>\n      <td>Sachsen</td>\n      <td>7</td>\n      <td>7</td>\n      <td>100.000000</td>\n      <td>0</td>\n      <td>0.000000</td>\n      <td>0</td>\n      <td>0.000000</td>\n    </tr>\n    <tr>\n      <th>12</th>\n      <td>Sachsen-Anhalt</td>\n      <td>2</td>\n      <td>2</td>\n      <td>100.000000</td>\n      <td>0</td>\n      <td>0.000000</td>\n      <td>0</td>\n      <td>0.000000</td>\n    </tr>\n    <tr>\n      <th>13</th>\n      <td>Schleswig-Holstein</td>\n      <td>3</td>\n      <td>3</td>\n      <td>100.000000</td>\n      <td>0</td>\n      <td>0.000000</td>\n      <td>0</td>\n      <td>0.000000</td>\n    </tr>\n    <tr>\n      <th>14</th>\n      <td>Thüringen</td>\n      <td>2</td>\n      <td>2</td>\n      <td>100.000000</td>\n      <td>0</td>\n      <td>0.000000</td>\n      <td>0</td>\n      <td>0.000000</td>\n    </tr>\n    <tr>\n      <th>15</th>\n      <td>Total</td>\n      <td>175</td>\n      <td>167</td>\n      <td>95.428571</td>\n      <td>1</td>\n      <td>0.571429</td>\n      <td>7</td>\n      <td>4.000000</td>\n    </tr>\n  </tbody>\n</table>\n</div>"
     },
     "metadata": {},
     "output_type": "display_data"
    }
   ],
   "source": [
    "# Analyze of HEIs with DNSSEC enabled by region (Pub/Pvt)\n",
    "\n",
    "\n",
    "# settings\n",
    "column_to_sort = 'Without DNSSEC %'\n",
    "sort_ascending = True\n",
    "config = [\n",
    "    {'table_name': 'dnssec_by_region_public', 'hei_type': 'Public'},\n",
    "    {'table_name': 'dnssec_by_region_private', 'hei_type': 'Private'}\n",
    "]\n",
    "dfs = []\n",
    "for config_item in config:\n",
    "    table_name = config_item['table_name']\n",
    "    hei_type = config_item['hei_type']\n",
    "    columns_to_display = [region_column_name.title(), column_name_to_results_global]\n",
    "    analysis_df = get_records_by_region(source_df, hei_type=hei_type)\n",
    "    # create columns\n",
    "    # Column creation with distribution of records without DNSSEC by region\n",
    "    create_column(source_df=source_df, analysis_dataframe=analysis_df, column_name='Without DNSSEC', criteria=f'has_dnssec == False & category == \"{hei_type}\"', columns_to_display=columns_to_display)\n",
    "        # Column creation with distribution of records with invalid dnssec by region\n",
    "    criteria = 'has_dnssec == True & dnssec_is_valid == False'\n",
    "    create_column(source_df=source_df, analysis_dataframe=analysis_df, column_name='With Invalid DNSSEC', criteria=f'{criteria} & category == \"{hei_type}\"', columns_to_display=columns_to_display)\n",
    "    # Column creation with distribution of records with valid dnssec by region\n",
    "    criteria = 'has_dnssec == True & dnssec_is_valid == True'\n",
    "    create_column(source_df=source_df, analysis_dataframe=analysis_df, column_name='With Valid DNSSEC', criteria=f'{criteria} & category == \"{hei_type}\"', columns_to_display=columns_to_display)\n",
    "    # Finalize dataframe\n",
    "    analysis_df = finalize_dataframe(dataframe=analysis_df, column_to_sort=column_to_sort, ascending=sort_ascending, columns_to_display=columns_to_display)\n",
    "    display(analysis_df)\n",
    "    dfs.append(analysis_df)\n",
    "    # save to csv\n",
    "    save_table(analysis_df, category=category, table_name=table_name)\n",
    "\n",
    "df_public = dfs[0].add_suffix('(pub)')\n",
    "df_private = dfs[1].add_suffix('(pvt)')\n",
    "df_public = df_public.rename(columns={'Region(pub)': 'Region'})\n",
    "df_private = df_private.rename(columns={'Region(pvt)': 'Region'})\n",
    "df_combined = df_public.merge(df_private, on='Region', how='outer')\n",
    "df_combined.fillna(0, inplace=True)\n",
    "# remove columns with # in the name\n",
    "df_combined = df_combined.loc[:, ~df_combined.columns.str.contains('#')]\n",
    "#remove columns global\n",
    "df_combined = df_combined.loc[:, ~df_combined.columns.str.contains('Global')]\n",
    "# remove '%' from name of columns\n",
    "df_combined.columns = df_combined.columns.str.replace('%', '')\n",
    "\n",
    "ranks_columns = ['Rank', 'Rank1', 'Rank2']\n",
    "#add column with sum of best columns\n",
    "df_combined[ranks_columns[0]] = df_combined['With Valid DNSSEC (pub)'] + df_combined['With Valid DNSSEC (pvt)']\n",
    "df_combined[ranks_columns[1]] = df_combined['With Invalid DNSSEC (pub)'] + df_combined['With Invalid DNSSEC (pvt)']\n",
    "df_combined[ranks_columns[2]] = df_combined['Without DNSSEC (pub)'] + df_combined['Without DNSSEC (pvt)']\n",
    "\n",
    "\n",
    "\n",
    "#order dataframe by column Rank (from highest to lowest)\n",
    "df_combined = df_combined.sort_values(by=ranks_columns, ascending=False)\n",
    "# move just row with 'Total' in column Region to the end of the dataframe. (Use pandas.concat instead of append to avoid duplicates)\n",
    "df_combined = pd.concat([df_combined[df_combined['Region'] != 'Total'], df_combined[df_combined['Region'] == 'Total']])\n",
    "# reset index\n",
    "df_combined.reset_index(drop=True, inplace=True)\n",
    "# remove column Rank\n",
    "df_combined.drop(columns=ranks_columns, inplace=True)\n",
    "#Add a column with the quartile corresponding to the position of the row, that is, considering the total of records -1 (to exclude the total row), if a row is in position 2 it should belong to the first quartile.\n",
    "df_combined['Quartile'] = df_combined.index.map(lambda rank: assign_quartile(rank, len(df_combined)-1))\n",
    "# moved column 'Quartile' to the second position\n",
    "cols = list(df_combined.columns)\n",
    "cols = [cols[0]] + [cols[-1]] + cols[1:-1]\n",
    "df_combined = df_combined[cols]\n",
    "\n",
    "\n",
    "save_table(df_combined, category=category, table_name='dnssec_by_region_combined')\n",
    "\n"
   ],
   "metadata": {
    "collapsed": false,
    "ExecuteTime": {
     "end_time": "2023-07-07T07:32:58.405349600Z",
     "start_time": "2023-07-07T07:32:57.501352100Z"
    }
   }
  },
  {
   "cell_type": "code",
   "execution_count": null,
   "outputs": [],
   "source": [
    "# Analyze of HEIs with DNSSEC enabled by region\n",
    "\n",
    "# settings\n",
    "column_to_sort = 'Without DNSSEC (Public) %'\n",
    "sort_ascending = True\n",
    "columns_to_display = [region_column_name.title(), column_name_to_results_global]\n",
    "analysis_df = get_records_by_region(source_df)\n",
    "\n",
    "# create columns\n",
    "# Column creation with distribution of records without dnssec by region\n",
    "only_public = 'category == \"Public\"'\n",
    "only_private = 'category == \"Private\"'\n",
    "create_column(source_df=source_df, analysis_dataframe=analysis_df, column_name='Without DNSSEC (Public)', criteria=f'has_dnssec == False & {only_public}', columns_to_display=columns_to_display)\n",
    "create_column(source_df=source_df, analysis_dataframe=analysis_df, column_name='Without DNSSEC (Private)', criteria=f'has_dnssec == False & {only_private}', columns_to_display=columns_to_display)\n",
    "# Column creation with distribution of records with valid dnssec by region\n",
    "criteria = 'has_dnssec == True & dnssec_is_valid == True'\n",
    "create_column(source_df=source_df, analysis_dataframe=analysis_df, column_name='With Valid DNSSEC (Public)', criteria=f'{criteria} & {only_public}', columns_to_display=columns_to_display)\n",
    "create_column(source_df=source_df, analysis_dataframe=analysis_df, column_name='With Valid DNSSEC (Private)', criteria=f'{criteria} & {only_private}', columns_to_display=columns_to_display)\n",
    "# Column creation with distribution of records with invalid dnssec by region\n",
    "criteria = 'has_dnssec == True & dnssec_is_valid == False'\n",
    "create_column(source_df=source_df, analysis_dataframe=analysis_df, column_name='With Invalid DNSSEC (Public)', criteria=f'{criteria} & {only_public}', columns_to_display=columns_to_display)\n",
    "create_column(source_df=source_df, analysis_dataframe=analysis_df, column_name='With Invalid DNSSEC (Private)', criteria=f'{criteria} & {only_private}', columns_to_display=columns_to_display)\n",
    "\n",
    "# Finalize dataframe\n",
    "analysis_df = finalize_dataframe(dataframe=analysis_df, column_to_sort=column_to_sort, ascending=sort_ascending, columns_to_display=columns_to_display)\n",
    "display(analysis_df)\n",
    "\n",
    "# save to csv\n",
    "save_table(analysis_df, category=category, table_name=table_name)"
   ],
   "metadata": {
    "collapsed": false
   }
  },
  {
   "cell_type": "code",
   "execution_count": 4,
   "outputs": [
    {
     "name": "stdout",
     "output_type": "stream",
     "text": [
      "\n",
      "\\begin{figure}[htbp]\n",
      "    \\centering\n",
      "    \\includegraphics[width=0.48\\textwidth]{charts/dnssec.pdf}\n",
      "    \\caption{Distribution of DNSSEC usage by regions.}\\label{fig:dnssec}\n",
      "\\end{figure}\n",
      "\n",
      "\n",
      "The data presented in Figure~\\ref{fig:dnssec} provides an overview of the use of \\gls{dnssec} at \\glspl{hei} in \\countryName. According to the data, 27.65\\% of the public institutions analyzed have not implemented \\gls{dnssec} on their domains, while 69.36\\% of the private institutions analyzed also dont use \\gls{dnssec}.\n",
      "\n",
      "On a positive note, 0.71\\% of the public institutions analyzed have implemented \\gls{dnssec} with a valid configurations in their domains, and 1.72\\% of the private institutions have implemented valid DNSSEC.\n",
      "\n",
      "However, 0.10\\% of the public institutions analyzed have implemented invalid \\gls{dnssec} in their domains, and 0.46\\% of the private institutions also have implemented \\gls{dnssec} with invalid configurations.\n",
      "\n",
      "In terms of regional differences, private institutions in Oregon (6.90\\%), Kansas (6.90\\%), and Indiana (5.66\\%), and public institutions in Louisiana (11.11\\%), New Mexico (10.00\\%), and South Dakota (6.25\\%) have a higher usage of \\gls{dnssec}.\n",
      "\n",
      "In contrast, private institutions in District of Columbia (0.00\\%), North Dakota (0.00\\%), and Arkansas (0.00\\%), and public institutions in District of Columbia (0.00\\%), Vermont (0.00\\%), and North Dakota (0.00\\%) have a lower usage of \\gls{dnssec}.\n",
      "\n",
      "Finally, when it comes to invalid settings, private institutions in Kansas (3.45\\%), Washington (3.33\\%), and Iowa (2.94\\%), and public institutions in Arkansas (4.35\\%), Oregon (3.45\\%), and District of Columbia (0.00\\%) have a higher usage of \\gls{dnssec} with invalid configurations.\n",
      "\n",
      "\n"
     ]
    }
   ],
   "source": [
    "# Report in latex\n",
    "report_results = get_extreme_values(analysis_df)\n",
    "\n",
    "hei_public_without_dnssec = format(report_results.get(\"Total\").get(\"Without DNSSEC (Public) %\"), \".2f\")\n",
    "hei_public_with_valid_dnssec = format(report_results.get(\"Total\").get(\"With Valid DNSSEC (Public) %\"), \".2f\")\n",
    "hei_public_with_invalid_dnssec = format(report_results.get(\"Total\").get(\"With Invalid DNSSEC (Public) %\"), \".2f\")\n",
    "\n",
    "hei_private_without_dnssec = format(report_results.get(\"Total\").get(\"Without DNSSEC (Private) %\"), \".2f\")\n",
    "hei_private_with_valid_dnssec = format(report_results.get(\"Total\").get(\"With Valid DNSSEC (Private) %\"), \".2f\")\n",
    "hei_private_with_invalid_dnssec = format(report_results.get(\"Total\").get(\"With Invalid DNSSEC (Private) %\"), \".2f\")\n",
    "\n",
    "report_figure = \"\"\"\n",
    "\\\\begin{figure}[htbp]\n",
    "    \\centering\n",
    "    \\includegraphics[width=0.48\\\\textwidth]{charts/dnssec.pdf}\n",
    "    \\caption{Distribution of DNSSEC usage by regions.}\\label{fig:dnssec}\n",
    "\\end{figure}\n",
    "\"\"\"\n",
    "\n",
    "report = f'{report_figure}\\n\\n'\n",
    "report += f'The data presented in Figure~\\\\ref{{fig:dnssec}} provides an overview of the use of \\gls{{dnssec}} at \\glspl{{hei}} in \\countryName. According to the data, {hei_public_without_dnssec}\\% of the public institutions analyzed have not implemented \\gls{{dnssec}} on their domains, while {hei_private_without_dnssec}\\% of the private institutions analyzed also dont use \\gls{{dnssec}}.\\n\\n'\n",
    "report += f'On a positive note, {hei_public_with_valid_dnssec}\\% of the public institutions analyzed have implemented \\gls{{dnssec}} with a valid configurations in their domains, and {hei_private_with_valid_dnssec}\\% of the private institutions have implemented valid DNSSEC.\\n\\n'\n",
    "report += f'However, {hei_public_with_invalid_dnssec}\\% of the public institutions analyzed have implemented invalid \\gls{{dnssec}} in their domains, and {hei_private_with_invalid_dnssec}\\% of the private institutions also have implemented \\gls{{dnssec}} with invalid configurations.\\n\\n'\n",
    "\n",
    "report += f'In terms of regional differences, private institutions in {report_results.get(\"With Valid DNSSEC (Private) %\").get(\"top_regions\")[0][0]} ({format(report_results.get(\"With Valid DNSSEC (Private) %\").get(\"top_regions\")[0][1], \".2f\")}\\%), {report_results.get(\"With Valid DNSSEC (Private) %\").get(\"top_regions\")[1][0]} ({format(report_results.get(\"With Valid DNSSEC (Private) %\").get(\"top_regions\")[1][1], \".2f\")}\\%), and {report_results.get(\"With Valid DNSSEC (Private) %\").get(\"top_regions\")[2][0]} ({format(report_results.get(\"With Valid DNSSEC (Private) %\").get(\"top_regions\")[2][1], \".2f\")}\\%), '\n",
    "report += f'and public institutions in {report_results.get(\"With Valid DNSSEC (Public) %\").get(\"top_regions\")[0][0]} ({format(report_results.get(\"With Valid DNSSEC (Public) %\").get(\"top_regions\")[0][1], \".2f\")}\\%), {report_results.get(\"With Valid DNSSEC (Public) %\").get(\"top_regions\")[1][0]} ({format(report_results.get(\"With Valid DNSSEC (Public) %\").get(\"top_regions\")[1][1], \".2f\")}\\%), and {report_results.get(\"With Valid DNSSEC (Public) %\").get(\"top_regions\")[2][0]} ({format(report_results.get(\"With Valid DNSSEC (Public) %\").get(\"top_regions\")[2][1], \".2f\")}\\%) have a higher usage of \\gls{{dnssec}}.\\n\\n'\n",
    "\n",
    "report += f'In contrast, private institutions in {report_results.get(\"With Valid DNSSEC (Private) %\").get(\"bottom_regions\")[0][0]} ({format(report_results.get(\"With Valid DNSSEC (Private) %\").get(\"bottom_regions\")[0][1], \".2f\")}\\%), {report_results.get(\"With Valid DNSSEC (Private) %\").get(\"bottom_regions\")[1][0]} ({format(report_results.get(\"With Valid DNSSEC (Private) %\").get(\"bottom_regions\")[1][1], \".2f\")}\\%), and {report_results.get(\"With Valid DNSSEC (Private) %\").get(\"bottom_regions\")[2][0]} ({format(report_results.get(\"With Valid DNSSEC (Private) %\").get(\"bottom_regions\")[2][1], \".2f\")}\\%), '\n",
    "report += f'and public institutions in {report_results.get(\"With Valid DNSSEC (Public) %\").get(\"bottom_regions\")[0][0]} ({format(report_results.get(\"With Valid DNSSEC (Public) %\").get(\"bottom_regions\")[0][1], \".2f\")}\\%), {report_results.get(\"With Valid DNSSEC (Public) %\").get(\"bottom_regions\")[1][0]} ({format(report_results.get(\"With Valid DNSSEC (Public) %\").get(\"bottom_regions\")[1][1], \".2f\")}\\%), and {report_results.get(\"With Valid DNSSEC (Public) %\").get(\"bottom_regions\")[2][0]} ({format(report_results.get(\"With Valid DNSSEC (Public) %\").get(\"bottom_regions\")[2][1], \".2f\")}\\%) have a lower usage of \\gls{{dnssec}}.\\n\\n'\n",
    "\n",
    "report += f'Finally, when it comes to invalid settings, private institutions in {report_results.get(\"With Invalid DNSSEC (Private) %\").get(\"top_regions\")[0][0]} ({format(report_results.get(\"With Invalid DNSSEC (Private) %\").get(\"top_regions\")[0][1], \".2f\")}\\%), {report_results.get(\"With Invalid DNSSEC (Private) %\").get(\"top_regions\")[1][0]} ({format(report_results.get(\"With Invalid DNSSEC (Private) %\").get(\"top_regions\")[1][1], \".2f\")}\\%), and {report_results.get(\"With Invalid DNSSEC (Private) %\").get(\"top_regions\")[2][0]} ({format(report_results.get(\"With Invalid DNSSEC (Private) %\").get(\"top_regions\")[2][1], \".2f\")}\\%), '\n",
    "report += f'and public institutions in {report_results.get(\"With Invalid DNSSEC (Public) %\").get(\"top_regions\")[0][0]} ({format(report_results.get(\"With Invalid DNSSEC (Public) %\").get(\"top_regions\")[0][1], \".2f\")}\\%), {report_results.get(\"With Invalid DNSSEC (Public) %\").get(\"top_regions\")[1][0]} ({format(report_results.get(\"With Invalid DNSSEC (Public) %\").get(\"top_regions\")[1][1], \".2f\")}\\%), and {report_results.get(\"With Invalid DNSSEC (Public) %\").get(\"top_regions\")[2][0]} ({format(report_results.get(\"With Invalid DNSSEC (Public) %\").get(\"top_regions\")[2][1], \".2f\")}\\%) have a higher usage of \\gls{{dnssec}} with invalid configurations.\\n\\n'\n",
    "\n",
    "print(report)\n",
    "# save report to file txt\n",
    "save_report(report=report, category=category, report_name=report_name)"
   ],
   "metadata": {
    "collapsed": false
   }
  },
  {
   "cell_type": "code",
   "execution_count": 4,
   "outputs": [],
   "source": [],
   "metadata": {
    "collapsed": false
   }
  }
 ],
 "metadata": {
  "kernelspec": {
   "display_name": "Python 3",
   "language": "python",
   "name": "python3"
  },
  "language_info": {
   "codemirror_mode": {
    "name": "ipython",
    "version": 2
   },
   "file_extension": ".py",
   "mimetype": "text/x-python",
   "name": "python",
   "nbconvert_exporter": "python",
   "pygments_lexer": "ipython2",
   "version": "2.7.6"
  }
 },
 "nbformat": 4,
 "nbformat_minor": 0
}
