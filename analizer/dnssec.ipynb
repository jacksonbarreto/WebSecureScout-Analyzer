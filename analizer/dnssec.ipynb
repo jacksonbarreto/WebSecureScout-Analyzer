{
 "cells": [
  {
   "cell_type": "code",
   "execution_count": 1,
   "metadata": {
    "collapsed": true
   },
   "outputs": [],
   "source": [
    "from utilities.utilities import load_data, get_records_by_region, create_column, finalize_dataframe, get_extreme_values, create_directory_structure, save_table, save_report, pd, assign_quartile\n",
    "# settings\n",
    "region_column_name = 'Region'\n",
    "table_name = 'dnssec_by_region'\n",
    "report_name = 'dnssec_by_region'\n",
    "category = 'dnssec'\n",
    "column_name_to_results_global = 'Global #'\n",
    "create_directory_structure()\n",
    "\n",
    "source_df = load_data('dnssec_checker')"
   ]
  },
  {
   "cell_type": "code",
   "execution_count": 2,
   "outputs": [],
   "source": [
    "# sanity dataset\n",
    "columns_names = ['has_dnssec', 'dnssec_is_valid']\n",
    "for column in columns_names:\n",
    "    source_df.loc[source_df[column].isna(), column] = False\n",
    "\n",
    "source_df.info()"
   ],
   "metadata": {
    "collapsed": false
   }
  },
  {
   "cell_type": "code",
   "execution_count": 3,
   "outputs": [
    {
     "data": {
      "text/plain": "       Region  Global #  Without DNSSEC (Public) #  Without DNSSEC (Public) %  \\\n0  California         2                          0                   0.000000   \n1     Florida         1                          0                   0.000000   \n2     Georgia         1                          0                   0.000000   \n3    Illinois         1                          0                   0.000000   \n4    Michigan         1                          0                   0.000000   \n5   Minnesota         1                          0                   0.000000   \n6    New York         1                          0                   0.000000   \n7       Texas         2                          0                   0.000000   \n8    Colorado         1                          1                 100.000000   \n9       Total        11                          1                   9.090909   \n\n   Without DNSSEC (Private) #  Without DNSSEC (Private) %  \\\n0                           2                  100.000000   \n1                           1                  100.000000   \n2                           1                  100.000000   \n3                           1                  100.000000   \n4                           1                  100.000000   \n5                           1                  100.000000   \n6                           1                  100.000000   \n7                           2                  100.000000   \n8                           0                    0.000000   \n9                          10                   90.909091   \n\n   With Valid DNSSEC (Public) #  With Valid DNSSEC (Public) %  \\\n0                             0                           0.0   \n1                             0                           0.0   \n2                             0                           0.0   \n3                             0                           0.0   \n4                             0                           0.0   \n5                             0                           0.0   \n6                             0                           0.0   \n7                             0                           0.0   \n8                             0                           0.0   \n9                             0                           0.0   \n\n   With Valid DNSSEC (Private) #  With Valid DNSSEC (Private) %  \\\n0                              0                            0.0   \n1                              0                            0.0   \n2                              0                            0.0   \n3                              0                            0.0   \n4                              0                            0.0   \n5                              0                            0.0   \n6                              0                            0.0   \n7                              0                            0.0   \n8                              0                            0.0   \n9                              0                            0.0   \n\n   With Invalid DNSSEC (Public) #  With Invalid DNSSEC (Public) %  \\\n0                               0                             0.0   \n1                               0                             0.0   \n2                               0                             0.0   \n3                               0                             0.0   \n4                               0                             0.0   \n5                               0                             0.0   \n6                               0                             0.0   \n7                               0                             0.0   \n8                               0                             0.0   \n9                               0                             0.0   \n\n   With Invalid DNSSEC (Private) #  With Invalid DNSSEC (Private) %  \n0                                0                              0.0  \n1                                0                              0.0  \n2                                0                              0.0  \n3                                0                              0.0  \n4                                0                              0.0  \n5                                0                              0.0  \n6                                0                              0.0  \n7                                0                              0.0  \n8                                0                              0.0  \n9                                0                              0.0  ",
      "text/html": "<div>\n<style scoped>\n    .dataframe tbody tr th:only-of-type {\n        vertical-align: middle;\n    }\n\n    .dataframe tbody tr th {\n        vertical-align: top;\n    }\n\n    .dataframe thead th {\n        text-align: right;\n    }\n</style>\n<table border=\"1\" class=\"dataframe\">\n  <thead>\n    <tr style=\"text-align: right;\">\n      <th></th>\n      <th>Region</th>\n      <th>Global #</th>\n      <th>Without DNSSEC (Public) #</th>\n      <th>Without DNSSEC (Public) %</th>\n      <th>Without DNSSEC (Private) #</th>\n      <th>Without DNSSEC (Private) %</th>\n      <th>With Valid DNSSEC (Public) #</th>\n      <th>With Valid DNSSEC (Public) %</th>\n      <th>With Valid DNSSEC (Private) #</th>\n      <th>With Valid DNSSEC (Private) %</th>\n      <th>With Invalid DNSSEC (Public) #</th>\n      <th>With Invalid DNSSEC (Public) %</th>\n      <th>With Invalid DNSSEC (Private) #</th>\n      <th>With Invalid DNSSEC (Private) %</th>\n    </tr>\n  </thead>\n  <tbody>\n    <tr>\n      <th>0</th>\n      <td>California</td>\n      <td>2</td>\n      <td>0</td>\n      <td>0.000000</td>\n      <td>2</td>\n      <td>100.000000</td>\n      <td>0</td>\n      <td>0.0</td>\n      <td>0</td>\n      <td>0.0</td>\n      <td>0</td>\n      <td>0.0</td>\n      <td>0</td>\n      <td>0.0</td>\n    </tr>\n    <tr>\n      <th>1</th>\n      <td>Florida</td>\n      <td>1</td>\n      <td>0</td>\n      <td>0.000000</td>\n      <td>1</td>\n      <td>100.000000</td>\n      <td>0</td>\n      <td>0.0</td>\n      <td>0</td>\n      <td>0.0</td>\n      <td>0</td>\n      <td>0.0</td>\n      <td>0</td>\n      <td>0.0</td>\n    </tr>\n    <tr>\n      <th>2</th>\n      <td>Georgia</td>\n      <td>1</td>\n      <td>0</td>\n      <td>0.000000</td>\n      <td>1</td>\n      <td>100.000000</td>\n      <td>0</td>\n      <td>0.0</td>\n      <td>0</td>\n      <td>0.0</td>\n      <td>0</td>\n      <td>0.0</td>\n      <td>0</td>\n      <td>0.0</td>\n    </tr>\n    <tr>\n      <th>3</th>\n      <td>Illinois</td>\n      <td>1</td>\n      <td>0</td>\n      <td>0.000000</td>\n      <td>1</td>\n      <td>100.000000</td>\n      <td>0</td>\n      <td>0.0</td>\n      <td>0</td>\n      <td>0.0</td>\n      <td>0</td>\n      <td>0.0</td>\n      <td>0</td>\n      <td>0.0</td>\n    </tr>\n    <tr>\n      <th>4</th>\n      <td>Michigan</td>\n      <td>1</td>\n      <td>0</td>\n      <td>0.000000</td>\n      <td>1</td>\n      <td>100.000000</td>\n      <td>0</td>\n      <td>0.0</td>\n      <td>0</td>\n      <td>0.0</td>\n      <td>0</td>\n      <td>0.0</td>\n      <td>0</td>\n      <td>0.0</td>\n    </tr>\n    <tr>\n      <th>5</th>\n      <td>Minnesota</td>\n      <td>1</td>\n      <td>0</td>\n      <td>0.000000</td>\n      <td>1</td>\n      <td>100.000000</td>\n      <td>0</td>\n      <td>0.0</td>\n      <td>0</td>\n      <td>0.0</td>\n      <td>0</td>\n      <td>0.0</td>\n      <td>0</td>\n      <td>0.0</td>\n    </tr>\n    <tr>\n      <th>6</th>\n      <td>New York</td>\n      <td>1</td>\n      <td>0</td>\n      <td>0.000000</td>\n      <td>1</td>\n      <td>100.000000</td>\n      <td>0</td>\n      <td>0.0</td>\n      <td>0</td>\n      <td>0.0</td>\n      <td>0</td>\n      <td>0.0</td>\n      <td>0</td>\n      <td>0.0</td>\n    </tr>\n    <tr>\n      <th>7</th>\n      <td>Texas</td>\n      <td>2</td>\n      <td>0</td>\n      <td>0.000000</td>\n      <td>2</td>\n      <td>100.000000</td>\n      <td>0</td>\n      <td>0.0</td>\n      <td>0</td>\n      <td>0.0</td>\n      <td>0</td>\n      <td>0.0</td>\n      <td>0</td>\n      <td>0.0</td>\n    </tr>\n    <tr>\n      <th>8</th>\n      <td>Colorado</td>\n      <td>1</td>\n      <td>1</td>\n      <td>100.000000</td>\n      <td>0</td>\n      <td>0.000000</td>\n      <td>0</td>\n      <td>0.0</td>\n      <td>0</td>\n      <td>0.0</td>\n      <td>0</td>\n      <td>0.0</td>\n      <td>0</td>\n      <td>0.0</td>\n    </tr>\n    <tr>\n      <th>9</th>\n      <td>Total</td>\n      <td>11</td>\n      <td>1</td>\n      <td>9.090909</td>\n      <td>10</td>\n      <td>90.909091</td>\n      <td>0</td>\n      <td>0.0</td>\n      <td>0</td>\n      <td>0.0</td>\n      <td>0</td>\n      <td>0.0</td>\n      <td>0</td>\n      <td>0.0</td>\n    </tr>\n  </tbody>\n</table>\n</div>"
     },
     "metadata": {},
     "output_type": "display_data"
    }
   ],
   "source": [
    "# Analyze of HEIs with DNSSEC enabled by region (Pub/Pvt)\n",
    "\n",
    "\n",
    "# settings\n",
    "column_to_sort = 'Without DNSSEC %'\n",
    "sort_ascending = True\n",
    "config = [\n",
    "    {'table_name': 'dnssec_by_region_public', 'hei_type': 'Public'},\n",
    "    {'table_name': 'dnssec_by_region_private', 'hei_type': 'Private'}\n",
    "]\n",
    "dfs = []\n",
    "for config_item in config:\n",
    "    table_name = config_item['table_name']\n",
    "    hei_type = config_item['hei_type']\n",
    "    columns_to_display = [region_column_name.title(), column_name_to_results_global]\n",
    "    analysis_df = get_records_by_region(source_df, hei_type=hei_type)\n",
    "    # create columns\n",
    "    # Column creation with distribution of records without DNSSEC by region\n",
    "    create_column(source_df=source_df, analysis_dataframe=analysis_df, column_name='Without DNSSEC', criteria=f'has_dnssec == False & category == \"{hei_type}\"', columns_to_display=columns_to_display)\n",
    "    # Column creation with distribution of records with invalid dnssec by region\n",
    "    criteria = 'has_dnssec == True & dnssec_is_valid == False'\n",
    "    create_column(source_df=source_df, analysis_dataframe=analysis_df, column_name='With Invalid DNSSEC', criteria=f'{criteria} & category == \"{hei_type}\"', columns_to_display=columns_to_display)\n",
    "    # Column creation with distribution of records with valid dnssec by region\n",
    "    criteria = 'has_dnssec == True & dnssec_is_valid == True'\n",
    "    create_column(source_df=source_df, analysis_dataframe=analysis_df, column_name='With Valid DNSSEC', criteria=f'{criteria} & category == \"{hei_type}\"', columns_to_display=columns_to_display)\n",
    "    # Finalize dataframe\n",
    "    analysis_df = finalize_dataframe(dataframe=analysis_df, column_to_sort=column_to_sort, ascending=sort_ascending, columns_to_display=columns_to_display)\n",
    "    display(analysis_df)\n",
    "    dfs.append(analysis_df)\n",
    "    # save to csv\n",
    "    save_table(analysis_df, category=category, table_name=table_name)\n",
    "\n",
    "df_public = dfs[0].add_suffix('(pub)')\n",
    "df_private = dfs[1].add_suffix('(pvt)')\n",
    "df_public = df_public.rename(columns={'Region(pub)': 'Region'})\n",
    "df_private = df_private.rename(columns={'Region(pvt)': 'Region'})\n",
    "df_combined = df_public.merge(df_private, on='Region', how='outer')\n",
    "df_combined.fillna(0, inplace=True)\n",
    "# remove columns with # in the name\n",
    "df_combined = df_combined.loc[:, ~df_combined.columns.str.contains('#')]\n",
    "#remove columns global\n",
    "df_combined = df_combined.loc[:, ~df_combined.columns.str.contains('Global')]\n",
    "# remove '%' from name of columns\n",
    "df_combined.columns = df_combined.columns.str.replace('%', '')\n",
    "\n",
    "ranks_columns = ['Rank']\n",
    "#add column with sum of best columns\n",
    "df_combined[ranks_columns[0]] = df_combined['With Valid DNSSEC (pub)'] + df_combined['With Valid DNSSEC (pvt)']\n",
    "\n",
    "\n",
    "#order dataframe by column Rank (from highest to lowest)\n",
    "df_combined = df_combined.sort_values(by=ranks_columns, ascending=False)\n",
    "# move just row with 'Total' in column Region to the end of the dataframe. (Use pandas.concat instead of append to avoid duplicates)\n",
    "df_combined = pd.concat([df_combined[df_combined['Region'] != 'Total'], df_combined[df_combined['Region'] == 'Total']])\n",
    "# reset index\n",
    "df_combined.reset_index(drop=True, inplace=True)\n",
    "# remove column Rank\n",
    "df_combined.drop(columns=ranks_columns, inplace=True)\n",
    "#Add a column with the quartile corresponding to the position of the row, that is, considering the total of records -1 (to exclude the total row), if a row is in position 2 it should belong to the first quartile.\n",
    "df_combined['Quartile'] = df_combined.index.map(lambda rank: assign_quartile(rank, len(df_combined)-1))\n",
    "# moved column 'Quartile' to the second position\n",
    "cols = list(df_combined.columns)\n",
    "cols = [cols[0]] + [cols[-1]] + cols[1:-1]\n",
    "df_combined = df_combined[cols]\n",
    "\n",
    "\n",
    "save_table(df_combined, category=category, table_name='dnssec_by_region_combined')\n",
    "\n"
   ],
   "metadata": {
    "collapsed": false
   }
  }
 ],
 "metadata": {
  "kernelspec": {
   "display_name": "Python 3",
   "language": "python",
   "name": "python3"
  },
  "language_info": {
   "codemirror_mode": {
    "name": "ipython",
    "version": 2
   },
   "file_extension": ".py",
   "mimetype": "text/x-python",
   "name": "python",
   "nbconvert_exporter": "python",
   "pygments_lexer": "ipython2",
   "version": "2.7.6"
  }
 },
 "nbformat": 4,
 "nbformat_minor": 0
}
