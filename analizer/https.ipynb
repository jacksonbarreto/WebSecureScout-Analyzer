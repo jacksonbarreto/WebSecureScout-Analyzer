{
 "cells": [
  {
   "cell_type": "code",
   "execution_count": 1,
   "metadata": {
    "collapsed": true,
    "ExecuteTime": {
     "end_time": "2023-08-09T08:21:51.186914500Z",
     "start_time": "2023-08-09T08:21:50.422037700Z"
    }
   },
   "outputs": [],
   "source": [
    "from utilities.utilities import load_data, get_records_by_region, create_column, finalize_dataframe, get_extreme_values, create_directory_structure, save_table, save_report, pd, assign_quartile, calculate_rank\n",
    "# settings\n",
    "region_column_name = 'Region'\n",
    "table_name = 'https_by_region'\n",
    "report_name = 'https_by_region'\n",
    "category = 'https'\n",
    "column_name_to_results_global = 'Global #'\n",
    "create_directory_structure()\n",
    "\n",
    "source_df = load_data('https_checker')"
   ]
  },
  {
   "cell_type": "code",
   "execution_count": 2,
   "outputs": [
    {
     "name": "stdout",
     "output_type": "stream",
     "text": [
      "<class 'pandas.core.frame.DataFrame'>\n",
      "RangeIndex: 458 entries, 0 to 457\n",
      "Data columns (total 10 columns):\n",
      " #   Column                         Non-Null Count  Dtype \n",
      "---  ------                         --------------  ----- \n",
      " 0   id                             458 non-null    int64 \n",
      " 1   region                         458 non-null    object\n",
      " 2   name                           458 non-null    object\n",
      " 3   category                       458 non-null    object\n",
      " 4   url                            458 non-null    object\n",
      " 5   has_http                       458 non-null    bool  \n",
      " 6   has_https                      458 non-null    bool  \n",
      " 7   forced_redirect_to_https       458 non-null    bool  \n",
      " 8   https_redirect_to_same_domain  458 non-null    bool  \n",
      " 9   only_https                     458 non-null    bool  \n",
      "dtypes: bool(5), int64(1), object(4)\n",
      "memory usage: 20.3+ KB\n"
     ]
    }
   ],
   "source": [
    "source_df.info()"
   ],
   "metadata": {
    "collapsed": false,
    "ExecuteTime": {
     "end_time": "2023-08-09T08:21:51.260914200Z",
     "start_time": "2023-08-09T08:21:51.187917600Z"
    }
   }
  },
  {
   "cell_type": "code",
   "execution_count": 3,
   "outputs": [],
   "source": [
    "# sanity dataset\n",
    "columns_names = ['has_http', 'has_https', 'forced_redirect_to_https', 'https_redirect_to_same_domain', 'only_https']\n",
    "for column in columns_names:\n",
    "    source_df.loc[source_df[column].isna(), column] = False"
   ],
   "metadata": {
    "collapsed": false,
    "ExecuteTime": {
     "end_time": "2023-08-09T08:21:51.262911400Z",
     "start_time": "2023-08-09T08:21:51.222914500Z"
    }
   }
  },
  {
   "cell_type": "code",
   "execution_count": 4,
   "outputs": [
    {
     "data": {
      "text/plain": "                    Region  Global #  Invalid #  Invalid %  HTTP Only #  \\\n0        Baden-Württemberg        48          0        0.0            0   \n1                   Bayern        34          0        0.0            0   \n2                   Berlin        12          0        0.0            0   \n3              Brandenburg        10          0        0.0            0   \n4                   Bremen         5          0        0.0            0   \n5                  Hamburg        10          0        0.0            0   \n6                   Hessen        22          0        0.0            0   \n7      Nordrhein-Westfalen        42          0        0.0            0   \n8          Rheinland-Pfalz        15          0        0.0            0   \n9                 Saarland         5          0        0.0            0   \n10                 Sachsen        23          0        0.0            0   \n11          Sachsen-Anhalt         8          0        0.0            0   \n12      Schleswig-Holstein        10          0        0.0            0   \n13               Thüringen        11          0        0.0            0   \n14           Niedersachsen        21          0        0.0            1   \n15  Mecklenburg-Vorpommern         7          0        0.0            1   \n16                   Total       283          0        0.0            2   \n\n    HTTP Only %  HTTP and HTTPS #  HTTP and HTTPS %  \\\n0      0.000000                 2          4.166667   \n1      0.000000                 0          0.000000   \n2      0.000000                 0          0.000000   \n3      0.000000                 0          0.000000   \n4      0.000000                 0          0.000000   \n5      0.000000                 0          0.000000   \n6      0.000000                 1          4.545455   \n7      0.000000                 0          0.000000   \n8      0.000000                 0          0.000000   \n9      0.000000                 0          0.000000   \n10     0.000000                 0          0.000000   \n11     0.000000                 0          0.000000   \n12     0.000000                 0          0.000000   \n13     0.000000                 0          0.000000   \n14     4.761905                 1          4.761905   \n15    14.285714                 0          0.000000   \n16     0.706714                 4          1.413428   \n\n    HTTP to HTTPS (Same Domain) #  HTTP to HTTPS (Same Domain) %  \\\n0                              45                      93.750000   \n1                              34                     100.000000   \n2                              12                     100.000000   \n3                              10                     100.000000   \n4                               4                      80.000000   \n5                               9                      90.000000   \n6                              21                      95.454545   \n7                              40                      95.238095   \n8                              15                     100.000000   \n9                               5                     100.000000   \n10                             21                      91.304348   \n11                              8                     100.000000   \n12                             10                     100.000000   \n13                             10                      90.909091   \n14                             19                      90.476190   \n15                              6                      85.714286   \n16                            269                      95.053004   \n\n    HTTP to HTTPS (Other Domain) #  HTTP to HTTPS (Other Domain) %  \\\n0                                0                        0.000000   \n1                                0                        0.000000   \n2                                0                        0.000000   \n3                                0                        0.000000   \n4                                1                       20.000000   \n5                                0                        0.000000   \n6                                0                        0.000000   \n7                                2                        4.761905   \n8                                0                        0.000000   \n9                                0                        0.000000   \n10                               1                        4.347826   \n11                               0                        0.000000   \n12                               0                        0.000000   \n13                               0                        0.000000   \n14                               0                        0.000000   \n15                               0                        0.000000   \n16                               4                        1.413428   \n\n    HTTPS Only #  HTTPS Only %  \n0              1      2.083333  \n1              0      0.000000  \n2              0      0.000000  \n3              0      0.000000  \n4              0      0.000000  \n5              1     10.000000  \n6              0      0.000000  \n7              0      0.000000  \n8              0      0.000000  \n9              0      0.000000  \n10             1      4.347826  \n11             0      0.000000  \n12             0      0.000000  \n13             1      9.090909  \n14             0      0.000000  \n15             0      0.000000  \n16             4      1.413428  ",
      "text/html": "<div>\n<style scoped>\n    .dataframe tbody tr th:only-of-type {\n        vertical-align: middle;\n    }\n\n    .dataframe tbody tr th {\n        vertical-align: top;\n    }\n\n    .dataframe thead th {\n        text-align: right;\n    }\n</style>\n<table border=\"1\" class=\"dataframe\">\n  <thead>\n    <tr style=\"text-align: right;\">\n      <th></th>\n      <th>Region</th>\n      <th>Global #</th>\n      <th>Invalid #</th>\n      <th>Invalid %</th>\n      <th>HTTP Only #</th>\n      <th>HTTP Only %</th>\n      <th>HTTP and HTTPS #</th>\n      <th>HTTP and HTTPS %</th>\n      <th>HTTP to HTTPS (Same Domain) #</th>\n      <th>HTTP to HTTPS (Same Domain) %</th>\n      <th>HTTP to HTTPS (Other Domain) #</th>\n      <th>HTTP to HTTPS (Other Domain) %</th>\n      <th>HTTPS Only #</th>\n      <th>HTTPS Only %</th>\n    </tr>\n  </thead>\n  <tbody>\n    <tr>\n      <th>0</th>\n      <td>Baden-Württemberg</td>\n      <td>48</td>\n      <td>0</td>\n      <td>0.0</td>\n      <td>0</td>\n      <td>0.000000</td>\n      <td>2</td>\n      <td>4.166667</td>\n      <td>45</td>\n      <td>93.750000</td>\n      <td>0</td>\n      <td>0.000000</td>\n      <td>1</td>\n      <td>2.083333</td>\n    </tr>\n    <tr>\n      <th>1</th>\n      <td>Bayern</td>\n      <td>34</td>\n      <td>0</td>\n      <td>0.0</td>\n      <td>0</td>\n      <td>0.000000</td>\n      <td>0</td>\n      <td>0.000000</td>\n      <td>34</td>\n      <td>100.000000</td>\n      <td>0</td>\n      <td>0.000000</td>\n      <td>0</td>\n      <td>0.000000</td>\n    </tr>\n    <tr>\n      <th>2</th>\n      <td>Berlin</td>\n      <td>12</td>\n      <td>0</td>\n      <td>0.0</td>\n      <td>0</td>\n      <td>0.000000</td>\n      <td>0</td>\n      <td>0.000000</td>\n      <td>12</td>\n      <td>100.000000</td>\n      <td>0</td>\n      <td>0.000000</td>\n      <td>0</td>\n      <td>0.000000</td>\n    </tr>\n    <tr>\n      <th>3</th>\n      <td>Brandenburg</td>\n      <td>10</td>\n      <td>0</td>\n      <td>0.0</td>\n      <td>0</td>\n      <td>0.000000</td>\n      <td>0</td>\n      <td>0.000000</td>\n      <td>10</td>\n      <td>100.000000</td>\n      <td>0</td>\n      <td>0.000000</td>\n      <td>0</td>\n      <td>0.000000</td>\n    </tr>\n    <tr>\n      <th>4</th>\n      <td>Bremen</td>\n      <td>5</td>\n      <td>0</td>\n      <td>0.0</td>\n      <td>0</td>\n      <td>0.000000</td>\n      <td>0</td>\n      <td>0.000000</td>\n      <td>4</td>\n      <td>80.000000</td>\n      <td>1</td>\n      <td>20.000000</td>\n      <td>0</td>\n      <td>0.000000</td>\n    </tr>\n    <tr>\n      <th>5</th>\n      <td>Hamburg</td>\n      <td>10</td>\n      <td>0</td>\n      <td>0.0</td>\n      <td>0</td>\n      <td>0.000000</td>\n      <td>0</td>\n      <td>0.000000</td>\n      <td>9</td>\n      <td>90.000000</td>\n      <td>0</td>\n      <td>0.000000</td>\n      <td>1</td>\n      <td>10.000000</td>\n    </tr>\n    <tr>\n      <th>6</th>\n      <td>Hessen</td>\n      <td>22</td>\n      <td>0</td>\n      <td>0.0</td>\n      <td>0</td>\n      <td>0.000000</td>\n      <td>1</td>\n      <td>4.545455</td>\n      <td>21</td>\n      <td>95.454545</td>\n      <td>0</td>\n      <td>0.000000</td>\n      <td>0</td>\n      <td>0.000000</td>\n    </tr>\n    <tr>\n      <th>7</th>\n      <td>Nordrhein-Westfalen</td>\n      <td>42</td>\n      <td>0</td>\n      <td>0.0</td>\n      <td>0</td>\n      <td>0.000000</td>\n      <td>0</td>\n      <td>0.000000</td>\n      <td>40</td>\n      <td>95.238095</td>\n      <td>2</td>\n      <td>4.761905</td>\n      <td>0</td>\n      <td>0.000000</td>\n    </tr>\n    <tr>\n      <th>8</th>\n      <td>Rheinland-Pfalz</td>\n      <td>15</td>\n      <td>0</td>\n      <td>0.0</td>\n      <td>0</td>\n      <td>0.000000</td>\n      <td>0</td>\n      <td>0.000000</td>\n      <td>15</td>\n      <td>100.000000</td>\n      <td>0</td>\n      <td>0.000000</td>\n      <td>0</td>\n      <td>0.000000</td>\n    </tr>\n    <tr>\n      <th>9</th>\n      <td>Saarland</td>\n      <td>5</td>\n      <td>0</td>\n      <td>0.0</td>\n      <td>0</td>\n      <td>0.000000</td>\n      <td>0</td>\n      <td>0.000000</td>\n      <td>5</td>\n      <td>100.000000</td>\n      <td>0</td>\n      <td>0.000000</td>\n      <td>0</td>\n      <td>0.000000</td>\n    </tr>\n    <tr>\n      <th>10</th>\n      <td>Sachsen</td>\n      <td>23</td>\n      <td>0</td>\n      <td>0.0</td>\n      <td>0</td>\n      <td>0.000000</td>\n      <td>0</td>\n      <td>0.000000</td>\n      <td>21</td>\n      <td>91.304348</td>\n      <td>1</td>\n      <td>4.347826</td>\n      <td>1</td>\n      <td>4.347826</td>\n    </tr>\n    <tr>\n      <th>11</th>\n      <td>Sachsen-Anhalt</td>\n      <td>8</td>\n      <td>0</td>\n      <td>0.0</td>\n      <td>0</td>\n      <td>0.000000</td>\n      <td>0</td>\n      <td>0.000000</td>\n      <td>8</td>\n      <td>100.000000</td>\n      <td>0</td>\n      <td>0.000000</td>\n      <td>0</td>\n      <td>0.000000</td>\n    </tr>\n    <tr>\n      <th>12</th>\n      <td>Schleswig-Holstein</td>\n      <td>10</td>\n      <td>0</td>\n      <td>0.0</td>\n      <td>0</td>\n      <td>0.000000</td>\n      <td>0</td>\n      <td>0.000000</td>\n      <td>10</td>\n      <td>100.000000</td>\n      <td>0</td>\n      <td>0.000000</td>\n      <td>0</td>\n      <td>0.000000</td>\n    </tr>\n    <tr>\n      <th>13</th>\n      <td>Thüringen</td>\n      <td>11</td>\n      <td>0</td>\n      <td>0.0</td>\n      <td>0</td>\n      <td>0.000000</td>\n      <td>0</td>\n      <td>0.000000</td>\n      <td>10</td>\n      <td>90.909091</td>\n      <td>0</td>\n      <td>0.000000</td>\n      <td>1</td>\n      <td>9.090909</td>\n    </tr>\n    <tr>\n      <th>14</th>\n      <td>Niedersachsen</td>\n      <td>21</td>\n      <td>0</td>\n      <td>0.0</td>\n      <td>1</td>\n      <td>4.761905</td>\n      <td>1</td>\n      <td>4.761905</td>\n      <td>19</td>\n      <td>90.476190</td>\n      <td>0</td>\n      <td>0.000000</td>\n      <td>0</td>\n      <td>0.000000</td>\n    </tr>\n    <tr>\n      <th>15</th>\n      <td>Mecklenburg-Vorpommern</td>\n      <td>7</td>\n      <td>0</td>\n      <td>0.0</td>\n      <td>1</td>\n      <td>14.285714</td>\n      <td>0</td>\n      <td>0.000000</td>\n      <td>6</td>\n      <td>85.714286</td>\n      <td>0</td>\n      <td>0.000000</td>\n      <td>0</td>\n      <td>0.000000</td>\n    </tr>\n    <tr>\n      <th>16</th>\n      <td>Total</td>\n      <td>283</td>\n      <td>0</td>\n      <td>0.0</td>\n      <td>2</td>\n      <td>0.706714</td>\n      <td>4</td>\n      <td>1.413428</td>\n      <td>269</td>\n      <td>95.053004</td>\n      <td>4</td>\n      <td>1.413428</td>\n      <td>4</td>\n      <td>1.413428</td>\n    </tr>\n  </tbody>\n</table>\n</div>"
     },
     "metadata": {},
     "output_type": "display_data"
    },
    {
     "data": {
      "text/plain": "                 Region  Global #  Invalid #  Invalid %  HTTP Only #  \\\n0     Baden-Württemberg        24          0        0.0            0   \n1                Bayern        12          0        0.0            0   \n2                Berlin        28          0        0.0            0   \n3           Brandenburg         9          0        0.0            0   \n4                Bremen         2          0        0.0            0   \n5               Hamburg        11          0        0.0            0   \n6                Hessen        23          0        0.0            0   \n7         Niedersachsen        16          0        0.0            0   \n8   Nordrhein-Westfalen        25          0        0.0            0   \n9       Rheinland-Pfalz         6          0        0.0            0   \n10             Saarland         5          0        0.0            0   \n11              Sachsen         7          0        0.0            0   \n12       Sachsen-Anhalt         2          0        0.0            0   \n13   Schleswig-Holstein         3          0        0.0            0   \n14            Thüringen         2          0        0.0            0   \n15                Total       175          0        0.0            0   \n\n    HTTP Only %  HTTP and HTTPS #  HTTP and HTTPS %  \\\n0           0.0                 1          4.166667   \n1           0.0                 0          0.000000   \n2           0.0                 2          7.142857   \n3           0.0                 1         11.111111   \n4           0.0                 0          0.000000   \n5           0.0                 1          9.090909   \n6           0.0                 0          0.000000   \n7           0.0                 1          6.250000   \n8           0.0                 1          4.000000   \n9           0.0                 1         16.666667   \n10          0.0                 0          0.000000   \n11          0.0                 0          0.000000   \n12          0.0                 0          0.000000   \n13          0.0                 0          0.000000   \n14          0.0                 0          0.000000   \n15          0.0                 8          4.571429   \n\n    HTTP to HTTPS (Same Domain) #  HTTP to HTTPS (Same Domain) %  \\\n0                              23                      95.833333   \n1                              12                     100.000000   \n2                              26                      92.857143   \n3                               8                      88.888889   \n4                               2                     100.000000   \n5                               9                      81.818182   \n6                              21                      91.304348   \n7                              14                      87.500000   \n8                              24                      96.000000   \n9                               3                      50.000000   \n10                              5                     100.000000   \n11                              6                      85.714286   \n12                              2                     100.000000   \n13                              3                     100.000000   \n14                              2                     100.000000   \n15                            160                      91.428571   \n\n    HTTP to HTTPS (Other Domain) #  HTTP to HTTPS (Other Domain) %  \\\n0                                0                        0.000000   \n1                                0                        0.000000   \n2                                0                        0.000000   \n3                                0                        0.000000   \n4                                0                        0.000000   \n5                                1                        9.090909   \n6                                2                        8.695652   \n7                                1                        6.250000   \n8                                0                        0.000000   \n9                                2                       33.333333   \n10                               0                        0.000000   \n11                               1                       14.285714   \n12                               0                        0.000000   \n13                               0                        0.000000   \n14                               0                        0.000000   \n15                               7                        4.000000   \n\n    HTTPS Only #  HTTPS Only %  \n0              0           0.0  \n1              0           0.0  \n2              0           0.0  \n3              0           0.0  \n4              0           0.0  \n5              0           0.0  \n6              0           0.0  \n7              0           0.0  \n8              0           0.0  \n9              0           0.0  \n10             0           0.0  \n11             0           0.0  \n12             0           0.0  \n13             0           0.0  \n14             0           0.0  \n15             0           0.0  ",
      "text/html": "<div>\n<style scoped>\n    .dataframe tbody tr th:only-of-type {\n        vertical-align: middle;\n    }\n\n    .dataframe tbody tr th {\n        vertical-align: top;\n    }\n\n    .dataframe thead th {\n        text-align: right;\n    }\n</style>\n<table border=\"1\" class=\"dataframe\">\n  <thead>\n    <tr style=\"text-align: right;\">\n      <th></th>\n      <th>Region</th>\n      <th>Global #</th>\n      <th>Invalid #</th>\n      <th>Invalid %</th>\n      <th>HTTP Only #</th>\n      <th>HTTP Only %</th>\n      <th>HTTP and HTTPS #</th>\n      <th>HTTP and HTTPS %</th>\n      <th>HTTP to HTTPS (Same Domain) #</th>\n      <th>HTTP to HTTPS (Same Domain) %</th>\n      <th>HTTP to HTTPS (Other Domain) #</th>\n      <th>HTTP to HTTPS (Other Domain) %</th>\n      <th>HTTPS Only #</th>\n      <th>HTTPS Only %</th>\n    </tr>\n  </thead>\n  <tbody>\n    <tr>\n      <th>0</th>\n      <td>Baden-Württemberg</td>\n      <td>24</td>\n      <td>0</td>\n      <td>0.0</td>\n      <td>0</td>\n      <td>0.0</td>\n      <td>1</td>\n      <td>4.166667</td>\n      <td>23</td>\n      <td>95.833333</td>\n      <td>0</td>\n      <td>0.000000</td>\n      <td>0</td>\n      <td>0.0</td>\n    </tr>\n    <tr>\n      <th>1</th>\n      <td>Bayern</td>\n      <td>12</td>\n      <td>0</td>\n      <td>0.0</td>\n      <td>0</td>\n      <td>0.0</td>\n      <td>0</td>\n      <td>0.000000</td>\n      <td>12</td>\n      <td>100.000000</td>\n      <td>0</td>\n      <td>0.000000</td>\n      <td>0</td>\n      <td>0.0</td>\n    </tr>\n    <tr>\n      <th>2</th>\n      <td>Berlin</td>\n      <td>28</td>\n      <td>0</td>\n      <td>0.0</td>\n      <td>0</td>\n      <td>0.0</td>\n      <td>2</td>\n      <td>7.142857</td>\n      <td>26</td>\n      <td>92.857143</td>\n      <td>0</td>\n      <td>0.000000</td>\n      <td>0</td>\n      <td>0.0</td>\n    </tr>\n    <tr>\n      <th>3</th>\n      <td>Brandenburg</td>\n      <td>9</td>\n      <td>0</td>\n      <td>0.0</td>\n      <td>0</td>\n      <td>0.0</td>\n      <td>1</td>\n      <td>11.111111</td>\n      <td>8</td>\n      <td>88.888889</td>\n      <td>0</td>\n      <td>0.000000</td>\n      <td>0</td>\n      <td>0.0</td>\n    </tr>\n    <tr>\n      <th>4</th>\n      <td>Bremen</td>\n      <td>2</td>\n      <td>0</td>\n      <td>0.0</td>\n      <td>0</td>\n      <td>0.0</td>\n      <td>0</td>\n      <td>0.000000</td>\n      <td>2</td>\n      <td>100.000000</td>\n      <td>0</td>\n      <td>0.000000</td>\n      <td>0</td>\n      <td>0.0</td>\n    </tr>\n    <tr>\n      <th>5</th>\n      <td>Hamburg</td>\n      <td>11</td>\n      <td>0</td>\n      <td>0.0</td>\n      <td>0</td>\n      <td>0.0</td>\n      <td>1</td>\n      <td>9.090909</td>\n      <td>9</td>\n      <td>81.818182</td>\n      <td>1</td>\n      <td>9.090909</td>\n      <td>0</td>\n      <td>0.0</td>\n    </tr>\n    <tr>\n      <th>6</th>\n      <td>Hessen</td>\n      <td>23</td>\n      <td>0</td>\n      <td>0.0</td>\n      <td>0</td>\n      <td>0.0</td>\n      <td>0</td>\n      <td>0.000000</td>\n      <td>21</td>\n      <td>91.304348</td>\n      <td>2</td>\n      <td>8.695652</td>\n      <td>0</td>\n      <td>0.0</td>\n    </tr>\n    <tr>\n      <th>7</th>\n      <td>Niedersachsen</td>\n      <td>16</td>\n      <td>0</td>\n      <td>0.0</td>\n      <td>0</td>\n      <td>0.0</td>\n      <td>1</td>\n      <td>6.250000</td>\n      <td>14</td>\n      <td>87.500000</td>\n      <td>1</td>\n      <td>6.250000</td>\n      <td>0</td>\n      <td>0.0</td>\n    </tr>\n    <tr>\n      <th>8</th>\n      <td>Nordrhein-Westfalen</td>\n      <td>25</td>\n      <td>0</td>\n      <td>0.0</td>\n      <td>0</td>\n      <td>0.0</td>\n      <td>1</td>\n      <td>4.000000</td>\n      <td>24</td>\n      <td>96.000000</td>\n      <td>0</td>\n      <td>0.000000</td>\n      <td>0</td>\n      <td>0.0</td>\n    </tr>\n    <tr>\n      <th>9</th>\n      <td>Rheinland-Pfalz</td>\n      <td>6</td>\n      <td>0</td>\n      <td>0.0</td>\n      <td>0</td>\n      <td>0.0</td>\n      <td>1</td>\n      <td>16.666667</td>\n      <td>3</td>\n      <td>50.000000</td>\n      <td>2</td>\n      <td>33.333333</td>\n      <td>0</td>\n      <td>0.0</td>\n    </tr>\n    <tr>\n      <th>10</th>\n      <td>Saarland</td>\n      <td>5</td>\n      <td>0</td>\n      <td>0.0</td>\n      <td>0</td>\n      <td>0.0</td>\n      <td>0</td>\n      <td>0.000000</td>\n      <td>5</td>\n      <td>100.000000</td>\n      <td>0</td>\n      <td>0.000000</td>\n      <td>0</td>\n      <td>0.0</td>\n    </tr>\n    <tr>\n      <th>11</th>\n      <td>Sachsen</td>\n      <td>7</td>\n      <td>0</td>\n      <td>0.0</td>\n      <td>0</td>\n      <td>0.0</td>\n      <td>0</td>\n      <td>0.000000</td>\n      <td>6</td>\n      <td>85.714286</td>\n      <td>1</td>\n      <td>14.285714</td>\n      <td>0</td>\n      <td>0.0</td>\n    </tr>\n    <tr>\n      <th>12</th>\n      <td>Sachsen-Anhalt</td>\n      <td>2</td>\n      <td>0</td>\n      <td>0.0</td>\n      <td>0</td>\n      <td>0.0</td>\n      <td>0</td>\n      <td>0.000000</td>\n      <td>2</td>\n      <td>100.000000</td>\n      <td>0</td>\n      <td>0.000000</td>\n      <td>0</td>\n      <td>0.0</td>\n    </tr>\n    <tr>\n      <th>13</th>\n      <td>Schleswig-Holstein</td>\n      <td>3</td>\n      <td>0</td>\n      <td>0.0</td>\n      <td>0</td>\n      <td>0.0</td>\n      <td>0</td>\n      <td>0.000000</td>\n      <td>3</td>\n      <td>100.000000</td>\n      <td>0</td>\n      <td>0.000000</td>\n      <td>0</td>\n      <td>0.0</td>\n    </tr>\n    <tr>\n      <th>14</th>\n      <td>Thüringen</td>\n      <td>2</td>\n      <td>0</td>\n      <td>0.0</td>\n      <td>0</td>\n      <td>0.0</td>\n      <td>0</td>\n      <td>0.000000</td>\n      <td>2</td>\n      <td>100.000000</td>\n      <td>0</td>\n      <td>0.000000</td>\n      <td>0</td>\n      <td>0.0</td>\n    </tr>\n    <tr>\n      <th>15</th>\n      <td>Total</td>\n      <td>175</td>\n      <td>0</td>\n      <td>0.0</td>\n      <td>0</td>\n      <td>0.0</td>\n      <td>8</td>\n      <td>4.571429</td>\n      <td>160</td>\n      <td>91.428571</td>\n      <td>7</td>\n      <td>4.000000</td>\n      <td>0</td>\n      <td>0.0</td>\n    </tr>\n  </tbody>\n</table>\n</div>"
     },
     "metadata": {},
     "output_type": "display_data"
    }
   ],
   "source": [
    "# Analyze of HEIs with HTTPS by region (Pub/Pvt)\n",
    "\n",
    "\n",
    "# settings\n",
    "column_to_sort = 'HTTP Only %'\n",
    "sort_ascending = True\n",
    "config = [\n",
    "    {'table_name': 'https_by_region_public', 'hei_type': 'Public'},\n",
    "    {'table_name': 'https_by_region_private', 'hei_type': 'Private'}\n",
    "]\n",
    "dfs = []\n",
    "for config_item in config:\n",
    "    table_name = config_item['table_name']\n",
    "    hei_type = config_item['hei_type']\n",
    "    columns_to_display = [region_column_name.title(), column_name_to_results_global]\n",
    "    analysis_df = get_records_by_region(source_df, hei_type=hei_type)\n",
    "    # create columns\n",
    "    # Column creation with distribution of records invalid by region\n",
    "    criteria = 'has_http == False & has_https == False & forced_redirect_to_https == False & https_redirect_to_same_domain == False &  only_https == False'\n",
    "    create_column(source_df=source_df, analysis_dataframe=analysis_df, column_name='Invalid', criteria=f'{criteria} & category == \"{hei_type}\"', columns_to_display=columns_to_display)\n",
    "    # Column creation with distribution of records with only HTTP by region\n",
    "    criteria = 'has_http == True & has_https == False & forced_redirect_to_https == False & only_https == False'\n",
    "    create_column(source_df=source_df, analysis_dataframe=analysis_df, column_name='HTTP Only', criteria=f'{criteria} & category == \"{hei_type}\"', columns_to_display=columns_to_display)\n",
    "    # Column creation with distribution of records with HTTPS without redirect by region\n",
    "    criteria = 'has_http == True & has_https == True & forced_redirect_to_https == False & only_https == False & https_redirect_to_same_domain == False'\n",
    "    create_column(source_df=source_df, analysis_dataframe=analysis_df, column_name='HTTP and HTTPS', criteria=f'{criteria} & category == \"{hei_type}\"', columns_to_display=columns_to_display)\n",
    "    # Column creation with distribution of records with forced redirect to HTTPS (same domain) by region\n",
    "    criteria = 'has_http == True & has_https == True & forced_redirect_to_https == True & https_redirect_to_same_domain == True'\n",
    "    create_column(source_df=source_df, analysis_dataframe=analysis_df, column_name='HTTP to HTTPS (Same Domain)', criteria=f'{criteria} & category == \"{hei_type}\"', columns_to_display=columns_to_display)\n",
    "    # Column creation with distribution of records with forced redirect to HTTPS (other domain) by region\n",
    "    criteria = 'has_http == True & has_https == True & forced_redirect_to_https == True & https_redirect_to_same_domain == False'\n",
    "    create_column(source_df=source_df, analysis_dataframe=analysis_df, column_name='HTTP to HTTPS (Other Domain)', criteria=f'{criteria} & category == \"{hei_type}\"', columns_to_display=columns_to_display)\n",
    "    # Column creation with distribution of records with only HTTPS by region\n",
    "    criteria = 'has_http == False & has_https == True & only_https == True'\n",
    "    create_column(source_df=source_df, analysis_dataframe=analysis_df, column_name='HTTPS Only', criteria=f'{criteria} & category == \"{hei_type}\"', columns_to_display=columns_to_display)\n",
    "    # Finalize dataframe\n",
    "    analysis_df = finalize_dataframe(dataframe=analysis_df, column_to_sort=column_to_sort, ascending=sort_ascending, columns_to_display=columns_to_display)\n",
    "    display(analysis_df)\n",
    "    dfs.append(analysis_df)\n",
    "    # save to csv\n",
    "    save_table(analysis_df, category=category, table_name=table_name)\n",
    "\n",
    "\n",
    "df_public = dfs[0].add_suffix('(pub)')\n",
    "df_private = dfs[1].add_suffix('(pvt)')\n",
    "df_public = df_public.rename(columns={'Region(pub)': 'Region'})\n",
    "df_private = df_private.rename(columns={'Region(pvt)': 'Region'})\n",
    "df_combined = df_public.merge(df_private, on='Region', how='outer')\n",
    "df_combined.fillna(0, inplace=True)\n",
    "# remove columns with # in the name\n",
    "df_combined = df_combined.loc[:, ~df_combined.columns.str.contains('#')]\n",
    "#remove columns global\n",
    "df_combined = df_combined.loc[:, ~df_combined.columns.str.contains('Global')]\n",
    "# remove '%' from name of columns\n",
    "df_combined.columns = df_combined.columns.str.replace('%', '')\n",
    "\n",
    "\n",
    "ranks_columns = []\n",
    "# Specify the columns to use\n",
    "columns_to_use = ['HTTPS Only', 'HTTP to HTTPS (Same Domain)', 'HTTP to HTTPS (Other Domain)', 'HTTP and HTTPS']\n",
    "# Apply the function to calculate the rank\n",
    "for i, column in enumerate(columns_to_use):\n",
    "    rank_colum = f'Rank {i}'\n",
    "    ranks_columns.append(rank_colum)\n",
    "    df_combined[rank_colum] = df_combined.apply(lambda row: calculate_rank(row, column), axis=1)\n",
    "\n",
    "#order dataframe by column Rank (from highest to lowest)\n",
    "df_combined = df_combined.sort_values(by=ranks_columns, ascending=False)\n",
    "# move just row with 'Total' in column Region to the end of the dataframe. (Use pandas.concat instead of append to avoid duplicates)\n",
    "df_combined = pd.concat([df_combined[df_combined['Region'] != 'Total'], df_combined[df_combined['Region'] == 'Total']])\n",
    "# reset index\n",
    "df_combined.reset_index(drop=True, inplace=True)\n",
    "# remove column Rank\n",
    "df_combined.drop(columns=ranks_columns, inplace=True)\n",
    "#Add a column with the quartile corresponding to the position of the row, that is, considering the total of records -1 (to exclude the total row), if a row is in position 2 it should belong to the first quartile.\n",
    "df_combined['Quartile'] = df_combined.index.map(lambda rank: assign_quartile(rank, len(df_combined)-1))\n",
    "# moved column 'Quartile' to the second position\n",
    "cols = list(df_combined.columns)\n",
    "cols = [cols[0]] + [cols[-1]] + cols[1:-1]\n",
    "df_combined = df_combined[cols]\n",
    "\n",
    "\n",
    "save_table(df_combined, category=category, table_name='https_by_region_combined')"
   ],
   "metadata": {
    "collapsed": false,
    "ExecuteTime": {
     "end_time": "2023-08-09T08:21:52.006339Z",
     "start_time": "2023-08-09T08:21:51.238914200Z"
    }
   }
  },
  {
   "cell_type": "code",
   "execution_count": 5,
   "outputs": [
    {
     "data": {
      "text/plain": "                    Region  Global #  Invalid #  Invalid %  \\\n0        Baden-Württemberg        72          0        0.0   \n1                   Bayern        46          0        0.0   \n2                   Berlin        40          0        0.0   \n3              Brandenburg        19          0        0.0   \n4                   Bremen         7          0        0.0   \n5                  Hamburg        21          0        0.0   \n6                   Hessen        45          0        0.0   \n7      Nordrhein-Westfalen        67          0        0.0   \n8          Rheinland-Pfalz        21          0        0.0   \n9                 Saarland        10          0        0.0   \n10                 Sachsen        30          0        0.0   \n11          Sachsen-Anhalt        10          0        0.0   \n12      Schleswig-Holstein        13          0        0.0   \n13               Thüringen        13          0        0.0   \n14           Niedersachsen        37          0        0.0   \n15  Mecklenburg-Vorpommern         7          0        0.0   \n16                   Total       458          0        0.0   \n\n    HTTP Only (Public) #  HTTP Only (Public) %  HTTP Only (Private) #  \\\n0                      0              0.000000                      0   \n1                      0              0.000000                      0   \n2                      0              0.000000                      0   \n3                      0              0.000000                      0   \n4                      0              0.000000                      0   \n5                      0              0.000000                      0   \n6                      0              0.000000                      0   \n7                      0              0.000000                      0   \n8                      0              0.000000                      0   \n9                      0              0.000000                      0   \n10                     0              0.000000                      0   \n11                     0              0.000000                      0   \n12                     0              0.000000                      0   \n13                     0              0.000000                      0   \n14                     1              2.702703                      0   \n15                     1             14.285714                      0   \n16                     2              0.436681                      0   \n\n    HTTP Only (Private) %  HTTP and HTTPS (Public) #  \\\n0                     0.0                          2   \n1                     0.0                          0   \n2                     0.0                          0   \n3                     0.0                          0   \n4                     0.0                          0   \n5                     0.0                          0   \n6                     0.0                          1   \n7                     0.0                          0   \n8                     0.0                          0   \n9                     0.0                          0   \n10                    0.0                          0   \n11                    0.0                          0   \n12                    0.0                          0   \n13                    0.0                          0   \n14                    0.0                          1   \n15                    0.0                          0   \n16                    0.0                          4   \n\n    HTTP and HTTPS (Public) %  ...  HTTP to HTTPS (Same Domain) (Private) #  \\\n0                    2.777778  ...                                       23   \n1                    0.000000  ...                                       12   \n2                    0.000000  ...                                       26   \n3                    0.000000  ...                                        8   \n4                    0.000000  ...                                        2   \n5                    0.000000  ...                                        9   \n6                    2.222222  ...                                       21   \n7                    0.000000  ...                                       24   \n8                    0.000000  ...                                        3   \n9                    0.000000  ...                                        5   \n10                   0.000000  ...                                        6   \n11                   0.000000  ...                                        2   \n12                   0.000000  ...                                        3   \n13                   0.000000  ...                                        2   \n14                   2.702703  ...                                       14   \n15                   0.000000  ...                                        0   \n16                   0.873362  ...                                      160   \n\n    HTTP to HTTPS (Same Domain) (Private) %  \\\n0                                 31.944444   \n1                                 26.086957   \n2                                 65.000000   \n3                                 42.105263   \n4                                 28.571429   \n5                                 42.857143   \n6                                 46.666667   \n7                                 35.820896   \n8                                 14.285714   \n9                                 50.000000   \n10                                20.000000   \n11                                20.000000   \n12                                23.076923   \n13                                15.384615   \n14                                37.837838   \n15                                 0.000000   \n16                                34.934498   \n\n    HTTP to HTTPS (Other Domain) (Public) #  \\\n0                                         0   \n1                                         0   \n2                                         0   \n3                                         0   \n4                                         1   \n5                                         0   \n6                                         0   \n7                                         2   \n8                                         0   \n9                                         0   \n10                                        1   \n11                                        0   \n12                                        0   \n13                                        0   \n14                                        0   \n15                                        0   \n16                                        4   \n\n    HTTP to HTTPS (Other Domain) (Public) %  \\\n0                                  0.000000   \n1                                  0.000000   \n2                                  0.000000   \n3                                  0.000000   \n4                                 14.285714   \n5                                  0.000000   \n6                                  0.000000   \n7                                  2.985075   \n8                                  0.000000   \n9                                  0.000000   \n10                                 3.333333   \n11                                 0.000000   \n12                                 0.000000   \n13                                 0.000000   \n14                                 0.000000   \n15                                 0.000000   \n16                                 0.873362   \n\n    HTTP to HTTPS (Other Domain) (Private) #  \\\n0                                          0   \n1                                          0   \n2                                          0   \n3                                          0   \n4                                          0   \n5                                          1   \n6                                          2   \n7                                          0   \n8                                          2   \n9                                          0   \n10                                         1   \n11                                         0   \n12                                         0   \n13                                         0   \n14                                         1   \n15                                         0   \n16                                         7   \n\n    HTTP to HTTPS (Other Domain) (Private) %  HTTPS Only (Public) #  \\\n0                                   0.000000                      1   \n1                                   0.000000                      0   \n2                                   0.000000                      0   \n3                                   0.000000                      0   \n4                                   0.000000                      0   \n5                                   4.761905                      1   \n6                                   4.444444                      0   \n7                                   0.000000                      0   \n8                                   9.523810                      0   \n9                                   0.000000                      0   \n10                                  3.333333                      1   \n11                                  0.000000                      0   \n12                                  0.000000                      0   \n13                                  0.000000                      1   \n14                                  2.702703                      0   \n15                                  0.000000                      0   \n16                                  1.528384                      4   \n\n    HTTPS Only (Public) %  HTTPS Only (Private) #  HTTPS Only (Private) %  \n0                1.388889                       0                     0.0  \n1                0.000000                       0                     0.0  \n2                0.000000                       0                     0.0  \n3                0.000000                       0                     0.0  \n4                0.000000                       0                     0.0  \n5                4.761905                       0                     0.0  \n6                0.000000                       0                     0.0  \n7                0.000000                       0                     0.0  \n8                0.000000                       0                     0.0  \n9                0.000000                       0                     0.0  \n10               3.333333                       0                     0.0  \n11               0.000000                       0                     0.0  \n12               0.000000                       0                     0.0  \n13               7.692308                       0                     0.0  \n14               0.000000                       0                     0.0  \n15               0.000000                       0                     0.0  \n16               0.873362                       0                     0.0  \n\n[17 rows x 24 columns]",
      "text/html": "<div>\n<style scoped>\n    .dataframe tbody tr th:only-of-type {\n        vertical-align: middle;\n    }\n\n    .dataframe tbody tr th {\n        vertical-align: top;\n    }\n\n    .dataframe thead th {\n        text-align: right;\n    }\n</style>\n<table border=\"1\" class=\"dataframe\">\n  <thead>\n    <tr style=\"text-align: right;\">\n      <th></th>\n      <th>Region</th>\n      <th>Global #</th>\n      <th>Invalid #</th>\n      <th>Invalid %</th>\n      <th>HTTP Only (Public) #</th>\n      <th>HTTP Only (Public) %</th>\n      <th>HTTP Only (Private) #</th>\n      <th>HTTP Only (Private) %</th>\n      <th>HTTP and HTTPS (Public) #</th>\n      <th>HTTP and HTTPS (Public) %</th>\n      <th>...</th>\n      <th>HTTP to HTTPS (Same Domain) (Private) #</th>\n      <th>HTTP to HTTPS (Same Domain) (Private) %</th>\n      <th>HTTP to HTTPS (Other Domain) (Public) #</th>\n      <th>HTTP to HTTPS (Other Domain) (Public) %</th>\n      <th>HTTP to HTTPS (Other Domain) (Private) #</th>\n      <th>HTTP to HTTPS (Other Domain) (Private) %</th>\n      <th>HTTPS Only (Public) #</th>\n      <th>HTTPS Only (Public) %</th>\n      <th>HTTPS Only (Private) #</th>\n      <th>HTTPS Only (Private) %</th>\n    </tr>\n  </thead>\n  <tbody>\n    <tr>\n      <th>0</th>\n      <td>Baden-Württemberg</td>\n      <td>72</td>\n      <td>0</td>\n      <td>0.0</td>\n      <td>0</td>\n      <td>0.000000</td>\n      <td>0</td>\n      <td>0.0</td>\n      <td>2</td>\n      <td>2.777778</td>\n      <td>...</td>\n      <td>23</td>\n      <td>31.944444</td>\n      <td>0</td>\n      <td>0.000000</td>\n      <td>0</td>\n      <td>0.000000</td>\n      <td>1</td>\n      <td>1.388889</td>\n      <td>0</td>\n      <td>0.0</td>\n    </tr>\n    <tr>\n      <th>1</th>\n      <td>Bayern</td>\n      <td>46</td>\n      <td>0</td>\n      <td>0.0</td>\n      <td>0</td>\n      <td>0.000000</td>\n      <td>0</td>\n      <td>0.0</td>\n      <td>0</td>\n      <td>0.000000</td>\n      <td>...</td>\n      <td>12</td>\n      <td>26.086957</td>\n      <td>0</td>\n      <td>0.000000</td>\n      <td>0</td>\n      <td>0.000000</td>\n      <td>0</td>\n      <td>0.000000</td>\n      <td>0</td>\n      <td>0.0</td>\n    </tr>\n    <tr>\n      <th>2</th>\n      <td>Berlin</td>\n      <td>40</td>\n      <td>0</td>\n      <td>0.0</td>\n      <td>0</td>\n      <td>0.000000</td>\n      <td>0</td>\n      <td>0.0</td>\n      <td>0</td>\n      <td>0.000000</td>\n      <td>...</td>\n      <td>26</td>\n      <td>65.000000</td>\n      <td>0</td>\n      <td>0.000000</td>\n      <td>0</td>\n      <td>0.000000</td>\n      <td>0</td>\n      <td>0.000000</td>\n      <td>0</td>\n      <td>0.0</td>\n    </tr>\n    <tr>\n      <th>3</th>\n      <td>Brandenburg</td>\n      <td>19</td>\n      <td>0</td>\n      <td>0.0</td>\n      <td>0</td>\n      <td>0.000000</td>\n      <td>0</td>\n      <td>0.0</td>\n      <td>0</td>\n      <td>0.000000</td>\n      <td>...</td>\n      <td>8</td>\n      <td>42.105263</td>\n      <td>0</td>\n      <td>0.000000</td>\n      <td>0</td>\n      <td>0.000000</td>\n      <td>0</td>\n      <td>0.000000</td>\n      <td>0</td>\n      <td>0.0</td>\n    </tr>\n    <tr>\n      <th>4</th>\n      <td>Bremen</td>\n      <td>7</td>\n      <td>0</td>\n      <td>0.0</td>\n      <td>0</td>\n      <td>0.000000</td>\n      <td>0</td>\n      <td>0.0</td>\n      <td>0</td>\n      <td>0.000000</td>\n      <td>...</td>\n      <td>2</td>\n      <td>28.571429</td>\n      <td>1</td>\n      <td>14.285714</td>\n      <td>0</td>\n      <td>0.000000</td>\n      <td>0</td>\n      <td>0.000000</td>\n      <td>0</td>\n      <td>0.0</td>\n    </tr>\n    <tr>\n      <th>5</th>\n      <td>Hamburg</td>\n      <td>21</td>\n      <td>0</td>\n      <td>0.0</td>\n      <td>0</td>\n      <td>0.000000</td>\n      <td>0</td>\n      <td>0.0</td>\n      <td>0</td>\n      <td>0.000000</td>\n      <td>...</td>\n      <td>9</td>\n      <td>42.857143</td>\n      <td>0</td>\n      <td>0.000000</td>\n      <td>1</td>\n      <td>4.761905</td>\n      <td>1</td>\n      <td>4.761905</td>\n      <td>0</td>\n      <td>0.0</td>\n    </tr>\n    <tr>\n      <th>6</th>\n      <td>Hessen</td>\n      <td>45</td>\n      <td>0</td>\n      <td>0.0</td>\n      <td>0</td>\n      <td>0.000000</td>\n      <td>0</td>\n      <td>0.0</td>\n      <td>1</td>\n      <td>2.222222</td>\n      <td>...</td>\n      <td>21</td>\n      <td>46.666667</td>\n      <td>0</td>\n      <td>0.000000</td>\n      <td>2</td>\n      <td>4.444444</td>\n      <td>0</td>\n      <td>0.000000</td>\n      <td>0</td>\n      <td>0.0</td>\n    </tr>\n    <tr>\n      <th>7</th>\n      <td>Nordrhein-Westfalen</td>\n      <td>67</td>\n      <td>0</td>\n      <td>0.0</td>\n      <td>0</td>\n      <td>0.000000</td>\n      <td>0</td>\n      <td>0.0</td>\n      <td>0</td>\n      <td>0.000000</td>\n      <td>...</td>\n      <td>24</td>\n      <td>35.820896</td>\n      <td>2</td>\n      <td>2.985075</td>\n      <td>0</td>\n      <td>0.000000</td>\n      <td>0</td>\n      <td>0.000000</td>\n      <td>0</td>\n      <td>0.0</td>\n    </tr>\n    <tr>\n      <th>8</th>\n      <td>Rheinland-Pfalz</td>\n      <td>21</td>\n      <td>0</td>\n      <td>0.0</td>\n      <td>0</td>\n      <td>0.000000</td>\n      <td>0</td>\n      <td>0.0</td>\n      <td>0</td>\n      <td>0.000000</td>\n      <td>...</td>\n      <td>3</td>\n      <td>14.285714</td>\n      <td>0</td>\n      <td>0.000000</td>\n      <td>2</td>\n      <td>9.523810</td>\n      <td>0</td>\n      <td>0.000000</td>\n      <td>0</td>\n      <td>0.0</td>\n    </tr>\n    <tr>\n      <th>9</th>\n      <td>Saarland</td>\n      <td>10</td>\n      <td>0</td>\n      <td>0.0</td>\n      <td>0</td>\n      <td>0.000000</td>\n      <td>0</td>\n      <td>0.0</td>\n      <td>0</td>\n      <td>0.000000</td>\n      <td>...</td>\n      <td>5</td>\n      <td>50.000000</td>\n      <td>0</td>\n      <td>0.000000</td>\n      <td>0</td>\n      <td>0.000000</td>\n      <td>0</td>\n      <td>0.000000</td>\n      <td>0</td>\n      <td>0.0</td>\n    </tr>\n    <tr>\n      <th>10</th>\n      <td>Sachsen</td>\n      <td>30</td>\n      <td>0</td>\n      <td>0.0</td>\n      <td>0</td>\n      <td>0.000000</td>\n      <td>0</td>\n      <td>0.0</td>\n      <td>0</td>\n      <td>0.000000</td>\n      <td>...</td>\n      <td>6</td>\n      <td>20.000000</td>\n      <td>1</td>\n      <td>3.333333</td>\n      <td>1</td>\n      <td>3.333333</td>\n      <td>1</td>\n      <td>3.333333</td>\n      <td>0</td>\n      <td>0.0</td>\n    </tr>\n    <tr>\n      <th>11</th>\n      <td>Sachsen-Anhalt</td>\n      <td>10</td>\n      <td>0</td>\n      <td>0.0</td>\n      <td>0</td>\n      <td>0.000000</td>\n      <td>0</td>\n      <td>0.0</td>\n      <td>0</td>\n      <td>0.000000</td>\n      <td>...</td>\n      <td>2</td>\n      <td>20.000000</td>\n      <td>0</td>\n      <td>0.000000</td>\n      <td>0</td>\n      <td>0.000000</td>\n      <td>0</td>\n      <td>0.000000</td>\n      <td>0</td>\n      <td>0.0</td>\n    </tr>\n    <tr>\n      <th>12</th>\n      <td>Schleswig-Holstein</td>\n      <td>13</td>\n      <td>0</td>\n      <td>0.0</td>\n      <td>0</td>\n      <td>0.000000</td>\n      <td>0</td>\n      <td>0.0</td>\n      <td>0</td>\n      <td>0.000000</td>\n      <td>...</td>\n      <td>3</td>\n      <td>23.076923</td>\n      <td>0</td>\n      <td>0.000000</td>\n      <td>0</td>\n      <td>0.000000</td>\n      <td>0</td>\n      <td>0.000000</td>\n      <td>0</td>\n      <td>0.0</td>\n    </tr>\n    <tr>\n      <th>13</th>\n      <td>Thüringen</td>\n      <td>13</td>\n      <td>0</td>\n      <td>0.0</td>\n      <td>0</td>\n      <td>0.000000</td>\n      <td>0</td>\n      <td>0.0</td>\n      <td>0</td>\n      <td>0.000000</td>\n      <td>...</td>\n      <td>2</td>\n      <td>15.384615</td>\n      <td>0</td>\n      <td>0.000000</td>\n      <td>0</td>\n      <td>0.000000</td>\n      <td>1</td>\n      <td>7.692308</td>\n      <td>0</td>\n      <td>0.0</td>\n    </tr>\n    <tr>\n      <th>14</th>\n      <td>Niedersachsen</td>\n      <td>37</td>\n      <td>0</td>\n      <td>0.0</td>\n      <td>1</td>\n      <td>2.702703</td>\n      <td>0</td>\n      <td>0.0</td>\n      <td>1</td>\n      <td>2.702703</td>\n      <td>...</td>\n      <td>14</td>\n      <td>37.837838</td>\n      <td>0</td>\n      <td>0.000000</td>\n      <td>1</td>\n      <td>2.702703</td>\n      <td>0</td>\n      <td>0.000000</td>\n      <td>0</td>\n      <td>0.0</td>\n    </tr>\n    <tr>\n      <th>15</th>\n      <td>Mecklenburg-Vorpommern</td>\n      <td>7</td>\n      <td>0</td>\n      <td>0.0</td>\n      <td>1</td>\n      <td>14.285714</td>\n      <td>0</td>\n      <td>0.0</td>\n      <td>0</td>\n      <td>0.000000</td>\n      <td>...</td>\n      <td>0</td>\n      <td>0.000000</td>\n      <td>0</td>\n      <td>0.000000</td>\n      <td>0</td>\n      <td>0.000000</td>\n      <td>0</td>\n      <td>0.000000</td>\n      <td>0</td>\n      <td>0.0</td>\n    </tr>\n    <tr>\n      <th>16</th>\n      <td>Total</td>\n      <td>458</td>\n      <td>0</td>\n      <td>0.0</td>\n      <td>2</td>\n      <td>0.436681</td>\n      <td>0</td>\n      <td>0.0</td>\n      <td>4</td>\n      <td>0.873362</td>\n      <td>...</td>\n      <td>160</td>\n      <td>34.934498</td>\n      <td>4</td>\n      <td>0.873362</td>\n      <td>7</td>\n      <td>1.528384</td>\n      <td>4</td>\n      <td>0.873362</td>\n      <td>0</td>\n      <td>0.0</td>\n    </tr>\n  </tbody>\n</table>\n<p>17 rows × 24 columns</p>\n</div>"
     },
     "metadata": {},
     "output_type": "display_data"
    }
   ],
   "source": [
    "# Analyze of HEIs with HTTPS by region\n",
    "\n",
    "# settings\n",
    "column_to_sort = 'HTTP Only (Public) %'\n",
    "sort_ascending = True\n",
    "columns_to_display = [region_column_name, column_name_to_results_global]\n",
    "analysis_df = get_records_by_region(source_df)\n",
    "\n",
    "# create columns\n",
    "only_public = 'category == \"Public\"'\n",
    "only_private = 'category == \"Private\"'\n",
    "\n",
    "# Column creation with distribution of records invalid by region\n",
    "criteria = 'has_http == False & has_https == False & forced_redirect_to_https == False & https_redirect_to_same_domain == False &  only_https == False'\n",
    "create_column(source_df=source_df, analysis_dataframe=analysis_df, column_name='Invalid', criteria=f'{criteria}', columns_to_display=columns_to_display)\n",
    "\n",
    "# Column creation with distribution of records with only HTTP by region\n",
    "criteria = 'has_http == True & has_https == False & forced_redirect_to_https == False & only_https == False'\n",
    "create_column(source_df=source_df, analysis_dataframe=analysis_df, column_name='HTTP Only (Public)', criteria=f'{criteria} & {only_public}', columns_to_display=columns_to_display)\n",
    "create_column(source_df=source_df, analysis_dataframe=analysis_df, column_name='HTTP Only (Private)', criteria=f'{criteria} & {only_private}', columns_to_display=columns_to_display)\n",
    "\n",
    "# Column creation with distribution of records with HTTPS without redirect by region\n",
    "criteria = 'has_http == True & has_https == True & forced_redirect_to_https == False & only_https == False & https_redirect_to_same_domain == False'\n",
    "create_column(source_df=source_df, analysis_dataframe=analysis_df, column_name='HTTP and HTTPS (Public)', criteria=f'{criteria} & {only_public}', columns_to_display=columns_to_display)\n",
    "create_column(source_df=source_df, analysis_dataframe=analysis_df, column_name='HTTP and HTTPS (Private)', criteria=f'{criteria} & {only_private}', columns_to_display=columns_to_display)\n",
    "\n",
    "# Column creation with distribution of records with forced redirect to HTTPS (same domain) by region\n",
    "criteria = 'has_http == True & has_https == True & forced_redirect_to_https == True & https_redirect_to_same_domain == True'\n",
    "create_column(source_df=source_df, analysis_dataframe=analysis_df, column_name='HTTP to HTTPS (Same Domain) (Public)', criteria=f'{criteria} & {only_public}', columns_to_display=columns_to_display)\n",
    "create_column(source_df=source_df, analysis_dataframe=analysis_df, column_name='HTTP to HTTPS (Same Domain) (Private)', criteria=f'{criteria} & {only_private}', columns_to_display=columns_to_display)\n",
    "\n",
    "# Column creation with distribution of records with forced redirect to HTTPS (other domain) by region\n",
    "criteria = 'has_http == True & has_https == True & forced_redirect_to_https == True & https_redirect_to_same_domain == False'\n",
    "create_column(source_df=source_df, analysis_dataframe=analysis_df, column_name='HTTP to HTTPS (Other Domain) (Public)', criteria=f'{criteria} & {only_public}', columns_to_display=columns_to_display)\n",
    "create_column(source_df=source_df, analysis_dataframe=analysis_df, column_name='HTTP to HTTPS (Other Domain) (Private)', criteria=f'{criteria} & {only_private}', columns_to_display=columns_to_display)\n",
    "\n",
    "# Column creation with distribution of records with only HTTPS by region\n",
    "criteria = 'has_http == False & has_https == True & only_https == True'\n",
    "create_column(source_df=source_df, analysis_dataframe=analysis_df, column_name='HTTPS Only (Public)', criteria=f'{criteria} & {only_public}', columns_to_display=columns_to_display)\n",
    "create_column(source_df=source_df, analysis_dataframe=analysis_df, column_name='HTTPS Only (Private)', criteria=f'{criteria} & {only_private}', columns_to_display=columns_to_display)\n",
    "\n",
    "\n",
    "\n",
    "# Finalize dataframe\n",
    "analysis_df = finalize_dataframe(dataframe=analysis_df, column_to_sort=column_to_sort, ascending=sort_ascending, columns_to_display=columns_to_display)\n",
    "display(analysis_df)\n",
    "\n",
    "# save to csv\n",
    "save_table(analysis_df, category=category, table_name=table_name)\n"
   ],
   "metadata": {
    "collapsed": false,
    "ExecuteTime": {
     "end_time": "2023-08-09T08:21:52.351338300Z",
     "start_time": "2023-08-09T08:21:51.874912200Z"
    }
   }
  },
  {
   "cell_type": "code",
   "execution_count": 6,
   "outputs": [
    {
     "name": "stdout",
     "output_type": "stream",
     "text": [
      "\n",
      "\\begin{figure}[htbp]\n",
      "    \\centering\n",
      "    \\includegraphics[width=0.48\\textwidth]{charts/https_by_region.pdf}\n",
      "    \\caption{Distribution of HTTPS by regions.}\\label{fig:https}\n",
      "\\end{figure}\n",
      "\n",
      "\n",
      "\n",
      "Fig.~\\ref{fig:https} presents an overview of the use of \\gls{http}/\\gls{https} services at \\glspl{hei} in \\countryName. The indicators represent the following conditions:\n",
      "\n",
      "\\begin{itemize}\n",
      "    \\item Invalid: The institution website doesn't work.\n",
      "    \\item \\gls{http} only: The institution website uses only \\gls{http}.\n",
      "    \\item \\gls{http} {\\&} \\gls{https}: The institution offers both protocols but does not have any redirection to force the use of \\gls{https}. All institutions in this category have a valid certificate.\n",
      "    \\item  \\gls{http} to \\gls{https} (other): Institution website that redirects the user to a secure page outside the main domain. All institutions in this category have a valid certificate.\n",
      "    \\item \\gls{http} to \\gls{https} (same): Institutions website that redirects the user to a secure page within the main domain, thus ensuring data protection. All institutions in this category have a valid certificate.\n",
      "    \\item \\gls{http} only: The institution website uses only \\gls{http}.\n",
      "\\end{itemize}\n",
      "\n",
      "\n",
      "According to the data, 0.44\\% of the public institutions analyzed have not implemented \\gls{https} on their websites, while 0.00\\% of the private institutions analyzed also dont use \\gls{https}.\n",
      "\n",
      "On a positive note, 58.73\\% of the public institutions analyzed have implemented forced redirect to same domain, and 0.87\\% to other domain. While 34.93\\% of the private institutions have implemented forced redirect to same domain, and 1.53\\% to other domain. And 0.87\\% of the public institutions, and 0.00\\% of the private institutions have implemented only \\gls{https} on their websites, ensuring data protection.\n",
      "\n",
      "However, 0.87\\% of the public institutions, and 1.75\\% of the private institutions keeps both protocols active, allowing the user to access the website through the \\gls{http} protocol.\n",
      "\n",
      "\n",
      "In terms of regional differences, private institutions in Berlin (65.00\\%), Saarland (50.00\\%), and Hessen (46.67\\%), and public institutions in Mecklenburg-Vorpommern (85.71\\%), Sachsen-Anhalt (80.00\\%), and Schleswig-Holstein (76.92\\%) have a higher usage of \\gls{https} with forced redirect to same domain.\n",
      "\n",
      "In contrast, private institutions in Mecklenburg-Vorpommern (0.00\\%), Rheinland-Pfalz (14.29\\%), and Thüringen (15.38\\%), and public institutions in Berlin (30.00\\%), Hamburg (42.86\\%), and Hessen (46.67\\%) have a lower usage of \\gls{https} with forced redirect to same domain.\n",
      "\n",
      "Finally, private institutions in Brandenburg (5.26\\%), Berlin (5.00\\%), and Hamburg (4.76\\%), and public institutions in Baden-Württemberg (2.78\\%), Niedersachsen (2.70\\%), and Hessen (2.22\\%) have a higher usage of both protocols \\gls{dnssec}, allowing the user to access the website through the \\gls{http} protocol.\n"
     ]
    }
   ],
   "source": [
    "# Report in latex\n",
    "report_results = get_extreme_values(analysis_df)\n",
    "\n",
    "hei_public_invalid = format(report_results.get(\"Total\").get(\"Invalid %\"), \".2f\")\n",
    "\n",
    "hei_public_only_http = format(report_results.get(\"Total\").get(\"HTTP Only (Public) %\"), \".2f\")\n",
    "hei_public_only_https = format(report_results.get(\"Total\").get(\"HTTPS Only (Public) %\"), \".2f\")\n",
    "hei_public_http_and_https = format(report_results.get(\"Total\").get(\"HTTP and HTTPS (Public) %\"), \".2f\")\n",
    "hei_public_redirect_same = format(report_results.get(\"Total\").get(\"HTTP to HTTPS (Same Domain) (Public) %\"), \".2f\")\n",
    "hei_public_redirect_other = format(report_results.get(\"Total\").get(\"HTTP to HTTPS (Other Domain) (Public) %\"), \".2f\")\n",
    "\n",
    "hei_private_only_http = format(report_results.get(\"Total\").get(\"HTTP Only (Private) %\"), \".2f\")\n",
    "hei_private_only_https = format(report_results.get(\"Total\").get(\"HTTPS Only (Private) %\"), \".2f\")\n",
    "hei_private_http_and_https = format(report_results.get(\"Total\").get(\"HTTP and HTTPS (Private) %\"), \".2f\")\n",
    "hei_private_redirect_same = format(report_results.get(\"Total\").get(\"HTTP to HTTPS (Same Domain) (Private) %\"), \".2f\")\n",
    "hei_private_redirect_other = format(report_results.get(\"Total\").get(\"HTTP to HTTPS (Other Domain) (Private) %\"), \".2f\")\n",
    "\n",
    "report_figure = \"\"\"\n",
    "\\\\begin{figure}[htbp]\n",
    "    \\centering\n",
    "    \\includegraphics[width=0.48\\\\textwidth]{charts/https_by_region.pdf}\n",
    "    \\caption{Distribution of HTTPS by regions.}\\label{fig:https}\n",
    "\\end{figure}\n",
    "\"\"\"\n",
    "\n",
    "report = f'{report_figure}\\n\\n'\n",
    "report += f\"\"\"\n",
    "Fig.~\\\\ref{{fig:https}} presents an overview of the use of \\gls{{http}}/\\gls{{https}} services at \\glspl{{hei}} in \\countryName. The indicators represent the following conditions:\n",
    "\n",
    "\\\\begin{{itemize}}\n",
    "    \\item Invalid: The institution website doesn't work.\n",
    "    \\item \\gls{{http}} only: The institution website uses only \\gls{{http}}.\n",
    "    \\item \\gls{{http}} {{\\&}} \\gls{{https}}: The institution offers both protocols but does not have any redirection to force the use of \\gls{{https}}. All institutions in this category have a valid certificate.\n",
    "    \\item  \\gls{{http}} to \\gls{{https}} (other): Institution website that redirects the user to a secure page outside the main domain. All institutions in this category have a valid certificate.\n",
    "    \\item \\gls{{http}} to \\gls{{https}} (same): Institutions website that redirects the user to a secure page within the main domain, thus ensuring data protection. All institutions in this category have a valid certificate.\n",
    "    \\item \\gls{{http}} only: The institution website uses only \\gls{{http}}.\n",
    "\\end{{itemize}}\\n\\n\"\"\"\n",
    "\n",
    "report += f\"\"\"\n",
    "According to the data, {hei_public_only_http}\\% of the public institutions analyzed have not implemented \\gls{{https}} on their websites, while {hei_private_only_http}\\% of the private institutions analyzed also dont use \\gls{{https}}.\n",
    "\n",
    "On a positive note, {hei_public_redirect_same}\\% of the public institutions analyzed have implemented forced redirect to same domain, and {hei_public_redirect_other}\\% to other domain. While {hei_private_redirect_same}\\% of the private institutions have implemented forced redirect to same domain, and {hei_private_redirect_other}\\% to other domain. And {hei_public_only_https}\\% of the public institutions, and {hei_private_only_https}\\% of the private institutions have implemented only \\gls{{https}} on their websites, ensuring data protection.\n",
    "\n",
    "However, {hei_public_http_and_https}\\% of the public institutions, and {hei_private_http_and_https}\\% of the private institutions keeps both protocols active, allowing the user to access the website through the \\gls{{http}} protocol.\\n\\n\"\"\"\n",
    "\n",
    "report += f\"\"\"\n",
    "In terms of regional differences, private institutions in {report_results.get(\"HTTP to HTTPS (Same Domain) (Private) %\").get(\"top_regions\")[0][0]} ({format(report_results.get(\"HTTP to HTTPS (Same Domain) (Private) %\").get(\"top_regions\")[0][1], \".2f\")}\\%), {report_results.get(\"HTTP to HTTPS (Same Domain) (Private) %\").get(\"top_regions\")[1][0]} ({format(report_results.get(\"HTTP to HTTPS (Same Domain) (Private) %\").get(\"top_regions\")[1][1], \".2f\")}\\%), and {report_results.get(\"HTTP to HTTPS (Same Domain) (Private) %\").get(\"top_regions\")[2][0]} ({format(report_results.get(\"HTTP to HTTPS (Same Domain) (Private) %\").get(\"top_regions\")[2][1], \".2f\")}\\%), and public institutions in {report_results.get(\"HTTP to HTTPS (Same Domain) (Public) %\").get(\"top_regions\")[0][0]} ({format(report_results.get(\"HTTP to HTTPS (Same Domain) (Public) %\").get(\"top_regions\")[0][1], \".2f\")}\\%), {report_results.get(\"HTTP to HTTPS (Same Domain) (Public) %\").get(\"top_regions\")[1][0]} ({format(report_results.get(\"HTTP to HTTPS (Same Domain) (Public) %\").get(\"top_regions\")[1][1], \".2f\")}\\%), and {report_results.get(\"HTTP to HTTPS (Same Domain) (Public) %\").get(\"top_regions\")[2][0]} ({format(report_results.get(\"HTTP to HTTPS (Same Domain) (Public) %\").get(\"top_regions\")[2][1], \".2f\")}\\%) have a higher usage of \\gls{{https}} with forced redirect to same domain.\n",
    "\n",
    "In contrast, private institutions in {report_results.get(\"HTTP to HTTPS (Same Domain) (Private) %\").get(\"bottom_regions\")[0][0]} ({format(report_results.get(\"HTTP to HTTPS (Same Domain) (Private) %\").get(\"bottom_regions\")[0][1], \".2f\")}\\%), {report_results.get(\"HTTP to HTTPS (Same Domain) (Private) %\").get(\"bottom_regions\")[1][0]} ({format(report_results.get(\"HTTP to HTTPS (Same Domain) (Private) %\").get(\"bottom_regions\")[1][1], \".2f\")}\\%), and {report_results.get(\"HTTP to HTTPS (Same Domain) (Private) %\").get(\"bottom_regions\")[2][0]} ({format(report_results.get(\"HTTP to HTTPS (Same Domain) (Private) %\").get(\"bottom_regions\")[2][1], \".2f\")}\\%), and public institutions in {report_results.get(\"HTTP to HTTPS (Same Domain) (Public) %\").get(\"bottom_regions\")[0][0]} ({format(report_results.get(\"HTTP to HTTPS (Same Domain) (Public) %\").get(\"bottom_regions\")[0][1], \".2f\")}\\%), {report_results.get(\"HTTP to HTTPS (Same Domain) (Public) %\").get(\"bottom_regions\")[1][0]} ({format(report_results.get(\"HTTP to HTTPS (Same Domain) (Public) %\").get(\"bottom_regions\")[1][1], \".2f\")}\\%), and {report_results.get(\"HTTP to HTTPS (Same Domain) (Public) %\").get(\"bottom_regions\")[2][0]} ({format(report_results.get(\"HTTP to HTTPS (Same Domain) (Public) %\").get(\"bottom_regions\")[2][1], \".2f\")}\\%) have a lower usage of \\gls{{https}} with forced redirect to same domain.\n",
    "\n",
    "Finally, private institutions in {report_results.get(\"HTTP and HTTPS (Private) %\").get(\"top_regions\")[0][0]} ({format(report_results.get(\"HTTP and HTTPS (Private) %\").get(\"top_regions\")[0][1], \".2f\")}\\%), {report_results.get(\"HTTP and HTTPS (Private) %\").get(\"top_regions\")[1][0]} ({format(report_results.get(\"HTTP and HTTPS (Private) %\").get(\"top_regions\")[1][1], \".2f\")}\\%), and {report_results.get(\"HTTP and HTTPS (Private) %\").get(\"top_regions\")[2][0]} ({format(report_results.get(\"HTTP and HTTPS (Private) %\").get(\"top_regions\")[2][1], \".2f\")}\\%), and public institutions in {report_results.get(\"HTTP and HTTPS (Public) %\").get(\"top_regions\")[0][0]} ({format(report_results.get(\"HTTP and HTTPS (Public) %\").get(\"top_regions\")[0][1], \".2f\")}\\%), {report_results.get(\"HTTP and HTTPS (Public) %\").get(\"top_regions\")[1][0]} ({format(report_results.get(\"HTTP and HTTPS (Public) %\").get(\"top_regions\")[1][1], \".2f\")}\\%), and {report_results.get(\"HTTP and HTTPS (Public) %\").get(\"top_regions\")[2][0]} ({format(report_results.get(\"HTTP and HTTPS (Public) %\").get(\"top_regions\")[2][1], \".2f\")}\\%) have a higher usage of both protocols \\gls{{dnssec}}, allowing the user to access the website through the \\gls{{http}} protocol.\"\"\"\n",
    "\n",
    "print(report)\n",
    "# save report to file txt\n",
    "save_report(report=report, category=category, report_name=report_name)"
   ],
   "metadata": {
    "collapsed": false,
    "ExecuteTime": {
     "end_time": "2023-08-09T08:21:52.637334500Z",
     "start_time": "2023-08-09T08:21:52.363336Z"
    }
   }
  },
  {
   "cell_type": "code",
   "execution_count": 6,
   "outputs": [],
   "source": [],
   "metadata": {
    "collapsed": false,
    "ExecuteTime": {
     "end_time": "2023-08-09T08:21:52.638336Z",
     "start_time": "2023-08-09T08:21:52.619335300Z"
    }
   }
  }
 ],
 "metadata": {
  "kernelspec": {
   "display_name": "Python 3",
   "language": "python",
   "name": "python3"
  },
  "language_info": {
   "codemirror_mode": {
    "name": "ipython",
    "version": 2
   },
   "file_extension": ".py",
   "mimetype": "text/x-python",
   "name": "python",
   "nbconvert_exporter": "python",
   "pygments_lexer": "ipython2",
   "version": "2.7.6"
  }
 },
 "nbformat": 4,
 "nbformat_minor": 0
}
