{
 "cells": [
  {
   "cell_type": "code",
   "execution_count": 1,
   "metadata": {
    "collapsed": true
   },
   "outputs": [],
   "source": [
    "from utilities.utilities import load_data, get_records_by_region, create_column, finalize_dataframe, save_string_to_file, get_extreme_values, create_directory_structure, save_table, save_report\n",
    "# settings\n",
    "region_column_name = 'Region'\n",
    "table_name = 'https_by_region'\n",
    "report_name = 'https_by_region'\n",
    "category = 'https'\n",
    "column_name_to_results_global = 'Global #'\n",
    "create_directory_structure()\n",
    "\n",
    "source_df = load_data('https_checker')"
   ]
  },
  {
   "cell_type": "code",
   "execution_count": 2,
   "outputs": [],
   "source": [
    "# sanity dataset\n",
    "columns_names = ['has_https', 'forced_redirect_to_https', 'https_redirect_to_same_domain']\n",
    "for column in columns_names:\n",
    "    source_df.loc[source_df[column].isna(), column] = False"
   ],
   "metadata": {
    "collapsed": false
   }
  },
  {
   "cell_type": "code",
   "execution_count": 3,
   "outputs": [
    {
     "data": {
      "text/plain": "       Region  Global #  HTTP Only (Public) #  HTTP Only (Public) %  \\\n0  California         2                     0                   0.0   \n1    Colorado         1                     0                   0.0   \n2     Florida         1                     0                   0.0   \n3     Georgia         1                     0                   0.0   \n4    Illinois         1                     0                   0.0   \n5    Michigan         1                     0                   0.0   \n6   Minnesota         1                     0                   0.0   \n7    New York         1                     0                   0.0   \n8       Texas         2                     0                   0.0   \n9       Total        11                     0                   0.0   \n\n   HTTP Only (Private) #  HTTP Only (Private) %  HTTP and HTTPS (Public) #  \\\n0                      0               0.000000                          0   \n1                      0               0.000000                          0   \n2                      0               0.000000                          0   \n3                      0               0.000000                          0   \n4                      0               0.000000                          0   \n5                      0               0.000000                          0   \n6                      0               0.000000                          0   \n7                      0               0.000000                          0   \n8                      1              50.000000                          0   \n9                      1               9.090909                          0   \n\n   HTTP and HTTPS (Public) %  HTTP and HTTPS (Private) #  \\\n0                        0.0                           0   \n1                        0.0                           0   \n2                        0.0                           0   \n3                        0.0                           0   \n4                        0.0                           0   \n5                        0.0                           0   \n6                        0.0                           0   \n7                        0.0                           0   \n8                        0.0                           1   \n9                        0.0                           1   \n\n   HTTP and HTTPS (Private) %  HTTP to HTTPS (Same Domain) (Public) #  \\\n0                    0.000000                                       0   \n1                    0.000000                                       1   \n2                    0.000000                                       0   \n3                    0.000000                                       0   \n4                    0.000000                                       0   \n5                    0.000000                                       0   \n6                    0.000000                                       0   \n7                    0.000000                                       0   \n8                   50.000000                                       0   \n9                    9.090909                                       1   \n\n   HTTP to HTTPS (Same Domain) (Public) %  \\\n0                                0.000000   \n1                              100.000000   \n2                                0.000000   \n3                                0.000000   \n4                                0.000000   \n5                                0.000000   \n6                                0.000000   \n7                                0.000000   \n8                                0.000000   \n9                                9.090909   \n\n   HTTP to HTTPS (Same Domain) (Private) #  \\\n0                                        2   \n1                                        0   \n2                                        1   \n3                                        1   \n4                                        1   \n5                                        1   \n6                                        1   \n7                                        1   \n8                                        0   \n9                                        8   \n\n   HTTP to HTTPS (Same Domain) (Private) %  \\\n0                               100.000000   \n1                                 0.000000   \n2                               100.000000   \n3                               100.000000   \n4                               100.000000   \n5                               100.000000   \n6                               100.000000   \n7                               100.000000   \n8                                 0.000000   \n9                                72.727273   \n\n   HTTP to HTTPS (Other Domain) (Public) #  \\\n0                                        0   \n1                                        0   \n2                                        0   \n3                                        0   \n4                                        0   \n5                                        0   \n6                                        0   \n7                                        0   \n8                                        0   \n9                                        0   \n\n   HTTP to HTTPS (Other Domain) (Public) %  \\\n0                                      0.0   \n1                                      0.0   \n2                                      0.0   \n3                                      0.0   \n4                                      0.0   \n5                                      0.0   \n6                                      0.0   \n7                                      0.0   \n8                                      0.0   \n9                                      0.0   \n\n   HTTP to HTTPS (Other Domain) (Private) #  \\\n0                                         0   \n1                                         0   \n2                                         0   \n3                                         0   \n4                                         0   \n5                                         0   \n6                                         0   \n7                                         0   \n8                                         0   \n9                                         0   \n\n   HTTP to HTTPS (Other Domain) (Private) %  \n0                                       0.0  \n1                                       0.0  \n2                                       0.0  \n3                                       0.0  \n4                                       0.0  \n5                                       0.0  \n6                                       0.0  \n7                                       0.0  \n8                                       0.0  \n9                                       0.0  ",
      "text/html": "<div>\n<style scoped>\n    .dataframe tbody tr th:only-of-type {\n        vertical-align: middle;\n    }\n\n    .dataframe tbody tr th {\n        vertical-align: top;\n    }\n\n    .dataframe thead th {\n        text-align: right;\n    }\n</style>\n<table border=\"1\" class=\"dataframe\">\n  <thead>\n    <tr style=\"text-align: right;\">\n      <th></th>\n      <th>Region</th>\n      <th>Global #</th>\n      <th>HTTP Only (Public) #</th>\n      <th>HTTP Only (Public) %</th>\n      <th>HTTP Only (Private) #</th>\n      <th>HTTP Only (Private) %</th>\n      <th>HTTP and HTTPS (Public) #</th>\n      <th>HTTP and HTTPS (Public) %</th>\n      <th>HTTP and HTTPS (Private) #</th>\n      <th>HTTP and HTTPS (Private) %</th>\n      <th>HTTP to HTTPS (Same Domain) (Public) #</th>\n      <th>HTTP to HTTPS (Same Domain) (Public) %</th>\n      <th>HTTP to HTTPS (Same Domain) (Private) #</th>\n      <th>HTTP to HTTPS (Same Domain) (Private) %</th>\n      <th>HTTP to HTTPS (Other Domain) (Public) #</th>\n      <th>HTTP to HTTPS (Other Domain) (Public) %</th>\n      <th>HTTP to HTTPS (Other Domain) (Private) #</th>\n      <th>HTTP to HTTPS (Other Domain) (Private) %</th>\n    </tr>\n  </thead>\n  <tbody>\n    <tr>\n      <th>0</th>\n      <td>California</td>\n      <td>2</td>\n      <td>0</td>\n      <td>0.0</td>\n      <td>0</td>\n      <td>0.000000</td>\n      <td>0</td>\n      <td>0.0</td>\n      <td>0</td>\n      <td>0.000000</td>\n      <td>0</td>\n      <td>0.000000</td>\n      <td>2</td>\n      <td>100.000000</td>\n      <td>0</td>\n      <td>0.0</td>\n      <td>0</td>\n      <td>0.0</td>\n    </tr>\n    <tr>\n      <th>1</th>\n      <td>Colorado</td>\n      <td>1</td>\n      <td>0</td>\n      <td>0.0</td>\n      <td>0</td>\n      <td>0.000000</td>\n      <td>0</td>\n      <td>0.0</td>\n      <td>0</td>\n      <td>0.000000</td>\n      <td>1</td>\n      <td>100.000000</td>\n      <td>0</td>\n      <td>0.000000</td>\n      <td>0</td>\n      <td>0.0</td>\n      <td>0</td>\n      <td>0.0</td>\n    </tr>\n    <tr>\n      <th>2</th>\n      <td>Florida</td>\n      <td>1</td>\n      <td>0</td>\n      <td>0.0</td>\n      <td>0</td>\n      <td>0.000000</td>\n      <td>0</td>\n      <td>0.0</td>\n      <td>0</td>\n      <td>0.000000</td>\n      <td>0</td>\n      <td>0.000000</td>\n      <td>1</td>\n      <td>100.000000</td>\n      <td>0</td>\n      <td>0.0</td>\n      <td>0</td>\n      <td>0.0</td>\n    </tr>\n    <tr>\n      <th>3</th>\n      <td>Georgia</td>\n      <td>1</td>\n      <td>0</td>\n      <td>0.0</td>\n      <td>0</td>\n      <td>0.000000</td>\n      <td>0</td>\n      <td>0.0</td>\n      <td>0</td>\n      <td>0.000000</td>\n      <td>0</td>\n      <td>0.000000</td>\n      <td>1</td>\n      <td>100.000000</td>\n      <td>0</td>\n      <td>0.0</td>\n      <td>0</td>\n      <td>0.0</td>\n    </tr>\n    <tr>\n      <th>4</th>\n      <td>Illinois</td>\n      <td>1</td>\n      <td>0</td>\n      <td>0.0</td>\n      <td>0</td>\n      <td>0.000000</td>\n      <td>0</td>\n      <td>0.0</td>\n      <td>0</td>\n      <td>0.000000</td>\n      <td>0</td>\n      <td>0.000000</td>\n      <td>1</td>\n      <td>100.000000</td>\n      <td>0</td>\n      <td>0.0</td>\n      <td>0</td>\n      <td>0.0</td>\n    </tr>\n    <tr>\n      <th>5</th>\n      <td>Michigan</td>\n      <td>1</td>\n      <td>0</td>\n      <td>0.0</td>\n      <td>0</td>\n      <td>0.000000</td>\n      <td>0</td>\n      <td>0.0</td>\n      <td>0</td>\n      <td>0.000000</td>\n      <td>0</td>\n      <td>0.000000</td>\n      <td>1</td>\n      <td>100.000000</td>\n      <td>0</td>\n      <td>0.0</td>\n      <td>0</td>\n      <td>0.0</td>\n    </tr>\n    <tr>\n      <th>6</th>\n      <td>Minnesota</td>\n      <td>1</td>\n      <td>0</td>\n      <td>0.0</td>\n      <td>0</td>\n      <td>0.000000</td>\n      <td>0</td>\n      <td>0.0</td>\n      <td>0</td>\n      <td>0.000000</td>\n      <td>0</td>\n      <td>0.000000</td>\n      <td>1</td>\n      <td>100.000000</td>\n      <td>0</td>\n      <td>0.0</td>\n      <td>0</td>\n      <td>0.0</td>\n    </tr>\n    <tr>\n      <th>7</th>\n      <td>New York</td>\n      <td>1</td>\n      <td>0</td>\n      <td>0.0</td>\n      <td>0</td>\n      <td>0.000000</td>\n      <td>0</td>\n      <td>0.0</td>\n      <td>0</td>\n      <td>0.000000</td>\n      <td>0</td>\n      <td>0.000000</td>\n      <td>1</td>\n      <td>100.000000</td>\n      <td>0</td>\n      <td>0.0</td>\n      <td>0</td>\n      <td>0.0</td>\n    </tr>\n    <tr>\n      <th>8</th>\n      <td>Texas</td>\n      <td>2</td>\n      <td>0</td>\n      <td>0.0</td>\n      <td>1</td>\n      <td>50.000000</td>\n      <td>0</td>\n      <td>0.0</td>\n      <td>1</td>\n      <td>50.000000</td>\n      <td>0</td>\n      <td>0.000000</td>\n      <td>0</td>\n      <td>0.000000</td>\n      <td>0</td>\n      <td>0.0</td>\n      <td>0</td>\n      <td>0.0</td>\n    </tr>\n    <tr>\n      <th>9</th>\n      <td>Total</td>\n      <td>11</td>\n      <td>0</td>\n      <td>0.0</td>\n      <td>1</td>\n      <td>9.090909</td>\n      <td>0</td>\n      <td>0.0</td>\n      <td>1</td>\n      <td>9.090909</td>\n      <td>1</td>\n      <td>9.090909</td>\n      <td>8</td>\n      <td>72.727273</td>\n      <td>0</td>\n      <td>0.0</td>\n      <td>0</td>\n      <td>0.0</td>\n    </tr>\n  </tbody>\n</table>\n</div>"
     },
     "metadata": {},
     "output_type": "display_data"
    }
   ],
   "source": [
    "# Analyze of HEIs with HTTPS by region\n",
    "\n",
    "# settings\n",
    "column_to_sort = 'HTTP Only (Public) %'\n",
    "sort_ascending = True\n",
    "columns_to_display = [region_column_name, column_name_to_results_global]\n",
    "analysis_df = get_records_by_region(source_df)\n",
    "\n",
    "# create columns\n",
    "# Column creation with distribution of records without HTTPS by region\n",
    "only_public = 'category == \"Public\"'\n",
    "only_private = 'category == \"Private\"'\n",
    "create_column(source_df=source_df, analysis_dataframe=analysis_df, column_name='HTTP Only (Public)', criteria=f'has_https == False & {only_public}', columns_to_display=columns_to_display)\n",
    "create_column(source_df=source_df, analysis_dataframe=analysis_df, column_name='HTTP Only (Private)', criteria=f'has_https == False & {only_private}', columns_to_display=columns_to_display)\n",
    "\n",
    "# Column creation with distribution of records with HTTP and HTTPS by region\n",
    "criteria = 'has_https == True & forced_redirect_to_https == False'\n",
    "create_column(source_df=source_df, analysis_dataframe=analysis_df, column_name='HTTP and HTTPS (Public)', criteria=f'{criteria} & {only_public}', columns_to_display=columns_to_display)\n",
    "create_column(source_df=source_df, analysis_dataframe=analysis_df, column_name='HTTP and HTTPS (Private)', criteria=f'{criteria} & {only_private}', columns_to_display=columns_to_display)\n",
    "\n",
    "# Column creation with distribution of records with forced redirect to HTTPS (same domain) by region\n",
    "criteria = 'has_https == True & forced_redirect_to_https == True & https_redirect_to_same_domain == True'\n",
    "create_column(source_df=source_df, analysis_dataframe=analysis_df, column_name='HTTP to HTTPS (Same Domain) (Public)', criteria=f'{criteria} & {only_public}', columns_to_display=columns_to_display)\n",
    "create_column(source_df=source_df, analysis_dataframe=analysis_df, column_name='HTTP to HTTPS (Same Domain) (Private)', criteria=f'{criteria} & {only_private}', columns_to_display=columns_to_display)\n",
    "\n",
    "# Column creation with distribution of records with forced redirect to HTTPS (other domain) by region\n",
    "criteria = 'has_https == True & forced_redirect_to_https == True & https_redirect_to_same_domain == False'\n",
    "create_column(source_df=source_df, analysis_dataframe=analysis_df, column_name='HTTP to HTTPS (Other Domain) (Public)', criteria=f'{criteria} & {only_public}', columns_to_display=columns_to_display)\n",
    "create_column(source_df=source_df, analysis_dataframe=analysis_df, column_name='HTTP to HTTPS (Other Domain) (Private)', criteria=f'{criteria} & {only_private}', columns_to_display=columns_to_display)\n",
    "\n",
    "# Finalize dataframe\n",
    "analysis_df = finalize_dataframe(dataframe=analysis_df, column_to_sort=column_to_sort, ascending=sort_ascending, columns_to_display=columns_to_display)\n",
    "display(analysis_df)\n",
    "\n",
    "# save to csv\n",
    "save_table(analysis_df, category=category, table_name=table_name)\n"
   ],
   "metadata": {
    "collapsed": false
   }
  },
  {
   "cell_type": "code",
   "execution_count": 4,
   "outputs": [
    {
     "name": "stdout",
     "output_type": "stream",
     "text": [
      "\n",
      "\\begin{figure}[htbp]\n",
      "    \\centering\n",
      "    \\includegraphics[width=0.48\\textwidth]{charts/https_by_region.pdf}\n",
      "    \\caption{Distribution of HTTPS by regions.}\\label{fig:https}\n",
      "\\end{figure}\n",
      "\n",
      "\n",
      "\n",
      "Fig.~\\ref{fig:https} presents an overview of the use of \\gls{http}/\\gls{https} services at \\glspl{hei} in \\countryName. The indicators represent the following conditions:\n",
      "\n",
      "\\begin{itemize}\n",
      "    \\item \\gls{http} only: The institution website uses only \\gls{http}.\n",
      "    \\item \\gls{http} {\\&} \\gls{https}: The institution offers both protocols but does not have any redirection to force the use of \\gls{https}. All institutions in this category have a valid certificate.\n",
      "    \\item  \\gls{http} to \\gls{https} (other): Institution website that redirects the user to a secure page outside the main domain. All institutions in this category have a valid certificate.\n",
      "    \\item \\gls{http} to \\gls{https} (same): Institutions website that redirects the user to a secure page within the main domain, thus ensuring data protection. All institutions in this category have a valid certificate.\n",
      "\\end{itemize}\n",
      "\n",
      "\n",
      "According to the data, 0.00\\% of the public institutions analyzed have not implemented \\gls{https} on their websites, while 9.09\\% of the private institutions analyzed also dont use \\gls{https}.\n",
      "\n",
      "On a positive note, 9.09\\% of the public institutions analyzed have implemented forced redirect to same domain, and 0.00\\% to other domain. While 72.73\\% of the private institutions have implemented forced redirect to same domain, and 0.00\\% to other domain.\n",
      "\n",
      "However, 0.00\\% of the public institutions, and 9.09\\% of the private institutions keeps both protocols active, allowing the user to access the website through the \\gls{http} protocol.\n",
      "\n",
      "\n",
      "In terms of regional differences, private institutions in California (100.00\\%), Florida (100.00\\%), and Georgia (100.00\\%), and public institutions in Colorado (100.00\\%), California (0.00\\%), and Florida (0.00\\%) have a higher usage of \\gls{https} with forced redirect to same domain.\n",
      "\n",
      "In contrast, private institutions in Colorado (0.00\\%), Texas (0.00\\%), and California (100.00\\%), and public institutions in California (0.00\\%), Florida (0.00\\%), and Georgia (0.00\\%) have a lower usage of \\gls{https} with forced redirect to same domain.\n",
      "\n",
      "Finally, private institutions in Texas (50.00\\%), California (0.00\\%), and Colorado (0.00\\%), and public institutions in California (0.00\\%), Colorado (0.00\\%), and Florida (0.00\\%) have a higher usage of both protocols \\gls{dnssec}, allowing the user to access the website through the \\gls{http} protocol.\n"
     ]
    }
   ],
   "source": [
    "# Report in latex\n",
    "report_results = get_extreme_values(analysis_df)\n",
    "\n",
    "hei_public_only_http = format(report_results.get(\"Total\").get(\"HTTP Only (Public) %\"), \".2f\")\n",
    "hei_public_http_and_https = format(report_results.get(\"Total\").get(\"HTTP and HTTPS (Public) %\"), \".2f\")\n",
    "hei_public_redirect_same = format(report_results.get(\"Total\").get(\"HTTP to HTTPS (Same Domain) (Public) %\"), \".2f\")\n",
    "hei_public_redirect_other = format(report_results.get(\"Total\").get(\"HTTP to HTTPS (Other Domain) (Public) %\"), \".2f\")\n",
    "\n",
    "hei_private_only_http = format(report_results.get(\"Total\").get(\"HTTP Only (Private) %\"), \".2f\")\n",
    "hei_private_http_and_https = format(report_results.get(\"Total\").get(\"HTTP and HTTPS (Private) %\"), \".2f\")\n",
    "hei_private_redirect_same = format(report_results.get(\"Total\").get(\"HTTP to HTTPS (Same Domain) (Private) %\"), \".2f\")\n",
    "hei_private_redirect_other = format(report_results.get(\"Total\").get(\"HTTP to HTTPS (Other Domain) (Private) %\"), \".2f\")\n",
    "\n",
    "report_figure = \"\"\"\n",
    "\\\\begin{figure}[htbp]\n",
    "    \\centering\n",
    "    \\includegraphics[width=0.48\\\\textwidth]{charts/https_by_region.pdf}\n",
    "    \\caption{Distribution of HTTPS by regions.}\\label{fig:https}\n",
    "\\end{figure}\n",
    "\"\"\"\n",
    "\n",
    "report = f'{report_figure}\\n\\n'\n",
    "report += f\"\"\"\n",
    "Fig.~\\\\ref{{fig:https}} presents an overview of the use of \\gls{{http}}/\\gls{{https}} services at \\glspl{{hei}} in \\countryName. The indicators represent the following conditions:\n",
    "\n",
    "\\\\begin{{itemize}}\n",
    "    \\item \\gls{{http}} only: The institution website uses only \\gls{{http}}.\n",
    "    \\item \\gls{{http}} {{\\&}} \\gls{{https}}: The institution offers both protocols but does not have any redirection to force the use of \\gls{{https}}. All institutions in this category have a valid certificate.\n",
    "    \\item  \\gls{{http}} to \\gls{{https}} (other): Institution website that redirects the user to a secure page outside the main domain. All institutions in this category have a valid certificate.\n",
    "    \\item \\gls{{http}} to \\gls{{https}} (same): Institutions website that redirects the user to a secure page within the main domain, thus ensuring data protection. All institutions in this category have a valid certificate.\n",
    "\\end{{itemize}}\\n\\n\"\"\"\n",
    "\n",
    "report += f\"\"\"\n",
    "According to the data, {hei_public_only_http}\\% of the public institutions analyzed have not implemented \\gls{{https}} on their websites, while {hei_private_only_http}\\% of the private institutions analyzed also dont use \\gls{{https}}.\n",
    "\n",
    "On a positive note, {hei_public_redirect_same}\\% of the public institutions analyzed have implemented forced redirect to same domain, and {hei_public_redirect_other}\\% to other domain. While {hei_private_redirect_same}\\% of the private institutions have implemented forced redirect to same domain, and {hei_private_redirect_other}\\% to other domain.\n",
    "\n",
    "However, {hei_public_http_and_https}\\% of the public institutions, and {hei_private_http_and_https}\\% of the private institutions keeps both protocols active, allowing the user to access the website through the \\gls{{http}} protocol.\\n\\n\"\"\"\n",
    "\n",
    "report += f\"\"\"\n",
    "In terms of regional differences, private institutions in {report_results.get(\"HTTP to HTTPS (Same Domain) (Private) %\").get(\"top_regions\")[0][0]} ({format(report_results.get(\"HTTP to HTTPS (Same Domain) (Private) %\").get(\"top_regions\")[0][1], \".2f\")}\\%), {report_results.get(\"HTTP to HTTPS (Same Domain) (Private) %\").get(\"top_regions\")[1][0]} ({format(report_results.get(\"HTTP to HTTPS (Same Domain) (Private) %\").get(\"top_regions\")[1][1], \".2f\")}\\%), and {report_results.get(\"HTTP to HTTPS (Same Domain) (Private) %\").get(\"top_regions\")[2][0]} ({format(report_results.get(\"HTTP to HTTPS (Same Domain) (Private) %\").get(\"top_regions\")[2][1], \".2f\")}\\%), and public institutions in {report_results.get(\"HTTP to HTTPS (Same Domain) (Public) %\").get(\"top_regions\")[0][0]} ({format(report_results.get(\"HTTP to HTTPS (Same Domain) (Public) %\").get(\"top_regions\")[0][1], \".2f\")}\\%), {report_results.get(\"HTTP to HTTPS (Same Domain) (Public) %\").get(\"top_regions\")[1][0]} ({format(report_results.get(\"HTTP to HTTPS (Same Domain) (Public) %\").get(\"top_regions\")[1][1], \".2f\")}\\%), and {report_results.get(\"HTTP to HTTPS (Same Domain) (Public) %\").get(\"top_regions\")[2][0]} ({format(report_results.get(\"HTTP to HTTPS (Same Domain) (Public) %\").get(\"top_regions\")[2][1], \".2f\")}\\%) have a higher usage of \\gls{{https}} with forced redirect to same domain.\n",
    "\n",
    "In contrast, private institutions in {report_results.get(\"HTTP to HTTPS (Same Domain) (Private) %\").get(\"bottom_regions\")[0][0]} ({format(report_results.get(\"HTTP to HTTPS (Same Domain) (Private) %\").get(\"bottom_regions\")[0][1], \".2f\")}\\%), {report_results.get(\"HTTP to HTTPS (Same Domain) (Private) %\").get(\"bottom_regions\")[1][0]} ({format(report_results.get(\"HTTP to HTTPS (Same Domain) (Private) %\").get(\"bottom_regions\")[1][1], \".2f\")}\\%), and {report_results.get(\"HTTP to HTTPS (Same Domain) (Private) %\").get(\"bottom_regions\")[2][0]} ({format(report_results.get(\"HTTP to HTTPS (Same Domain) (Private) %\").get(\"bottom_regions\")[2][1], \".2f\")}\\%), and public institutions in {report_results.get(\"HTTP to HTTPS (Same Domain) (Public) %\").get(\"bottom_regions\")[0][0]} ({format(report_results.get(\"HTTP to HTTPS (Same Domain) (Public) %\").get(\"bottom_regions\")[0][1], \".2f\")}\\%), {report_results.get(\"HTTP to HTTPS (Same Domain) (Public) %\").get(\"bottom_regions\")[1][0]} ({format(report_results.get(\"HTTP to HTTPS (Same Domain) (Public) %\").get(\"bottom_regions\")[1][1], \".2f\")}\\%), and {report_results.get(\"HTTP to HTTPS (Same Domain) (Public) %\").get(\"bottom_regions\")[2][0]} ({format(report_results.get(\"HTTP to HTTPS (Same Domain) (Public) %\").get(\"bottom_regions\")[2][1], \".2f\")}\\%) have a lower usage of \\gls{{https}} with forced redirect to same domain.\n",
    "\n",
    "Finally, private institutions in {report_results.get(\"HTTP and HTTPS (Private) %\").get(\"top_regions\")[0][0]} ({format(report_results.get(\"HTTP and HTTPS (Private) %\").get(\"top_regions\")[0][1], \".2f\")}\\%), {report_results.get(\"HTTP and HTTPS (Private) %\").get(\"top_regions\")[1][0]} ({format(report_results.get(\"HTTP and HTTPS (Private) %\").get(\"top_regions\")[1][1], \".2f\")}\\%), and {report_results.get(\"HTTP and HTTPS (Private) %\").get(\"top_regions\")[2][0]} ({format(report_results.get(\"HTTP and HTTPS (Private) %\").get(\"top_regions\")[2][1], \".2f\")}\\%), and public institutions in {report_results.get(\"HTTP and HTTPS (Public) %\").get(\"top_regions\")[0][0]} ({format(report_results.get(\"HTTP and HTTPS (Public) %\").get(\"top_regions\")[0][1], \".2f\")}\\%), {report_results.get(\"HTTP and HTTPS (Public) %\").get(\"top_regions\")[1][0]} ({format(report_results.get(\"HTTP and HTTPS (Public) %\").get(\"top_regions\")[1][1], \".2f\")}\\%), and {report_results.get(\"HTTP and HTTPS (Public) %\").get(\"top_regions\")[2][0]} ({format(report_results.get(\"HTTP and HTTPS (Public) %\").get(\"top_regions\")[2][1], \".2f\")}\\%) have a higher usage of both protocols \\gls{{dnssec}}, allowing the user to access the website through the \\gls{{http}} protocol.\"\"\"\n",
    "\n",
    "print(report)\n",
    "# save report to file txt\n",
    "save_report(report=report, category=category, report_name=report_name)"
   ],
   "metadata": {
    "collapsed": false
   }
  },
  {
   "cell_type": "code",
   "execution_count": 4,
   "outputs": [],
   "source": [],
   "metadata": {
    "collapsed": false
   }
  }
 ],
 "metadata": {
  "kernelspec": {
   "display_name": "Python 3",
   "language": "python",
   "name": "python3"
  },
  "language_info": {
   "codemirror_mode": {
    "name": "ipython",
    "version": 2
   },
   "file_extension": ".py",
   "mimetype": "text/x-python",
   "name": "python",
   "nbconvert_exporter": "python",
   "pygments_lexer": "ipython2",
   "version": "2.7.6"
  }
 },
 "nbformat": 4,
 "nbformat_minor": 0
}
