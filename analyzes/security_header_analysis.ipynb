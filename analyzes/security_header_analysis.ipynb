{
 "cells": [
  {
   "cell_type": "code",
   "execution_count": 1,
   "metadata": {
    "collapsed": true
   },
   "outputs": [],
   "source": [
    "from utilities.utilities import load_data, get_records_by_region, create_column, finalize_dataframe\n",
    "# settings\n",
    "region_column_name = 'Region'\n",
    "column_name_to_results_global = 'Global #'\n",
    "\n",
    "source_df = load_data('security_headers_checker')"
   ]
  },
  {
   "cell_type": "code",
   "execution_count": 2,
   "outputs": [],
   "source": [
    "# sanity dataset\n",
    "\n",
    "headers = [\n",
    "            'strict-transport-security',\n",
    "            'x-frame-options',\n",
    "            'x-content-type-options',\n",
    "            'content-security-policy',\n",
    "            'x-permitted-cross-domain-policies',\n",
    "            'referrer-policy',\n",
    "            'clear-site-data',\n",
    "            'cross-origin-embedder-policy',\n",
    "            'cross-origin-opener-policy',\n",
    "            'cross-origin-resource-policy',\n",
    "            'cache-control'\n",
    "        ]\n",
    "\n",
    "# Records that are null suffered an error during data collection and are therefore treated as not having security headers.\n",
    "for header in headers:\n",
    "    source_df.loc[source_df[header].isna(), header] = False\n",
    "\n"
   ],
   "metadata": {
    "collapsed": false
   }
  },
  {
   "cell_type": "code",
   "execution_count": 3,
   "outputs": [
    {
     "data": {
      "text/plain": "       Region  Global #  Without Security Headers (Public) #  \\\n0  California         2                                    0   \n1     Florida         1                                    0   \n2     Georgia         1                                    0   \n3    Illinois         1                                    0   \n4    Michigan         1                                    0   \n5   Minnesota         1                                    0   \n6    New York         1                                    0   \n7       Texas         2                                    0   \n8    Colorado         1                                    1   \n9       Total        11                                    1   \n\n   Without Security Headers (Public) %  Without Security Headers (Private) #  \\\n0                             0.000000                                     0   \n1                             0.000000                                     0   \n2                             0.000000                                     1   \n3                             0.000000                                     0   \n4                             0.000000                                     0   \n5                             0.000000                                     0   \n6                             0.000000                                     0   \n7                             0.000000                                     2   \n8                           100.000000                                     0   \n9                             9.090909                                     3   \n\n   Without Security Headers (Private) %  \\\n0                              0.000000   \n1                              0.000000   \n2                            100.000000   \n3                              0.000000   \n4                              0.000000   \n5                              0.000000   \n6                              0.000000   \n7                            100.000000   \n8                              0.000000   \n9                             27.272727   \n\n   With At Least One Security Header (Public) #  \\\n0                                             0   \n1                                             0   \n2                                             0   \n3                                             0   \n4                                             0   \n5                                             0   \n6                                             0   \n7                                             0   \n8                                             0   \n9                                             0   \n\n   With At Least One Security Header (Public) %  \\\n0                                           0.0   \n1                                           0.0   \n2                                           0.0   \n3                                           0.0   \n4                                           0.0   \n5                                           0.0   \n6                                           0.0   \n7                                           0.0   \n8                                           0.0   \n9                                           0.0   \n\n   With At Least One Security Header (Private) #  \\\n0                                              2   \n1                                              1   \n2                                              0   \n3                                              1   \n4                                              1   \n5                                              1   \n6                                              1   \n7                                              0   \n8                                              0   \n9                                              7   \n\n   With At Least One Security Header (Private) %  \\\n0                                     100.000000   \n1                                     100.000000   \n2                                       0.000000   \n3                                     100.000000   \n4                                     100.000000   \n5                                     100.000000   \n6                                     100.000000   \n7                                       0.000000   \n8                                       0.000000   \n9                                      63.636364   \n\n   With All Security Headers (Public) #  With All Security Headers (Public) %  \\\n0                                     0                                   0.0   \n1                                     0                                   0.0   \n2                                     0                                   0.0   \n3                                     0                                   0.0   \n4                                     0                                   0.0   \n5                                     0                                   0.0   \n6                                     0                                   0.0   \n7                                     0                                   0.0   \n8                                     0                                   0.0   \n9                                     0                                   0.0   \n\n   With All Security Headers (Private) #  \\\n0                                      0   \n1                                      0   \n2                                      0   \n3                                      0   \n4                                      0   \n5                                      0   \n6                                      0   \n7                                      0   \n8                                      0   \n9                                      0   \n\n   With All Security Headers (Private) %  \n0                                    0.0  \n1                                    0.0  \n2                                    0.0  \n3                                    0.0  \n4                                    0.0  \n5                                    0.0  \n6                                    0.0  \n7                                    0.0  \n8                                    0.0  \n9                                    0.0  ",
      "text/html": "<div>\n<style scoped>\n    .dataframe tbody tr th:only-of-type {\n        vertical-align: middle;\n    }\n\n    .dataframe tbody tr th {\n        vertical-align: top;\n    }\n\n    .dataframe thead th {\n        text-align: right;\n    }\n</style>\n<table border=\"1\" class=\"dataframe\">\n  <thead>\n    <tr style=\"text-align: right;\">\n      <th></th>\n      <th>Region</th>\n      <th>Global #</th>\n      <th>Without Security Headers (Public) #</th>\n      <th>Without Security Headers (Public) %</th>\n      <th>Without Security Headers (Private) #</th>\n      <th>Without Security Headers (Private) %</th>\n      <th>With At Least One Security Header (Public) #</th>\n      <th>With At Least One Security Header (Public) %</th>\n      <th>With At Least One Security Header (Private) #</th>\n      <th>With At Least One Security Header (Private) %</th>\n      <th>With All Security Headers (Public) #</th>\n      <th>With All Security Headers (Public) %</th>\n      <th>With All Security Headers (Private) #</th>\n      <th>With All Security Headers (Private) %</th>\n    </tr>\n  </thead>\n  <tbody>\n    <tr>\n      <th>0</th>\n      <td>California</td>\n      <td>2</td>\n      <td>0</td>\n      <td>0.000000</td>\n      <td>0</td>\n      <td>0.000000</td>\n      <td>0</td>\n      <td>0.0</td>\n      <td>2</td>\n      <td>100.000000</td>\n      <td>0</td>\n      <td>0.0</td>\n      <td>0</td>\n      <td>0.0</td>\n    </tr>\n    <tr>\n      <th>1</th>\n      <td>Florida</td>\n      <td>1</td>\n      <td>0</td>\n      <td>0.000000</td>\n      <td>0</td>\n      <td>0.000000</td>\n      <td>0</td>\n      <td>0.0</td>\n      <td>1</td>\n      <td>100.000000</td>\n      <td>0</td>\n      <td>0.0</td>\n      <td>0</td>\n      <td>0.0</td>\n    </tr>\n    <tr>\n      <th>2</th>\n      <td>Georgia</td>\n      <td>1</td>\n      <td>0</td>\n      <td>0.000000</td>\n      <td>1</td>\n      <td>100.000000</td>\n      <td>0</td>\n      <td>0.0</td>\n      <td>0</td>\n      <td>0.000000</td>\n      <td>0</td>\n      <td>0.0</td>\n      <td>0</td>\n      <td>0.0</td>\n    </tr>\n    <tr>\n      <th>3</th>\n      <td>Illinois</td>\n      <td>1</td>\n      <td>0</td>\n      <td>0.000000</td>\n      <td>0</td>\n      <td>0.000000</td>\n      <td>0</td>\n      <td>0.0</td>\n      <td>1</td>\n      <td>100.000000</td>\n      <td>0</td>\n      <td>0.0</td>\n      <td>0</td>\n      <td>0.0</td>\n    </tr>\n    <tr>\n      <th>4</th>\n      <td>Michigan</td>\n      <td>1</td>\n      <td>0</td>\n      <td>0.000000</td>\n      <td>0</td>\n      <td>0.000000</td>\n      <td>0</td>\n      <td>0.0</td>\n      <td>1</td>\n      <td>100.000000</td>\n      <td>0</td>\n      <td>0.0</td>\n      <td>0</td>\n      <td>0.0</td>\n    </tr>\n    <tr>\n      <th>5</th>\n      <td>Minnesota</td>\n      <td>1</td>\n      <td>0</td>\n      <td>0.000000</td>\n      <td>0</td>\n      <td>0.000000</td>\n      <td>0</td>\n      <td>0.0</td>\n      <td>1</td>\n      <td>100.000000</td>\n      <td>0</td>\n      <td>0.0</td>\n      <td>0</td>\n      <td>0.0</td>\n    </tr>\n    <tr>\n      <th>6</th>\n      <td>New York</td>\n      <td>1</td>\n      <td>0</td>\n      <td>0.000000</td>\n      <td>0</td>\n      <td>0.000000</td>\n      <td>0</td>\n      <td>0.0</td>\n      <td>1</td>\n      <td>100.000000</td>\n      <td>0</td>\n      <td>0.0</td>\n      <td>0</td>\n      <td>0.0</td>\n    </tr>\n    <tr>\n      <th>7</th>\n      <td>Texas</td>\n      <td>2</td>\n      <td>0</td>\n      <td>0.000000</td>\n      <td>2</td>\n      <td>100.000000</td>\n      <td>0</td>\n      <td>0.0</td>\n      <td>0</td>\n      <td>0.000000</td>\n      <td>0</td>\n      <td>0.0</td>\n      <td>0</td>\n      <td>0.0</td>\n    </tr>\n    <tr>\n      <th>8</th>\n      <td>Colorado</td>\n      <td>1</td>\n      <td>1</td>\n      <td>100.000000</td>\n      <td>0</td>\n      <td>0.000000</td>\n      <td>0</td>\n      <td>0.0</td>\n      <td>0</td>\n      <td>0.000000</td>\n      <td>0</td>\n      <td>0.0</td>\n      <td>0</td>\n      <td>0.0</td>\n    </tr>\n    <tr>\n      <th>9</th>\n      <td>Total</td>\n      <td>11</td>\n      <td>1</td>\n      <td>9.090909</td>\n      <td>3</td>\n      <td>27.272727</td>\n      <td>0</td>\n      <td>0.0</td>\n      <td>7</td>\n      <td>63.636364</td>\n      <td>0</td>\n      <td>0.0</td>\n      <td>0</td>\n      <td>0.0</td>\n    </tr>\n  </tbody>\n</table>\n</div>"
     },
     "metadata": {},
     "output_type": "display_data"
    },
    {
     "name": "stdout",
     "output_type": "stream",
     "text": [
      "\n",
      "\\begin{figure}[htbp]\n",
      "    \\centering\n",
      "    \\includegraphics[width=0.48\\textwidth]{charts/Security_headers_by_region.pdf}\n",
      "    \\caption{Distribution of the use Security Headers.}\\label{fig:security-headers}\n",
      "\\end{figure}\n",
      "\n",
      "\n",
      "The data presented in Figure~\\ref{fig:security-headers} show the use of security headers at \\glspl{hei} in the United States of America. According to the data, 9.09\\% of the public institutions analyzed have not implemented any security headers in their websites. On the other hand, 27.27\\% of the private institutions analyzed have not implemented any security headers in their websites.\n",
      "\n",
      "On a positive note, 0.00\\% of the public institutions analyzed have implemented at least one security header in their websites. Moreover, 63.64\\% of the private institutions analyzed have implemented at least one security header in their websites.\n",
      "\n",
      "Finally, 0.00\\% of the public institutions analyzed have implemented all the security headers in their websites. On the other hand, 0.00\\% of the private institutions analyzed have implemented all the security headers in their websites.\n",
      "\n",
      "The regions that stand out in the use of security headers by private institutions are Georgia (100.00\\%), Texas (100.00\\%), and California (0.00\\%). \n",
      "\n",
      "The regions that stand out in the use of security headers by public institutions are Colorado (100.00\\%), California (0.00\\%), and Florida (0.00\\%). \n",
      "\n",
      "The regions with the lowest use of security headers by private institutions are California (0.00\\%), Florida (0.00\\%), and Georgia (0.00\\%). \n",
      "\n",
      "The regions with the lowest use of security headers by public institutions are California (0.00\\%), Florida (0.00\\%), and Georgia (0.00\\%). \n",
      "\n",
      "\n"
     ]
    }
   ],
   "source": [
    "from utilities.utilities import get_extreme_values\n",
    "\n",
    "# Analysis of HEIs with at least one OWASP Recommended Security Headers by region\n",
    "\n",
    "# settings\n",
    "column_to_sort = 'Without Security Headers (Public) %'\n",
    "sort_ascending = True\n",
    "columns_to_display = [region_column_name.title(), column_name_to_results_global]\n",
    "analysis_df = get_records_by_region(source_df)\n",
    "\n",
    "# create columns\n",
    "# Column creation with distribution of records without any security headers by region\n",
    "only_public = 'category == \"Public\"'\n",
    "only_headers_false = ' & '.join([f\"`{h}` == False\" for h in headers])\n",
    "criteria = f\"{only_public} & ({only_headers_false})\"\n",
    "create_column(source_df=source_df, analysis_dataframe=analysis_df, column_name='Without Security Headers (Public)', criteria=criteria, columns_to_display=columns_to_display)\n",
    "only_private = 'category == \"Private\"'\n",
    "criteria = f\"{only_private} & ({only_headers_false})\"\n",
    "create_column(source_df=source_df, analysis_dataframe=analysis_df, column_name='Without Security Headers (Private)', criteria=criteria, columns_to_display=columns_to_display)\n",
    "\n",
    "# Column creation with distribution of records with at least one security header by region\n",
    "all_true_filter = ' & '.join([f\"`{h}` == True\" for h in headers])\n",
    "at_least_one_filter = ' | '.join([f\"`{h}` == True\" for h in headers])\n",
    "composite_filter = f\"({at_least_one_filter}) & ~({all_true_filter})\"\n",
    "criteria = f\"{only_public} & ({composite_filter})\"\n",
    "create_column(source_df=source_df, analysis_dataframe=analysis_df, column_name='With At Least One Security Header (Public)', criteria=criteria, columns_to_display=columns_to_display)\n",
    "criteria = f\"{only_private} & ({composite_filter})\"\n",
    "create_column(source_df=source_df, analysis_dataframe=analysis_df, column_name='With At Least One Security Header (Private)', criteria=criteria, columns_to_display=columns_to_display)\n",
    "\n",
    "# Column creation with distribution of records with all security header by region\n",
    "criteria = f\"{only_public} & ({all_true_filter})\"\n",
    "create_column(source_df=source_df, analysis_dataframe=analysis_df, column_name='With All Security Headers (Public)', criteria=criteria, columns_to_display=columns_to_display)\n",
    "criteria = f\"{only_private} & ({all_true_filter})\"\n",
    "create_column(source_df=source_df, analysis_dataframe=analysis_df, column_name='With All Security Headers (Private)', criteria=criteria, columns_to_display=columns_to_display)\n",
    "\n",
    "# Finalize dataframe\n",
    "analysis_df = finalize_dataframe(dataframe=analysis_df, column_to_sort=column_to_sort, ascending=sort_ascending, columns_to_display=columns_to_display)\n",
    "display(analysis_df)\n",
    "#analysis_df.to_csv(f'tables/test.csv', index=False)\n",
    "\n",
    "# report\n",
    "report_results = get_extreme_values(analysis_df)\n",
    "report_figure = \"\"\"\n",
    "\\\\begin{figure}[htbp]\n",
    "    \\centering\n",
    "    \\includegraphics[width=0.48\\\\textwidth]{charts/Security_headers_by_region.pdf}\n",
    "    \\caption{Distribution of the use Security Headers.}\\label{fig:security-headers}\n",
    "\\end{figure}\n",
    "\"\"\"\n",
    "hei_public_without_security_headers = format(report_results.get(\"Total\").get(\"Without Security Headers (Public) %\"), \".2f\")\n",
    "hei_public_with_security_headers = format(report_results.get(\"Total\").get(\"With At Least One Security Header (Public) %\"), \".2f\")\n",
    "hei_public_with_all_security_headers = format(report_results.get(\"Total\").get(\"With All Security Headers (Public) %\"), \".2f\")\n",
    "hei_private_without_security_headers = format(report_results.get(\"Total\").get(\"Without Security Headers (Private) %\"), \".2f\")\n",
    "hei_private_with_security_headers = format(report_results.get(\"Total\").get(\"With At Least One Security Header (Private) %\"), \".2f\")\n",
    "hei_private_with_all_security_headers = format(report_results.get(\"Total\").get(\"With All Security Headers (Private) %\"), \".2f\")\n",
    "report = f'{report_figure}\\n\\n'\n",
    "report += f'The data presented in Figure~\\\\ref{{fig:security-headers}} show the use of security headers at \\glspl{{hei}} in the United States of America. '\n",
    "report += f'According to the data, {hei_public_without_security_headers}\\% of the public institutions analyzed have not implemented any security headers in their websites. '\n",
    "report += f'On the other hand, {hei_private_without_security_headers}\\% of the private institutions analyzed have not implemented any security headers in their websites.\\n\\n'\n",
    "report += f'On a positive note, {hei_public_with_security_headers}\\% of the public institutions analyzed have implemented at least one security header in their websites. '\n",
    "report += f'Moreover, {hei_private_with_security_headers}\\% of the private institutions analyzed have implemented at least one security header in their websites.\\n\\n'\n",
    "report += f'Finally, {hei_public_with_all_security_headers}\\% of the public institutions analyzed have implemented all the security headers in their websites. '\n",
    "report += f'On the other hand, {hei_private_with_all_security_headers}\\% of the private institutions analyzed have implemented all the security headers in their websites.\\n\\n'\n",
    "report += f'The regions that stand out in the use of security headers by private institutions are {report_results.get(\"Without Security Headers (Private) %\").get(\"top_regions\")[0][0]} ({format(report_results.get(\"Without Security Headers (Private) %\").get(\"top_regions\")[0][1], \".2f\")}\\%), {report_results.get(\"Without Security Headers (Private) %\").get(\"top_regions\")[1][0]} ({format(report_results.get(\"Without Security Headers (Private) %\").get(\"top_regions\")[1][1], \".2f\")}\\%), and {report_results.get(\"Without Security Headers (Private) %\").get(\"top_regions\")[2][0]} ({format(report_results.get(\"Without Security Headers (Private) %\").get(\"top_regions\")[2][1], \".2f\")}\\%). \\n\\n'\n",
    "report += f'The regions that stand out in the use of security headers by public institutions are {report_results.get(\"Without Security Headers (Public) %\").get(\"top_regions\")[0][0]} ({format(report_results.get(\"Without Security Headers (Public) %\").get(\"top_regions\")[0][1], \".2f\")}\\%), {report_results.get(\"Without Security Headers (Public) %\").get(\"top_regions\")[1][0]} ({format(report_results.get(\"Without Security Headers (Public) %\").get(\"top_regions\")[1][1], \".2f\")}\\%), and {report_results.get(\"Without Security Headers (Public) %\").get(\"top_regions\")[2][0]} ({format(report_results.get(\"Without Security Headers (Public) %\").get(\"top_regions\")[2][1], \".2f\")}\\%). \\n\\n'\n",
    "report += f'The regions with the lowest use of security headers by private institutions are {report_results.get(\"With All Security Headers (Private) %\").get(\"bottom_regions\")[0][0]} ({format(report_results.get(\"With All Security Headers (Private) %\").get(\"bottom_regions\")[0][1], \".2f\")}\\%), {report_results.get(\"With All Security Headers (Private) %\").get(\"bottom_regions\")[1][0]} ({format(report_results.get(\"With All Security Headers (Private) %\").get(\"bottom_regions\")[1][1], \".2f\")}\\%), and {report_results.get(\"With All Security Headers (Private) %\").get(\"bottom_regions\")[2][0]} ({format(report_results.get(\"With All Security Headers (Private) %\").get(\"bottom_regions\")[2][1], \".2f\")}\\%). \\n\\n'\n",
    "report += f'The regions with the lowest use of security headers by public institutions are {report_results.get(\"With All Security Headers (Public) %\").get(\"bottom_regions\")[0][0]} ({format(report_results.get(\"With All Security Headers (Public) %\").get(\"bottom_regions\")[0][1], \".2f\")}\\%), {report_results.get(\"With All Security Headers (Public) %\").get(\"bottom_regions\")[1][0]} ({format(report_results.get(\"With All Security Headers (Public) %\").get(\"bottom_regions\")[1][1], \".2f\")}\\%), and {report_results.get(\"With All Security Headers (Public) %\").get(\"bottom_regions\")[2][0]} ({format(report_results.get(\"With All Security Headers (Public) %\").get(\"bottom_regions\")[2][1], \".2f\")}\\%). \\n\\n'\n",
    "\n",
    "\n",
    "print(report)"
   ],
   "metadata": {
    "collapsed": false
   }
  },
  {
   "cell_type": "code",
   "execution_count": 4,
   "outputs": [
    {
     "data": {
      "text/plain": "{'Without Security Headers (Public) %': {'top_regions': [('Colorado', 100.0),\n   ('Total', 9.09090909),\n   ('California', 0.0)],\n  'bottom_regions': [('California', 0.0), ('Florida', 0.0), ('Georgia', 0.0)]},\n 'Without Security Headers (Private) %': {'top_regions': [('Georgia', 100.0),\n   ('Texas', 100.0),\n   ('Total', 27.27272727)],\n  'bottom_regions': [('California', 0.0),\n   ('Florida', 0.0),\n   ('Illinois', 0.0)]},\n 'Total': {'Without Security Headers (Public) %': 1,\n  'Without Security Headers (Private) %': 3},\n 'With At Least One Security Header (Public)': 4,\n 'With At Least One Security Header (Private)': 11,\n 'With All Security Headers (Public)': 0,\n 'With All Security Headers (Private)': 0}"
     },
     "execution_count": 4,
     "metadata": {},
     "output_type": "execute_result"
    }
   ],
   "source": [
    "\\begin{figure}[htbp]\n",
    "    \\centering\n",
    "    \\includegraphics[width=0.48\\textwidth]{charts/Security_headers_by_region.pdf}\n",
    "    \\caption{Distribution of the use Security Headers.}\\label{fig:security-headers}\n",
    "\\end{figure}\n",
    "\n",
    "\n",
    "The data presented in Figure~\\ref{fig:security-headers} show the use of security headers at \\glspl{hei} in the United States of America. According to the data, 9.09\\% of the public institutions analyzed have not implemented any security headers in their websites. On the other hand, 27.27\\% of the private institutions analyzed have not implemented any security headers in their websites.\n",
    "\n",
    "On a positive note, 0.00\\% of the public institutions analyzed have implemented at least one security header in their websites. Moreover, 63.64\\% of the private institutions analyzed have implemented at least one security header in their websites.\n",
    "\n",
    "Finally, 0.00\\% of the public institutions analyzed have implemented all the security headers in their websites. On the other hand, 0.00\\% of the private institutions analyzed have implemented all the security headers in their websites.\n",
    "\n",
    "The regions that stand out in the use of security headers by private institutions are Georgia (100.00\\%), Texas (100.00\\%), and California (0.00\\%).\n",
    "\n",
    "The regions that stand out in the use of security headers by public institutions are Colorado (100.00\\%), California (0.00\\%), and Florida (0.00\\%).\n",
    "\n",
    "The regions with the lowest use of security headers by private institutions are California (0.00\\%), Florida (0.00\\%), and Georgia (0.00\\%).\n",
    "\n",
    "The regions with the lowest use of security headers by public institutions are California (0.00\\%), Florida (0.00\\%), and Georgia (0.00\\%).\n"
   ],
   "metadata": {
    "collapsed": false
   }
  }
 ],
 "metadata": {
  "kernelspec": {
   "display_name": "Python 3",
   "language": "python",
   "name": "python3"
  },
  "language_info": {
   "codemirror_mode": {
    "name": "ipython",
    "version": 2
   },
   "file_extension": ".py",
   "mimetype": "text/x-python",
   "name": "python",
   "nbconvert_exporter": "python",
   "pygments_lexer": "ipython2",
   "version": "2.7.6"
  }
 },
 "nbformat": 4,
 "nbformat_minor": 0
}
